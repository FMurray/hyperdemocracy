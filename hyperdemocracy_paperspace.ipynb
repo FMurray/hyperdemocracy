{
 "cells": [
  {
   "cell_type": "markdown",
   "metadata": {
    "colab_type": "text",
    "id": "view-in-github"
   },
   "source": [
    "<a href=\"https://colab.research.google.com/github/FMurray/hyperdemocracy/blob/main/hyper_democracy_v2.ipynb\" target=\"_parent\"><img src=\"https://colab.research.google.com/assets/colab-badge.svg\" alt=\"Open In Colab\"/></a>"
   ]
  },
  {
   "cell_type": "markdown",
   "metadata": {
    "id": "KkXxD28y6u2w"
   },
   "source": [
    "# Install Dependencies"
   ]
  },
  {
   "cell_type": "code",
   "execution_count": 1,
   "metadata": {},
   "outputs": [
    {
     "name": "stdout",
     "output_type": "stream",
     "text": [
      "Requirement already satisfied: chromadb in /home/calliope/miniconda3/envs/us-congress/lib/python3.11/site-packages (from -r requirements.txt (line 1)) (0.3.26)\n",
      "Requirement already satisfied: datasets in /home/calliope/miniconda3/envs/us-congress/lib/python3.11/site-packages (from -r requirements.txt (line 2)) (2.12.0)\n",
      "Requirement already satisfied: jupyter-book==0.15.1 in /home/calliope/miniconda3/envs/us-congress/lib/python3.11/site-packages (from -r requirements.txt (line 3)) (0.15.1)\n",
      "Requirement already satisfied: langchain==0.0.203 in /home/calliope/miniconda3/envs/us-congress/lib/python3.11/site-packages (from -r requirements.txt (line 4)) (0.0.203)\n",
      "Requirement already satisfied: networkx in /home/calliope/miniconda3/envs/us-congress/lib/python3.11/site-packages (from -r requirements.txt (line 5)) (3.1)\n",
      "Requirement already satisfied: openai[embeddings] in /home/calliope/miniconda3/envs/us-congress/lib/python3.11/site-packages (from -r requirements.txt (line 6)) (0.27.8)\n",
      "Requirement already satisfied: python-dotenv in /home/calliope/.local/lib/python3.11/site-packages (from -r requirements.txt (line 7)) (1.0.0)\n",
      "Requirement already satisfied: rich in /home/calliope/miniconda3/envs/us-congress/lib/python3.11/site-packages (from -r requirements.txt (line 8)) (13.4.2)\n",
      "Requirement already satisfied: tiktoken in /home/calliope/miniconda3/envs/us-congress/lib/python3.11/site-packages (from -r requirements.txt (line 9)) (0.4.0)\n",
      "Requirement already satisfied: torch in /home/calliope/miniconda3/envs/us-congress/lib/python3.11/site-packages (from -r requirements.txt (line 10)) (2.0.1)\n",
      "Requirement already satisfied: transformers in /home/calliope/miniconda3/envs/us-congress/lib/python3.11/site-packages (from -r requirements.txt (line 11)) (4.30.2)\n",
      "Requirement already satisfied: click<9,>=7.1 in /home/calliope/miniconda3/envs/us-congress/lib/python3.11/site-packages (from jupyter-book==0.15.1->-r requirements.txt (line 3)) (8.1.3)\n",
      "Requirement already satisfied: docutils<0.19,>=0.15 in /home/calliope/miniconda3/envs/us-congress/lib/python3.11/site-packages (from jupyter-book==0.15.1->-r requirements.txt (line 3)) (0.18.1)\n",
      "Requirement already satisfied: Jinja2 in /home/calliope/miniconda3/envs/us-congress/lib/python3.11/site-packages (from jupyter-book==0.15.1->-r requirements.txt (line 3)) (3.1.2)\n",
      "Requirement already satisfied: jsonschema<5 in /home/calliope/miniconda3/envs/us-congress/lib/python3.11/site-packages (from jupyter-book==0.15.1->-r requirements.txt (line 3)) (4.17.3)\n",
      "Requirement already satisfied: linkify-it-py~=2.0.0 in /home/calliope/miniconda3/envs/us-congress/lib/python3.11/site-packages (from jupyter-book==0.15.1->-r requirements.txt (line 3)) (2.0.2)\n",
      "Requirement already satisfied: myst-nb~=0.17.1 in /home/calliope/miniconda3/envs/us-congress/lib/python3.11/site-packages (from jupyter-book==0.15.1->-r requirements.txt (line 3)) (0.17.2)\n",
      "Requirement already satisfied: pyyaml in /home/calliope/miniconda3/envs/us-congress/lib/python3.11/site-packages (from jupyter-book==0.15.1->-r requirements.txt (line 3)) (6.0)\n",
      "Requirement already satisfied: sphinx<6,>=4 in /home/calliope/miniconda3/envs/us-congress/lib/python3.11/site-packages (from jupyter-book==0.15.1->-r requirements.txt (line 3)) (5.0.2)\n",
      "Requirement already satisfied: sphinx-comments in /home/calliope/miniconda3/envs/us-congress/lib/python3.11/site-packages (from jupyter-book==0.15.1->-r requirements.txt (line 3)) (0.0.3)\n",
      "Requirement already satisfied: sphinx-copybutton in /home/calliope/miniconda3/envs/us-congress/lib/python3.11/site-packages (from jupyter-book==0.15.1->-r requirements.txt (line 3)) (0.5.2)\n",
      "Requirement already satisfied: sphinx-external-toc~=0.3.1 in /home/calliope/miniconda3/envs/us-congress/lib/python3.11/site-packages (from jupyter-book==0.15.1->-r requirements.txt (line 3)) (0.3.1)\n",
      "Requirement already satisfied: sphinx-jupyterbook-latex~=0.5.2 in /home/calliope/miniconda3/envs/us-congress/lib/python3.11/site-packages (from jupyter-book==0.15.1->-r requirements.txt (line 3)) (0.5.2)\n",
      "Requirement already satisfied: sphinx-design~=0.3.0 in /home/calliope/miniconda3/envs/us-congress/lib/python3.11/site-packages (from jupyter-book==0.15.1->-r requirements.txt (line 3)) (0.3.0)\n",
      "Requirement already satisfied: sphinx-thebe~=0.2.0 in /home/calliope/miniconda3/envs/us-congress/lib/python3.11/site-packages (from jupyter-book==0.15.1->-r requirements.txt (line 3)) (0.2.1)\n",
      "Requirement already satisfied: sphinx-book-theme~=1.0.0 in /home/calliope/miniconda3/envs/us-congress/lib/python3.11/site-packages (from jupyter-book==0.15.1->-r requirements.txt (line 3)) (1.0.1)\n",
      "Requirement already satisfied: sphinx_togglebutton in /home/calliope/miniconda3/envs/us-congress/lib/python3.11/site-packages (from jupyter-book==0.15.1->-r requirements.txt (line 3)) (0.3.2)\n",
      "Requirement already satisfied: sphinxcontrib-bibtex<=2.5.0,>=2.2.0 in /home/calliope/miniconda3/envs/us-congress/lib/python3.11/site-packages (from jupyter-book==0.15.1->-r requirements.txt (line 3)) (2.5.0)\n",
      "Requirement already satisfied: sphinx-multitoc-numbering~=0.1.3 in /home/calliope/miniconda3/envs/us-congress/lib/python3.11/site-packages (from jupyter-book==0.15.1->-r requirements.txt (line 3)) (0.1.3)\n",
      "Requirement already satisfied: SQLAlchemy<3,>=1.4 in /home/calliope/miniconda3/envs/us-congress/lib/python3.11/site-packages (from langchain==0.0.203->-r requirements.txt (line 4)) (2.0.16)\n",
      "Requirement already satisfied: aiohttp<4.0.0,>=3.8.3 in /home/calliope/miniconda3/envs/us-congress/lib/python3.11/site-packages (from langchain==0.0.203->-r requirements.txt (line 4)) (3.8.4)\n",
      "Requirement already satisfied: dataclasses-json<0.6.0,>=0.5.7 in /home/calliope/miniconda3/envs/us-congress/lib/python3.11/site-packages (from langchain==0.0.203->-r requirements.txt (line 4)) (0.5.8)\n",
      "Requirement already satisfied: langchainplus-sdk>=0.0.9 in /home/calliope/miniconda3/envs/us-congress/lib/python3.11/site-packages (from langchain==0.0.203->-r requirements.txt (line 4)) (0.0.16)\n",
      "Requirement already satisfied: numexpr<3.0.0,>=2.8.4 in /home/calliope/miniconda3/envs/us-congress/lib/python3.11/site-packages (from langchain==0.0.203->-r requirements.txt (line 4)) (2.8.4)\n",
      "Requirement already satisfied: numpy<2,>=1 in /home/calliope/miniconda3/envs/us-congress/lib/python3.11/site-packages (from langchain==0.0.203->-r requirements.txt (line 4)) (1.24.3)\n",
      "Requirement already satisfied: openapi-schema-pydantic<2.0,>=1.2 in /home/calliope/miniconda3/envs/us-congress/lib/python3.11/site-packages (from langchain==0.0.203->-r requirements.txt (line 4)) (1.2.4)\n",
      "Requirement already satisfied: pydantic<2,>=1 in /home/calliope/miniconda3/envs/us-congress/lib/python3.11/site-packages (from langchain==0.0.203->-r requirements.txt (line 4)) (1.10.9)\n",
      "Requirement already satisfied: requests<3,>=2 in /home/calliope/miniconda3/envs/us-congress/lib/python3.11/site-packages (from langchain==0.0.203->-r requirements.txt (line 4)) (2.31.0)\n",
      "Requirement already satisfied: tenacity<9.0.0,>=8.1.0 in /home/calliope/miniconda3/envs/us-congress/lib/python3.11/site-packages (from langchain==0.0.203->-r requirements.txt (line 4)) (8.2.2)\n",
      "Requirement already satisfied: pandas>=1.3 in /home/calliope/miniconda3/envs/us-congress/lib/python3.11/site-packages (from chromadb->-r requirements.txt (line 1)) (2.0.1)\n",
      "Requirement already satisfied: hnswlib>=0.7 in /home/calliope/miniconda3/envs/us-congress/lib/python3.11/site-packages (from chromadb->-r requirements.txt (line 1)) (0.7.0)\n",
      "Requirement already satisfied: clickhouse-connect>=0.5.7 in /home/calliope/miniconda3/envs/us-congress/lib/python3.11/site-packages (from chromadb->-r requirements.txt (line 1)) (0.6.3)\n",
      "Requirement already satisfied: duckdb>=0.7.1 in /home/calliope/miniconda3/envs/us-congress/lib/python3.11/site-packages (from chromadb->-r requirements.txt (line 1)) (0.8.1)\n",
      "Requirement already satisfied: fastapi>=0.85.1 in /home/calliope/miniconda3/envs/us-congress/lib/python3.11/site-packages (from chromadb->-r requirements.txt (line 1)) (0.97.0)\n",
      "Requirement already satisfied: uvicorn[standard]>=0.18.3 in /home/calliope/miniconda3/envs/us-congress/lib/python3.11/site-packages (from chromadb->-r requirements.txt (line 1)) (0.22.0)\n",
      "Requirement already satisfied: posthog>=2.4.0 in /home/calliope/miniconda3/envs/us-congress/lib/python3.11/site-packages (from chromadb->-r requirements.txt (line 1)) (3.0.1)\n",
      "Requirement already satisfied: typing-extensions>=4.5.0 in /home/calliope/miniconda3/envs/us-congress/lib/python3.11/site-packages (from chromadb->-r requirements.txt (line 1)) (4.6.2)\n",
      "Requirement already satisfied: pulsar-client>=3.1.0 in /home/calliope/miniconda3/envs/us-congress/lib/python3.11/site-packages (from chromadb->-r requirements.txt (line 1)) (3.2.0)\n",
      "Requirement already satisfied: onnxruntime>=1.14.1 in /home/calliope/miniconda3/envs/us-congress/lib/python3.11/site-packages (from chromadb->-r requirements.txt (line 1)) (1.15.1)\n",
      "Requirement already satisfied: tokenizers>=0.13.2 in /home/calliope/miniconda3/envs/us-congress/lib/python3.11/site-packages (from chromadb->-r requirements.txt (line 1)) (0.13.3)\n",
      "Requirement already satisfied: tqdm>=4.65.0 in /home/calliope/miniconda3/envs/us-congress/lib/python3.11/site-packages (from chromadb->-r requirements.txt (line 1)) (4.65.0)\n",
      "Requirement already satisfied: overrides>=7.3.1 in /home/calliope/miniconda3/envs/us-congress/lib/python3.11/site-packages (from chromadb->-r requirements.txt (line 1)) (7.3.1)\n"
     ]
    },
    {
     "name": "stdout",
     "output_type": "stream",
     "text": [
      "Requirement already satisfied: pyarrow>=8.0.0 in /home/calliope/miniconda3/envs/us-congress/lib/python3.11/site-packages (from datasets->-r requirements.txt (line 2)) (12.0.0)\n",
      "Requirement already satisfied: dill<0.3.7,>=0.3.0 in /home/calliope/miniconda3/envs/us-congress/lib/python3.11/site-packages (from datasets->-r requirements.txt (line 2)) (0.3.6)\n",
      "Requirement already satisfied: xxhash in /home/calliope/miniconda3/envs/us-congress/lib/python3.11/site-packages (from datasets->-r requirements.txt (line 2)) (3.2.0)\n",
      "Requirement already satisfied: multiprocess in /home/calliope/miniconda3/envs/us-congress/lib/python3.11/site-packages (from datasets->-r requirements.txt (line 2)) (0.70.14)\n",
      "Requirement already satisfied: fsspec[http]>=2021.11.1 in /home/calliope/miniconda3/envs/us-congress/lib/python3.11/site-packages (from datasets->-r requirements.txt (line 2)) (2023.5.0)\n",
      "Requirement already satisfied: huggingface-hub<1.0.0,>=0.11.0 in /home/calliope/miniconda3/envs/us-congress/lib/python3.11/site-packages (from datasets->-r requirements.txt (line 2)) (0.14.1)\n",
      "Requirement already satisfied: packaging in /home/calliope/miniconda3/envs/us-congress/lib/python3.11/site-packages (from datasets->-r requirements.txt (line 2)) (23.1)\n",
      "Requirement already satisfied: responses<0.19 in /home/calliope/miniconda3/envs/us-congress/lib/python3.11/site-packages (from datasets->-r requirements.txt (line 2)) (0.18.0)\n",
      "Requirement already satisfied: scikit-learn>=1.0.2 in /home/calliope/miniconda3/envs/us-congress/lib/python3.11/site-packages (from openai[embeddings]->-r requirements.txt (line 6)) (1.2.2)\n",
      "Requirement already satisfied: matplotlib in /home/calliope/miniconda3/envs/us-congress/lib/python3.11/site-packages (from openai[embeddings]->-r requirements.txt (line 6)) (3.7.1)\n",
      "Requirement already satisfied: plotly in /home/calliope/miniconda3/envs/us-congress/lib/python3.11/site-packages (from openai[embeddings]->-r requirements.txt (line 6)) (5.15.0)\n",
      "Requirement already satisfied: scipy in /home/calliope/miniconda3/envs/us-congress/lib/python3.11/site-packages (from openai[embeddings]->-r requirements.txt (line 6)) (1.10.1)\n",
      "Requirement already satisfied: pandas-stubs>=1.1.0.11 in /home/calliope/miniconda3/envs/us-congress/lib/python3.11/site-packages (from openai[embeddings]->-r requirements.txt (line 6)) (2.0.2.230605)\n",
      "Requirement already satisfied: openpyxl>=3.0.7 in /home/calliope/miniconda3/envs/us-congress/lib/python3.11/site-packages (from openai[embeddings]->-r requirements.txt (line 6)) (3.1.2)\n",
      "Requirement already satisfied: markdown-it-py>=2.2.0 in /home/calliope/miniconda3/envs/us-congress/lib/python3.11/site-packages (from rich->-r requirements.txt (line 8)) (2.2.0)\n",
      "Requirement already satisfied: pygments<3.0.0,>=2.13.0 in /home/calliope/miniconda3/envs/us-congress/lib/python3.11/site-packages (from rich->-r requirements.txt (line 8)) (2.15.1)\n",
      "Requirement already satisfied: regex>=2022.1.18 in /home/calliope/miniconda3/envs/us-congress/lib/python3.11/site-packages (from tiktoken->-r requirements.txt (line 9)) (2023.6.3)\n",
      "Requirement already satisfied: filelock in /home/calliope/miniconda3/envs/us-congress/lib/python3.11/site-packages (from torch->-r requirements.txt (line 10)) (3.12.0)\n",
      "Requirement already satisfied: sympy in /home/calliope/miniconda3/envs/us-congress/lib/python3.11/site-packages (from torch->-r requirements.txt (line 10)) (1.12)\n",
      "Requirement already satisfied: nvidia-cuda-nvrtc-cu11==11.7.99 in /home/calliope/miniconda3/envs/us-congress/lib/python3.11/site-packages (from torch->-r requirements.txt (line 10)) (11.7.99)\n",
      "Requirement already satisfied: nvidia-cuda-runtime-cu11==11.7.99 in /home/calliope/miniconda3/envs/us-congress/lib/python3.11/site-packages (from torch->-r requirements.txt (line 10)) (11.7.99)\n",
      "Requirement already satisfied: nvidia-cuda-cupti-cu11==11.7.101 in /home/calliope/miniconda3/envs/us-congress/lib/python3.11/site-packages (from torch->-r requirements.txt (line 10)) (11.7.101)\n",
      "Requirement already satisfied: nvidia-cudnn-cu11==8.5.0.96 in /home/calliope/miniconda3/envs/us-congress/lib/python3.11/site-packages (from torch->-r requirements.txt (line 10)) (8.5.0.96)\n",
      "Requirement already satisfied: nvidia-cublas-cu11==11.10.3.66 in /home/calliope/miniconda3/envs/us-congress/lib/python3.11/site-packages (from torch->-r requirements.txt (line 10)) (11.10.3.66)\n",
      "Requirement already satisfied: nvidia-cufft-cu11==10.9.0.58 in /home/calliope/miniconda3/envs/us-congress/lib/python3.11/site-packages (from torch->-r requirements.txt (line 10)) (10.9.0.58)\n",
      "Requirement already satisfied: nvidia-curand-cu11==10.2.10.91 in /home/calliope/miniconda3/envs/us-congress/lib/python3.11/site-packages (from torch->-r requirements.txt (line 10)) (10.2.10.91)\n",
      "Requirement already satisfied: nvidia-cusolver-cu11==11.4.0.1 in /home/calliope/miniconda3/envs/us-congress/lib/python3.11/site-packages (from torch->-r requirements.txt (line 10)) (11.4.0.1)\n",
      "Requirement already satisfied: nvidia-cusparse-cu11==11.7.4.91 in /home/calliope/miniconda3/envs/us-congress/lib/python3.11/site-packages (from torch->-r requirements.txt (line 10)) (11.7.4.91)\n",
      "Requirement already satisfied: nvidia-nccl-cu11==2.14.3 in /home/calliope/miniconda3/envs/us-congress/lib/python3.11/site-packages (from torch->-r requirements.txt (line 10)) (2.14.3)\n",
      "Requirement already satisfied: nvidia-nvtx-cu11==11.7.91 in /home/calliope/miniconda3/envs/us-congress/lib/python3.11/site-packages (from torch->-r requirements.txt (line 10)) (11.7.91)\n",
      "Requirement already satisfied: triton==2.0.0 in /home/calliope/miniconda3/envs/us-congress/lib/python3.11/site-packages (from torch->-r requirements.txt (line 10)) (2.0.0)\n",
      "Requirement already satisfied: setuptools in /home/calliope/miniconda3/envs/us-congress/lib/python3.11/site-packages (from nvidia-cublas-cu11==11.10.3.66->torch->-r requirements.txt (line 10)) (66.0.0)\n",
      "Requirement already satisfied: wheel in /home/calliope/miniconda3/envs/us-congress/lib/python3.11/site-packages (from nvidia-cublas-cu11==11.10.3.66->torch->-r requirements.txt (line 10)) (0.38.4)\n",
      "Requirement already satisfied: cmake in /home/calliope/miniconda3/envs/us-congress/lib/python3.11/site-packages (from triton==2.0.0->torch->-r requirements.txt (line 10)) (3.26.4)\n",
      "Requirement already satisfied: lit in /home/calliope/miniconda3/envs/us-congress/lib/python3.11/site-packages (from triton==2.0.0->torch->-r requirements.txt (line 10)) (16.0.6)\n",
      "Requirement already satisfied: safetensors>=0.3.1 in /home/calliope/miniconda3/envs/us-congress/lib/python3.11/site-packages (from transformers->-r requirements.txt (line 11)) (0.3.1)\n",
      "Requirement already satisfied: attrs>=17.3.0 in /home/calliope/miniconda3/envs/us-congress/lib/python3.11/site-packages (from aiohttp<4.0.0,>=3.8.3->langchain==0.0.203->-r requirements.txt (line 4)) (23.1.0)\n",
      "Requirement already satisfied: charset-normalizer<4.0,>=2.0 in /home/calliope/miniconda3/envs/us-congress/lib/python3.11/site-packages (from aiohttp<4.0.0,>=3.8.3->langchain==0.0.203->-r requirements.txt (line 4)) (3.1.0)\n",
      "Requirement already satisfied: multidict<7.0,>=4.5 in /home/calliope/miniconda3/envs/us-congress/lib/python3.11/site-packages (from aiohttp<4.0.0,>=3.8.3->langchain==0.0.203->-r requirements.txt (line 4)) (6.0.4)\n",
      "Requirement already satisfied: async-timeout<5.0,>=4.0.0a3 in /home/calliope/miniconda3/envs/us-congress/lib/python3.11/site-packages (from aiohttp<4.0.0,>=3.8.3->langchain==0.0.203->-r requirements.txt (line 4)) (4.0.2)\n",
      "Requirement already satisfied: yarl<2.0,>=1.0 in /home/calliope/miniconda3/envs/us-congress/lib/python3.11/site-packages (from aiohttp<4.0.0,>=3.8.3->langchain==0.0.203->-r requirements.txt (line 4)) (1.9.2)\n",
      "Requirement already satisfied: frozenlist>=1.1.1 in /home/calliope/miniconda3/envs/us-congress/lib/python3.11/site-packages (from aiohttp<4.0.0,>=3.8.3->langchain==0.0.203->-r requirements.txt (line 4)) (1.3.3)\n",
      "Requirement already satisfied: aiosignal>=1.1.2 in /home/calliope/miniconda3/envs/us-congress/lib/python3.11/site-packages (from aiohttp<4.0.0,>=3.8.3->langchain==0.0.203->-r requirements.txt (line 4)) (1.3.1)\n",
      "Requirement already satisfied: certifi in /home/calliope/miniconda3/envs/us-congress/lib/python3.11/site-packages (from clickhouse-connect>=0.5.7->chromadb->-r requirements.txt (line 1)) (2023.5.7)\n",
      "Requirement already satisfied: urllib3>=1.26 in /home/calliope/miniconda3/envs/us-congress/lib/python3.11/site-packages (from clickhouse-connect>=0.5.7->chromadb->-r requirements.txt (line 1)) (2.0.2)\n",
      "Requirement already satisfied: pytz in /home/calliope/miniconda3/envs/us-congress/lib/python3.11/site-packages (from clickhouse-connect>=0.5.7->chromadb->-r requirements.txt (line 1)) (2023.3)\n",
      "Requirement already satisfied: zstandard in /home/calliope/miniconda3/envs/us-congress/lib/python3.11/site-packages (from clickhouse-connect>=0.5.7->chromadb->-r requirements.txt (line 1)) (0.21.0)\n",
      "Requirement already satisfied: lz4 in /home/calliope/miniconda3/envs/us-congress/lib/python3.11/site-packages (from clickhouse-connect>=0.5.7->chromadb->-r requirements.txt (line 1)) (4.3.2)\n",
      "Requirement already satisfied: marshmallow<4.0.0,>=3.3.0 in /home/calliope/miniconda3/envs/us-congress/lib/python3.11/site-packages (from dataclasses-json<0.6.0,>=0.5.7->langchain==0.0.203->-r requirements.txt (line 4)) (3.19.0)\n",
      "Requirement already satisfied: marshmallow-enum<2.0.0,>=1.5.1 in /home/calliope/miniconda3/envs/us-congress/lib/python3.11/site-packages (from dataclasses-json<0.6.0,>=0.5.7->langchain==0.0.203->-r requirements.txt (line 4)) (1.5.1)\n",
      "Requirement already satisfied: typing-inspect>=0.4.0 in /home/calliope/miniconda3/envs/us-congress/lib/python3.11/site-packages (from dataclasses-json<0.6.0,>=0.5.7->langchain==0.0.203->-r requirements.txt (line 4)) (0.9.0)\n"
     ]
    },
    {
     "name": "stdout",
     "output_type": "stream",
     "text": [
      "Requirement already satisfied: starlette<0.28.0,>=0.27.0 in /home/calliope/miniconda3/envs/us-congress/lib/python3.11/site-packages (from fastapi>=0.85.1->chromadb->-r requirements.txt (line 1)) (0.27.0)\n",
      "Requirement already satisfied: pyrsistent!=0.17.0,!=0.17.1,!=0.17.2,>=0.14.0 in /home/calliope/miniconda3/envs/us-congress/lib/python3.11/site-packages (from jsonschema<5->jupyter-book==0.15.1->-r requirements.txt (line 3)) (0.19.3)\n",
      "Requirement already satisfied: uc-micro-py in /home/calliope/miniconda3/envs/us-congress/lib/python3.11/site-packages (from linkify-it-py~=2.0.0->jupyter-book==0.15.1->-r requirements.txt (line 3)) (1.0.2)\n",
      "Requirement already satisfied: mdurl~=0.1 in /home/calliope/miniconda3/envs/us-congress/lib/python3.11/site-packages (from markdown-it-py>=2.2.0->rich->-r requirements.txt (line 8)) (0.1.2)\n",
      "Requirement already satisfied: importlib_metadata in /home/calliope/miniconda3/envs/us-congress/lib/python3.11/site-packages (from myst-nb~=0.17.1->jupyter-book==0.15.1->-r requirements.txt (line 3)) (6.7.0)\n",
      "Requirement already satisfied: ipython in /home/calliope/miniconda3/envs/us-congress/lib/python3.11/site-packages (from myst-nb~=0.17.1->jupyter-book==0.15.1->-r requirements.txt (line 3)) (8.13.2)\n",
      "Requirement already satisfied: jupyter-cache<0.7,>=0.5 in /home/calliope/miniconda3/envs/us-congress/lib/python3.11/site-packages (from myst-nb~=0.17.1->jupyter-book==0.15.1->-r requirements.txt (line 3)) (0.6.1)\n",
      "Requirement already satisfied: nbclient in /home/calliope/miniconda3/envs/us-congress/lib/python3.11/site-packages (from myst-nb~=0.17.1->jupyter-book==0.15.1->-r requirements.txt (line 3)) (0.7.4)\n",
      "Requirement already satisfied: myst-parser~=0.18.0 in /home/calliope/miniconda3/envs/us-congress/lib/python3.11/site-packages (from myst-nb~=0.17.1->jupyter-book==0.15.1->-r requirements.txt (line 3)) (0.18.1)\n",
      "Requirement already satisfied: nbformat~=5.0 in /home/calliope/miniconda3/envs/us-congress/lib/python3.11/site-packages (from myst-nb~=0.17.1->jupyter-book==0.15.1->-r requirements.txt (line 3)) (5.8.0)\n",
      "Requirement already satisfied: ipykernel in /home/calliope/miniconda3/envs/us-congress/lib/python3.11/site-packages (from myst-nb~=0.17.1->jupyter-book==0.15.1->-r requirements.txt (line 3)) (6.23.1)\n",
      "Requirement already satisfied: coloredlogs in /home/calliope/miniconda3/envs/us-congress/lib/python3.11/site-packages (from onnxruntime>=1.14.1->chromadb->-r requirements.txt (line 1)) (15.0.1)\n",
      "Requirement already satisfied: flatbuffers in /home/calliope/miniconda3/envs/us-congress/lib/python3.11/site-packages (from onnxruntime>=1.14.1->chromadb->-r requirements.txt (line 1)) (23.5.26)\n",
      "Requirement already satisfied: protobuf in /home/calliope/miniconda3/envs/us-congress/lib/python3.11/site-packages (from onnxruntime>=1.14.1->chromadb->-r requirements.txt (line 1)) (4.23.3)\n",
      "Requirement already satisfied: et-xmlfile in /home/calliope/miniconda3/envs/us-congress/lib/python3.11/site-packages (from openpyxl>=3.0.7->openai[embeddings]->-r requirements.txt (line 6)) (1.1.0)\n",
      "Requirement already satisfied: python-dateutil>=2.8.2 in /home/calliope/miniconda3/envs/us-congress/lib/python3.11/site-packages (from pandas>=1.3->chromadb->-r requirements.txt (line 1)) (2.8.2)\n",
      "Requirement already satisfied: tzdata>=2022.1 in /home/calliope/miniconda3/envs/us-congress/lib/python3.11/site-packages (from pandas>=1.3->chromadb->-r requirements.txt (line 1)) (2023.3)\n",
      "Requirement already satisfied: types-pytz>=2022.1.1 in /home/calliope/miniconda3/envs/us-congress/lib/python3.11/site-packages (from pandas-stubs>=1.1.0.11->openai[embeddings]->-r requirements.txt (line 6)) (2023.3.0.0)\n",
      "Requirement already satisfied: six>=1.5 in /home/calliope/miniconda3/envs/us-congress/lib/python3.11/site-packages (from posthog>=2.4.0->chromadb->-r requirements.txt (line 1)) (1.16.0)\n",
      "Requirement already satisfied: monotonic>=1.5 in /home/calliope/miniconda3/envs/us-congress/lib/python3.11/site-packages (from posthog>=2.4.0->chromadb->-r requirements.txt (line 1)) (1.6)\n",
      "Requirement already satisfied: backoff>=1.10.0 in /home/calliope/miniconda3/envs/us-congress/lib/python3.11/site-packages (from posthog>=2.4.0->chromadb->-r requirements.txt (line 1)) (2.2.1)\n",
      "Requirement already satisfied: idna<4,>=2.5 in /home/calliope/miniconda3/envs/us-congress/lib/python3.11/site-packages (from requests<3,>=2->langchain==0.0.203->-r requirements.txt (line 4)) (3.4)\n",
      "Requirement already satisfied: joblib>=1.1.1 in /home/calliope/miniconda3/envs/us-congress/lib/python3.11/site-packages (from scikit-learn>=1.0.2->openai[embeddings]->-r requirements.txt (line 6)) (1.2.0)\n",
      "Requirement already satisfied: threadpoolctl>=2.0.0 in /home/calliope/miniconda3/envs/us-congress/lib/python3.11/site-packages (from scikit-learn>=1.0.2->openai[embeddings]->-r requirements.txt (line 6)) (3.1.0)\n",
      "Requirement already satisfied: sphinxcontrib-applehelp in /home/calliope/miniconda3/envs/us-congress/lib/python3.11/site-packages (from sphinx<6,>=4->jupyter-book==0.15.1->-r requirements.txt (line 3)) (1.0.4)\n",
      "Requirement already satisfied: sphinxcontrib-devhelp in /home/calliope/miniconda3/envs/us-congress/lib/python3.11/site-packages (from sphinx<6,>=4->jupyter-book==0.15.1->-r requirements.txt (line 3)) (1.0.2)\n",
      "Requirement already satisfied: sphinxcontrib-jsmath in /home/calliope/miniconda3/envs/us-congress/lib/python3.11/site-packages (from sphinx<6,>=4->jupyter-book==0.15.1->-r requirements.txt (line 3)) (1.0.1)\n",
      "Requirement already satisfied: sphinxcontrib-htmlhelp>=2.0.0 in /home/calliope/miniconda3/envs/us-congress/lib/python3.11/site-packages (from sphinx<6,>=4->jupyter-book==0.15.1->-r requirements.txt (line 3)) (2.0.1)\n",
      "Requirement already satisfied: sphinxcontrib-serializinghtml>=1.1.5 in /home/calliope/miniconda3/envs/us-congress/lib/python3.11/site-packages (from sphinx<6,>=4->jupyter-book==0.15.1->-r requirements.txt (line 3)) (1.1.5)\n",
      "Requirement already satisfied: sphinxcontrib-qthelp in /home/calliope/miniconda3/envs/us-congress/lib/python3.11/site-packages (from sphinx<6,>=4->jupyter-book==0.15.1->-r requirements.txt (line 3)) (1.0.3)\n",
      "Requirement already satisfied: snowballstemmer>=1.1 in /home/calliope/miniconda3/envs/us-congress/lib/python3.11/site-packages (from sphinx<6,>=4->jupyter-book==0.15.1->-r requirements.txt (line 3)) (2.2.0)\n",
      "Requirement already satisfied: babel>=1.3 in /home/calliope/miniconda3/envs/us-congress/lib/python3.11/site-packages (from sphinx<6,>=4->jupyter-book==0.15.1->-r requirements.txt (line 3)) (2.12.1)\n",
      "Requirement already satisfied: alabaster<0.8,>=0.7 in /home/calliope/miniconda3/envs/us-congress/lib/python3.11/site-packages (from sphinx<6,>=4->jupyter-book==0.15.1->-r requirements.txt (line 3)) (0.7.13)\n",
      "Requirement already satisfied: imagesize in /home/calliope/miniconda3/envs/us-congress/lib/python3.11/site-packages (from sphinx<6,>=4->jupyter-book==0.15.1->-r requirements.txt (line 3)) (1.4.1)\n",
      "Requirement already satisfied: MarkupSafe>=2.0 in /home/calliope/miniconda3/envs/us-congress/lib/python3.11/site-packages (from Jinja2->jupyter-book==0.15.1->-r requirements.txt (line 3)) (2.1.2)\n",
      "Requirement already satisfied: pydata-sphinx-theme>=0.13.3 in /home/calliope/miniconda3/envs/us-congress/lib/python3.11/site-packages (from sphinx-book-theme~=1.0.0->jupyter-book==0.15.1->-r requirements.txt (line 3)) (0.13.3)\n",
      "Requirement already satisfied: pybtex>=0.24 in /home/calliope/miniconda3/envs/us-congress/lib/python3.11/site-packages (from sphinxcontrib-bibtex<=2.5.0,>=2.2.0->jupyter-book==0.15.1->-r requirements.txt (line 3)) (0.24.0)\n",
      "Requirement already satisfied: pybtex-docutils>=1.0.0 in /home/calliope/miniconda3/envs/us-congress/lib/python3.11/site-packages (from sphinxcontrib-bibtex<=2.5.0,>=2.2.0->jupyter-book==0.15.1->-r requirements.txt (line 3)) (1.0.2)\n",
      "Requirement already satisfied: greenlet!=0.4.17 in /home/calliope/miniconda3/envs/us-congress/lib/python3.11/site-packages (from SQLAlchemy<3,>=1.4->langchain==0.0.203->-r requirements.txt (line 4)) (2.0.2)\n",
      "Requirement already satisfied: h11>=0.8 in /home/calliope/miniconda3/envs/us-congress/lib/python3.11/site-packages (from uvicorn[standard]>=0.18.3->chromadb->-r requirements.txt (line 1)) (0.14.0)\n",
      "Requirement already satisfied: httptools>=0.5.0 in /home/calliope/miniconda3/envs/us-congress/lib/python3.11/site-packages (from uvicorn[standard]>=0.18.3->chromadb->-r requirements.txt (line 1)) (0.5.0)\n"
     ]
    },
    {
     "name": "stdout",
     "output_type": "stream",
     "text": [
      "Requirement already satisfied: uvloop!=0.15.0,!=0.15.1,>=0.14.0 in /home/calliope/miniconda3/envs/us-congress/lib/python3.11/site-packages (from uvicorn[standard]>=0.18.3->chromadb->-r requirements.txt (line 1)) (0.17.0)\n",
      "Requirement already satisfied: watchfiles>=0.13 in /home/calliope/miniconda3/envs/us-congress/lib/python3.11/site-packages (from uvicorn[standard]>=0.18.3->chromadb->-r requirements.txt (line 1)) (0.19.0)\n",
      "Requirement already satisfied: websockets>=10.4 in /home/calliope/miniconda3/envs/us-congress/lib/python3.11/site-packages (from uvicorn[standard]>=0.18.3->chromadb->-r requirements.txt (line 1)) (11.0.3)\n",
      "Requirement already satisfied: contourpy>=1.0.1 in /home/calliope/miniconda3/envs/us-congress/lib/python3.11/site-packages (from matplotlib->openai[embeddings]->-r requirements.txt (line 6)) (1.1.0)\n",
      "Requirement already satisfied: cycler>=0.10 in /home/calliope/miniconda3/envs/us-congress/lib/python3.11/site-packages (from matplotlib->openai[embeddings]->-r requirements.txt (line 6)) (0.11.0)\n",
      "Requirement already satisfied: fonttools>=4.22.0 in /home/calliope/miniconda3/envs/us-congress/lib/python3.11/site-packages (from matplotlib->openai[embeddings]->-r requirements.txt (line 6)) (4.40.0)\n",
      "Requirement already satisfied: kiwisolver>=1.0.1 in /home/calliope/miniconda3/envs/us-congress/lib/python3.11/site-packages (from matplotlib->openai[embeddings]->-r requirements.txt (line 6)) (1.4.4)\n",
      "Requirement already satisfied: pillow>=6.2.0 in /home/calliope/miniconda3/envs/us-congress/lib/python3.11/site-packages (from matplotlib->openai[embeddings]->-r requirements.txt (line 6)) (9.5.0)\n",
      "Requirement already satisfied: pyparsing>=2.3.1 in /home/calliope/miniconda3/envs/us-congress/lib/python3.11/site-packages (from matplotlib->openai[embeddings]->-r requirements.txt (line 6)) (3.1.0)\n",
      "Requirement already satisfied: mpmath>=0.19 in /home/calliope/miniconda3/envs/us-congress/lib/python3.11/site-packages (from sympy->torch->-r requirements.txt (line 10)) (1.3.0)\n",
      "Requirement already satisfied: tabulate in /home/calliope/miniconda3/envs/us-congress/lib/python3.11/site-packages (from jupyter-cache<0.7,>=0.5->myst-nb~=0.17.1->jupyter-book==0.15.1->-r requirements.txt (line 3)) (0.9.0)\n",
      "Requirement already satisfied: mdit-py-plugins~=0.3.1 in /home/calliope/miniconda3/envs/us-congress/lib/python3.11/site-packages (from myst-parser~=0.18.0->myst-nb~=0.17.1->jupyter-book==0.15.1->-r requirements.txt (line 3)) (0.3.5)\n",
      "Requirement already satisfied: jupyter-client>=6.1.12 in /home/calliope/miniconda3/envs/us-congress/lib/python3.11/site-packages (from nbclient->myst-nb~=0.17.1->jupyter-book==0.15.1->-r requirements.txt (line 3)) (8.2.0)\n",
      "Requirement already satisfied: jupyter-core!=5.0.*,>=4.12 in /home/calliope/miniconda3/envs/us-congress/lib/python3.11/site-packages (from nbclient->myst-nb~=0.17.1->jupyter-book==0.15.1->-r requirements.txt (line 3)) (5.3.0)\n",
      "Requirement already satisfied: traitlets>=5.3 in /home/calliope/miniconda3/envs/us-congress/lib/python3.11/site-packages (from nbclient->myst-nb~=0.17.1->jupyter-book==0.15.1->-r requirements.txt (line 3)) (5.9.0)\n",
      "Requirement already satisfied: fastjsonschema in /home/calliope/miniconda3/envs/us-congress/lib/python3.11/site-packages (from nbformat~=5.0->myst-nb~=0.17.1->jupyter-book==0.15.1->-r requirements.txt (line 3)) (2.17.1)\n",
      "Requirement already satisfied: latexcodec>=1.0.4 in /home/calliope/miniconda3/envs/us-congress/lib/python3.11/site-packages (from pybtex>=0.24->sphinxcontrib-bibtex<=2.5.0,>=2.2.0->jupyter-book==0.15.1->-r requirements.txt (line 3)) (2.0.1)\n",
      "Requirement already satisfied: beautifulsoup4 in /home/calliope/miniconda3/envs/us-congress/lib/python3.11/site-packages (from pydata-sphinx-theme>=0.13.3->sphinx-book-theme~=1.0.0->jupyter-book==0.15.1->-r requirements.txt (line 3)) (4.12.2)\n",
      "Requirement already satisfied: accessible-pygments in /home/calliope/miniconda3/envs/us-congress/lib/python3.11/site-packages (from pydata-sphinx-theme>=0.13.3->sphinx-book-theme~=1.0.0->jupyter-book==0.15.1->-r requirements.txt (line 3)) (0.0.4)\n",
      "Requirement already satisfied: anyio<5,>=3.4.0 in /home/calliope/miniconda3/envs/us-congress/lib/python3.11/site-packages (from starlette<0.28.0,>=0.27.0->fastapi>=0.85.1->chromadb->-r requirements.txt (line 1)) (3.6.2)\n",
      "Requirement already satisfied: mypy-extensions>=0.3.0 in /home/calliope/miniconda3/envs/us-congress/lib/python3.11/site-packages (from typing-inspect>=0.4.0->dataclasses-json<0.6.0,>=0.5.7->langchain==0.0.203->-r requirements.txt (line 4)) (1.0.0)\n",
      "Requirement already satisfied: humanfriendly>=9.1 in /home/calliope/miniconda3/envs/us-congress/lib/python3.11/site-packages (from coloredlogs->onnxruntime>=1.14.1->chromadb->-r requirements.txt (line 1)) (10.0)\n",
      "Requirement already satisfied: zipp>=0.5 in /home/calliope/miniconda3/envs/us-congress/lib/python3.11/site-packages (from importlib_metadata->myst-nb~=0.17.1->jupyter-book==0.15.1->-r requirements.txt (line 3)) (3.15.0)\n",
      "Requirement already satisfied: comm>=0.1.1 in /home/calliope/miniconda3/envs/us-congress/lib/python3.11/site-packages (from ipykernel->myst-nb~=0.17.1->jupyter-book==0.15.1->-r requirements.txt (line 3)) (0.1.3)\n",
      "Requirement already satisfied: debugpy>=1.6.5 in /home/calliope/miniconda3/envs/us-congress/lib/python3.11/site-packages (from ipykernel->myst-nb~=0.17.1->jupyter-book==0.15.1->-r requirements.txt (line 3)) (1.6.7)\n",
      "Requirement already satisfied: matplotlib-inline>=0.1 in /home/calliope/miniconda3/envs/us-congress/lib/python3.11/site-packages (from ipykernel->myst-nb~=0.17.1->jupyter-book==0.15.1->-r requirements.txt (line 3)) (0.1.6)\n",
      "Requirement already satisfied: nest-asyncio in /home/calliope/miniconda3/envs/us-congress/lib/python3.11/site-packages (from ipykernel->myst-nb~=0.17.1->jupyter-book==0.15.1->-r requirements.txt (line 3)) (1.5.6)\n",
      "Requirement already satisfied: psutil in /home/calliope/miniconda3/envs/us-congress/lib/python3.11/site-packages (from ipykernel->myst-nb~=0.17.1->jupyter-book==0.15.1->-r requirements.txt (line 3)) (5.9.5)\n",
      "Requirement already satisfied: pyzmq>=20 in /home/calliope/miniconda3/envs/us-congress/lib/python3.11/site-packages (from ipykernel->myst-nb~=0.17.1->jupyter-book==0.15.1->-r requirements.txt (line 3)) (25.0.2)\n",
      "Requirement already satisfied: tornado>=6.1 in /home/calliope/miniconda3/envs/us-congress/lib/python3.11/site-packages (from ipykernel->myst-nb~=0.17.1->jupyter-book==0.15.1->-r requirements.txt (line 3)) (6.3.2)\n",
      "Requirement already satisfied: backcall in /home/calliope/miniconda3/envs/us-congress/lib/python3.11/site-packages (from ipython->myst-nb~=0.17.1->jupyter-book==0.15.1->-r requirements.txt (line 3)) (0.2.0)\n",
      "Requirement already satisfied: decorator in /home/calliope/miniconda3/envs/us-congress/lib/python3.11/site-packages (from ipython->myst-nb~=0.17.1->jupyter-book==0.15.1->-r requirements.txt (line 3)) (5.1.1)\n",
      "Requirement already satisfied: jedi>=0.16 in /home/calliope/miniconda3/envs/us-congress/lib/python3.11/site-packages (from ipython->myst-nb~=0.17.1->jupyter-book==0.15.1->-r requirements.txt (line 3)) (0.18.2)\n",
      "Requirement already satisfied: pickleshare in /home/calliope/miniconda3/envs/us-congress/lib/python3.11/site-packages (from ipython->myst-nb~=0.17.1->jupyter-book==0.15.1->-r requirements.txt (line 3)) (0.7.5)\n",
      "Requirement already satisfied: prompt-toolkit!=3.0.37,<3.1.0,>=3.0.30 in /home/calliope/miniconda3/envs/us-congress/lib/python3.11/site-packages (from ipython->myst-nb~=0.17.1->jupyter-book==0.15.1->-r requirements.txt (line 3)) (3.0.38)\n",
      "Requirement already satisfied: stack-data in /home/calliope/miniconda3/envs/us-congress/lib/python3.11/site-packages (from ipython->myst-nb~=0.17.1->jupyter-book==0.15.1->-r requirements.txt (line 3)) (0.6.2)\n",
      "Requirement already satisfied: pexpect>4.3 in /home/calliope/miniconda3/envs/us-congress/lib/python3.11/site-packages (from ipython->myst-nb~=0.17.1->jupyter-book==0.15.1->-r requirements.txt (line 3)) (4.8.0)\n",
      "Requirement already satisfied: sniffio>=1.1 in /home/calliope/miniconda3/envs/us-congress/lib/python3.11/site-packages (from anyio<5,>=3.4.0->starlette<0.28.0,>=0.27.0->fastapi>=0.85.1->chromadb->-r requirements.txt (line 1)) (1.3.0)\n",
      "Requirement already satisfied: parso<0.9.0,>=0.8.0 in /home/calliope/miniconda3/envs/us-congress/lib/python3.11/site-packages (from jedi>=0.16->ipython->myst-nb~=0.17.1->jupyter-book==0.15.1->-r requirements.txt (line 3)) (0.8.3)\n"
     ]
    },
    {
     "name": "stdout",
     "output_type": "stream",
     "text": [
      "Requirement already satisfied: platformdirs>=2.5 in /home/calliope/miniconda3/envs/us-congress/lib/python3.11/site-packages (from jupyter-core!=5.0.*,>=4.12->nbclient->myst-nb~=0.17.1->jupyter-book==0.15.1->-r requirements.txt (line 3)) (3.5.1)\n",
      "Requirement already satisfied: ptyprocess>=0.5 in /home/calliope/miniconda3/envs/us-congress/lib/python3.11/site-packages (from pexpect>4.3->ipython->myst-nb~=0.17.1->jupyter-book==0.15.1->-r requirements.txt (line 3)) (0.7.0)\n",
      "Requirement already satisfied: wcwidth in /home/calliope/miniconda3/envs/us-congress/lib/python3.11/site-packages (from prompt-toolkit!=3.0.37,<3.1.0,>=3.0.30->ipython->myst-nb~=0.17.1->jupyter-book==0.15.1->-r requirements.txt (line 3)) (0.2.6)\n",
      "Requirement already satisfied: soupsieve>1.2 in /home/calliope/miniconda3/envs/us-congress/lib/python3.11/site-packages (from beautifulsoup4->pydata-sphinx-theme>=0.13.3->sphinx-book-theme~=1.0.0->jupyter-book==0.15.1->-r requirements.txt (line 3)) (2.4.1)\n",
      "Requirement already satisfied: executing>=1.2.0 in /home/calliope/miniconda3/envs/us-congress/lib/python3.11/site-packages (from stack-data->ipython->myst-nb~=0.17.1->jupyter-book==0.15.1->-r requirements.txt (line 3)) (1.2.0)\n",
      "Requirement already satisfied: asttokens>=2.1.0 in /home/calliope/miniconda3/envs/us-congress/lib/python3.11/site-packages (from stack-data->ipython->myst-nb~=0.17.1->jupyter-book==0.15.1->-r requirements.txt (line 3)) (2.2.1)\n",
      "Requirement already satisfied: pure-eval in /home/calliope/miniconda3/envs/us-congress/lib/python3.11/site-packages (from stack-data->ipython->myst-nb~=0.17.1->jupyter-book==0.15.1->-r requirements.txt (line 3)) (0.2.2)\n"
     ]
    }
   ],
   "source": [
    "# if you are on a google colab, uncomment the lines below to fetch the requirements file and the hyperdemocracy.py module\n",
    "# and pip install the requirements\n",
    "\n",
    "#!wget https://raw.githubusercontent.com/FMurray/hyperdemocracy/main/requirements.txt\n",
    "#!wget https://raw.githubusercontent.com/FMurray/hyperdemocracy/main/hyperdemocracy.py\n",
    "!pip install -r requirements.txt\n",
    "!pip install torch transformers"
   ]
  },
  {
   "cell_type": "code",
   "execution_count": 2,
   "metadata": {},
   "outputs": [],
   "source": [
    "import os\n",
    "import rich\n",
    "import tiktoken\n",
    "from transformers import pipeline\n",
    "from rich import print\n",
    "from hyperdemocracy import load_assembleco_records"
   ]
  },
  {
   "cell_type": "code",
   "execution_count": 3,
   "metadata": {},
   "outputs": [],
   "source": [
    "# this is for development\n",
    "%load_ext autoreload\n",
    "%autoreload 2"
   ]
  },
  {
   "cell_type": "code",
   "execution_count": 4,
   "metadata": {},
   "outputs": [
    {
     "data": {
      "application/vnd.jupyter.widget-view+json": {
       "model_id": "978b6700d9b14125b9bb8fbad8bf6434",
       "version_major": 2,
       "version_minor": 0
      },
      "text/plain": [
       "Downloading readme: 0.00B [00:00, ?B/s]"
      ]
     },
     "metadata": {},
     "output_type": "display_data"
    },
    {
     "name": "stderr",
     "output_type": "stream",
     "text": [
      "Found cached dataset parquet (/home/calliope/.cache/huggingface/datasets/assembleco___parquet/assembleco--hyperdemocracy-a598a9b2b17e51dc/0.0.0/2a3b91fbd88a2c90d1dbbb32b460cf621d31bd5b05b934492fdef7d8d6f236ec)\n"
     ]
    }
   ],
   "source": [
    "records = load_assembleco_records(process=True, strip_html=True, remove_empty_body=True)"
   ]
  },
  {
   "cell_type": "code",
   "execution_count": 5,
   "metadata": {
    "id": "L5r6oJ7MmQM5"
   },
   "outputs": [
    {
     "data": {
      "text/html": [
       "<div>\n",
       "<style scoped>\n",
       "    .dataframe tbody tr th:only-of-type {\n",
       "        vertical-align: middle;\n",
       "    }\n",
       "\n",
       "    .dataframe tbody tr th {\n",
       "        vertical-align: top;\n",
       "    }\n",
       "\n",
       "    .dataframe thead th {\n",
       "        text-align: right;\n",
       "    }\n",
       "</style>\n",
       "<table border=\"1\" class=\"dataframe\">\n",
       "  <thead>\n",
       "    <tr style=\"text-align: right;\">\n",
       "      <th></th>\n",
       "      <th>key</th>\n",
       "      <th>name</th>\n",
       "      <th>sponsors</th>\n",
       "      <th>summary</th>\n",
       "      <th>body</th>\n",
       "      <th>themes</th>\n",
       "      <th>index</th>\n",
       "      <th>actions</th>\n",
       "      <th>amendments</th>\n",
       "      <th>committees</th>\n",
       "      <th>relatedbills</th>\n",
       "      <th>cosponsors</th>\n",
       "      <th>subjects</th>\n",
       "      <th>text</th>\n",
       "      <th>titles</th>\n",
       "      <th>congress_num</th>\n",
       "      <th>legis_class</th>\n",
       "      <th>legis_num</th>\n",
       "      <th>congress_gov_url</th>\n",
       "      <th>assembled_url</th>\n",
       "    </tr>\n",
       "  </thead>\n",
       "  <tbody>\n",
       "    <tr>\n",
       "      <th>0</th>\n",
       "      <td>118HCONRES1</td>\n",
       "      <td>Regarding consent to assemble outside the seat...</td>\n",
       "      <td>[[C001053, Rep. Cole, Tom [R-OK-4], sponsor]]</td>\n",
       "      <td>This concurrent resolution authorizes the Spe...</td>\n",
       "      <td>[Congressional Bills 118th Congress]\\n[From th...</td>\n",
       "      <td>[Congress, Congressional operations and organi...</td>\n",
       "      <td>{'bill': {'actions': {'count': 7, 'url': 'http...</td>\n",
       "      <td>{'actions': [{'actionCode': None, 'actionDate'...</td>\n",
       "      <td>{'amendments': [], 'pagination': {'count': 0},...</td>\n",
       "      <td>{'committees': [], 'request': {'billNumber': '...</td>\n",
       "      <td>{'pagination': {'count': 0}, 'relatedBills': [...</td>\n",
       "      <td>{'cosponsors': [], 'pagination': {'count': 0, ...</td>\n",
       "      <td>{'pagination': {'count': 2}, 'request': {'bill...</td>\n",
       "      <td>{'pagination': {'count': 1}, 'request': {'bill...</td>\n",
       "      <td>{'pagination': {'count': 2}, 'request': {'bill...</td>\n",
       "      <td>118</td>\n",
       "      <td>HCONRES</td>\n",
       "      <td>1</td>\n",
       "      <td>https://www.congress.gov/bill/118th-congress/h...</td>\n",
       "      <td>https://assembled.app/measures/118HCONRES1</td>\n",
       "    </tr>\n",
       "    <tr>\n",
       "      <th>1</th>\n",
       "      <td>118HCONRES10</td>\n",
       "      <td>Expressing the sense of Congress that the Unit...</td>\n",
       "      <td>[[T000165, Rep. Tiffany, Thomas P. [R-WI-7], s...</td>\n",
       "      <td>This concurrent resolution calls on the Presi...</td>\n",
       "      <td>[Congressional Bills 118th Congress]\\n[From th...</td>\n",
       "      <td>[International Affairs]</td>\n",
       "      <td>{'bill': {'actions': {'count': 4, 'url': 'http...</td>\n",
       "      <td>{'actions': [{'actionCode': 'H11100', 'actionD...</td>\n",
       "      <td>{'amendments': [], 'pagination': {'count': 0},...</td>\n",
       "      <td>{'committees': [{'activities': [{'date': '2023...</td>\n",
       "      <td>{'pagination': {'count': 0}, 'relatedBills': [...</td>\n",
       "      <td>{'cosponsors': [{'bioguideId': 'P000605', 'dis...</td>\n",
       "      <td>{'pagination': {'count': 1}, 'request': {'bill...</td>\n",
       "      <td>{'pagination': {'count': 1}, 'request': {'bill...</td>\n",
       "      <td>{'pagination': {'count': 2}, 'request': {'bill...</td>\n",
       "      <td>118</td>\n",
       "      <td>HCONRES</td>\n",
       "      <td>10</td>\n",
       "      <td>https://www.congress.gov/bill/118th-congress/h...</td>\n",
       "      <td>https://assembled.app/measures/118HCONRES10</td>\n",
       "    </tr>\n",
       "    <tr>\n",
       "      <th>2</th>\n",
       "      <td>118HCONRES11</td>\n",
       "      <td>Providing for a joint session of Congress to r...</td>\n",
       "      <td>[[S001176, Rep. Scalise, Steve [R-LA-1], spons...</td>\n",
       "      <td>This concurrent resolution provides for a joi...</td>\n",
       "      <td>[Congressional Bills 118th Congress]\\n[From th...</td>\n",
       "      <td>[Congress, Congressional operations and organi...</td>\n",
       "      <td>{'bill': {'actions': {'count': 10, 'url': 'htt...</td>\n",
       "      <td>{'actions': [{'actionCode': None, 'actionDate'...</td>\n",
       "      <td>{'amendments': [], 'pagination': {'count': 0},...</td>\n",
       "      <td>{'committees': [], 'request': {'billNumber': '...</td>\n",
       "      <td>{'pagination': {'count': 0}, 'relatedBills': [...</td>\n",
       "      <td>{'cosponsors': [], 'pagination': {'count': 0, ...</td>\n",
       "      <td>{'pagination': {'count': 3}, 'request': {'bill...</td>\n",
       "      <td>{'pagination': {'count': 3}, 'request': {'bill...</td>\n",
       "      <td>{'pagination': {'count': 2}, 'request': {'bill...</td>\n",
       "      <td>118</td>\n",
       "      <td>HCONRES</td>\n",
       "      <td>11</td>\n",
       "      <td>https://www.congress.gov/bill/118th-congress/h...</td>\n",
       "      <td>https://assembled.app/measures/118HCONRES11</td>\n",
       "    </tr>\n",
       "    <tr>\n",
       "      <th>3</th>\n",
       "      <td>118HCONRES12</td>\n",
       "      <td>Expressing the sense of Congress that all dire...</td>\n",
       "      <td>[[C001039, Rep. Cammack, Kat [R-FL-3], sponsor...</td>\n",
       "      <td>This concurrent resolution expresses the sens...</td>\n",
       "      <td>[Congressional Bills 118th Congress]\\n[From th...</td>\n",
       "      <td>[Foreign Trade and International Finance, Agri...</td>\n",
       "      <td>{'bill': {'actions': {'count': 5, 'url': 'http...</td>\n",
       "      <td>{'actions': [{'actionCode': 'H11000', 'actionD...</td>\n",
       "      <td>{'amendments': [], 'pagination': {'count': 0},...</td>\n",
       "      <td>{'committees': [{'activities': [{'date': '2023...</td>\n",
       "      <td>{'pagination': {'count': 0}, 'relatedBills': [...</td>\n",
       "      <td>{'cosponsors': [{'bioguideId': 'K000380', 'dis...</td>\n",
       "      <td>{'pagination': {'count': 6}, 'request': {'bill...</td>\n",
       "      <td>{'pagination': {'count': 1}, 'request': {'bill...</td>\n",
       "      <td>{'pagination': {'count': 2}, 'request': {'bill...</td>\n",
       "      <td>118</td>\n",
       "      <td>HCONRES</td>\n",
       "      <td>12</td>\n",
       "      <td>https://www.congress.gov/bill/118th-congress/h...</td>\n",
       "      <td>https://assembled.app/measures/118HCONRES12</td>\n",
       "    </tr>\n",
       "    <tr>\n",
       "      <th>4</th>\n",
       "      <td>118HCONRES13</td>\n",
       "      <td>Supporting the Local Radio Freedom Act.</td>\n",
       "      <td>[[W000809, Rep. Womack, Steve [R-AR-3], sponso...</td>\n",
       "      <td>This concurrent resolution declares that Cong...</td>\n",
       "      <td>[Congressional Bills 118th Congress]\\n[From th...</td>\n",
       "      <td>[Science, Technology, Communications, Congress]</td>\n",
       "      <td>{'bill': {'actions': {'count': 3, 'url': 'http...</td>\n",
       "      <td>{'actions': [{'actionCode': 'H11100', 'actionD...</td>\n",
       "      <td>{'amendments': [], 'pagination': {'count': 0},...</td>\n",
       "      <td>{'committees': [{'activities': [{'date': '2023...</td>\n",
       "      <td>{'pagination': {'count': 1}, 'relatedBills': [...</td>\n",
       "      <td>{'cosponsors': [{'bioguideId': 'C001066', 'dis...</td>\n",
       "      <td>{'pagination': {'count': 2}, 'request': {'bill...</td>\n",
       "      <td>{'pagination': {'count': 1}, 'request': {'bill...</td>\n",
       "      <td>{'pagination': {'count': 2}, 'request': {'bill...</td>\n",
       "      <td>118</td>\n",
       "      <td>HCONRES</td>\n",
       "      <td>13</td>\n",
       "      <td>https://www.congress.gov/bill/118th-congress/h...</td>\n",
       "      <td>https://assembled.app/measures/118HCONRES13</td>\n",
       "    </tr>\n",
       "  </tbody>\n",
       "</table>\n",
       "</div>"
      ],
      "text/plain": [
       "            key                                               name   \n",
       "0   118HCONRES1  Regarding consent to assemble outside the seat...  \\\n",
       "1  118HCONRES10  Expressing the sense of Congress that the Unit...   \n",
       "2  118HCONRES11  Providing for a joint session of Congress to r...   \n",
       "3  118HCONRES12  Expressing the sense of Congress that all dire...   \n",
       "4  118HCONRES13            Supporting the Local Radio Freedom Act.   \n",
       "\n",
       "                                            sponsors   \n",
       "0      [[C001053, Rep. Cole, Tom [R-OK-4], sponsor]]  \\\n",
       "1  [[T000165, Rep. Tiffany, Thomas P. [R-WI-7], s...   \n",
       "2  [[S001176, Rep. Scalise, Steve [R-LA-1], spons...   \n",
       "3  [[C001039, Rep. Cammack, Kat [R-FL-3], sponsor...   \n",
       "4  [[W000809, Rep. Womack, Steve [R-AR-3], sponso...   \n",
       "\n",
       "                                             summary   \n",
       "0   This concurrent resolution authorizes the Spe...  \\\n",
       "1   This concurrent resolution calls on the Presi...   \n",
       "2   This concurrent resolution provides for a joi...   \n",
       "3   This concurrent resolution expresses the sens...   \n",
       "4   This concurrent resolution declares that Cong...   \n",
       "\n",
       "                                                body   \n",
       "0  [Congressional Bills 118th Congress]\\n[From th...  \\\n",
       "1  [Congressional Bills 118th Congress]\\n[From th...   \n",
       "2  [Congressional Bills 118th Congress]\\n[From th...   \n",
       "3  [Congressional Bills 118th Congress]\\n[From th...   \n",
       "4  [Congressional Bills 118th Congress]\\n[From th...   \n",
       "\n",
       "                                              themes   \n",
       "0  [Congress, Congressional operations and organi...  \\\n",
       "1                            [International Affairs]   \n",
       "2  [Congress, Congressional operations and organi...   \n",
       "3  [Foreign Trade and International Finance, Agri...   \n",
       "4    [Science, Technology, Communications, Congress]   \n",
       "\n",
       "                                               index   \n",
       "0  {'bill': {'actions': {'count': 7, 'url': 'http...  \\\n",
       "1  {'bill': {'actions': {'count': 4, 'url': 'http...   \n",
       "2  {'bill': {'actions': {'count': 10, 'url': 'htt...   \n",
       "3  {'bill': {'actions': {'count': 5, 'url': 'http...   \n",
       "4  {'bill': {'actions': {'count': 3, 'url': 'http...   \n",
       "\n",
       "                                             actions   \n",
       "0  {'actions': [{'actionCode': None, 'actionDate'...  \\\n",
       "1  {'actions': [{'actionCode': 'H11100', 'actionD...   \n",
       "2  {'actions': [{'actionCode': None, 'actionDate'...   \n",
       "3  {'actions': [{'actionCode': 'H11000', 'actionD...   \n",
       "4  {'actions': [{'actionCode': 'H11100', 'actionD...   \n",
       "\n",
       "                                          amendments   \n",
       "0  {'amendments': [], 'pagination': {'count': 0},...  \\\n",
       "1  {'amendments': [], 'pagination': {'count': 0},...   \n",
       "2  {'amendments': [], 'pagination': {'count': 0},...   \n",
       "3  {'amendments': [], 'pagination': {'count': 0},...   \n",
       "4  {'amendments': [], 'pagination': {'count': 0},...   \n",
       "\n",
       "                                          committees   \n",
       "0  {'committees': [], 'request': {'billNumber': '...  \\\n",
       "1  {'committees': [{'activities': [{'date': '2023...   \n",
       "2  {'committees': [], 'request': {'billNumber': '...   \n",
       "3  {'committees': [{'activities': [{'date': '2023...   \n",
       "4  {'committees': [{'activities': [{'date': '2023...   \n",
       "\n",
       "                                        relatedbills   \n",
       "0  {'pagination': {'count': 0}, 'relatedBills': [...  \\\n",
       "1  {'pagination': {'count': 0}, 'relatedBills': [...   \n",
       "2  {'pagination': {'count': 0}, 'relatedBills': [...   \n",
       "3  {'pagination': {'count': 0}, 'relatedBills': [...   \n",
       "4  {'pagination': {'count': 1}, 'relatedBills': [...   \n",
       "\n",
       "                                          cosponsors   \n",
       "0  {'cosponsors': [], 'pagination': {'count': 0, ...  \\\n",
       "1  {'cosponsors': [{'bioguideId': 'P000605', 'dis...   \n",
       "2  {'cosponsors': [], 'pagination': {'count': 0, ...   \n",
       "3  {'cosponsors': [{'bioguideId': 'K000380', 'dis...   \n",
       "4  {'cosponsors': [{'bioguideId': 'C001066', 'dis...   \n",
       "\n",
       "                                            subjects   \n",
       "0  {'pagination': {'count': 2}, 'request': {'bill...  \\\n",
       "1  {'pagination': {'count': 1}, 'request': {'bill...   \n",
       "2  {'pagination': {'count': 3}, 'request': {'bill...   \n",
       "3  {'pagination': {'count': 6}, 'request': {'bill...   \n",
       "4  {'pagination': {'count': 2}, 'request': {'bill...   \n",
       "\n",
       "                                                text   \n",
       "0  {'pagination': {'count': 1}, 'request': {'bill...  \\\n",
       "1  {'pagination': {'count': 1}, 'request': {'bill...   \n",
       "2  {'pagination': {'count': 3}, 'request': {'bill...   \n",
       "3  {'pagination': {'count': 1}, 'request': {'bill...   \n",
       "4  {'pagination': {'count': 1}, 'request': {'bill...   \n",
       "\n",
       "                                              titles congress_num legis_class   \n",
       "0  {'pagination': {'count': 2}, 'request': {'bill...          118     HCONRES  \\\n",
       "1  {'pagination': {'count': 2}, 'request': {'bill...          118     HCONRES   \n",
       "2  {'pagination': {'count': 2}, 'request': {'bill...          118     HCONRES   \n",
       "3  {'pagination': {'count': 2}, 'request': {'bill...          118     HCONRES   \n",
       "4  {'pagination': {'count': 2}, 'request': {'bill...          118     HCONRES   \n",
       "\n",
       "  legis_num                                   congress_gov_url   \n",
       "0         1  https://www.congress.gov/bill/118th-congress/h...  \\\n",
       "1        10  https://www.congress.gov/bill/118th-congress/h...   \n",
       "2        11  https://www.congress.gov/bill/118th-congress/h...   \n",
       "3        12  https://www.congress.gov/bill/118th-congress/h...   \n",
       "4        13  https://www.congress.gov/bill/118th-congress/h...   \n",
       "\n",
       "                                 assembled_url  \n",
       "0   https://assembled.app/measures/118HCONRES1  \n",
       "1  https://assembled.app/measures/118HCONRES10  \n",
       "2  https://assembled.app/measures/118HCONRES11  \n",
       "3  https://assembled.app/measures/118HCONRES12  \n",
       "4  https://assembled.app/measures/118HCONRES13  "
      ]
     },
     "execution_count": 5,
     "metadata": {},
     "output_type": "execute_result"
    }
   ],
   "source": [
    "records.head()"
   ]
  },
  {
   "cell_type": "code",
   "execution_count": 6,
   "metadata": {
    "id": "m4eSYiO5Ii9X",
    "scrolled": true
   },
   "outputs": [
    {
     "data": {
      "text/plain": [
       "(6132, 20)"
      ]
     },
     "execution_count": 6,
     "metadata": {},
     "output_type": "execute_result"
    }
   ],
   "source": [
    "records.shape"
   ]
  },
  {
   "cell_type": "markdown",
   "metadata": {
    "id": "5GM8DqH7Ojeu"
   },
   "source": [
    "# From Pandas Dataframe to LangChain Documents\n",
    "\n",
    "A langchain document is a simple class with two attributes, \n",
    "* page_content (a string)\n",
    "* metadata (a dictionary)"
   ]
  },
  {
   "cell_type": "code",
   "execution_count": null,
   "metadata": {},
   "outputs": [],
   "source": []
  },
  {
   "cell_type": "code",
   "execution_count": 7,
   "metadata": {
    "id": "DH58_PTsRJyD"
   },
   "outputs": [],
   "source": [
    "from langchain.schema import Document "
   ]
  },
  {
   "cell_type": "code",
   "execution_count": 9,
   "metadata": {
    "id": "cLHx06mHepKQ"
   },
   "outputs": [],
   "source": [
    "all_docs = []\n",
    "for i, record in records.iterrows():\n",
    "    doc = Document(\n",
    "        page_content=record['body'],\n",
    "        metadata={\n",
    "            # Note: chroma can only filter on float, str, or int\n",
    "            # https://docs.trychroma.com/usage-guide#using-where-filters\n",
    "            'key': record['key'],\n",
    "            'congress_num': record['congress_num'],\n",
    "            'legis_class': record['legis_class'],\n",
    "            'legis_num': record['legis_num'],\n",
    "            'name': record['name'],\n",
    "            'summary': record['summary'],\n",
    "            'sponsor': record['sponsors'][0][0],\n",
    "            'source': record['congress_gov_url'] + \"\\n\" + record['name'],\n",
    "        },\n",
    "    )\n",
    "    all_docs.append(doc)\n",
    "docs = all_docs[:50]"
   ]
  },
  {
   "cell_type": "code",
   "execution_count": 10,
   "metadata": {
    "id": "2-fFRGsTUDGX"
   },
   "outputs": [
    {
     "data": {
      "text/html": [
       "<pre style=\"white-space:pre;overflow-x:auto;line-height:normal;font-family:Menlo,'DejaVu Sans Mono',consolas,'Courier New',monospace\"><span style=\"color: #800080; text-decoration-color: #800080; font-weight: bold\">Document</span><span style=\"font-weight: bold\">(</span>\n",
       "    <span style=\"color: #808000; text-decoration-color: #808000\">page_content</span>=<span style=\"color: #008000; text-decoration-color: #008000\">'[Congressional Bills 118th Congress]\\n[From the U.S. Government Publishing Office]\\n[H. Con. Res.</span>\n",
       "<span style=\"color: #008000; text-decoration-color: #008000\">1 Engrossed in House (EH)]\\n\\n&lt;DOC&gt;\\n  \\n  \\n  \\n  \\n  \\n  \\n  \\n  \\n  \\n  \\n  \\n  \\n  \\n  \\n  \\n  \\n  \\n  \\n  \\n  </span>\n",
       "<span style=\"color: #008000; text-decoration-color: #008000\">\\n  \\n  \\n  \\n118th CONGRESS\\n  1st Session\\nH. CON. RES. </span>\n",
       "<span style=\"color: #008000; text-decoration-color: #008000\">1\\n\\n_______________________________________________________________________\\n\\n                         CONCURRENT</span>\n",
       "<span style=\"color: #008000; text-decoration-color: #008000\">RESOLUTION\\n\\n    Resolved by the House of Representatives (the Senate concurring), \\nThat pursuant to clause 4, </span>\n",
       "<span style=\"color: #008000; text-decoration-color: #008000\">section 5, article I of the Constitution, \\nduring the One Hundred Eighteenth Congress the Speaker of the House and</span>\n",
       "<span style=\"color: #008000; text-decoration-color: #008000\">\\nthe Majority Leader of the Senate or their respective designees, acting \\njointly after consultation with the </span>\n",
       "<span style=\"color: #008000; text-decoration-color: #008000\">Minority Leader of the House and \\nthe Minority Leader of the Senate,\\n\\n\\n              \\n\\n may notify the </span>\n",
       "<span style=\"color: #008000; text-decoration-color: #008000\">Members of the House and the Senate, respectively, to \\nassemble at a place outside the District of Columbia if, in</span>\n",
       "<span style=\"color: #008000; text-decoration-color: #008000\">their \\nopinion, the public interest shall warrant it.\\n\\n            Passed the House of Representatives January </span>\n",
       "<span style=\"color: #008000; text-decoration-color: #008000\">9, 2023.\\n\\n            Attest:\\n\\n                                                                 Clerk.\\n118th </span>\n",
       "<span style=\"color: #008000; text-decoration-color: #008000\">CONGRESS\\n\\n  1st Session\\n\\n                             H. CON. RES. </span>\n",
       "<span style=\"color: #008000; text-decoration-color: #008000\">1\\n\\n_______________________________________________________________________\\n\\n                         CONCURRENT</span>\n",
       "<span style=\"color: #008000; text-decoration-color: #008000\">RESOLUTION\\n\\n     Regarding consent to assemble outside the seat of government.\\n\\n'</span>,\n",
       "    <span style=\"color: #808000; text-decoration-color: #808000\">metadata</span>=<span style=\"font-weight: bold\">{</span>\n",
       "        <span style=\"color: #008000; text-decoration-color: #008000\">'key'</span>: <span style=\"color: #008000; text-decoration-color: #008000\">'118HCONRES1'</span>,\n",
       "        <span style=\"color: #008000; text-decoration-color: #008000\">'congress_num'</span>: <span style=\"color: #008000; text-decoration-color: #008000\">'118'</span>,\n",
       "        <span style=\"color: #008000; text-decoration-color: #008000\">'legis_class'</span>: <span style=\"color: #008000; text-decoration-color: #008000\">'HCONRES'</span>,\n",
       "        <span style=\"color: #008000; text-decoration-color: #008000\">'legis_num'</span>: <span style=\"color: #008000; text-decoration-color: #008000\">'1'</span>,\n",
       "        <span style=\"color: #008000; text-decoration-color: #008000\">'name'</span>: <span style=\"color: #008000; text-decoration-color: #008000\">'Regarding consent to assemble outside the seat of government.'</span>,\n",
       "        <span style=\"color: #008000; text-decoration-color: #008000\">'summary'</span>: <span style=\"color: #008000; text-decoration-color: #008000\">' This concurrent resolution authorizes the Speaker of the House and the Majority Leader of the </span>\n",
       "<span style=\"color: #008000; text-decoration-color: #008000\">Senate to assemble the House and the Senate outside the District of Columbia whenever the public interest warrants </span>\n",
       "<span style=\"color: #008000; text-decoration-color: #008000\">it.'</span>,\n",
       "        <span style=\"color: #008000; text-decoration-color: #008000\">'sponsor'</span>: <span style=\"color: #008000; text-decoration-color: #008000\">'C001053'</span>,\n",
       "        <span style=\"color: #008000; text-decoration-color: #008000\">'source'</span>: <span style=\"color: #008000; text-decoration-color: #008000\">'https://www.congress.gov/bill/118th-congress/house-concurrent-resolution/1\\nRegarding consent to</span>\n",
       "<span style=\"color: #008000; text-decoration-color: #008000\">assemble outside the seat of government.'</span>\n",
       "    <span style=\"font-weight: bold\">}</span>\n",
       "<span style=\"font-weight: bold\">)</span>\n",
       "</pre>\n"
      ],
      "text/plain": [
       "\u001b[1;35mDocument\u001b[0m\u001b[1m(\u001b[0m\n",
       "    \u001b[33mpage_content\u001b[0m=\u001b[32m'\u001b[0m\u001b[32m[\u001b[0m\u001b[32mCongressional Bills 118th Congress\u001b[0m\u001b[32m]\u001b[0m\u001b[32m\\n\u001b[0m\u001b[32m[\u001b[0m\u001b[32mFrom the U.S. Government Publishing Office\u001b[0m\u001b[32m]\u001b[0m\u001b[32m\\n\u001b[0m\u001b[32m[\u001b[0m\u001b[32mH. Con. Res.\u001b[0m\n",
       "\u001b[32m1 Engrossed in House \u001b[0m\u001b[32m(\u001b[0m\u001b[32mEH\u001b[0m\u001b[32m)\u001b[0m\u001b[32m]\u001b[0m\u001b[32m\\n\\n\u001b[0m\u001b[32m<\u001b[0m\u001b[32mDOC\u001b[0m\u001b[32m>\u001b[0m\u001b[32m\\n  \\n  \\n  \\n  \\n  \\n  \\n  \\n  \\n  \\n  \\n  \\n  \\n  \\n  \\n  \\n  \\n  \\n  \\n  \\n  \u001b[0m\n",
       "\u001b[32m\\n  \\n  \\n  \\n118th CONGRESS\\n  1st Session\\nH. CON. RES. \u001b[0m\n",
       "\u001b[32m1\\n\\n_______________________________________________________________________\\n\\n                         CONCURRENT\u001b[0m\n",
       "\u001b[32mRESOLUTION\\n\\n    Resolved by the House of Representatives \u001b[0m\u001b[32m(\u001b[0m\u001b[32mthe Senate concurring\u001b[0m\u001b[32m)\u001b[0m\u001b[32m, \\nThat pursuant to clause 4, \u001b[0m\n",
       "\u001b[32msection 5, article I of the Constitution, \\nduring the One Hundred Eighteenth Congress the Speaker of the House and\u001b[0m\n",
       "\u001b[32m\\nthe Majority Leader of the Senate or their respective designees, acting \\njointly after consultation with the \u001b[0m\n",
       "\u001b[32mMinority Leader of the House and \\nthe Minority Leader of the Senate,\\n\\n\\n              \\n\\n may notify the \u001b[0m\n",
       "\u001b[32mMembers of the House and the Senate, respectively, to \\nassemble at a place outside the District of Columbia if, in\u001b[0m\n",
       "\u001b[32mtheir \\nopinion, the public interest shall warrant it.\\n\\n            Passed the House of Representatives January \u001b[0m\n",
       "\u001b[32m9, 2023.\\n\\n            Attest:\\n\\n                                                                 Clerk.\\n118th \u001b[0m\n",
       "\u001b[32mCONGRESS\\n\\n  1st Session\\n\\n                             H. CON. RES. \u001b[0m\n",
       "\u001b[32m1\\n\\n_______________________________________________________________________\\n\\n                         CONCURRENT\u001b[0m\n",
       "\u001b[32mRESOLUTION\\n\\n     Regarding consent to assemble outside the seat of government.\\n\\n'\u001b[0m,\n",
       "    \u001b[33mmetadata\u001b[0m=\u001b[1m{\u001b[0m\n",
       "        \u001b[32m'key'\u001b[0m: \u001b[32m'118HCONRES1'\u001b[0m,\n",
       "        \u001b[32m'congress_num'\u001b[0m: \u001b[32m'118'\u001b[0m,\n",
       "        \u001b[32m'legis_class'\u001b[0m: \u001b[32m'HCONRES'\u001b[0m,\n",
       "        \u001b[32m'legis_num'\u001b[0m: \u001b[32m'1'\u001b[0m,\n",
       "        \u001b[32m'name'\u001b[0m: \u001b[32m'Regarding consent to assemble outside the seat of government.'\u001b[0m,\n",
       "        \u001b[32m'summary'\u001b[0m: \u001b[32m' This concurrent resolution authorizes the Speaker of the House and the Majority Leader of the \u001b[0m\n",
       "\u001b[32mSenate to assemble the House and the Senate outside the District of Columbia whenever the public interest warrants \u001b[0m\n",
       "\u001b[32mit.'\u001b[0m,\n",
       "        \u001b[32m'sponsor'\u001b[0m: \u001b[32m'C001053'\u001b[0m,\n",
       "        \u001b[32m'source'\u001b[0m: \u001b[32m'https://www.congress.gov/bill/118th-congress/house-concurrent-resolution/1\\nRegarding consent to\u001b[0m\n",
       "\u001b[32massemble outside the seat of government.'\u001b[0m\n",
       "    \u001b[1m}\u001b[0m\n",
       "\u001b[1m)\u001b[0m\n"
      ]
     },
     "metadata": {},
     "output_type": "display_data"
    }
   ],
   "source": [
    "print(docs[0])"
   ]
  },
  {
   "cell_type": "code",
   "execution_count": 12,
   "metadata": {},
   "outputs": [],
   "source": [
    "#from langchain import PromptTemplate, LLMChain\n",
    "\n",
    "template = \"\"\"Describe a procedure easing scenarios of {issue}.\n",
    "\n",
    "Begin by: \"\"\"\n",
    "\n",
    "# prompt = PromptTemplate(template=template, input_variables=[\"issue\"])\n",
    "# llm_chain = LLMChain(prompt=prompt, llm=llm)\n",
    "# issue = \"commercial relations in Asia, Europe, and Americas\"\n",
    "\n",
    "# print(llm_chain.run(issue))"
   ]
  },
  {
   "cell_type": "markdown",
   "metadata": {
    "id": "KCdDA0eOXJ_1"
   },
   "source": [
    "# Remember: LangChain can slice up your corpus in \"chunks\".\n",
    "\n",
    "-- https://python.langchain.com/docs/modules/data_connection/document_transformers/#text-splitters\n",
    "\n",
    "Here are some useful options for splitting legislative text, \n",
    "\n",
    "* [character text splitter](https://python.langchain.com/docs/modules/data_connection/document_transformers/text_splitters/character_text_splitter)\n",
    "  * How the text is split: by single character\n",
    "  * How the chunk size is measured: by number of characters\n",
    "* [recursive text splitter](https://python.langchain.com/docs/modules/data_connection/document_transformers/text_splitters/recursive_text_splitter)\n",
    "  * How the text is split: by list of characters\n",
    "  * How the chunk size is measured: by number of characters\n",
    "* [split by token](https://python.langchain.com/docs/modules/data_connection/document_transformers/text_splitters/split_by_token)\n",
    "  * How the text is split: by character passed in\n",
    "  * How the chunk size is measured: by tiktoken tokenizer\n",
    "\n",
    "If you are not familiar with the concept of a token, this article may help, \n",
    "* https://simonwillison.net/2023/Jun/8/gpt-tokenizers/\n",
    "\n",
    "Mini Side Quest\n",
    "* see if there is anything interesting that can be done with this https://twitter.com/RLanceMartin/status/1670489431168659456?s=20"
   ]
  },
  {
   "cell_type": "code",
   "execution_count": 13,
   "metadata": {
    "id": "_w6e8Bcia6gp"
   },
   "outputs": [],
   "source": [
    "from langchain.text_splitter import CharacterTextSplitter\n",
    "from langchain.text_splitter import RecursiveCharacterTextSplitter\n",
    "from langchain.text_splitter import TokenTextSplitter"
   ]
  },
  {
   "cell_type": "code",
   "execution_count": 14,
   "metadata": {},
   "outputs": [],
   "source": [
    "text = \"\"\"We hold these truths to be self-evident, that all men are created equal,\n",
    "\n",
    "that they are endowed by their Creator with certain unalienable Rights,\n",
    "\n",
    "that among these are Life, Liberty and the pursuit of Happiness.\"\"\""
   ]
  },
  {
   "cell_type": "markdown",
   "metadata": {},
   "source": [
    "## CharacterTextSplitter"
   ]
  },
  {
   "cell_type": "code",
   "execution_count": null,
   "metadata": {},
   "outputs": [],
   "source": [
    "# this is the default separator\n",
    "CharacterTextSplitter(separator=\"\\n\\n\", chunk_size=20, chunk_overlap=0).split_text(text)"
   ]
  },
  {
   "cell_type": "code",
   "execution_count": null,
   "metadata": {},
   "outputs": [],
   "source": [
    "# this is what happens if we change the default separator\n",
    "CharacterTextSplitter(separator=\" \", chunk_size=20, chunk_overlap=0).split_text(text)"
   ]
  },
  {
   "cell_type": "code",
   "execution_count": null,
   "metadata": {},
   "outputs": [],
   "source": [
    "# this is what overlap does\n",
    "CharacterTextSplitter(separator=\" \", chunk_size=20, chunk_overlap=10).split_text(text)"
   ]
  },
  {
   "cell_type": "markdown",
   "metadata": {},
   "source": [
    "## RecursiveCharacterTextSplitter"
   ]
  },
  {
   "cell_type": "code",
   "execution_count": 15,
   "metadata": {},
   "outputs": [
    {
     "data": {
      "text/plain": [
       "['We hold these truths to be self-evident,',\n",
       " 'that all men are created equal,',\n",
       " 'that they are endowed by their Creator',\n",
       " 'with certain unalienable Rights,',\n",
       " 'that among these are Life, Liberty and',\n",
       " 'the pursuit of Happiness.']"
      ]
     },
     "execution_count": 15,
     "metadata": {},
     "output_type": "execute_result"
    }
   ],
   "source": [
    "# these are the default separators\n",
    "RecursiveCharacterTextSplitter(separators=[\"\\n\\n\", \"\\n\", \" \", \"\"], chunk_size=40, chunk_overlap=0).split_text(text)"
   ]
  },
  {
   "cell_type": "code",
   "execution_count": null,
   "metadata": {},
   "outputs": [],
   "source": [
    "# this is what happens if we add \",\" to the separators\n",
    "RecursiveCharacterTextSplitter(separators=[\"\\n\\n\", \"\\n\", \",\", \" \", \"\"], chunk_size=40, chunk_overlap=0).split_text(text)"
   ]
  },
  {
   "cell_type": "markdown",
   "metadata": {},
   "source": [
    "## TokenTextSplitter"
   ]
  },
  {
   "cell_type": "code",
   "execution_count": null,
   "metadata": {},
   "outputs": [],
   "source": [
    "# the length unit for chunk_size is now tokens not characters\n",
    "TokenTextSplitter(model_name=\"text-embedding-ada-002\", chunk_size=10, chunk_overlap=0).split_text(text)"
   ]
  },
  {
   "cell_type": "code",
   "execution_count": null,
   "metadata": {},
   "outputs": [],
   "source": [
    "# same for chunk_overlap\n",
    "TokenTextSplitter(model_name=\"text-embedding-ada-002\", chunk_size=10, chunk_overlap=4).split_text(text)"
   ]
  },
  {
   "cell_type": "code",
   "execution_count": null,
   "metadata": {},
   "outputs": [],
   "source": [
    "# note that \"self-evident\" is 4 tokens\n",
    "enc = tiktoken.encoding_for_model(\"text-embedding-ada-002\")\n",
    "print(enc)\n",
    "token_ids = enc.encode(\"self-evident\")\n",
    "token_strs = [enc.decode_single_token_bytes(token) for token in token_ids]\n",
    "print(\"token_ids: \", token_ids)\n",
    "print(\"token_strs: \", token_strs)"
   ]
  },
  {
   "cell_type": "markdown",
   "metadata": {},
   "source": [
    "## Lets Make a TextSplitter Choice here"
   ]
  },
  {
   "cell_type": "code",
   "execution_count": 16,
   "metadata": {
    "id": "oCi59g8rFAMi"
   },
   "outputs": [],
   "source": [
    "text_splitter = RecursiveCharacterTextSplitter(chunk_size=512, chunk_overlap=128)\n",
    "split_docs = text_splitter.split_documents(docs)"
   ]
  },
  {
   "cell_type": "code",
   "execution_count": 17,
   "metadata": {
    "id": "da7F2FUuFR8q"
   },
   "outputs": [
    {
     "data": {
      "text/html": [
       "<pre style=\"white-space:pre;overflow-x:auto;line-height:normal;font-family:Menlo,'DejaVu Sans Mono',consolas,'Courier New',monospace\">Number of original docs:  <span style=\"color: #008080; text-decoration-color: #008080; font-weight: bold\">50</span>\n",
       "</pre>\n"
      ],
      "text/plain": [
       "Number of original docs:  \u001b[1;36m50\u001b[0m\n"
      ]
     },
     "metadata": {},
     "output_type": "display_data"
    },
    {
     "data": {
      "text/html": [
       "<pre style=\"white-space:pre;overflow-x:auto;line-height:normal;font-family:Menlo,'DejaVu Sans Mono',consolas,'Courier New',monospace\">Number of split docs:  <span style=\"color: #008080; text-decoration-color: #008080; font-weight: bold\">752</span>\n",
       "</pre>\n"
      ],
      "text/plain": [
       "Number of split docs:  \u001b[1;36m752\u001b[0m\n"
      ]
     },
     "metadata": {},
     "output_type": "display_data"
    }
   ],
   "source": [
    "print(\"Number of original docs: \", len(docs))\n",
    "print(\"Number of split docs: \", len(split_docs))"
   ]
  },
  {
   "cell_type": "markdown",
   "metadata": {
    "id": "7BVOa0TebHtY"
   },
   "source": [
    "# Part 2 - Embed and Index Doc Chunks\n",
    "\n",
    "Now we will embed and index the document chunks from the previous section. \n",
    "We have many choices when it comes to text embedding models and vector indexes. \n",
    "For this tutorial we will choose, \n",
    "\n",
    "* text embedding model: `text_embedding_ada_002`\n",
    "* vector index:\n",
    "  * https://www.trychroma.com\n",
    "  * https://docs.trychroma.com/usage-guide#changing-the-distance-function\n",
    "  * https://github.com/nmslib/hnswlib/tree/master#supported-distances\n",
    "  * https://github.com/hwchase17/langchain/blob/master/langchain/vectorstores/chroma.py\n",
    "  * https://github.com/hwchase17/langchain/blob/master/langchain/vectorstores/utils.py#L10\n",
    "\n",
    "For a look at some of the top performing closed and open source text embedding models, check out the HuggingFace Massive Text Embedding Benchmark (MTEB), \n",
    "* https://huggingface.co/spaces/mteb/leaderboard\n",
    "  \n",
    "For a more detailed introduction to embeddings in general, see the embeddings notebook\n",
    "* https://github.com/FMurray/hyperdemocracy/blob/main/sidequests/embeddings_v2.ipynb"
   ]
  },
  {
   "cell_type": "code",
   "execution_count": 22,
   "metadata": {
    "id": "UdBDoTvLbLfZ"
   },
   "outputs": [],
   "source": [
    "from langchain.vectorstores import Chroma\n",
    "from langchain.embeddings import HuggingFaceEmbeddings;\n",
    "\n",
    "embeddings = HuggingFaceEmbeddings\n",
    "persist_directory = \"hyperdemocracy-chromadb-local\"\n",
    "# model_name_or_path = os.environ.get(\"bigscience/bloom-3b\", \"all-mpnet-base-v2\")\n",
    "# encoder = SentenceTransformer(model_name_or_path='bigscience/bloom-3b')"
   ]
  },
  {
   "cell_type": "code",
   "execution_count": 23,
   "metadata": {
    "id": "18-prZMJFisk"
   },
   "outputs": [
    {
     "ename": "TypeError",
     "evalue": "HuggingFaceEmbeddings.embed_documents() missing 1 required positional argument: 'texts'",
     "output_type": "error",
     "traceback": [
      "\u001b[0;31m---------------------------------------------------------------------------\u001b[0m",
      "\u001b[0;31mTypeError\u001b[0m                                 Traceback (most recent call last)",
      "Cell \u001b[0;32mIn[23], line 1\u001b[0m\n\u001b[0;32m----> 1\u001b[0m vec_store \u001b[38;5;241m=\u001b[39m Chroma\u001b[38;5;241m.\u001b[39mfrom_documents(split_docs, embeddings, persist_directory\u001b[38;5;241m=\u001b[39mpersist_directory)\n",
      "File \u001b[0;32m~/miniconda3/envs/us-congress/lib/python3.11/site-packages/langchain/vectorstores/chroma.py:446\u001b[0m, in \u001b[0;36mChroma.from_documents\u001b[0;34m(cls, documents, embedding, ids, collection_name, persist_directory, client_settings, client, **kwargs)\u001b[0m\n\u001b[1;32m    444\u001b[0m texts \u001b[38;5;241m=\u001b[39m [doc\u001b[38;5;241m.\u001b[39mpage_content \u001b[38;5;28;01mfor\u001b[39;00m doc \u001b[38;5;129;01min\u001b[39;00m documents]\n\u001b[1;32m    445\u001b[0m metadatas \u001b[38;5;241m=\u001b[39m [doc\u001b[38;5;241m.\u001b[39mmetadata \u001b[38;5;28;01mfor\u001b[39;00m doc \u001b[38;5;129;01min\u001b[39;00m documents]\n\u001b[0;32m--> 446\u001b[0m \u001b[38;5;28;01mreturn\u001b[39;00m \u001b[38;5;28mcls\u001b[39m\u001b[38;5;241m.\u001b[39mfrom_texts(\n\u001b[1;32m    447\u001b[0m     texts\u001b[38;5;241m=\u001b[39mtexts,\n\u001b[1;32m    448\u001b[0m     embedding\u001b[38;5;241m=\u001b[39membedding,\n\u001b[1;32m    449\u001b[0m     metadatas\u001b[38;5;241m=\u001b[39mmetadatas,\n\u001b[1;32m    450\u001b[0m     ids\u001b[38;5;241m=\u001b[39mids,\n\u001b[1;32m    451\u001b[0m     collection_name\u001b[38;5;241m=\u001b[39mcollection_name,\n\u001b[1;32m    452\u001b[0m     persist_directory\u001b[38;5;241m=\u001b[39mpersist_directory,\n\u001b[1;32m    453\u001b[0m     client_settings\u001b[38;5;241m=\u001b[39mclient_settings,\n\u001b[1;32m    454\u001b[0m     client\u001b[38;5;241m=\u001b[39mclient,\n\u001b[1;32m    455\u001b[0m )\n",
      "File \u001b[0;32m~/miniconda3/envs/us-congress/lib/python3.11/site-packages/langchain/vectorstores/chroma.py:414\u001b[0m, in \u001b[0;36mChroma.from_texts\u001b[0;34m(cls, texts, embedding, metadatas, ids, collection_name, persist_directory, client_settings, client, **kwargs)\u001b[0m\n\u001b[1;32m    390\u001b[0m \u001b[38;5;250m\u001b[39m\u001b[38;5;124;03m\"\"\"Create a Chroma vectorstore from a raw documents.\u001b[39;00m\n\u001b[1;32m    391\u001b[0m \n\u001b[1;32m    392\u001b[0m \u001b[38;5;124;03mIf a persist_directory is specified, the collection will be persisted there.\u001b[39;00m\n\u001b[0;32m   (...)\u001b[0m\n\u001b[1;32m    405\u001b[0m \u001b[38;5;124;03m    Chroma: Chroma vectorstore.\u001b[39;00m\n\u001b[1;32m    406\u001b[0m \u001b[38;5;124;03m\"\"\"\u001b[39;00m\n\u001b[1;32m    407\u001b[0m chroma_collection \u001b[38;5;241m=\u001b[39m \u001b[38;5;28mcls\u001b[39m(\n\u001b[1;32m    408\u001b[0m     collection_name\u001b[38;5;241m=\u001b[39mcollection_name,\n\u001b[1;32m    409\u001b[0m     embedding_function\u001b[38;5;241m=\u001b[39membedding,\n\u001b[0;32m   (...)\u001b[0m\n\u001b[1;32m    412\u001b[0m     client\u001b[38;5;241m=\u001b[39mclient,\n\u001b[1;32m    413\u001b[0m )\n\u001b[0;32m--> 414\u001b[0m chroma_collection\u001b[38;5;241m.\u001b[39madd_texts(texts\u001b[38;5;241m=\u001b[39mtexts, metadatas\u001b[38;5;241m=\u001b[39mmetadatas, ids\u001b[38;5;241m=\u001b[39mids)\n\u001b[1;32m    415\u001b[0m \u001b[38;5;28;01mreturn\u001b[39;00m chroma_collection\n",
      "File \u001b[0;32m~/miniconda3/envs/us-congress/lib/python3.11/site-packages/langchain/vectorstores/chroma.py:159\u001b[0m, in \u001b[0;36mChroma.add_texts\u001b[0;34m(self, texts, metadatas, ids, **kwargs)\u001b[0m\n\u001b[1;32m    157\u001b[0m embeddings \u001b[38;5;241m=\u001b[39m \u001b[38;5;28;01mNone\u001b[39;00m\n\u001b[1;32m    158\u001b[0m \u001b[38;5;28;01mif\u001b[39;00m \u001b[38;5;28mself\u001b[39m\u001b[38;5;241m.\u001b[39m_embedding_function \u001b[38;5;129;01mis\u001b[39;00m \u001b[38;5;129;01mnot\u001b[39;00m \u001b[38;5;28;01mNone\u001b[39;00m:\n\u001b[0;32m--> 159\u001b[0m     embeddings \u001b[38;5;241m=\u001b[39m \u001b[38;5;28mself\u001b[39m\u001b[38;5;241m.\u001b[39m_embedding_function\u001b[38;5;241m.\u001b[39membed_documents(\u001b[38;5;28mlist\u001b[39m(texts))\n\u001b[1;32m    160\u001b[0m \u001b[38;5;28mself\u001b[39m\u001b[38;5;241m.\u001b[39m_collection\u001b[38;5;241m.\u001b[39madd(\n\u001b[1;32m    161\u001b[0m     metadatas\u001b[38;5;241m=\u001b[39mmetadatas, embeddings\u001b[38;5;241m=\u001b[39membeddings, documents\u001b[38;5;241m=\u001b[39mtexts, ids\u001b[38;5;241m=\u001b[39mids\n\u001b[1;32m    162\u001b[0m )\n\u001b[1;32m    163\u001b[0m \u001b[38;5;28;01mreturn\u001b[39;00m ids\n",
      "\u001b[0;31mTypeError\u001b[0m: HuggingFaceEmbeddings.embed_documents() missing 1 required positional argument: 'texts'"
     ]
    }
   ],
   "source": [
    "vec_store = Chroma.from_documents(split_docs, embeddings, persist_directory=persist_directory)"
   ]
  },
  {
   "cell_type": "code",
   "execution_count": null,
   "metadata": {
    "id": "Y8wCr8FuFnUf"
   },
   "outputs": [],
   "source": [
    "vec_store"
   ]
  },
  {
   "cell_type": "markdown",
   "metadata": {},
   "source": [
    "## Save vectorstore to disk"
   ]
  },
  {
   "cell_type": "code",
   "execution_count": null,
   "metadata": {},
   "outputs": [],
   "source": [
    "vec_store.persist()"
   ]
  },
  {
   "cell_type": "markdown",
   "metadata": {},
   "source": [
    "## Reload vectorstore from disk"
   ]
  },
  {
   "cell_type": "code",
   "execution_count": null,
   "metadata": {},
   "outputs": [],
   "source": [
    "vec_store = None\n",
    "vec_store = Chroma(persist_directory=persist_directory, embedding_function=embeddings)"
   ]
  },
  {
   "cell_type": "code",
   "execution_count": null,
   "metadata": {},
   "outputs": [],
   "source": [
    "vec_store"
   ]
  },
  {
   "cell_type": "code",
   "execution_count": null,
   "metadata": {
    "id": "dl4Zh4V5FqEM"
   },
   "outputs": [],
   "source": [
    "ret_docs = vec_store.similarity_search_with_score(\n",
    "    \"nuclear power\", \n",
    "    k=5, \n",
    "    filter={\"source\": \"https://www.congress.gov/bill/118th-congress/house-concurrent-resolution/17\"},\n",
    ")\n",
    "\n",
    "print(\"number of returned docs: \", len(ret_docs))\n",
    "for doc in ret_docs:\n",
    "    print(doc)"
   ]
  },
  {
   "cell_type": "markdown",
   "metadata": {
    "id": "Bdr41mxrb-rn"
   },
   "source": [
    "# Part 3 - Build A RetrievalQA Chain"
   ]
  },
  {
   "cell_type": "code",
   "execution_count": null,
   "metadata": {},
   "outputs": [],
   "source": [
    "import langchain\n",
    "langchain.verbose = False"
   ]
  },
  {
   "cell_type": "code",
   "execution_count": null,
   "metadata": {
    "id": "1bllOTmFfWdS"
   },
   "outputs": [],
   "source": [
    "from langchain.chains import RetrievalQA\n",
    "from langchain.chains import RetrievalQAWithSourcesChain\n",
    "from langchain.llms import OpenAI\n",
    "from langchain.chat_models import ChatOpenAI\n",
    "\n",
    "# base classes to examine\n",
    "from langchain.vectorstores.base import VectorStore\n",
    "from langchain.schema import BaseRetriever"
   ]
  },
  {
   "cell_type": "markdown",
   "metadata": {},
   "source": [
    "## Create a Retriever from Chroma VectorStore"
   ]
  },
  {
   "cell_type": "code",
   "execution_count": null,
   "metadata": {
    "id": "vBt_jRxmF94T"
   },
   "outputs": [],
   "source": [
    "retriever = vec_store.as_retriever(search_kwargs={'k':10})"
   ]
  },
  {
   "cell_type": "code",
   "execution_count": null,
   "metadata": {},
   "outputs": [],
   "source": [
    "vec_store"
   ]
  },
  {
   "cell_type": "code",
   "execution_count": null,
   "metadata": {
    "id": "9ODHd9ltGQlq"
   },
   "outputs": [],
   "source": [
    "retriever"
   ]
  },
  {
   "cell_type": "markdown",
   "metadata": {},
   "source": [
    "## Choose an LLM\n",
    "\n",
    "With LangChain we can use a text completion model or a chat model for QA."
   ]
  },
  {
   "cell_type": "code",
   "execution_count": null,
   "metadata": {},
   "outputs": [],
   "source": [
    "from langchain import HuggingFacePipeline\n",
    "llm = HuggingFacePipeline.from_model_id(\n",
    "    model_id=\"bigscience/bloom-3b\",\n",
    "    task=\"text-generation\",\n",
    "    model_kwargs={ \"temperature\": 0, \"max_length\": 64 }\n",
    ")"
   ]
  },
  {
   "cell_type": "code",
   "execution_count": null,
   "metadata": {},
   "outputs": [],
   "source": [
    "llm"
   ]
  },
  {
   "cell_type": "code",
   "execution_count": null,
   "metadata": {
    "id": "kPEKaYi3GmE1"
   },
   "outputs": [],
   "source": [
    "# create a RetrievalQA Chain\n",
    "qa = RetrievalQA.from_chain_type(\n",
    "    llm=llm,\n",
    "    chain_type=\"stuff\", \n",
    "    retriever=retriever, \n",
    "    return_source_documents=True,\n",
    ")"
   ]
  },
  {
   "cell_type": "code",
   "execution_count": null,
   "metadata": {},
   "outputs": [],
   "source": [
    "answer = qa(\"What is the solution to climate change?\")"
   ]
  },
  {
   "cell_type": "code",
   "execution_count": null,
   "metadata": {},
   "outputs": [],
   "source": [
    "answer.keys()"
   ]
  },
  {
   "cell_type": "code",
   "execution_count": null,
   "metadata": {},
   "outputs": [],
   "source": [
    "print(answer['query'])"
   ]
  },
  {
   "cell_type": "code",
   "execution_count": null,
   "metadata": {},
   "outputs": [],
   "source": [
    "print(answer['result'])"
   ]
  },
  {
   "cell_type": "code",
   "execution_count": null,
   "metadata": {},
   "outputs": [],
   "source": [
    "# because we set `return_source_documents=True` and k=10\n",
    "# we can see the 10 document chunks that were returned\n",
    "print(answer['source_documents'])"
   ]
  },
  {
   "cell_type": "markdown",
   "metadata": {},
   "source": [
    "## Activity\n",
    "\n",
    "* what are the components of the RetrievalQA chain?\n",
    "* what is the QA prompt?\n",
    "* how would you modify the QA prompt?\n",
    "* what is the difference between the following qa chain types?,\n",
    "    * stuff\n",
    "    * map_reduce\n",
    "    * map_rerank\n",
    "    * refine\n",
    " \n",
    "## Resources\n",
    "\n",
    "* https://python.langchain.com/docs/modules/chains/document/"
   ]
  },
  {
   "cell_type": "code",
   "execution_count": null,
   "metadata": {},
   "outputs": [],
   "source": [
    "# print(qa)"
   ]
  },
  {
   "cell_type": "code",
   "execution_count": null,
   "metadata": {},
   "outputs": [],
   "source": [
    "from langchain.chains.combine_documents.base import BaseCombineDocumentsChain"
   ]
  },
  {
   "cell_type": "code",
   "execution_count": null,
   "metadata": {},
   "outputs": [],
   "source": [
    "BaseCombineDocumentsChain?"
   ]
  },
  {
   "cell_type": "markdown",
   "metadata": {},
   "source": [
    "## CombineDocumentChains\n",
    "\n",
    "* https://python.langchain.com/docs/modules/chains/document/stuff\n",
    "* https://python.langchain.com/docs/modules/chains/document/refine\n",
    "* https://python.langchain.com/docs/modules/chains/document/map_reduce\n",
    "* https://python.langchain.com/docs/modules/chains/document/map_rerank"
   ]
  },
  {
   "cell_type": "markdown",
   "metadata": {
    "id": "8MdA3SOznZkm"
   },
   "source": [
    "## Examine the RetrievalQA Prompt \n",
    "\n",
    "Note that the prompt template used will depend on the choice of LLM (text completion vs chat). "
   ]
  },
  {
   "cell_type": "code",
   "execution_count": null,
   "metadata": {
    "id": "zhmxZhEIbbpR"
   },
   "outputs": [],
   "source": [
    "prompt_template = qa.combine_documents_chain.llm_chain.prompt\n",
    "print(prompt_template)"
   ]
  },
  {
   "cell_type": "markdown",
   "metadata": {
    "id": "cR-f8EBgjwOi"
   },
   "source": [
    "# Part 4 - Create a RetrievalQAWithSourcesChain\n",
    "\n",
    "Now we will do the same thing using a chain that provides sources in the generated answer."
   ]
  },
  {
   "cell_type": "code",
   "execution_count": null,
   "metadata": {
    "id": "1GDnvwb2jzxy"
   },
   "outputs": [],
   "source": [
    "qaws = RetrievalQAWithSourcesChain.from_chain_type(\n",
    "    llm=llm, \n",
    "    chain_type=\"stuff\", \n",
    "    retriever=retriever, \n",
    "    return_source_documents=True,\n",
    ")"
   ]
  },
  {
   "cell_type": "code",
   "execution_count": null,
   "metadata": {
    "id": "wwOMdmEmj5qE"
   },
   "outputs": [],
   "source": [
    "answer = qaws(\"What is the solution to climate change?\")"
   ]
  },
  {
   "cell_type": "code",
   "execution_count": null,
   "metadata": {
    "id": "tGtEw6NVj_nj"
   },
   "outputs": [],
   "source": [
    "answer.keys()"
   ]
  },
  {
   "cell_type": "code",
   "execution_count": null,
   "metadata": {},
   "outputs": [],
   "source": [
    "print(answer['question'])"
   ]
  },
  {
   "cell_type": "code",
   "execution_count": null,
   "metadata": {},
   "outputs": [],
   "source": [
    "print(answer['answer'])"
   ]
  },
  {
   "cell_type": "code",
   "execution_count": null,
   "metadata": {},
   "outputs": [],
   "source": [
    "print(answer['sources'])"
   ]
  },
  {
   "cell_type": "code",
   "execution_count": null,
   "metadata": {
    "id": "flHelL8nkLEy"
   },
   "outputs": [],
   "source": [
    "print(answer['source_documents'])"
   ]
  },
  {
   "cell_type": "markdown",
   "metadata": {},
   "source": [
    "## Activity \n",
    "\n",
    "* In this example, all of the returned document chunks came from one original document (118HCONRES37). What can be done to encourage a more diverse set of documents?\n",
    "* What prompt is used? "
   ]
  },
  {
   "cell_type": "code",
   "execution_count": null,
   "metadata": {
    "id": "eIBbG6f6BFC5"
   },
   "outputs": [],
   "source": [
    "pt = qaws.combine_documents_chain.llm_chain.prompt"
   ]
  },
  {
   "cell_type": "code",
   "execution_count": null,
   "metadata": {
    "id": "B90CgFIDBDmM"
   },
   "outputs": [],
   "source": [
    "print(pt.format(summaries='[SUMMARIES]', question='[QUESTION]'))"
   ]
  },
  {
   "cell_type": "code",
   "execution_count": null,
   "metadata": {
    "id": "qxLyw-PlJIMQ"
   },
   "outputs": [],
   "source": []
  }
 ],
 "metadata": {
  "colab": {
   "include_colab_link": true,
   "provenance": []
  },
  "kernelspec": {
   "display_name": "Python 3 (ipykernel)",
   "language": "python",
   "name": "python3"
  },
  "language_info": {
   "codemirror_mode": {
    "name": "ipython",
    "version": 3
   },
   "file_extension": ".py",
   "mimetype": "text/x-python",
   "name": "python",
   "nbconvert_exporter": "python",
   "pygments_lexer": "ipython3",
   "version": "3.11.3"
  }
 },
 "nbformat": 4,
 "nbformat_minor": 4
}
