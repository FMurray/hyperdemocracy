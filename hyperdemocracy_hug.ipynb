{
 "cells": [
  {
   "cell_type": "markdown",
   "metadata": {
    "colab_type": "text",
    "id": "view-in-github"
   },
   "source": [
    "<a href=\"https://colab.research.google.com/github/FMurray/hyperdemocracy/blob/main/hyper_democracy_v2.ipynb\" target=\"_parent\"><img src=\"https://colab.research.google.com/assets/colab-badge.svg\" alt=\"Open In Colab\"/></a>"
   ]
  },
  {
   "cell_type": "markdown",
   "metadata": {
    "id": "KkXxD28y6u2w"
   },
   "source": [
    "# Install Dependencies"
   ]
  },
  {
   "cell_type": "code",
   "execution_count": 1,
   "metadata": {},
   "outputs": [
    {
     "name": "stdout",
     "output_type": "stream",
     "text": [
      "Requirement already satisfied: jupyter-book==0.15.1 in /home/calliope/miniconda3/envs/us-congress/lib/python3.11/site-packages (from -r requirements.txt (line 1)) (0.15.1)\n",
      "Requirement already satisfied: datasets in /home/calliope/miniconda3/envs/us-congress/lib/python3.11/site-packages (from -r requirements.txt (line 2)) (2.12.0)\n",
      "Requirement already satisfied: langchain==0.0.203 in /home/calliope/miniconda3/envs/us-congress/lib/python3.11/site-packages (from -r requirements.txt (line 3)) (0.0.203)\n",
      "Requirement already satisfied: chromadb in /home/calliope/miniconda3/envs/us-congress/lib/python3.11/site-packages (from -r requirements.txt (line 4)) (0.3.26)\n",
      "Requirement already satisfied: openai[embeddings] in /home/calliope/miniconda3/envs/us-congress/lib/python3.11/site-packages (from -r requirements.txt (line 5)) (0.27.8)\n",
      "Requirement already satisfied: sentence-transformers in /home/calliope/miniconda3/envs/us-congress/lib/python3.11/site-packages (from -r requirements.txt (line 6)) (2.2.2)\n",
      "Requirement already satisfied: tiktoken in /home/calliope/miniconda3/envs/us-congress/lib/python3.11/site-packages (from -r requirements.txt (line 7)) (0.4.0)\n",
      "Requirement already satisfied: rich in /home/calliope/miniconda3/envs/us-congress/lib/python3.11/site-packages (from -r requirements.txt (line 8)) (13.4.2)\n",
      "Requirement already satisfied: networkx in /home/calliope/miniconda3/envs/us-congress/lib/python3.11/site-packages (from -r requirements.txt (line 9)) (3.1)\n",
      "Requirement already satisfied: python-dotenv in /home/calliope/.local/lib/python3.11/site-packages (from -r requirements.txt (line 10)) (1.0.0)\n",
      "Requirement already satisfied: click<9,>=7.1 in /home/calliope/miniconda3/envs/us-congress/lib/python3.11/site-packages (from jupyter-book==0.15.1->-r requirements.txt (line 1)) (8.1.3)\n",
      "Requirement already satisfied: docutils<0.19,>=0.15 in /home/calliope/miniconda3/envs/us-congress/lib/python3.11/site-packages (from jupyter-book==0.15.1->-r requirements.txt (line 1)) (0.18.1)\n",
      "Requirement already satisfied: Jinja2 in /home/calliope/miniconda3/envs/us-congress/lib/python3.11/site-packages (from jupyter-book==0.15.1->-r requirements.txt (line 1)) (3.1.2)\n",
      "Requirement already satisfied: jsonschema<5 in /home/calliope/miniconda3/envs/us-congress/lib/python3.11/site-packages (from jupyter-book==0.15.1->-r requirements.txt (line 1)) (4.17.3)\n",
      "Requirement already satisfied: linkify-it-py~=2.0.0 in /home/calliope/miniconda3/envs/us-congress/lib/python3.11/site-packages (from jupyter-book==0.15.1->-r requirements.txt (line 1)) (2.0.2)\n",
      "Requirement already satisfied: myst-nb~=0.17.1 in /home/calliope/miniconda3/envs/us-congress/lib/python3.11/site-packages (from jupyter-book==0.15.1->-r requirements.txt (line 1)) (0.17.2)\n",
      "Requirement already satisfied: pyyaml in /home/calliope/miniconda3/envs/us-congress/lib/python3.11/site-packages (from jupyter-book==0.15.1->-r requirements.txt (line 1)) (6.0)\n",
      "Requirement already satisfied: sphinx<6,>=4 in /home/calliope/miniconda3/envs/us-congress/lib/python3.11/site-packages (from jupyter-book==0.15.1->-r requirements.txt (line 1)) (5.0.2)\n",
      "Requirement already satisfied: sphinx-comments in /home/calliope/miniconda3/envs/us-congress/lib/python3.11/site-packages (from jupyter-book==0.15.1->-r requirements.txt (line 1)) (0.0.3)\n",
      "Requirement already satisfied: sphinx-copybutton in /home/calliope/miniconda3/envs/us-congress/lib/python3.11/site-packages (from jupyter-book==0.15.1->-r requirements.txt (line 1)) (0.5.2)\n",
      "Requirement already satisfied: sphinx-external-toc~=0.3.1 in /home/calliope/miniconda3/envs/us-congress/lib/python3.11/site-packages (from jupyter-book==0.15.1->-r requirements.txt (line 1)) (0.3.1)\n",
      "Requirement already satisfied: sphinx-jupyterbook-latex~=0.5.2 in /home/calliope/miniconda3/envs/us-congress/lib/python3.11/site-packages (from jupyter-book==0.15.1->-r requirements.txt (line 1)) (0.5.2)\n",
      "Requirement already satisfied: sphinx-design~=0.3.0 in /home/calliope/miniconda3/envs/us-congress/lib/python3.11/site-packages (from jupyter-book==0.15.1->-r requirements.txt (line 1)) (0.3.0)\n",
      "Requirement already satisfied: sphinx-thebe~=0.2.0 in /home/calliope/miniconda3/envs/us-congress/lib/python3.11/site-packages (from jupyter-book==0.15.1->-r requirements.txt (line 1)) (0.2.1)\n",
      "Requirement already satisfied: sphinx-book-theme~=1.0.0 in /home/calliope/miniconda3/envs/us-congress/lib/python3.11/site-packages (from jupyter-book==0.15.1->-r requirements.txt (line 1)) (1.0.1)\n",
      "Requirement already satisfied: sphinx_togglebutton in /home/calliope/miniconda3/envs/us-congress/lib/python3.11/site-packages (from jupyter-book==0.15.1->-r requirements.txt (line 1)) (0.3.2)\n",
      "Requirement already satisfied: sphinxcontrib-bibtex<=2.5.0,>=2.2.0 in /home/calliope/miniconda3/envs/us-congress/lib/python3.11/site-packages (from jupyter-book==0.15.1->-r requirements.txt (line 1)) (2.5.0)\n",
      "Requirement already satisfied: sphinx-multitoc-numbering~=0.1.3 in /home/calliope/miniconda3/envs/us-congress/lib/python3.11/site-packages (from jupyter-book==0.15.1->-r requirements.txt (line 1)) (0.1.3)\n",
      "Requirement already satisfied: SQLAlchemy<3,>=1.4 in /home/calliope/miniconda3/envs/us-congress/lib/python3.11/site-packages (from langchain==0.0.203->-r requirements.txt (line 3)) (2.0.16)\n",
      "Requirement already satisfied: aiohttp<4.0.0,>=3.8.3 in /home/calliope/miniconda3/envs/us-congress/lib/python3.11/site-packages (from langchain==0.0.203->-r requirements.txt (line 3)) (3.8.4)\n",
      "Requirement already satisfied: dataclasses-json<0.6.0,>=0.5.7 in /home/calliope/miniconda3/envs/us-congress/lib/python3.11/site-packages (from langchain==0.0.203->-r requirements.txt (line 3)) (0.5.8)\n",
      "Requirement already satisfied: langchainplus-sdk>=0.0.9 in /home/calliope/miniconda3/envs/us-congress/lib/python3.11/site-packages (from langchain==0.0.203->-r requirements.txt (line 3)) (0.0.16)\n",
      "Requirement already satisfied: numexpr<3.0.0,>=2.8.4 in /home/calliope/miniconda3/envs/us-congress/lib/python3.11/site-packages (from langchain==0.0.203->-r requirements.txt (line 3)) (2.8.4)\n",
      "Requirement already satisfied: numpy<2,>=1 in /home/calliope/miniconda3/envs/us-congress/lib/python3.11/site-packages (from langchain==0.0.203->-r requirements.txt (line 3)) (1.24.3)\n",
      "Requirement already satisfied: openapi-schema-pydantic<2.0,>=1.2 in /home/calliope/miniconda3/envs/us-congress/lib/python3.11/site-packages (from langchain==0.0.203->-r requirements.txt (line 3)) (1.2.4)\n",
      "Requirement already satisfied: pydantic<2,>=1 in /home/calliope/miniconda3/envs/us-congress/lib/python3.11/site-packages (from langchain==0.0.203->-r requirements.txt (line 3)) (1.10.9)\n",
      "Requirement already satisfied: requests<3,>=2 in /home/calliope/miniconda3/envs/us-congress/lib/python3.11/site-packages (from langchain==0.0.203->-r requirements.txt (line 3)) (2.31.0)\n",
      "Requirement already satisfied: tenacity<9.0.0,>=8.1.0 in /home/calliope/miniconda3/envs/us-congress/lib/python3.11/site-packages (from langchain==0.0.203->-r requirements.txt (line 3)) (8.2.2)\n",
      "Requirement already satisfied: pyarrow>=8.0.0 in /home/calliope/miniconda3/envs/us-congress/lib/python3.11/site-packages (from datasets->-r requirements.txt (line 2)) (12.0.0)\n",
      "Requirement already satisfied: dill<0.3.7,>=0.3.0 in /home/calliope/miniconda3/envs/us-congress/lib/python3.11/site-packages (from datasets->-r requirements.txt (line 2)) (0.3.6)\n",
      "Requirement already satisfied: pandas in /home/calliope/miniconda3/envs/us-congress/lib/python3.11/site-packages (from datasets->-r requirements.txt (line 2)) (2.0.1)\n",
      "Requirement already satisfied: tqdm>=4.62.1 in /home/calliope/miniconda3/envs/us-congress/lib/python3.11/site-packages (from datasets->-r requirements.txt (line 2)) (4.65.0)\n",
      "Requirement already satisfied: xxhash in /home/calliope/miniconda3/envs/us-congress/lib/python3.11/site-packages (from datasets->-r requirements.txt (line 2)) (3.2.0)\n",
      "Requirement already satisfied: multiprocess in /home/calliope/miniconda3/envs/us-congress/lib/python3.11/site-packages (from datasets->-r requirements.txt (line 2)) (0.70.14)\n",
      "Requirement already satisfied: fsspec[http]>=2021.11.1 in /home/calliope/miniconda3/envs/us-congress/lib/python3.11/site-packages (from datasets->-r requirements.txt (line 2)) (2023.5.0)\n",
      "Requirement already satisfied: huggingface-hub<1.0.0,>=0.11.0 in /home/calliope/miniconda3/envs/us-congress/lib/python3.11/site-packages (from datasets->-r requirements.txt (line 2)) (0.14.1)\n",
      "Requirement already satisfied: packaging in /home/calliope/miniconda3/envs/us-congress/lib/python3.11/site-packages (from datasets->-r requirements.txt (line 2)) (23.1)\n",
      "Requirement already satisfied: responses<0.19 in /home/calliope/miniconda3/envs/us-congress/lib/python3.11/site-packages (from datasets->-r requirements.txt (line 2)) (0.18.0)\n",
      "Requirement already satisfied: hnswlib>=0.7 in /home/calliope/miniconda3/envs/us-congress/lib/python3.11/site-packages (from chromadb->-r requirements.txt (line 4)) (0.7.0)\n",
      "Requirement already satisfied: clickhouse-connect>=0.5.7 in /home/calliope/miniconda3/envs/us-congress/lib/python3.11/site-packages (from chromadb->-r requirements.txt (line 4)) (0.6.3)\n",
      "Requirement already satisfied: duckdb>=0.7.1 in /home/calliope/miniconda3/envs/us-congress/lib/python3.11/site-packages (from chromadb->-r requirements.txt (line 4)) (0.8.1)\n",
      "Requirement already satisfied: fastapi>=0.85.1 in /home/calliope/miniconda3/envs/us-congress/lib/python3.11/site-packages (from chromadb->-r requirements.txt (line 4)) (0.97.0)\n",
      "Requirement already satisfied: uvicorn[standard]>=0.18.3 in /home/calliope/miniconda3/envs/us-congress/lib/python3.11/site-packages (from chromadb->-r requirements.txt (line 4)) (0.22.0)\n",
      "Requirement already satisfied: posthog>=2.4.0 in /home/calliope/miniconda3/envs/us-congress/lib/python3.11/site-packages (from chromadb->-r requirements.txt (line 4)) (3.0.1)\n",
      "Requirement already satisfied: typing-extensions>=4.5.0 in /home/calliope/miniconda3/envs/us-congress/lib/python3.11/site-packages (from chromadb->-r requirements.txt (line 4)) (4.6.2)\n",
      "Requirement already satisfied: pulsar-client>=3.1.0 in /home/calliope/miniconda3/envs/us-congress/lib/python3.11/site-packages (from chromadb->-r requirements.txt (line 4)) (3.2.0)\n",
      "Requirement already satisfied: onnxruntime>=1.14.1 in /home/calliope/miniconda3/envs/us-congress/lib/python3.11/site-packages (from chromadb->-r requirements.txt (line 4)) (1.15.1)\n",
      "Requirement already satisfied: tokenizers>=0.13.2 in /home/calliope/miniconda3/envs/us-congress/lib/python3.11/site-packages (from chromadb->-r requirements.txt (line 4)) (0.13.3)\n",
      "Requirement already satisfied: overrides>=7.3.1 in /home/calliope/miniconda3/envs/us-congress/lib/python3.11/site-packages (from chromadb->-r requirements.txt (line 4)) (7.3.1)\n",
      "Requirement already satisfied: scikit-learn>=1.0.2 in /home/calliope/miniconda3/envs/us-congress/lib/python3.11/site-packages (from openai[embeddings]->-r requirements.txt (line 5)) (1.2.2)\n",
      "Requirement already satisfied: matplotlib in /home/calliope/miniconda3/envs/us-congress/lib/python3.11/site-packages (from openai[embeddings]->-r requirements.txt (line 5)) (3.7.1)\n",
      "Requirement already satisfied: plotly in /home/calliope/miniconda3/envs/us-congress/lib/python3.11/site-packages (from openai[embeddings]->-r requirements.txt (line 5)) (5.15.0)\n"
     ]
    },
    {
     "name": "stdout",
     "output_type": "stream",
     "text": [
      "Requirement already satisfied: scipy in /home/calliope/miniconda3/envs/us-congress/lib/python3.11/site-packages (from openai[embeddings]->-r requirements.txt (line 5)) (1.10.1)\n",
      "Requirement already satisfied: pandas-stubs>=1.1.0.11 in /home/calliope/miniconda3/envs/us-congress/lib/python3.11/site-packages (from openai[embeddings]->-r requirements.txt (line 5)) (2.0.2.230605)\n",
      "Requirement already satisfied: openpyxl>=3.0.7 in /home/calliope/miniconda3/envs/us-congress/lib/python3.11/site-packages (from openai[embeddings]->-r requirements.txt (line 5)) (3.1.2)\n",
      "Requirement already satisfied: transformers<5.0.0,>=4.6.0 in /home/calliope/miniconda3/envs/us-congress/lib/python3.11/site-packages (from sentence-transformers->-r requirements.txt (line 6)) (4.30.2)\n",
      "Requirement already satisfied: torch>=1.6.0 in /home/calliope/miniconda3/envs/us-congress/lib/python3.11/site-packages (from sentence-transformers->-r requirements.txt (line 6)) (2.0.1)\n",
      "Requirement already satisfied: torchvision in /home/calliope/miniconda3/envs/us-congress/lib/python3.11/site-packages (from sentence-transformers->-r requirements.txt (line 6)) (0.15.2)\n",
      "Requirement already satisfied: nltk in /home/calliope/miniconda3/envs/us-congress/lib/python3.11/site-packages (from sentence-transformers->-r requirements.txt (line 6)) (3.8.1)\n",
      "Requirement already satisfied: sentencepiece in /home/calliope/miniconda3/envs/us-congress/lib/python3.11/site-packages (from sentence-transformers->-r requirements.txt (line 6)) (0.1.99)\n",
      "Requirement already satisfied: regex>=2022.1.18 in /home/calliope/miniconda3/envs/us-congress/lib/python3.11/site-packages (from tiktoken->-r requirements.txt (line 7)) (2023.6.3)\n",
      "Requirement already satisfied: markdown-it-py>=2.2.0 in /home/calliope/miniconda3/envs/us-congress/lib/python3.11/site-packages (from rich->-r requirements.txt (line 8)) (2.2.0)\n",
      "Requirement already satisfied: pygments<3.0.0,>=2.13.0 in /home/calliope/miniconda3/envs/us-congress/lib/python3.11/site-packages (from rich->-r requirements.txt (line 8)) (2.15.1)\n",
      "Requirement already satisfied: attrs>=17.3.0 in /home/calliope/miniconda3/envs/us-congress/lib/python3.11/site-packages (from aiohttp<4.0.0,>=3.8.3->langchain==0.0.203->-r requirements.txt (line 3)) (23.1.0)\n",
      "Requirement already satisfied: charset-normalizer<4.0,>=2.0 in /home/calliope/miniconda3/envs/us-congress/lib/python3.11/site-packages (from aiohttp<4.0.0,>=3.8.3->langchain==0.0.203->-r requirements.txt (line 3)) (3.1.0)\n",
      "Requirement already satisfied: multidict<7.0,>=4.5 in /home/calliope/miniconda3/envs/us-congress/lib/python3.11/site-packages (from aiohttp<4.0.0,>=3.8.3->langchain==0.0.203->-r requirements.txt (line 3)) (6.0.4)\n",
      "Requirement already satisfied: async-timeout<5.0,>=4.0.0a3 in /home/calliope/miniconda3/envs/us-congress/lib/python3.11/site-packages (from aiohttp<4.0.0,>=3.8.3->langchain==0.0.203->-r requirements.txt (line 3)) (4.0.2)\n",
      "Requirement already satisfied: yarl<2.0,>=1.0 in /home/calliope/miniconda3/envs/us-congress/lib/python3.11/site-packages (from aiohttp<4.0.0,>=3.8.3->langchain==0.0.203->-r requirements.txt (line 3)) (1.9.2)\n",
      "Requirement already satisfied: frozenlist>=1.1.1 in /home/calliope/miniconda3/envs/us-congress/lib/python3.11/site-packages (from aiohttp<4.0.0,>=3.8.3->langchain==0.0.203->-r requirements.txt (line 3)) (1.3.3)\n",
      "Requirement already satisfied: aiosignal>=1.1.2 in /home/calliope/miniconda3/envs/us-congress/lib/python3.11/site-packages (from aiohttp<4.0.0,>=3.8.3->langchain==0.0.203->-r requirements.txt (line 3)) (1.3.1)\n",
      "Requirement already satisfied: certifi in /home/calliope/miniconda3/envs/us-congress/lib/python3.11/site-packages (from clickhouse-connect>=0.5.7->chromadb->-r requirements.txt (line 4)) (2023.5.7)\n",
      "Requirement already satisfied: urllib3>=1.26 in /home/calliope/miniconda3/envs/us-congress/lib/python3.11/site-packages (from clickhouse-connect>=0.5.7->chromadb->-r requirements.txt (line 4)) (2.0.2)\n",
      "Requirement already satisfied: pytz in /home/calliope/miniconda3/envs/us-congress/lib/python3.11/site-packages (from clickhouse-connect>=0.5.7->chromadb->-r requirements.txt (line 4)) (2023.3)\n",
      "Requirement already satisfied: zstandard in /home/calliope/miniconda3/envs/us-congress/lib/python3.11/site-packages (from clickhouse-connect>=0.5.7->chromadb->-r requirements.txt (line 4)) (0.21.0)\n",
      "Requirement already satisfied: lz4 in /home/calliope/miniconda3/envs/us-congress/lib/python3.11/site-packages (from clickhouse-connect>=0.5.7->chromadb->-r requirements.txt (line 4)) (4.3.2)\n",
      "Requirement already satisfied: marshmallow<4.0.0,>=3.3.0 in /home/calliope/miniconda3/envs/us-congress/lib/python3.11/site-packages (from dataclasses-json<0.6.0,>=0.5.7->langchain==0.0.203->-r requirements.txt (line 3)) (3.19.0)\n",
      "Requirement already satisfied: marshmallow-enum<2.0.0,>=1.5.1 in /home/calliope/miniconda3/envs/us-congress/lib/python3.11/site-packages (from dataclasses-json<0.6.0,>=0.5.7->langchain==0.0.203->-r requirements.txt (line 3)) (1.5.1)\n",
      "Requirement already satisfied: typing-inspect>=0.4.0 in /home/calliope/miniconda3/envs/us-congress/lib/python3.11/site-packages (from dataclasses-json<0.6.0,>=0.5.7->langchain==0.0.203->-r requirements.txt (line 3)) (0.9.0)\n",
      "Requirement already satisfied: starlette<0.28.0,>=0.27.0 in /home/calliope/miniconda3/envs/us-congress/lib/python3.11/site-packages (from fastapi>=0.85.1->chromadb->-r requirements.txt (line 4)) (0.27.0)\n",
      "Requirement already satisfied: filelock in /home/calliope/miniconda3/envs/us-congress/lib/python3.11/site-packages (from huggingface-hub<1.0.0,>=0.11.0->datasets->-r requirements.txt (line 2)) (3.12.0)\n",
      "Requirement already satisfied: pyrsistent!=0.17.0,!=0.17.1,!=0.17.2,>=0.14.0 in /home/calliope/miniconda3/envs/us-congress/lib/python3.11/site-packages (from jsonschema<5->jupyter-book==0.15.1->-r requirements.txt (line 1)) (0.19.3)\n",
      "Requirement already satisfied: uc-micro-py in /home/calliope/miniconda3/envs/us-congress/lib/python3.11/site-packages (from linkify-it-py~=2.0.0->jupyter-book==0.15.1->-r requirements.txt (line 1)) (1.0.2)\n",
      "Requirement already satisfied: mdurl~=0.1 in /home/calliope/miniconda3/envs/us-congress/lib/python3.11/site-packages (from markdown-it-py>=2.2.0->rich->-r requirements.txt (line 8)) (0.1.2)\n",
      "Requirement already satisfied: importlib_metadata in /home/calliope/miniconda3/envs/us-congress/lib/python3.11/site-packages (from myst-nb~=0.17.1->jupyter-book==0.15.1->-r requirements.txt (line 1)) (6.7.0)\n",
      "Requirement already satisfied: ipython in /home/calliope/miniconda3/envs/us-congress/lib/python3.11/site-packages (from myst-nb~=0.17.1->jupyter-book==0.15.1->-r requirements.txt (line 1)) (8.13.2)\n",
      "Requirement already satisfied: jupyter-cache<0.7,>=0.5 in /home/calliope/miniconda3/envs/us-congress/lib/python3.11/site-packages (from myst-nb~=0.17.1->jupyter-book==0.15.1->-r requirements.txt (line 1)) (0.6.1)\n",
      "Requirement already satisfied: nbclient in /home/calliope/miniconda3/envs/us-congress/lib/python3.11/site-packages (from myst-nb~=0.17.1->jupyter-book==0.15.1->-r requirements.txt (line 1)) (0.7.4)\n",
      "Requirement already satisfied: myst-parser~=0.18.0 in /home/calliope/miniconda3/envs/us-congress/lib/python3.11/site-packages (from myst-nb~=0.17.1->jupyter-book==0.15.1->-r requirements.txt (line 1)) (0.18.1)\n",
      "Requirement already satisfied: nbformat~=5.0 in /home/calliope/miniconda3/envs/us-congress/lib/python3.11/site-packages (from myst-nb~=0.17.1->jupyter-book==0.15.1->-r requirements.txt (line 1)) (5.8.0)\n",
      "Requirement already satisfied: ipykernel in /home/calliope/miniconda3/envs/us-congress/lib/python3.11/site-packages (from myst-nb~=0.17.1->jupyter-book==0.15.1->-r requirements.txt (line 1)) (6.23.1)\n",
      "Requirement already satisfied: coloredlogs in /home/calliope/miniconda3/envs/us-congress/lib/python3.11/site-packages (from onnxruntime>=1.14.1->chromadb->-r requirements.txt (line 4)) (15.0.1)\n",
      "Requirement already satisfied: flatbuffers in /home/calliope/miniconda3/envs/us-congress/lib/python3.11/site-packages (from onnxruntime>=1.14.1->chromadb->-r requirements.txt (line 4)) (23.5.26)\n",
      "Requirement already satisfied: protobuf in /home/calliope/miniconda3/envs/us-congress/lib/python3.11/site-packages (from onnxruntime>=1.14.1->chromadb->-r requirements.txt (line 4)) (4.23.3)\n",
      "Requirement already satisfied: sympy in /home/calliope/miniconda3/envs/us-congress/lib/python3.11/site-packages (from onnxruntime>=1.14.1->chromadb->-r requirements.txt (line 4)) (1.12)\n",
      "Requirement already satisfied: et-xmlfile in /home/calliope/miniconda3/envs/us-congress/lib/python3.11/site-packages (from openpyxl>=3.0.7->openai[embeddings]->-r requirements.txt (line 5)) (1.1.0)\n"
     ]
    },
    {
     "name": "stdout",
     "output_type": "stream",
     "text": [
      "Requirement already satisfied: python-dateutil>=2.8.2 in /home/calliope/miniconda3/envs/us-congress/lib/python3.11/site-packages (from pandas->datasets->-r requirements.txt (line 2)) (2.8.2)\n",
      "Requirement already satisfied: tzdata>=2022.1 in /home/calliope/miniconda3/envs/us-congress/lib/python3.11/site-packages (from pandas->datasets->-r requirements.txt (line 2)) (2023.3)\n",
      "Requirement already satisfied: types-pytz>=2022.1.1 in /home/calliope/miniconda3/envs/us-congress/lib/python3.11/site-packages (from pandas-stubs>=1.1.0.11->openai[embeddings]->-r requirements.txt (line 5)) (2023.3.0.0)\n",
      "Requirement already satisfied: six>=1.5 in /home/calliope/miniconda3/envs/us-congress/lib/python3.11/site-packages (from posthog>=2.4.0->chromadb->-r requirements.txt (line 4)) (1.16.0)\n",
      "Requirement already satisfied: monotonic>=1.5 in /home/calliope/miniconda3/envs/us-congress/lib/python3.11/site-packages (from posthog>=2.4.0->chromadb->-r requirements.txt (line 4)) (1.6)\n",
      "Requirement already satisfied: backoff>=1.10.0 in /home/calliope/miniconda3/envs/us-congress/lib/python3.11/site-packages (from posthog>=2.4.0->chromadb->-r requirements.txt (line 4)) (2.2.1)\n",
      "Requirement already satisfied: idna<4,>=2.5 in /home/calliope/miniconda3/envs/us-congress/lib/python3.11/site-packages (from requests<3,>=2->langchain==0.0.203->-r requirements.txt (line 3)) (3.4)\n",
      "Requirement already satisfied: joblib>=1.1.1 in /home/calliope/miniconda3/envs/us-congress/lib/python3.11/site-packages (from scikit-learn>=1.0.2->openai[embeddings]->-r requirements.txt (line 5)) (1.2.0)\n",
      "Requirement already satisfied: threadpoolctl>=2.0.0 in /home/calliope/miniconda3/envs/us-congress/lib/python3.11/site-packages (from scikit-learn>=1.0.2->openai[embeddings]->-r requirements.txt (line 5)) (3.1.0)\n",
      "Requirement already satisfied: sphinxcontrib-applehelp in /home/calliope/miniconda3/envs/us-congress/lib/python3.11/site-packages (from sphinx<6,>=4->jupyter-book==0.15.1->-r requirements.txt (line 1)) (1.0.4)\n",
      "Requirement already satisfied: sphinxcontrib-devhelp in /home/calliope/miniconda3/envs/us-congress/lib/python3.11/site-packages (from sphinx<6,>=4->jupyter-book==0.15.1->-r requirements.txt (line 1)) (1.0.2)\n",
      "Requirement already satisfied: sphinxcontrib-jsmath in /home/calliope/miniconda3/envs/us-congress/lib/python3.11/site-packages (from sphinx<6,>=4->jupyter-book==0.15.1->-r requirements.txt (line 1)) (1.0.1)\n",
      "Requirement already satisfied: sphinxcontrib-htmlhelp>=2.0.0 in /home/calliope/miniconda3/envs/us-congress/lib/python3.11/site-packages (from sphinx<6,>=4->jupyter-book==0.15.1->-r requirements.txt (line 1)) (2.0.1)\n",
      "Requirement already satisfied: sphinxcontrib-serializinghtml>=1.1.5 in /home/calliope/miniconda3/envs/us-congress/lib/python3.11/site-packages (from sphinx<6,>=4->jupyter-book==0.15.1->-r requirements.txt (line 1)) (1.1.5)\n",
      "Requirement already satisfied: sphinxcontrib-qthelp in /home/calliope/miniconda3/envs/us-congress/lib/python3.11/site-packages (from sphinx<6,>=4->jupyter-book==0.15.1->-r requirements.txt (line 1)) (1.0.3)\n",
      "Requirement already satisfied: snowballstemmer>=1.1 in /home/calliope/miniconda3/envs/us-congress/lib/python3.11/site-packages (from sphinx<6,>=4->jupyter-book==0.15.1->-r requirements.txt (line 1)) (2.2.0)\n",
      "Requirement already satisfied: babel>=1.3 in /home/calliope/miniconda3/envs/us-congress/lib/python3.11/site-packages (from sphinx<6,>=4->jupyter-book==0.15.1->-r requirements.txt (line 1)) (2.12.1)\n",
      "Requirement already satisfied: alabaster<0.8,>=0.7 in /home/calliope/miniconda3/envs/us-congress/lib/python3.11/site-packages (from sphinx<6,>=4->jupyter-book==0.15.1->-r requirements.txt (line 1)) (0.7.13)\n",
      "Requirement already satisfied: imagesize in /home/calliope/miniconda3/envs/us-congress/lib/python3.11/site-packages (from sphinx<6,>=4->jupyter-book==0.15.1->-r requirements.txt (line 1)) (1.4.1)\n",
      "Requirement already satisfied: MarkupSafe>=2.0 in /home/calliope/miniconda3/envs/us-congress/lib/python3.11/site-packages (from Jinja2->jupyter-book==0.15.1->-r requirements.txt (line 1)) (2.1.2)\n",
      "Requirement already satisfied: pydata-sphinx-theme>=0.13.3 in /home/calliope/miniconda3/envs/us-congress/lib/python3.11/site-packages (from sphinx-book-theme~=1.0.0->jupyter-book==0.15.1->-r requirements.txt (line 1)) (0.13.3)\n",
      "Requirement already satisfied: pybtex>=0.24 in /home/calliope/miniconda3/envs/us-congress/lib/python3.11/site-packages (from sphinxcontrib-bibtex<=2.5.0,>=2.2.0->jupyter-book==0.15.1->-r requirements.txt (line 1)) (0.24.0)\n",
      "Requirement already satisfied: pybtex-docutils>=1.0.0 in /home/calliope/miniconda3/envs/us-congress/lib/python3.11/site-packages (from sphinxcontrib-bibtex<=2.5.0,>=2.2.0->jupyter-book==0.15.1->-r requirements.txt (line 1)) (1.0.2)\n",
      "Requirement already satisfied: greenlet!=0.4.17 in /home/calliope/miniconda3/envs/us-congress/lib/python3.11/site-packages (from SQLAlchemy<3,>=1.4->langchain==0.0.203->-r requirements.txt (line 3)) (2.0.2)\n",
      "Requirement already satisfied: nvidia-cuda-nvrtc-cu11==11.7.99 in /home/calliope/miniconda3/envs/us-congress/lib/python3.11/site-packages (from torch>=1.6.0->sentence-transformers->-r requirements.txt (line 6)) (11.7.99)\n",
      "Requirement already satisfied: nvidia-cuda-runtime-cu11==11.7.99 in /home/calliope/miniconda3/envs/us-congress/lib/python3.11/site-packages (from torch>=1.6.0->sentence-transformers->-r requirements.txt (line 6)) (11.7.99)\n",
      "Requirement already satisfied: nvidia-cuda-cupti-cu11==11.7.101 in /home/calliope/miniconda3/envs/us-congress/lib/python3.11/site-packages (from torch>=1.6.0->sentence-transformers->-r requirements.txt (line 6)) (11.7.101)\n",
      "Requirement already satisfied: nvidia-cudnn-cu11==8.5.0.96 in /home/calliope/miniconda3/envs/us-congress/lib/python3.11/site-packages (from torch>=1.6.0->sentence-transformers->-r requirements.txt (line 6)) (8.5.0.96)\n",
      "Requirement already satisfied: nvidia-cublas-cu11==11.10.3.66 in /home/calliope/miniconda3/envs/us-congress/lib/python3.11/site-packages (from torch>=1.6.0->sentence-transformers->-r requirements.txt (line 6)) (11.10.3.66)\n",
      "Requirement already satisfied: nvidia-cufft-cu11==10.9.0.58 in /home/calliope/miniconda3/envs/us-congress/lib/python3.11/site-packages (from torch>=1.6.0->sentence-transformers->-r requirements.txt (line 6)) (10.9.0.58)\n",
      "Requirement already satisfied: nvidia-curand-cu11==10.2.10.91 in /home/calliope/miniconda3/envs/us-congress/lib/python3.11/site-packages (from torch>=1.6.0->sentence-transformers->-r requirements.txt (line 6)) (10.2.10.91)\n",
      "Requirement already satisfied: nvidia-cusolver-cu11==11.4.0.1 in /home/calliope/miniconda3/envs/us-congress/lib/python3.11/site-packages (from torch>=1.6.0->sentence-transformers->-r requirements.txt (line 6)) (11.4.0.1)\n",
      "Requirement already satisfied: nvidia-cusparse-cu11==11.7.4.91 in /home/calliope/miniconda3/envs/us-congress/lib/python3.11/site-packages (from torch>=1.6.0->sentence-transformers->-r requirements.txt (line 6)) (11.7.4.91)\n",
      "Requirement already satisfied: nvidia-nccl-cu11==2.14.3 in /home/calliope/miniconda3/envs/us-congress/lib/python3.11/site-packages (from torch>=1.6.0->sentence-transformers->-r requirements.txt (line 6)) (2.14.3)\n",
      "Requirement already satisfied: nvidia-nvtx-cu11==11.7.91 in /home/calliope/miniconda3/envs/us-congress/lib/python3.11/site-packages (from torch>=1.6.0->sentence-transformers->-r requirements.txt (line 6)) (11.7.91)\n",
      "Requirement already satisfied: triton==2.0.0 in /home/calliope/miniconda3/envs/us-congress/lib/python3.11/site-packages (from torch>=1.6.0->sentence-transformers->-r requirements.txt (line 6)) (2.0.0)\n",
      "Requirement already satisfied: setuptools in /home/calliope/miniconda3/envs/us-congress/lib/python3.11/site-packages (from nvidia-cublas-cu11==11.10.3.66->torch>=1.6.0->sentence-transformers->-r requirements.txt (line 6)) (66.0.0)\n",
      "Requirement already satisfied: wheel in /home/calliope/miniconda3/envs/us-congress/lib/python3.11/site-packages (from nvidia-cublas-cu11==11.10.3.66->torch>=1.6.0->sentence-transformers->-r requirements.txt (line 6)) (0.38.4)\n",
      "Requirement already satisfied: cmake in /home/calliope/miniconda3/envs/us-congress/lib/python3.11/site-packages (from triton==2.0.0->torch>=1.6.0->sentence-transformers->-r requirements.txt (line 6)) (3.26.4)\n",
      "Requirement already satisfied: lit in /home/calliope/miniconda3/envs/us-congress/lib/python3.11/site-packages (from triton==2.0.0->torch>=1.6.0->sentence-transformers->-r requirements.txt (line 6)) (16.0.6)\n"
     ]
    },
    {
     "name": "stdout",
     "output_type": "stream",
     "text": [
      "Requirement already satisfied: safetensors>=0.3.1 in /home/calliope/miniconda3/envs/us-congress/lib/python3.11/site-packages (from transformers<5.0.0,>=4.6.0->sentence-transformers->-r requirements.txt (line 6)) (0.3.1)\n",
      "Requirement already satisfied: h11>=0.8 in /home/calliope/miniconda3/envs/us-congress/lib/python3.11/site-packages (from uvicorn[standard]>=0.18.3->chromadb->-r requirements.txt (line 4)) (0.14.0)\n",
      "Requirement already satisfied: httptools>=0.5.0 in /home/calliope/miniconda3/envs/us-congress/lib/python3.11/site-packages (from uvicorn[standard]>=0.18.3->chromadb->-r requirements.txt (line 4)) (0.5.0)\n",
      "Requirement already satisfied: uvloop!=0.15.0,!=0.15.1,>=0.14.0 in /home/calliope/miniconda3/envs/us-congress/lib/python3.11/site-packages (from uvicorn[standard]>=0.18.3->chromadb->-r requirements.txt (line 4)) (0.17.0)\n",
      "Requirement already satisfied: watchfiles>=0.13 in /home/calliope/miniconda3/envs/us-congress/lib/python3.11/site-packages (from uvicorn[standard]>=0.18.3->chromadb->-r requirements.txt (line 4)) (0.19.0)\n",
      "Requirement already satisfied: websockets>=10.4 in /home/calliope/miniconda3/envs/us-congress/lib/python3.11/site-packages (from uvicorn[standard]>=0.18.3->chromadb->-r requirements.txt (line 4)) (11.0.3)\n",
      "Requirement already satisfied: contourpy>=1.0.1 in /home/calliope/miniconda3/envs/us-congress/lib/python3.11/site-packages (from matplotlib->openai[embeddings]->-r requirements.txt (line 5)) (1.1.0)\n",
      "Requirement already satisfied: cycler>=0.10 in /home/calliope/miniconda3/envs/us-congress/lib/python3.11/site-packages (from matplotlib->openai[embeddings]->-r requirements.txt (line 5)) (0.11.0)\n",
      "Requirement already satisfied: fonttools>=4.22.0 in /home/calliope/miniconda3/envs/us-congress/lib/python3.11/site-packages (from matplotlib->openai[embeddings]->-r requirements.txt (line 5)) (4.40.0)\n",
      "Requirement already satisfied: kiwisolver>=1.0.1 in /home/calliope/miniconda3/envs/us-congress/lib/python3.11/site-packages (from matplotlib->openai[embeddings]->-r requirements.txt (line 5)) (1.4.4)\n",
      "Requirement already satisfied: pillow>=6.2.0 in /home/calliope/miniconda3/envs/us-congress/lib/python3.11/site-packages (from matplotlib->openai[embeddings]->-r requirements.txt (line 5)) (9.5.0)\n",
      "Requirement already satisfied: pyparsing>=2.3.1 in /home/calliope/miniconda3/envs/us-congress/lib/python3.11/site-packages (from matplotlib->openai[embeddings]->-r requirements.txt (line 5)) (3.1.0)\n",
      "Requirement already satisfied: tabulate in /home/calliope/miniconda3/envs/us-congress/lib/python3.11/site-packages (from jupyter-cache<0.7,>=0.5->myst-nb~=0.17.1->jupyter-book==0.15.1->-r requirements.txt (line 1)) (0.9.0)\n",
      "Requirement already satisfied: mdit-py-plugins~=0.3.1 in /home/calliope/miniconda3/envs/us-congress/lib/python3.11/site-packages (from myst-parser~=0.18.0->myst-nb~=0.17.1->jupyter-book==0.15.1->-r requirements.txt (line 1)) (0.3.5)\n",
      "Requirement already satisfied: jupyter-client>=6.1.12 in /home/calliope/miniconda3/envs/us-congress/lib/python3.11/site-packages (from nbclient->myst-nb~=0.17.1->jupyter-book==0.15.1->-r requirements.txt (line 1)) (8.2.0)\n",
      "Requirement already satisfied: jupyter-core!=5.0.*,>=4.12 in /home/calliope/miniconda3/envs/us-congress/lib/python3.11/site-packages (from nbclient->myst-nb~=0.17.1->jupyter-book==0.15.1->-r requirements.txt (line 1)) (5.3.0)\n",
      "Requirement already satisfied: traitlets>=5.3 in /home/calliope/miniconda3/envs/us-congress/lib/python3.11/site-packages (from nbclient->myst-nb~=0.17.1->jupyter-book==0.15.1->-r requirements.txt (line 1)) (5.9.0)\n",
      "Requirement already satisfied: fastjsonschema in /home/calliope/miniconda3/envs/us-congress/lib/python3.11/site-packages (from nbformat~=5.0->myst-nb~=0.17.1->jupyter-book==0.15.1->-r requirements.txt (line 1)) (2.17.1)\n",
      "Requirement already satisfied: latexcodec>=1.0.4 in /home/calliope/miniconda3/envs/us-congress/lib/python3.11/site-packages (from pybtex>=0.24->sphinxcontrib-bibtex<=2.5.0,>=2.2.0->jupyter-book==0.15.1->-r requirements.txt (line 1)) (2.0.1)\n",
      "Requirement already satisfied: beautifulsoup4 in /home/calliope/miniconda3/envs/us-congress/lib/python3.11/site-packages (from pydata-sphinx-theme>=0.13.3->sphinx-book-theme~=1.0.0->jupyter-book==0.15.1->-r requirements.txt (line 1)) (4.12.2)\n",
      "Requirement already satisfied: accessible-pygments in /home/calliope/miniconda3/envs/us-congress/lib/python3.11/site-packages (from pydata-sphinx-theme>=0.13.3->sphinx-book-theme~=1.0.0->jupyter-book==0.15.1->-r requirements.txt (line 1)) (0.0.4)\n",
      "Requirement already satisfied: anyio<5,>=3.4.0 in /home/calliope/miniconda3/envs/us-congress/lib/python3.11/site-packages (from starlette<0.28.0,>=0.27.0->fastapi>=0.85.1->chromadb->-r requirements.txt (line 4)) (3.6.2)\n",
      "Requirement already satisfied: mypy-extensions>=0.3.0 in /home/calliope/miniconda3/envs/us-congress/lib/python3.11/site-packages (from typing-inspect>=0.4.0->dataclasses-json<0.6.0,>=0.5.7->langchain==0.0.203->-r requirements.txt (line 3)) (1.0.0)\n",
      "Requirement already satisfied: humanfriendly>=9.1 in /home/calliope/miniconda3/envs/us-congress/lib/python3.11/site-packages (from coloredlogs->onnxruntime>=1.14.1->chromadb->-r requirements.txt (line 4)) (10.0)\n",
      "Requirement already satisfied: zipp>=0.5 in /home/calliope/miniconda3/envs/us-congress/lib/python3.11/site-packages (from importlib_metadata->myst-nb~=0.17.1->jupyter-book==0.15.1->-r requirements.txt (line 1)) (3.15.0)\n",
      "Requirement already satisfied: comm>=0.1.1 in /home/calliope/miniconda3/envs/us-congress/lib/python3.11/site-packages (from ipykernel->myst-nb~=0.17.1->jupyter-book==0.15.1->-r requirements.txt (line 1)) (0.1.3)\n",
      "Requirement already satisfied: debugpy>=1.6.5 in /home/calliope/miniconda3/envs/us-congress/lib/python3.11/site-packages (from ipykernel->myst-nb~=0.17.1->jupyter-book==0.15.1->-r requirements.txt (line 1)) (1.6.7)\n",
      "Requirement already satisfied: matplotlib-inline>=0.1 in /home/calliope/miniconda3/envs/us-congress/lib/python3.11/site-packages (from ipykernel->myst-nb~=0.17.1->jupyter-book==0.15.1->-r requirements.txt (line 1)) (0.1.6)\n",
      "Requirement already satisfied: nest-asyncio in /home/calliope/miniconda3/envs/us-congress/lib/python3.11/site-packages (from ipykernel->myst-nb~=0.17.1->jupyter-book==0.15.1->-r requirements.txt (line 1)) (1.5.6)\n",
      "Requirement already satisfied: psutil in /home/calliope/miniconda3/envs/us-congress/lib/python3.11/site-packages (from ipykernel->myst-nb~=0.17.1->jupyter-book==0.15.1->-r requirements.txt (line 1)) (5.9.5)\n",
      "Requirement already satisfied: pyzmq>=20 in /home/calliope/miniconda3/envs/us-congress/lib/python3.11/site-packages (from ipykernel->myst-nb~=0.17.1->jupyter-book==0.15.1->-r requirements.txt (line 1)) (25.0.2)\n",
      "Requirement already satisfied: tornado>=6.1 in /home/calliope/miniconda3/envs/us-congress/lib/python3.11/site-packages (from ipykernel->myst-nb~=0.17.1->jupyter-book==0.15.1->-r requirements.txt (line 1)) (6.3.2)\n",
      "Requirement already satisfied: backcall in /home/calliope/miniconda3/envs/us-congress/lib/python3.11/site-packages (from ipython->myst-nb~=0.17.1->jupyter-book==0.15.1->-r requirements.txt (line 1)) (0.2.0)\n",
      "Requirement already satisfied: decorator in /home/calliope/miniconda3/envs/us-congress/lib/python3.11/site-packages (from ipython->myst-nb~=0.17.1->jupyter-book==0.15.1->-r requirements.txt (line 1)) (5.1.1)\n",
      "Requirement already satisfied: jedi>=0.16 in /home/calliope/miniconda3/envs/us-congress/lib/python3.11/site-packages (from ipython->myst-nb~=0.17.1->jupyter-book==0.15.1->-r requirements.txt (line 1)) (0.18.2)\n",
      "Requirement already satisfied: pickleshare in /home/calliope/miniconda3/envs/us-congress/lib/python3.11/site-packages (from ipython->myst-nb~=0.17.1->jupyter-book==0.15.1->-r requirements.txt (line 1)) (0.7.5)\n",
      "Requirement already satisfied: prompt-toolkit!=3.0.37,<3.1.0,>=3.0.30 in /home/calliope/miniconda3/envs/us-congress/lib/python3.11/site-packages (from ipython->myst-nb~=0.17.1->jupyter-book==0.15.1->-r requirements.txt (line 1)) (3.0.38)\n",
      "Requirement already satisfied: stack-data in /home/calliope/miniconda3/envs/us-congress/lib/python3.11/site-packages (from ipython->myst-nb~=0.17.1->jupyter-book==0.15.1->-r requirements.txt (line 1)) (0.6.2)\n",
      "Requirement already satisfied: pexpect>4.3 in /home/calliope/miniconda3/envs/us-congress/lib/python3.11/site-packages (from ipython->myst-nb~=0.17.1->jupyter-book==0.15.1->-r requirements.txt (line 1)) (4.8.0)\n"
     ]
    },
    {
     "name": "stdout",
     "output_type": "stream",
     "text": [
      "Requirement already satisfied: mpmath>=0.19 in /home/calliope/miniconda3/envs/us-congress/lib/python3.11/site-packages (from sympy->onnxruntime>=1.14.1->chromadb->-r requirements.txt (line 4)) (1.3.0)\n",
      "Requirement already satisfied: sniffio>=1.1 in /home/calliope/miniconda3/envs/us-congress/lib/python3.11/site-packages (from anyio<5,>=3.4.0->starlette<0.28.0,>=0.27.0->fastapi>=0.85.1->chromadb->-r requirements.txt (line 4)) (1.3.0)\n",
      "Requirement already satisfied: parso<0.9.0,>=0.8.0 in /home/calliope/miniconda3/envs/us-congress/lib/python3.11/site-packages (from jedi>=0.16->ipython->myst-nb~=0.17.1->jupyter-book==0.15.1->-r requirements.txt (line 1)) (0.8.3)\n",
      "Requirement already satisfied: platformdirs>=2.5 in /home/calliope/miniconda3/envs/us-congress/lib/python3.11/site-packages (from jupyter-core!=5.0.*,>=4.12->nbclient->myst-nb~=0.17.1->jupyter-book==0.15.1->-r requirements.txt (line 1)) (3.5.1)\n",
      "Requirement already satisfied: ptyprocess>=0.5 in /home/calliope/miniconda3/envs/us-congress/lib/python3.11/site-packages (from pexpect>4.3->ipython->myst-nb~=0.17.1->jupyter-book==0.15.1->-r requirements.txt (line 1)) (0.7.0)\n",
      "Requirement already satisfied: wcwidth in /home/calliope/miniconda3/envs/us-congress/lib/python3.11/site-packages (from prompt-toolkit!=3.0.37,<3.1.0,>=3.0.30->ipython->myst-nb~=0.17.1->jupyter-book==0.15.1->-r requirements.txt (line 1)) (0.2.6)\n",
      "Requirement already satisfied: soupsieve>1.2 in /home/calliope/miniconda3/envs/us-congress/lib/python3.11/site-packages (from beautifulsoup4->pydata-sphinx-theme>=0.13.3->sphinx-book-theme~=1.0.0->jupyter-book==0.15.1->-r requirements.txt (line 1)) (2.4.1)\n",
      "Requirement already satisfied: executing>=1.2.0 in /home/calliope/miniconda3/envs/us-congress/lib/python3.11/site-packages (from stack-data->ipython->myst-nb~=0.17.1->jupyter-book==0.15.1->-r requirements.txt (line 1)) (1.2.0)\n",
      "Requirement already satisfied: asttokens>=2.1.0 in /home/calliope/miniconda3/envs/us-congress/lib/python3.11/site-packages (from stack-data->ipython->myst-nb~=0.17.1->jupyter-book==0.15.1->-r requirements.txt (line 1)) (2.2.1)\n",
      "Requirement already satisfied: pure-eval in /home/calliope/miniconda3/envs/us-congress/lib/python3.11/site-packages (from stack-data->ipython->myst-nb~=0.17.1->jupyter-book==0.15.1->-r requirements.txt (line 1)) (0.2.2)\n"
     ]
    }
   ],
   "source": [
    "# if you are on a google colab, uncomment the lines below to fetch the requirements file and the hyperdemocracy.py module\n",
    "# and pip install the requirements\n",
    "\n",
    "#!wget https://raw.githubusercontent.com/FMurray/hyperdemocracy/main/requirements.txt\n",
    "#!wget https://raw.githubusercontent.com/FMurray/hyperdemocracy/main/hyperdemocracy.py\n",
    "!pip install -r requirements.txt"
   ]
  },
  {
   "cell_type": "code",
   "execution_count": 2,
   "metadata": {},
   "outputs": [],
   "source": [
    "import os\n",
    "import rich\n",
    "import time\n",
    "import tiktoken\n",
    "from tqdm import tqdm\n",
    "from transformers import AutoTokenizer\n",
    "from rich import print"
   ]
  },
  {
   "cell_type": "markdown",
   "metadata": {},
   "source": [
    "# Choose a Provider\n",
    "\n",
    "We have options for HuggingFace and OpenAI model providers in this notebook."
   ]
  },
  {
   "cell_type": "code",
   "execution_count": 3,
   "metadata": {},
   "outputs": [],
   "source": [
    "PROVIDER = \"HF\"  \n",
    "assert PROVIDER in [\"HF\", \"OPENAI\"]\n",
    "\n",
    "CONFIGS = {\n",
    "    \"HF\": {\n",
    "        \"embd\": \"sentence-transformers/all-mpnet-base-v2\",\n",
    "        \"llm\": \"google/flan-t5-large\",\n",
    "    },\n",
    "    \"OPENAI\": {\n",
    "        \"embd\": \"text-embedding-ada-002\",\n",
    "        \"llm\": \"gpt-3.5-turbo-16k\",\n",
    "    },\n",
    "}\n",
    "\n",
    "CONFIG = CONFIGS[PROVIDER]"
   ]
  },
  {
   "cell_type": "markdown",
   "metadata": {
    "id": "IRqdS7Elhfpl"
   },
   "source": [
    "# Setup Keys"
   ]
  },
  {
   "cell_type": "code",
   "execution_count": 4,
   "metadata": {},
   "outputs": [
    {
     "data": {
      "text/plain": [
       "True"
      ]
     },
     "execution_count": 4,
     "metadata": {},
     "output_type": "execute_result"
    }
   ],
   "source": [
    "# if you want to use local secrets, add a file called .env to this directory and uncomment the lines below\n",
    "\n",
    "from dotenv import load_dotenv\n",
    "load_dotenv(\".env\")"
   ]
  },
  {
   "cell_type": "code",
   "execution_count": 5,
   "metadata": {
    "id": "jtSzpF4Ehii5"
   },
   "outputs": [],
   "source": [
    "# if you are using google colab, uncomment the lines below to manually enter your OpenAI key.\n",
    "\n",
    "#import getpass\n",
    "#os.environ['OPENAI_API_KEY'] = getpass.getpass()"
   ]
  },
  {
   "cell_type": "code",
   "execution_count": 6,
   "metadata": {},
   "outputs": [],
   "source": [
    "# if you are using google colab, uncomment the lines below to manually enter your HuggingFace token.\n",
    "\n",
    "#import getpass\n",
    "#os.environ['HUGGINGFACEHUB_API_TOKEN'] = getpass.getpass()"
   ]
  },
  {
   "cell_type": "code",
   "execution_count": 7,
   "metadata": {},
   "outputs": [],
   "source": [
    "# this is for development\n",
    "#%load_ext autoreload\n",
    "#%autoreload 2"
   ]
  },
  {
   "cell_type": "markdown",
   "metadata": {
    "id": "vSe6gY8_gazO"
   },
   "source": [
    "# Load Assembled Records\n",
    "\n",
    "We are going to use a small subset of records provided by https://assembled.app/.\n",
    "\n",
    "For the purposes of this workshop, we have created a [huggingface dataset](https://huggingface.co/datasets/assembleco/hyperdemocracy)  which we can load using the `load_dataset` function. This is all handled for you in the `load_assembleco_records` function. See more info here [datasets](https://huggingface.co/docs/datasets/index) package."
   ]
  },
  {
   "cell_type": "code",
   "execution_count": 8,
   "metadata": {},
   "outputs": [],
   "source": [
    "from hyperdemocracy import load_assembleco_records"
   ]
  },
  {
   "cell_type": "code",
   "execution_count": 9,
   "metadata": {},
   "outputs": [
    {
     "name": "stderr",
     "output_type": "stream",
     "text": [
      "Found cached dataset parquet (/home/calliope/.cache/huggingface/datasets/assembleco___parquet/assembleco--hyperdemocracy-a598a9b2b17e51dc/0.0.0/2a3b91fbd88a2c90d1dbbb32b460cf621d31bd5b05b934492fdef7d8d6f236ec)\n"
     ]
    }
   ],
   "source": [
    "df = load_assembleco_records(process=True, strip_html=True, remove_empty_body=True)"
   ]
  },
  {
   "cell_type": "code",
   "execution_count": 10,
   "metadata": {
    "id": "L5r6oJ7MmQM5"
   },
   "outputs": [
    {
     "data": {
      "text/html": [
       "<div>\n",
       "<style scoped>\n",
       "    .dataframe tbody tr th:only-of-type {\n",
       "        vertical-align: middle;\n",
       "    }\n",
       "\n",
       "    .dataframe tbody tr th {\n",
       "        vertical-align: top;\n",
       "    }\n",
       "\n",
       "    .dataframe thead th {\n",
       "        text-align: right;\n",
       "    }\n",
       "</style>\n",
       "<table border=\"1\" class=\"dataframe\">\n",
       "  <thead>\n",
       "    <tr style=\"text-align: right;\">\n",
       "      <th></th>\n",
       "      <th>key</th>\n",
       "      <th>name</th>\n",
       "      <th>sponsors</th>\n",
       "      <th>summary</th>\n",
       "      <th>body</th>\n",
       "      <th>themes</th>\n",
       "      <th>index</th>\n",
       "      <th>actions</th>\n",
       "      <th>amendments</th>\n",
       "      <th>committees</th>\n",
       "      <th>relatedbills</th>\n",
       "      <th>cosponsors</th>\n",
       "      <th>subjects</th>\n",
       "      <th>text</th>\n",
       "      <th>titles</th>\n",
       "      <th>congress_num</th>\n",
       "      <th>legis_class</th>\n",
       "      <th>legis_num</th>\n",
       "      <th>congress_gov_url</th>\n",
       "    </tr>\n",
       "  </thead>\n",
       "  <tbody>\n",
       "    <tr>\n",
       "      <th>0</th>\n",
       "      <td>118HCONRES1</td>\n",
       "      <td>Regarding consent to assemble outside the seat...</td>\n",
       "      <td>[[C001053, Rep. Cole, Tom [R-OK-4], sponsor]]</td>\n",
       "      <td>This concurrent resolution authorizes the Spe...</td>\n",
       "      <td>[Congressional Bills 118th Congress]\\n[From th...</td>\n",
       "      <td>[Congress, Congressional operations and organi...</td>\n",
       "      <td>{'bill': {'actions': {'count': 7, 'url': 'http...</td>\n",
       "      <td>{'actions': [{'actionCode': None, 'actionDate'...</td>\n",
       "      <td>{'amendments': [], 'pagination': {'count': 0},...</td>\n",
       "      <td>{'committees': [], 'request': {'billNumber': '...</td>\n",
       "      <td>{'pagination': {'count': 0}, 'relatedBills': [...</td>\n",
       "      <td>{'cosponsors': [], 'pagination': {'count': 0, ...</td>\n",
       "      <td>{'pagination': {'count': 2}, 'request': {'bill...</td>\n",
       "      <td>{'pagination': {'count': 1}, 'request': {'bill...</td>\n",
       "      <td>{'pagination': {'count': 2}, 'request': {'bill...</td>\n",
       "      <td>118</td>\n",
       "      <td>HCONRES</td>\n",
       "      <td>1</td>\n",
       "      <td>https://www.congress.gov/bill/118th-congress/h...</td>\n",
       "    </tr>\n",
       "    <tr>\n",
       "      <th>1</th>\n",
       "      <td>118HCONRES10</td>\n",
       "      <td>Expressing the sense of Congress that the Unit...</td>\n",
       "      <td>[[T000165, Rep. Tiffany, Thomas P. [R-WI-7], s...</td>\n",
       "      <td>This concurrent resolution calls on the Presi...</td>\n",
       "      <td>[Congressional Bills 118th Congress]\\n[From th...</td>\n",
       "      <td>[International Affairs]</td>\n",
       "      <td>{'bill': {'actions': {'count': 4, 'url': 'http...</td>\n",
       "      <td>{'actions': [{'actionCode': 'H11100', 'actionD...</td>\n",
       "      <td>{'amendments': [], 'pagination': {'count': 0},...</td>\n",
       "      <td>{'committees': [{'activities': [{'date': '2023...</td>\n",
       "      <td>{'pagination': {'count': 0}, 'relatedBills': [...</td>\n",
       "      <td>{'cosponsors': [{'bioguideId': 'P000605', 'dis...</td>\n",
       "      <td>{'pagination': {'count': 1}, 'request': {'bill...</td>\n",
       "      <td>{'pagination': {'count': 1}, 'request': {'bill...</td>\n",
       "      <td>{'pagination': {'count': 2}, 'request': {'bill...</td>\n",
       "      <td>118</td>\n",
       "      <td>HCONRES</td>\n",
       "      <td>10</td>\n",
       "      <td>https://www.congress.gov/bill/118th-congress/h...</td>\n",
       "    </tr>\n",
       "    <tr>\n",
       "      <th>2</th>\n",
       "      <td>118HCONRES11</td>\n",
       "      <td>Providing for a joint session of Congress to r...</td>\n",
       "      <td>[[S001176, Rep. Scalise, Steve [R-LA-1], spons...</td>\n",
       "      <td>This concurrent resolution provides for a joi...</td>\n",
       "      <td>[Congressional Bills 118th Congress]\\n[From th...</td>\n",
       "      <td>[Congress, Congressional operations and organi...</td>\n",
       "      <td>{'bill': {'actions': {'count': 10, 'url': 'htt...</td>\n",
       "      <td>{'actions': [{'actionCode': None, 'actionDate'...</td>\n",
       "      <td>{'amendments': [], 'pagination': {'count': 0},...</td>\n",
       "      <td>{'committees': [], 'request': {'billNumber': '...</td>\n",
       "      <td>{'pagination': {'count': 0}, 'relatedBills': [...</td>\n",
       "      <td>{'cosponsors': [], 'pagination': {'count': 0, ...</td>\n",
       "      <td>{'pagination': {'count': 3}, 'request': {'bill...</td>\n",
       "      <td>{'pagination': {'count': 3}, 'request': {'bill...</td>\n",
       "      <td>{'pagination': {'count': 2}, 'request': {'bill...</td>\n",
       "      <td>118</td>\n",
       "      <td>HCONRES</td>\n",
       "      <td>11</td>\n",
       "      <td>https://www.congress.gov/bill/118th-congress/h...</td>\n",
       "    </tr>\n",
       "    <tr>\n",
       "      <th>3</th>\n",
       "      <td>118HCONRES12</td>\n",
       "      <td>Expressing the sense of Congress that all dire...</td>\n",
       "      <td>[[C001039, Rep. Cammack, Kat [R-FL-3], sponsor...</td>\n",
       "      <td>This concurrent resolution expresses the sens...</td>\n",
       "      <td>[Congressional Bills 118th Congress]\\n[From th...</td>\n",
       "      <td>[Foreign Trade and International Finance, Agri...</td>\n",
       "      <td>{'bill': {'actions': {'count': 5, 'url': 'http...</td>\n",
       "      <td>{'actions': [{'actionCode': 'H11000', 'actionD...</td>\n",
       "      <td>{'amendments': [], 'pagination': {'count': 0},...</td>\n",
       "      <td>{'committees': [{'activities': [{'date': '2023...</td>\n",
       "      <td>{'pagination': {'count': 0}, 'relatedBills': [...</td>\n",
       "      <td>{'cosponsors': [{'bioguideId': 'K000380', 'dis...</td>\n",
       "      <td>{'pagination': {'count': 6}, 'request': {'bill...</td>\n",
       "      <td>{'pagination': {'count': 1}, 'request': {'bill...</td>\n",
       "      <td>{'pagination': {'count': 2}, 'request': {'bill...</td>\n",
       "      <td>118</td>\n",
       "      <td>HCONRES</td>\n",
       "      <td>12</td>\n",
       "      <td>https://www.congress.gov/bill/118th-congress/h...</td>\n",
       "    </tr>\n",
       "    <tr>\n",
       "      <th>4</th>\n",
       "      <td>118HCONRES13</td>\n",
       "      <td>Supporting the Local Radio Freedom Act.</td>\n",
       "      <td>[[W000809, Rep. Womack, Steve [R-AR-3], sponso...</td>\n",
       "      <td>This concurrent resolution declares that Cong...</td>\n",
       "      <td>[Congressional Bills 118th Congress]\\n[From th...</td>\n",
       "      <td>[Science, Technology, Communications, Congress]</td>\n",
       "      <td>{'bill': {'actions': {'count': 3, 'url': 'http...</td>\n",
       "      <td>{'actions': [{'actionCode': 'H11100', 'actionD...</td>\n",
       "      <td>{'amendments': [], 'pagination': {'count': 0},...</td>\n",
       "      <td>{'committees': [{'activities': [{'date': '2023...</td>\n",
       "      <td>{'pagination': {'count': 1}, 'relatedBills': [...</td>\n",
       "      <td>{'cosponsors': [{'bioguideId': 'C001066', 'dis...</td>\n",
       "      <td>{'pagination': {'count': 2}, 'request': {'bill...</td>\n",
       "      <td>{'pagination': {'count': 1}, 'request': {'bill...</td>\n",
       "      <td>{'pagination': {'count': 2}, 'request': {'bill...</td>\n",
       "      <td>118</td>\n",
       "      <td>HCONRES</td>\n",
       "      <td>13</td>\n",
       "      <td>https://www.congress.gov/bill/118th-congress/h...</td>\n",
       "    </tr>\n",
       "  </tbody>\n",
       "</table>\n",
       "</div>"
      ],
      "text/plain": [
       "            key                                               name   \n",
       "0   118HCONRES1  Regarding consent to assemble outside the seat...  \\\n",
       "1  118HCONRES10  Expressing the sense of Congress that the Unit...   \n",
       "2  118HCONRES11  Providing for a joint session of Congress to r...   \n",
       "3  118HCONRES12  Expressing the sense of Congress that all dire...   \n",
       "4  118HCONRES13            Supporting the Local Radio Freedom Act.   \n",
       "\n",
       "                                            sponsors   \n",
       "0      [[C001053, Rep. Cole, Tom [R-OK-4], sponsor]]  \\\n",
       "1  [[T000165, Rep. Tiffany, Thomas P. [R-WI-7], s...   \n",
       "2  [[S001176, Rep. Scalise, Steve [R-LA-1], spons...   \n",
       "3  [[C001039, Rep. Cammack, Kat [R-FL-3], sponsor...   \n",
       "4  [[W000809, Rep. Womack, Steve [R-AR-3], sponso...   \n",
       "\n",
       "                                             summary   \n",
       "0   This concurrent resolution authorizes the Spe...  \\\n",
       "1   This concurrent resolution calls on the Presi...   \n",
       "2   This concurrent resolution provides for a joi...   \n",
       "3   This concurrent resolution expresses the sens...   \n",
       "4   This concurrent resolution declares that Cong...   \n",
       "\n",
       "                                                body   \n",
       "0  [Congressional Bills 118th Congress]\\n[From th...  \\\n",
       "1  [Congressional Bills 118th Congress]\\n[From th...   \n",
       "2  [Congressional Bills 118th Congress]\\n[From th...   \n",
       "3  [Congressional Bills 118th Congress]\\n[From th...   \n",
       "4  [Congressional Bills 118th Congress]\\n[From th...   \n",
       "\n",
       "                                              themes   \n",
       "0  [Congress, Congressional operations and organi...  \\\n",
       "1                            [International Affairs]   \n",
       "2  [Congress, Congressional operations and organi...   \n",
       "3  [Foreign Trade and International Finance, Agri...   \n",
       "4    [Science, Technology, Communications, Congress]   \n",
       "\n",
       "                                               index   \n",
       "0  {'bill': {'actions': {'count': 7, 'url': 'http...  \\\n",
       "1  {'bill': {'actions': {'count': 4, 'url': 'http...   \n",
       "2  {'bill': {'actions': {'count': 10, 'url': 'htt...   \n",
       "3  {'bill': {'actions': {'count': 5, 'url': 'http...   \n",
       "4  {'bill': {'actions': {'count': 3, 'url': 'http...   \n",
       "\n",
       "                                             actions   \n",
       "0  {'actions': [{'actionCode': None, 'actionDate'...  \\\n",
       "1  {'actions': [{'actionCode': 'H11100', 'actionD...   \n",
       "2  {'actions': [{'actionCode': None, 'actionDate'...   \n",
       "3  {'actions': [{'actionCode': 'H11000', 'actionD...   \n",
       "4  {'actions': [{'actionCode': 'H11100', 'actionD...   \n",
       "\n",
       "                                          amendments   \n",
       "0  {'amendments': [], 'pagination': {'count': 0},...  \\\n",
       "1  {'amendments': [], 'pagination': {'count': 0},...   \n",
       "2  {'amendments': [], 'pagination': {'count': 0},...   \n",
       "3  {'amendments': [], 'pagination': {'count': 0},...   \n",
       "4  {'amendments': [], 'pagination': {'count': 0},...   \n",
       "\n",
       "                                          committees   \n",
       "0  {'committees': [], 'request': {'billNumber': '...  \\\n",
       "1  {'committees': [{'activities': [{'date': '2023...   \n",
       "2  {'committees': [], 'request': {'billNumber': '...   \n",
       "3  {'committees': [{'activities': [{'date': '2023...   \n",
       "4  {'committees': [{'activities': [{'date': '2023...   \n",
       "\n",
       "                                        relatedbills   \n",
       "0  {'pagination': {'count': 0}, 'relatedBills': [...  \\\n",
       "1  {'pagination': {'count': 0}, 'relatedBills': [...   \n",
       "2  {'pagination': {'count': 0}, 'relatedBills': [...   \n",
       "3  {'pagination': {'count': 0}, 'relatedBills': [...   \n",
       "4  {'pagination': {'count': 1}, 'relatedBills': [...   \n",
       "\n",
       "                                          cosponsors   \n",
       "0  {'cosponsors': [], 'pagination': {'count': 0, ...  \\\n",
       "1  {'cosponsors': [{'bioguideId': 'P000605', 'dis...   \n",
       "2  {'cosponsors': [], 'pagination': {'count': 0, ...   \n",
       "3  {'cosponsors': [{'bioguideId': 'K000380', 'dis...   \n",
       "4  {'cosponsors': [{'bioguideId': 'C001066', 'dis...   \n",
       "\n",
       "                                            subjects   \n",
       "0  {'pagination': {'count': 2}, 'request': {'bill...  \\\n",
       "1  {'pagination': {'count': 1}, 'request': {'bill...   \n",
       "2  {'pagination': {'count': 3}, 'request': {'bill...   \n",
       "3  {'pagination': {'count': 6}, 'request': {'bill...   \n",
       "4  {'pagination': {'count': 2}, 'request': {'bill...   \n",
       "\n",
       "                                                text   \n",
       "0  {'pagination': {'count': 1}, 'request': {'bill...  \\\n",
       "1  {'pagination': {'count': 1}, 'request': {'bill...   \n",
       "2  {'pagination': {'count': 3}, 'request': {'bill...   \n",
       "3  {'pagination': {'count': 1}, 'request': {'bill...   \n",
       "4  {'pagination': {'count': 1}, 'request': {'bill...   \n",
       "\n",
       "                                              titles congress_num legis_class   \n",
       "0  {'pagination': {'count': 2}, 'request': {'bill...          118     HCONRES  \\\n",
       "1  {'pagination': {'count': 2}, 'request': {'bill...          118     HCONRES   \n",
       "2  {'pagination': {'count': 2}, 'request': {'bill...          118     HCONRES   \n",
       "3  {'pagination': {'count': 2}, 'request': {'bill...          118     HCONRES   \n",
       "4  {'pagination': {'count': 2}, 'request': {'bill...          118     HCONRES   \n",
       "\n",
       "  legis_num                                   congress_gov_url  \n",
       "0         1  https://www.congress.gov/bill/118th-congress/h...  \n",
       "1        10  https://www.congress.gov/bill/118th-congress/h...  \n",
       "2        11  https://www.congress.gov/bill/118th-congress/h...  \n",
       "3        12  https://www.congress.gov/bill/118th-congress/h...  \n",
       "4        13  https://www.congress.gov/bill/118th-congress/h...  "
      ]
     },
     "execution_count": 10,
     "metadata": {},
     "output_type": "execute_result"
    }
   ],
   "source": [
    "df.head()"
   ]
  },
  {
   "cell_type": "code",
   "execution_count": 11,
   "metadata": {},
   "outputs": [
    {
     "data": {
      "text/html": [
       "<pre style=\"white-space:pre;overflow-x:auto;line-height:normal;font-family:Menlo,'DejaVu Sans Mono',consolas,'Courier New',monospace\"><span style=\"color: #008080; text-decoration-color: #008080; font-weight: bold\">6132</span>\n",
       "</pre>\n"
      ],
      "text/plain": [
       "\u001b[1;36m6132\u001b[0m\n"
      ]
     },
     "metadata": {},
     "output_type": "display_data"
    }
   ],
   "source": [
    "print(len(df))"
   ]
  },
  {
   "cell_type": "code",
   "execution_count": 12,
   "metadata": {
    "id": "m4eSYiO5Ii9X"
   },
   "outputs": [
    {
     "data": {
      "text/plain": [
       "(6132, 19)"
      ]
     },
     "execution_count": 12,
     "metadata": {},
     "output_type": "execute_result"
    }
   ],
   "source": [
    "df.shape"
   ]
  },
  {
   "cell_type": "markdown",
   "metadata": {
    "id": "-HUxJ4XAFOaZ",
    "jp-MarkdownHeadingCollapsed": true
   },
   "source": [
    "# Sponsor Graph Sidequest\n",
    "\n",
    "We will be focusing on the text content of the legislation in this workshop, but if you would like to explore building a graph from the sponsor / co-sponsor / legislation network check out the [sponsor_graph notebook](https://github.com/FMurray/hyperdemocracy/blob/main/sidequests/sponsor_graph.ipynb) to get started."
   ]
  },
  {
   "cell_type": "markdown",
   "metadata": {
    "id": "5GM8DqH7Ojeu"
   },
   "source": [
    "# From Pandas Dataframe to LangChain Documents\n",
    "\n",
    "A langchain document is a simple class with two attributes, \n",
    "* page_content (a string)\n",
    "* metadata (a dictionary)"
   ]
  },
  {
   "cell_type": "code",
   "execution_count": 13,
   "metadata": {
    "id": "DH58_PTsRJyD"
   },
   "outputs": [],
   "source": [
    "from langchain.schema import Document "
   ]
  },
  {
   "cell_type": "code",
   "execution_count": 14,
   "metadata": {},
   "outputs": [],
   "source": [
    "Document??"
   ]
  },
  {
   "cell_type": "markdown",
   "metadata": {},
   "source": [
    "Below we take each row from our legislation DataFrame and create a LangChain Document. We use the `body` column for the `page_content` attribute and populate the `metadata` attribute with data from some of the other columns. Note that the `source` key in the `metadata` dictionary is associated with a congress.gov url. The `source` key can hold an arbitrary string and will become important when we look into question answering systems that return information about the sources used to answer a question. We also restrict ourselves to `str`, `int`, and `float` types in the other values of our `metadata` dictionary. This is to make it easy to use them as filters when querying our vectorstore. If that doesn't make sense, dont worry! It will by the end of the workshop.  "
   ]
  },
  {
   "cell_type": "code",
   "execution_count": 15,
   "metadata": {
    "id": "cLHx06mHepKQ"
   },
   "outputs": [],
   "source": [
    "all_docs = []\n",
    "for irow, row in df.iterrows():\n",
    "    doc = Document(\n",
    "        page_content=row['body'],\n",
    "        metadata={\n",
    "            # Note: chroma can only filter on float, str, or int\n",
    "            # https://docs.trychroma.com/usage-guide#using-where-filters\n",
    "            'key': row['key'],\n",
    "            'congress_num': row['congress_num'],\n",
    "            'legis_class': row['legis_class'],\n",
    "            'legis_num': row['legis_num'],\n",
    "            'name': row['name'],\n",
    "            'summary': row['summary'],\n",
    "            'sponsor': row['sponsors'][0][0],\n",
    "            'source': row['congress_gov_url'],\n",
    "        },\n",
    "    )\n",
    "    all_docs.append(doc)"
   ]
  },
  {
   "cell_type": "code",
   "execution_count": 16,
   "metadata": {
    "id": "2-fFRGsTUDGX"
   },
   "outputs": [
    {
     "data": {
      "text/html": [
       "<pre style=\"white-space:pre;overflow-x:auto;line-height:normal;font-family:Menlo,'DejaVu Sans Mono',consolas,'Courier New',monospace\"><span style=\"color: #800080; text-decoration-color: #800080; font-weight: bold\">Document</span><span style=\"font-weight: bold\">(</span>\n",
       "    <span style=\"color: #808000; text-decoration-color: #808000\">page_content</span>=<span style=\"color: #008000; text-decoration-color: #008000\">'[Congressional Bills 118th Congress]\\n[From the U.S. Government Publishing Office]\\n[H. Con. Res.</span>\n",
       "<span style=\"color: #008000; text-decoration-color: #008000\">1 Engrossed in House (EH)]\\n\\n&lt;DOC&gt;\\n  \\n  \\n  \\n  \\n  \\n  \\n  \\n  \\n  \\n  \\n  \\n  \\n  \\n  \\n  \\n  \\n  \\n  \\n  \\n  </span>\n",
       "<span style=\"color: #008000; text-decoration-color: #008000\">\\n  \\n  \\n  \\n118th CONGRESS\\n  1st Session\\nH. CON. RES. </span>\n",
       "<span style=\"color: #008000; text-decoration-color: #008000\">1\\n\\n_______________________________________________________________________\\n\\n                         CONCURRENT</span>\n",
       "<span style=\"color: #008000; text-decoration-color: #008000\">RESOLUTION\\n\\n    Resolved by the House of Representatives (the Senate concurring), \\nThat pursuant to clause 4, </span>\n",
       "<span style=\"color: #008000; text-decoration-color: #008000\">section 5, article I of the Constitution, \\nduring the One Hundred Eighteenth Congress the Speaker of the House and</span>\n",
       "<span style=\"color: #008000; text-decoration-color: #008000\">\\nthe Majority Leader of the Senate or their respective designees, acting \\njointly after consultation with the </span>\n",
       "<span style=\"color: #008000; text-decoration-color: #008000\">Minority Leader of the House and \\nthe Minority Leader of the Senate,\\n\\n\\n              \\n\\n may notify the </span>\n",
       "<span style=\"color: #008000; text-decoration-color: #008000\">Members of the House and the Senate, respectively, to \\nassemble at a place outside the District of Columbia if, in</span>\n",
       "<span style=\"color: #008000; text-decoration-color: #008000\">their \\nopinion, the public interest shall warrant it.\\n\\n            Passed the House of Representatives January </span>\n",
       "<span style=\"color: #008000; text-decoration-color: #008000\">9, 2023.\\n\\n            Attest:\\n\\n                                                                 Clerk.\\n118th </span>\n",
       "<span style=\"color: #008000; text-decoration-color: #008000\">CONGRESS\\n\\n  1st Session\\n\\n                             H. CON. RES. </span>\n",
       "<span style=\"color: #008000; text-decoration-color: #008000\">1\\n\\n_______________________________________________________________________\\n\\n                         CONCURRENT</span>\n",
       "<span style=\"color: #008000; text-decoration-color: #008000\">RESOLUTION\\n\\n     Regarding consent to assemble outside the seat of government.\\n\\n'</span>,\n",
       "    <span style=\"color: #808000; text-decoration-color: #808000\">metadata</span>=<span style=\"font-weight: bold\">{</span>\n",
       "        <span style=\"color: #008000; text-decoration-color: #008000\">'key'</span>: <span style=\"color: #008000; text-decoration-color: #008000\">'118HCONRES1'</span>,\n",
       "        <span style=\"color: #008000; text-decoration-color: #008000\">'congress_num'</span>: <span style=\"color: #008000; text-decoration-color: #008000\">'118'</span>,\n",
       "        <span style=\"color: #008000; text-decoration-color: #008000\">'legis_class'</span>: <span style=\"color: #008000; text-decoration-color: #008000\">'HCONRES'</span>,\n",
       "        <span style=\"color: #008000; text-decoration-color: #008000\">'legis_num'</span>: <span style=\"color: #008000; text-decoration-color: #008000\">'1'</span>,\n",
       "        <span style=\"color: #008000; text-decoration-color: #008000\">'name'</span>: <span style=\"color: #008000; text-decoration-color: #008000\">'Regarding consent to assemble outside the seat of government.'</span>,\n",
       "        <span style=\"color: #008000; text-decoration-color: #008000\">'summary'</span>: <span style=\"color: #008000; text-decoration-color: #008000\">' This concurrent resolution authorizes the Speaker of the House and the Majority Leader of the </span>\n",
       "<span style=\"color: #008000; text-decoration-color: #008000\">Senate to assemble the House and the Senate outside the District of Columbia whenever the public interest warrants </span>\n",
       "<span style=\"color: #008000; text-decoration-color: #008000\">it.'</span>,\n",
       "        <span style=\"color: #008000; text-decoration-color: #008000\">'sponsor'</span>: <span style=\"color: #008000; text-decoration-color: #008000\">'C001053'</span>,\n",
       "        <span style=\"color: #008000; text-decoration-color: #008000\">'source'</span>: <span style=\"color: #008000; text-decoration-color: #008000\">'https://www.congress.gov/bill/118th-congress/house-concurrent-resolution/1'</span>\n",
       "    <span style=\"font-weight: bold\">}</span>\n",
       "<span style=\"font-weight: bold\">)</span>\n",
       "</pre>\n"
      ],
      "text/plain": [
       "\u001b[1;35mDocument\u001b[0m\u001b[1m(\u001b[0m\n",
       "    \u001b[33mpage_content\u001b[0m=\u001b[32m'\u001b[0m\u001b[32m[\u001b[0m\u001b[32mCongressional Bills 118th Congress\u001b[0m\u001b[32m]\u001b[0m\u001b[32m\\n\u001b[0m\u001b[32m[\u001b[0m\u001b[32mFrom the U.S. Government Publishing Office\u001b[0m\u001b[32m]\u001b[0m\u001b[32m\\n\u001b[0m\u001b[32m[\u001b[0m\u001b[32mH. Con. Res.\u001b[0m\n",
       "\u001b[32m1 Engrossed in House \u001b[0m\u001b[32m(\u001b[0m\u001b[32mEH\u001b[0m\u001b[32m)\u001b[0m\u001b[32m]\u001b[0m\u001b[32m\\n\\n\u001b[0m\u001b[32m<\u001b[0m\u001b[32mDOC\u001b[0m\u001b[32m>\u001b[0m\u001b[32m\\n  \\n  \\n  \\n  \\n  \\n  \\n  \\n  \\n  \\n  \\n  \\n  \\n  \\n  \\n  \\n  \\n  \\n  \\n  \\n  \u001b[0m\n",
       "\u001b[32m\\n  \\n  \\n  \\n118th CONGRESS\\n  1st Session\\nH. CON. RES. \u001b[0m\n",
       "\u001b[32m1\\n\\n_______________________________________________________________________\\n\\n                         CONCURRENT\u001b[0m\n",
       "\u001b[32mRESOLUTION\\n\\n    Resolved by the House of Representatives \u001b[0m\u001b[32m(\u001b[0m\u001b[32mthe Senate concurring\u001b[0m\u001b[32m)\u001b[0m\u001b[32m, \\nThat pursuant to clause 4, \u001b[0m\n",
       "\u001b[32msection 5, article I of the Constitution, \\nduring the One Hundred Eighteenth Congress the Speaker of the House and\u001b[0m\n",
       "\u001b[32m\\nthe Majority Leader of the Senate or their respective designees, acting \\njointly after consultation with the \u001b[0m\n",
       "\u001b[32mMinority Leader of the House and \\nthe Minority Leader of the Senate,\\n\\n\\n              \\n\\n may notify the \u001b[0m\n",
       "\u001b[32mMembers of the House and the Senate, respectively, to \\nassemble at a place outside the District of Columbia if, in\u001b[0m\n",
       "\u001b[32mtheir \\nopinion, the public interest shall warrant it.\\n\\n            Passed the House of Representatives January \u001b[0m\n",
       "\u001b[32m9, 2023.\\n\\n            Attest:\\n\\n                                                                 Clerk.\\n118th \u001b[0m\n",
       "\u001b[32mCONGRESS\\n\\n  1st Session\\n\\n                             H. CON. RES. \u001b[0m\n",
       "\u001b[32m1\\n\\n_______________________________________________________________________\\n\\n                         CONCURRENT\u001b[0m\n",
       "\u001b[32mRESOLUTION\\n\\n     Regarding consent to assemble outside the seat of government.\\n\\n'\u001b[0m,\n",
       "    \u001b[33mmetadata\u001b[0m=\u001b[1m{\u001b[0m\n",
       "        \u001b[32m'key'\u001b[0m: \u001b[32m'118HCONRES1'\u001b[0m,\n",
       "        \u001b[32m'congress_num'\u001b[0m: \u001b[32m'118'\u001b[0m,\n",
       "        \u001b[32m'legis_class'\u001b[0m: \u001b[32m'HCONRES'\u001b[0m,\n",
       "        \u001b[32m'legis_num'\u001b[0m: \u001b[32m'1'\u001b[0m,\n",
       "        \u001b[32m'name'\u001b[0m: \u001b[32m'Regarding consent to assemble outside the seat of government.'\u001b[0m,\n",
       "        \u001b[32m'summary'\u001b[0m: \u001b[32m' This concurrent resolution authorizes the Speaker of the House and the Majority Leader of the \u001b[0m\n",
       "\u001b[32mSenate to assemble the House and the Senate outside the District of Columbia whenever the public interest warrants \u001b[0m\n",
       "\u001b[32mit.'\u001b[0m,\n",
       "        \u001b[32m'sponsor'\u001b[0m: \u001b[32m'C001053'\u001b[0m,\n",
       "        \u001b[32m'source'\u001b[0m: \u001b[32m'https://www.congress.gov/bill/118th-congress/house-concurrent-resolution/1'\u001b[0m\n",
       "    \u001b[1m}\u001b[0m\n",
       "\u001b[1m)\u001b[0m\n"
      ]
     },
     "metadata": {},
     "output_type": "display_data"
    }
   ],
   "source": [
    "print(all_docs[0])"
   ]
  },
  {
   "cell_type": "markdown",
   "metadata": {},
   "source": [
    "## Activity\n",
    "\n",
    "* examine the Document content\n",
    "* visit the congress.gov URL and view the document in various formats\n",
    "* examine the body text below\n",
    "* read the summary of the document and attempt to connect it with the long form text of the document"
   ]
  },
  {
   "cell_type": "code",
   "execution_count": 17,
   "metadata": {
    "id": "fceFBIiDRcZk"
   },
   "outputs": [
    {
     "data": {
      "text/html": [
       "<pre style=\"white-space:pre;overflow-x:auto;line-height:normal;font-family:Menlo,'DejaVu Sans Mono',consolas,'Courier New',monospace\"><span style=\"font-weight: bold\">[</span>Congressional Bills 118th Congress<span style=\"font-weight: bold\">]</span>\n",
       "<span style=\"font-weight: bold\">[</span>From the U.S. Government Publishing Office<span style=\"font-weight: bold\">]</span>\n",
       "<span style=\"font-weight: bold\">[</span>H. Con. Res. <span style=\"color: #008080; text-decoration-color: #008080; font-weight: bold\">1</span> Engrossed in House <span style=\"font-weight: bold\">(</span>EH<span style=\"font-weight: bold\">)]</span>\n",
       "\n",
       "<span style=\"font-weight: bold\">&lt;</span><span style=\"color: #ff00ff; text-decoration-color: #ff00ff; font-weight: bold\">DOC</span><span style=\"font-weight: bold\">&gt;</span>\n",
       "  \n",
       "  \n",
       "  \n",
       "  \n",
       "  \n",
       "  \n",
       "  \n",
       "  \n",
       "  \n",
       "  \n",
       "  \n",
       "  \n",
       "  \n",
       "  \n",
       "  \n",
       "  \n",
       "  \n",
       "  \n",
       "  \n",
       "  \n",
       "  \n",
       "  \n",
       "  \n",
       "118th CONGRESS\n",
       "  1st Session\n",
       "H. CON. RES. <span style=\"color: #008080; text-decoration-color: #008080; font-weight: bold\">1</span>\n",
       "\n",
       "_______________________________________________________________________\n",
       "\n",
       "                         CONCURRENT RESOLUTION\n",
       "\n",
       "    Resolved by the House of Representatives <span style=\"font-weight: bold\">(</span>the Senate concurring<span style=\"font-weight: bold\">)</span>, \n",
       "That pursuant to clause <span style=\"color: #008080; text-decoration-color: #008080; font-weight: bold\">4</span>, section <span style=\"color: #008080; text-decoration-color: #008080; font-weight: bold\">5</span>, article I of the Constitution, \n",
       "during the One Hundred Eighteenth Congress the Speaker of the House and \n",
       "the Majority Leader of the Senate or their respective designees, acting \n",
       "jointly after consultation with the Minority Leader of the House and \n",
       "the Minority Leader of the Senate,\n",
       "\n",
       "\n",
       "              \n",
       "\n",
       " may notify the Members of the House and the Senate, respectively, to \n",
       "assemble at a place outside the District of Columbia if, in their \n",
       "opinion, the public interest shall warrant it.\n",
       "\n",
       "            Passed the House of Representatives January <span style=\"color: #008080; text-decoration-color: #008080; font-weight: bold\">9</span>, <span style=\"color: #008080; text-decoration-color: #008080; font-weight: bold\">2023</span>.\n",
       "\n",
       "            Attest:\n",
       "\n",
       "                                                                 Clerk.\n",
       "118th CONGRESS\n",
       "\n",
       "  1st Session\n",
       "\n",
       "                             H. CON. RES. <span style=\"color: #008080; text-decoration-color: #008080; font-weight: bold\">1</span>\n",
       "\n",
       "_______________________________________________________________________\n",
       "\n",
       "                         CONCURRENT RESOLUTION\n",
       "\n",
       "     Regarding consent to assemble outside the seat of government.\n",
       "\n",
       "\n",
       "</pre>\n"
      ],
      "text/plain": [
       "\u001b[1m[\u001b[0mCongressional Bills 118th Congress\u001b[1m]\u001b[0m\n",
       "\u001b[1m[\u001b[0mFrom the U.S. Government Publishing Office\u001b[1m]\u001b[0m\n",
       "\u001b[1m[\u001b[0mH. Con. Res. \u001b[1;36m1\u001b[0m Engrossed in House \u001b[1m(\u001b[0mEH\u001b[1m)\u001b[0m\u001b[1m]\u001b[0m\n",
       "\n",
       "\u001b[1m<\u001b[0m\u001b[1;95mDOC\u001b[0m\u001b[1m>\u001b[0m\n",
       "  \n",
       "  \n",
       "  \n",
       "  \n",
       "  \n",
       "  \n",
       "  \n",
       "  \n",
       "  \n",
       "  \n",
       "  \n",
       "  \n",
       "  \n",
       "  \n",
       "  \n",
       "  \n",
       "  \n",
       "  \n",
       "  \n",
       "  \n",
       "  \n",
       "  \n",
       "  \n",
       "118th CONGRESS\n",
       "  1st Session\n",
       "H. CON. RES. \u001b[1;36m1\u001b[0m\n",
       "\n",
       "_______________________________________________________________________\n",
       "\n",
       "                         CONCURRENT RESOLUTION\n",
       "\n",
       "    Resolved by the House of Representatives \u001b[1m(\u001b[0mthe Senate concurring\u001b[1m)\u001b[0m, \n",
       "That pursuant to clause \u001b[1;36m4\u001b[0m, section \u001b[1;36m5\u001b[0m, article I of the Constitution, \n",
       "during the One Hundred Eighteenth Congress the Speaker of the House and \n",
       "the Majority Leader of the Senate or their respective designees, acting \n",
       "jointly after consultation with the Minority Leader of the House and \n",
       "the Minority Leader of the Senate,\n",
       "\n",
       "\n",
       "              \n",
       "\n",
       " may notify the Members of the House and the Senate, respectively, to \n",
       "assemble at a place outside the District of Columbia if, in their \n",
       "opinion, the public interest shall warrant it.\n",
       "\n",
       "            Passed the House of Representatives January \u001b[1;36m9\u001b[0m, \u001b[1;36m2023\u001b[0m.\n",
       "\n",
       "            Attest:\n",
       "\n",
       "                                                                 Clerk.\n",
       "118th CONGRESS\n",
       "\n",
       "  1st Session\n",
       "\n",
       "                             H. CON. RES. \u001b[1;36m1\u001b[0m\n",
       "\n",
       "_______________________________________________________________________\n",
       "\n",
       "                         CONCURRENT RESOLUTION\n",
       "\n",
       "     Regarding consent to assemble outside the seat of government.\n",
       "\n",
       "\n"
      ]
     },
     "metadata": {},
     "output_type": "display_data"
    }
   ],
   "source": [
    "print(all_docs[0].page_content)"
   ]
  },
  {
   "cell_type": "code",
   "execution_count": 18,
   "metadata": {
    "id": "siRiWjCyj63F"
   },
   "outputs": [
    {
     "data": {
      "text/html": [
       "<pre style=\"white-space:pre;overflow-x:auto;line-height:normal;font-family:Menlo,'DejaVu Sans Mono',consolas,'Courier New',monospace\"><span style=\"color: #008080; text-decoration-color: #008080; font-weight: bold\">6132</span>\n",
       "</pre>\n"
      ],
      "text/plain": [
       "\u001b[1;36m6132\u001b[0m\n"
      ]
     },
     "metadata": {},
     "output_type": "display_data"
    }
   ],
   "source": [
    "print(len(all_docs))"
   ]
  },
  {
   "cell_type": "markdown",
   "metadata": {},
   "source": [
    "# Subsample Docs"
   ]
  },
  {
   "cell_type": "code",
   "execution_count": 19,
   "metadata": {},
   "outputs": [],
   "source": [
    "NUM_DOCS = 6132\n",
    "# NUM_DOCS = 50\n",
    "docs = all_docs[:NUM_DOCS]"
   ]
  },
  {
   "cell_type": "code",
   "execution_count": 20,
   "metadata": {
    "id": "PBZermt7U07_"
   },
   "outputs": [],
   "source": [
    "from langchain.callbacks import get_openai_callback"
   ]
  },
  {
   "cell_type": "code",
   "execution_count": 21,
   "metadata": {},
   "outputs": [],
   "source": [
    "def count_openai_tokens_in_docs(docs, model_name=CONFIG[\"embd\"]):\n",
    "    num_tokens = 0\n",
    "    enc = tiktoken.encoding_for_model(model_name)\n",
    "    for doc in docs:\n",
    "        num_tokens += len(enc.encode(doc.page_content))\n",
    "    return num_tokens"
   ]
  },
  {
   "cell_type": "code",
   "execution_count": 22,
   "metadata": {},
   "outputs": [],
   "source": [
    "def count_hf_tokens_in_docs(docs, model_name=CONFIG[\"embd\"]):\n",
    "    num_tokens = 0\n",
    "    tokenizer = AutoTokenizer.from_pretrained(CONFIG[\"embd\"])\n",
    "    for doc in docs:\n",
    "        num_tokens += len(tokenizer(docs[0].page_content)['input_ids'])\n",
    "    return num_tokens"
   ]
  },
  {
   "cell_type": "code",
   "execution_count": 23,
   "metadata": {},
   "outputs": [
    {
     "data": {
      "text/html": [
       "<pre style=\"white-space:pre;overflow-x:auto;line-height:normal;font-family:Menlo,'DejaVu Sans Mono',consolas,'Courier New',monospace\">Num Docs:  <span style=\"color: #008080; text-decoration-color: #008080; font-weight: bold\">6132</span>\n",
       "</pre>\n"
      ],
      "text/plain": [
       "Num Docs:  \u001b[1;36m6132\u001b[0m\n"
      ]
     },
     "metadata": {},
     "output_type": "display_data"
    },
    {
     "data": {
      "text/html": [
       "<pre style=\"white-space:pre;overflow-x:auto;line-height:normal;font-family:Menlo,'DejaVu Sans Mono',consolas,'Courier New',monospace\">Num Tokens:  <span style=\"color: #008080; text-decoration-color: #008080; font-weight: bold\">2115540</span>\n",
       "</pre>\n"
      ],
      "text/plain": [
       "Num Tokens:  \u001b[1;36m2115540\u001b[0m\n"
      ]
     },
     "metadata": {},
     "output_type": "display_data"
    },
    {
     "data": {
      "text/html": [
       "<pre style=\"white-space:pre;overflow-x:auto;line-height:normal;font-family:Menlo,'DejaVu Sans Mono',consolas,'Courier New',monospace\">Total Cost <span style=\"font-weight: bold\">(</span>USD<span style=\"font-weight: bold\">)</span>:  $<span style=\"color: #008080; text-decoration-color: #008080; font-weight: bold\">0</span>\n",
       "</pre>\n"
      ],
      "text/plain": [
       "Total Cost \u001b[1m(\u001b[0mUSD\u001b[1m)\u001b[0m:  $\u001b[1;36m0\u001b[0m\n"
      ]
     },
     "metadata": {},
     "output_type": "display_data"
    }
   ],
   "source": [
    "# estimate cost\n",
    "if PROVIDER == \"OPENAI\":\n",
    "    num_tokens = count_openai_tokens_in_docs(docs)\n",
    "    cost = EMBED_DOLLARS_PER_1K_TOKENS * num_tokens / 1000\n",
    "    print('Num Docs: ', len(docs))\n",
    "    print('Num Tokens: ', num_tokens)\n",
    "    print('Total Cost (USD): ', '$'+str(cost))\n",
    "elif PROVIDER == \"HF\":\n",
    "    num_tokens = count_hf_tokens_in_docs(docs)\n",
    "    cost = 0\n",
    "    print('Num Docs: ', len(docs))\n",
    "    print('Num Tokens: ', num_tokens)\n",
    "    print('Total Cost (USD): ', '$'+str(cost))"
   ]
  },
  {
   "cell_type": "markdown",
   "metadata": {},
   "source": [
    "## Activity\n",
    "\n",
    "* Contemplate why the answers are slightly different between the \"QA\" result and the \"QA with sources\" result.\n",
    "* Visit the source links and check if the linked legislation is relevant to the question."
   ]
  },
  {
   "cell_type": "markdown",
   "metadata": {
    "id": "4ry8zdrlCEqi"
   },
   "source": [
    "# Document QA - Step by Step\n",
    "\n",
    "Our goal is to setup a question answering (QA) system that can repond to natural language questions about legislation using source material that we provide. In the following sections we will unpack all of components and go over them in detail."
   ]
  },
  {
   "cell_type": "markdown",
   "metadata": {
    "id": "KCdDA0eOXJ_1"
   },
   "source": [
    "# Part 1 - Langchain Text Splitters\n",
    "\n",
    "> When you want to deal with long pieces of text, it is necessary to split up that text into chunks. As simple as this sounds, there is a lot of potential complexity here. Ideally, you want to keep the semantically related pieces of text together. What \"semantically related\" means could depend on the type of text. This notebook showcases several ways to do that.\n",
    "\n",
    "> At a high level, text splitters work as following:\n",
    "\n",
    ">    1. Split the text up into small, semantically meaningful chunks (often sentences).\n",
    ">    2. Start combining these small chunks into a larger chunk until you reach a certain size (as measured by some function).\n",
    ">    3. Once you reach that size, make that chunk its own piece of text and then start creating a new chunk of text with some overlap (to keep context between chunks).\n",
    "\n",
    "> That means there are two different axes along which you can customize your text splitter:\n",
    "\n",
    ">    1. How the text is split\n",
    ">    2. How the chunk size is measured\n",
    "\n",
    "-- https://python.langchain.com/docs/modules/data_connection/document_transformers/#text-splitters\n",
    "\n",
    "Here are some useful options for splitting legislative text, \n",
    "\n",
    "* [character text splitter](https://python.langchain.com/docs/modules/data_connection/document_transformers/text_splitters/character_text_splitter)\n",
    "  * How the text is split: by single character\n",
    "  * How the chunk size is measured: by number of characters\n",
    "* [recursive text splitter](https://python.langchain.com/docs/modules/data_connection/document_transformers/text_splitters/recursive_text_splitter)\n",
    "  * How the text is split: by list of characters\n",
    "  * How the chunk size is measured: by number of characters\n",
    "* [split by token](https://python.langchain.com/docs/modules/data_connection/document_transformers/text_splitters/split_by_token)\n",
    "  * How the text is split: by character passed in\n",
    "  * How the chunk size is measured: by tiktoken tokenizer\n",
    "\n",
    "If you are not familiar with the concept of a token, this article may help, \n",
    "* https://simonwillison.net/2023/Jun/8/gpt-tokenizers/\n",
    "\n",
    "Mini Side Quest\n",
    "* see if there is anything interesting that can be done with this https://twitter.com/RLanceMartin/status/1670489431168659456?s=20"
   ]
  },
  {
   "cell_type": "code",
   "execution_count": 24,
   "metadata": {
    "id": "_w6e8Bcia6gp"
   },
   "outputs": [],
   "source": [
    "from langchain.text_splitter import CharacterTextSplitter\n",
    "from langchain.text_splitter import RecursiveCharacterTextSplitter\n",
    "from langchain.text_splitter import TokenTextSplitter\n",
    "from langchain.text_splitter import SentenceTransformersTokenTextSplitter"
   ]
  },
  {
   "cell_type": "code",
   "execution_count": 25,
   "metadata": {},
   "outputs": [],
   "source": [
    "text = \"\"\"We hold these truths to be self-evident, that all men are created equal,\n",
    "\n",
    "that they are endowed by their Creator with certain unalienable Rights,\n",
    "\n",
    "that among these are Life, Liberty and the pursuit of Happiness.\"\"\""
   ]
  },
  {
   "cell_type": "markdown",
   "metadata": {},
   "source": [
    "## CharacterTextSplitter"
   ]
  },
  {
   "cell_type": "code",
   "execution_count": 26,
   "metadata": {},
   "outputs": [
    {
     "name": "stderr",
     "output_type": "stream",
     "text": [
      "Created a chunk of size 72, which is longer than the specified 20\n",
      "Created a chunk of size 71, which is longer than the specified 20\n"
     ]
    },
    {
     "data": {
      "text/plain": [
       "['We hold these truths to be self-evident, that all men are created equal,',\n",
       " 'that they are endowed by their Creator with certain unalienable Rights,',\n",
       " 'that among these are Life, Liberty and the pursuit of Happiness.']"
      ]
     },
     "execution_count": 26,
     "metadata": {},
     "output_type": "execute_result"
    }
   ],
   "source": [
    "# this is the default separator\n",
    "CharacterTextSplitter(separator=\"\\n\\n\", chunk_size=20, chunk_overlap=0).split_text(text)"
   ]
  },
  {
   "cell_type": "code",
   "execution_count": 27,
   "metadata": {},
   "outputs": [
    {
     "data": {
      "text/plain": [
       "['We hold these truths',\n",
       " 'to be self-evident,',\n",
       " 'that all men are',\n",
       " 'created equal,\\n\\nthat',\n",
       " 'they are endowed by',\n",
       " 'their Creator with',\n",
       " 'certain unalienable',\n",
       " 'Rights,\\n\\nthat among',\n",
       " 'these are Life,',\n",
       " 'Liberty and the',\n",
       " 'pursuit of',\n",
       " 'Happiness.']"
      ]
     },
     "execution_count": 27,
     "metadata": {},
     "output_type": "execute_result"
    }
   ],
   "source": [
    "# this is what happens if we chandetailge the default separator\n",
    "CharacterTextSplitter(separator=\" \", chunk_size=20, chunk_overlap=0).split_text(text)"
   ]
  },
  {
   "cell_type": "code",
   "execution_count": 28,
   "metadata": {},
   "outputs": [
    {
     "data": {
      "text/plain": [
       "['We hold these truths',\n",
       " 'truths to be',\n",
       " 'to be self-evident,',\n",
       " 'that all men are',\n",
       " 'men are created',\n",
       " 'created equal,\\n\\nthat',\n",
       " 'they are endowed by',\n",
       " 'endowed by their',\n",
       " 'by their Creator',\n",
       " 'Creator with certain',\n",
       " 'certain unalienable',\n",
       " 'Rights,\\n\\nthat among',\n",
       " 'among these are',\n",
       " 'these are Life,',\n",
       " 'are Life, Liberty',\n",
       " 'Liberty and the',\n",
       " 'and the pursuit of',\n",
       " 'of Happiness.']"
      ]
     },
     "execution_count": 28,
     "metadata": {},
     "output_type": "execute_result"
    }
   ],
   "source": [
    "# this is what overlap does\n",
    "CharacterTextSplitter(separator=\" \", chunk_size=20, chunk_overlap=10).split_text(text)"
   ]
  },
  {
   "cell_type": "markdown",
   "metadata": {},
   "source": [
    "## RecursiveCharacterTextSplitter"
   ]
  },
  {
   "cell_type": "code",
   "execution_count": 29,
   "metadata": {},
   "outputs": [
    {
     "data": {
      "text/plain": [
       "['We hold these truths to be self-evident,',\n",
       " 'that all men are created equal,',\n",
       " 'that they are endowed by their Creator',\n",
       " 'with certain unalienable Rights,',\n",
       " 'that among these are Life, Liberty and',\n",
       " 'the pursuit of Happiness.']"
      ]
     },
     "execution_count": 29,
     "metadata": {},
     "output_type": "execute_result"
    }
   ],
   "source": [
    "# these are the default separators\n",
    "RecursiveCharacterTextSplitter(separators=[\"\\n\\n\", \"\\n\", \" \", \"\"], chunk_size=40, chunk_overlap=0).split_text(text)"
   ]
  },
  {
   "cell_type": "code",
   "execution_count": 30,
   "metadata": {},
   "outputs": [
    {
     "data": {
      "text/plain": [
       "['We hold these truths to be self-evident',\n",
       " ', that all men are created equal,',\n",
       " 'that they are endowed by their Creator',\n",
       " 'with certain unalienable Rights',\n",
       " ',',\n",
       " 'that among these are Life',\n",
       " ', Liberty and the pursuit of Happiness.']"
      ]
     },
     "execution_count": 30,
     "metadata": {},
     "output_type": "execute_result"
    }
   ],
   "source": [
    "# this is what happens if we add \",\" to the separators\n",
    "RecursiveCharacterTextSplitter(separators=[\"\\n\\n\", \"\\n\", \",\", \" \", \"\"], chunk_size=40, chunk_overlap=0).split_text(text)"
   ]
  },
  {
   "cell_type": "markdown",
   "metadata": {},
   "source": [
    "## TokenTextSplitter"
   ]
  },
  {
   "cell_type": "code",
   "execution_count": 31,
   "metadata": {},
   "outputs": [],
   "source": [
    "# the length unit for chunk_size is now tokens not characters\n",
    "if PROVIDER == \"HF\":\n",
    "    ts = SentenceTransformersTokenTextSplitter(\n",
    "        model_name=CONFIG[\"embd\"],\n",
    "        chunk_size=10, \n",
    "        tokens_per_chunk=10,\n",
    "        chunk_overlap=0,\n",
    "    )\n",
    "elif PROVIDER == \"OPENAI\":\n",
    "    ts = TokenTextSplitter(\n",
    "        model_name=CONFIG[\"embd\"], \n",
    "        chunk_size=10, \n",
    "        chunk_overlap=0,\n",
    "    )"
   ]
  },
  {
   "cell_type": "code",
   "execution_count": 32,
   "metadata": {},
   "outputs": [
    {
     "data": {
      "text/plain": [
       "['we hold these truths to be self - evident,',\n",
       " 'that all men are created equal, that they are',\n",
       " 'endowed by their creator with certain unalienable rights',\n",
       " ', that among these are life, liberty and the',\n",
       " 'pursuit of happiness.']"
      ]
     },
     "execution_count": 32,
     "metadata": {},
     "output_type": "execute_result"
    }
   ],
   "source": [
    "ts.split_text(text)"
   ]
  },
  {
   "cell_type": "code",
   "execution_count": 33,
   "metadata": {},
   "outputs": [
    {
     "data": {
      "text/plain": [
       "['we hold these truths to be self - evident,',\n",
       " 'self - evident, that all men are created equal',\n",
       " 'men are created equal, that they are endowed by',\n",
       " 'they are endowed by their creator with certain unalie',\n",
       " 'with certain unalienable rights, that among these',\n",
       " ', that among these are life, liberty and the',\n",
       " ', liberty and the pursuit of happiness.',\n",
       " 'happiness.']"
      ]
     },
     "execution_count": 33,
     "metadata": {},
     "output_type": "execute_result"
    }
   ],
   "source": [
    "# same for chunk_overlap\n",
    "if PROVIDER == \"HF\":\n",
    "    ts = SentenceTransformersTokenTextSplitter(\n",
    "        model_name=CONFIG[\"embd\"],\n",
    "        chunk_size=10, \n",
    "        tokens_per_chunk=10,\n",
    "        chunk_overlap=4,\n",
    "    )\n",
    "elif PROVIDER == \"OPENAI\":\n",
    "    ts = TokenTextSplitter(\n",
    "        model_name=CONFIG[\"embd\"], \n",
    "        chunk_size=10, \n",
    "        chunk_overlap=4,\n",
    "    )\n",
    "ts.split_text(text)"
   ]
  },
  {
   "cell_type": "markdown",
   "metadata": {},
   "source": [
    "## Lets Make a TextSplitter Choice here"
   ]
  },
  {
   "cell_type": "code",
   "execution_count": 34,
   "metadata": {
    "id": "oCi59g8rFAMi"
   },
   "outputs": [],
   "source": [
    "text_splitter = RecursiveCharacterTextSplitter(chunk_size=512, chunk_overlap=128)\n",
    "split_docs = text_splitter.split_documents(docs)"
   ]
  },
  {
   "cell_type": "code",
   "execution_count": 35,
   "metadata": {
    "id": "da7F2FUuFR8q"
   },
   "outputs": [
    {
     "data": {
      "text/html": [
       "<pre style=\"white-space:pre;overflow-x:auto;line-height:normal;font-family:Menlo,'DejaVu Sans Mono',consolas,'Courier New',monospace\">Number of original docs:  <span style=\"color: #008080; text-decoration-color: #008080; font-weight: bold\">6132</span>\n",
       "</pre>\n"
      ],
      "text/plain": [
       "Number of original docs:  \u001b[1;36m6132\u001b[0m\n"
      ]
     },
     "metadata": {},
     "output_type": "display_data"
    },
    {
     "data": {
      "text/html": [
       "<pre style=\"white-space:pre;overflow-x:auto;line-height:normal;font-family:Menlo,'DejaVu Sans Mono',consolas,'Courier New',monospace\">Number of split docs:  <span style=\"color: #008080; text-decoration-color: #008080; font-weight: bold\">183680</span>\n",
       "</pre>\n"
      ],
      "text/plain": [
       "Number of split docs:  \u001b[1;36m183680\u001b[0m\n"
      ]
     },
     "metadata": {},
     "output_type": "display_data"
    }
   ],
   "source": [
    "print(\"Number of original docs: \", len(docs))\n",
    "print(\"Number of split docs: \", len(split_docs))"
   ]
  },
  {
   "cell_type": "code",
   "execution_count": 36,
   "metadata": {},
   "outputs": [
    {
     "data": {
      "text/html": [
       "<pre style=\"white-space:pre;overflow-x:auto;line-height:normal;font-family:Menlo,'DejaVu Sans Mono',consolas,'Courier New',monospace\"><span style=\"color: #800080; text-decoration-color: #800080; font-weight: bold\">Document</span><span style=\"font-weight: bold\">(</span>\n",
       "    <span style=\"color: #808000; text-decoration-color: #808000\">page_content</span>=<span style=\"color: #008000; text-decoration-color: #008000\">'local radio for news, weather, and entertainment; and such a performance \\n        fee is not </span>\n",
       "<span style=\"color: #008000; text-decoration-color: #008000\">justified when the current system has produced the most \\n        prolific and innovative broadcasting, music, and </span>\n",
       "<span style=\"color: #008000; text-decoration-color: #008000\">sound recording \\n        industries in the world: Now, therefore, be it\\n    Resolved by the House of </span>\n",
       "<span style=\"color: #008000; text-decoration-color: #008000\">Representatives (the Senate concurring), \\nThat Congress should not impose any new performance fee, tax, royalty, </span>\n",
       "<span style=\"color: #008000; text-decoration-color: #008000\">\\nor other charge relating to the public performance of sound recordings'</span>,\n",
       "    <span style=\"color: #808000; text-decoration-color: #808000\">metadata</span>=<span style=\"font-weight: bold\">{</span>\n",
       "        <span style=\"color: #008000; text-decoration-color: #008000\">'key'</span>: <span style=\"color: #008000; text-decoration-color: #008000\">'118HCONRES13'</span>,\n",
       "        <span style=\"color: #008000; text-decoration-color: #008000\">'congress_num'</span>: <span style=\"color: #008000; text-decoration-color: #008000\">'118'</span>,\n",
       "        <span style=\"color: #008000; text-decoration-color: #008000\">'legis_class'</span>: <span style=\"color: #008000; text-decoration-color: #008000\">'HCONRES'</span>,\n",
       "        <span style=\"color: #008000; text-decoration-color: #008000\">'legis_num'</span>: <span style=\"color: #008000; text-decoration-color: #008000\">'13'</span>,\n",
       "        <span style=\"color: #008000; text-decoration-color: #008000\">'name'</span>: <span style=\"color: #008000; text-decoration-color: #008000\">'Supporting the Local Radio Freedom Act.'</span>,\n",
       "        <span style=\"color: #008000; text-decoration-color: #008000\">'summary'</span>: <span style=\"color: #008000; text-decoration-color: #008000\">' This concurrent resolution declares that Congress should not impose any new performance fee, </span>\n",
       "<span style=\"color: #008000; text-decoration-color: #008000\">tax, royalty, or other charge relating to the public performance of sound recordings on a local radio station for </span>\n",
       "<span style=\"color: #008000; text-decoration-color: #008000\">broadcasting sound recordings over the air, or on any business for such public performance of sound recordings.'</span>,\n",
       "        <span style=\"color: #008000; text-decoration-color: #008000\">'sponsor'</span>: <span style=\"color: #008000; text-decoration-color: #008000\">'W000809'</span>,\n",
       "        <span style=\"color: #008000; text-decoration-color: #008000\">'source'</span>: <span style=\"color: #008000; text-decoration-color: #008000\">'https://www.congress.gov/bill/118th-congress/house-concurrent-resolution/13'</span>\n",
       "    <span style=\"font-weight: bold\">}</span>\n",
       "<span style=\"font-weight: bold\">)</span>\n",
       "</pre>\n"
      ],
      "text/plain": [
       "\u001b[1;35mDocument\u001b[0m\u001b[1m(\u001b[0m\n",
       "    \u001b[33mpage_content\u001b[0m=\u001b[32m'local radio for news, weather, and entertainment; and such a performance \\n        fee is not \u001b[0m\n",
       "\u001b[32mjustified when the current system has produced the most \\n        prolific and innovative broadcasting, music, and \u001b[0m\n",
       "\u001b[32msound recording \\n        industries in the world: Now, therefore, be it\\n    Resolved by the House of \u001b[0m\n",
       "\u001b[32mRepresentatives \u001b[0m\u001b[32m(\u001b[0m\u001b[32mthe Senate concurring\u001b[0m\u001b[32m)\u001b[0m\u001b[32m, \\nThat Congress should not impose any new performance fee, tax, royalty, \u001b[0m\n",
       "\u001b[32m\\nor other charge relating to the public performance of sound recordings'\u001b[0m,\n",
       "    \u001b[33mmetadata\u001b[0m=\u001b[1m{\u001b[0m\n",
       "        \u001b[32m'key'\u001b[0m: \u001b[32m'118HCONRES13'\u001b[0m,\n",
       "        \u001b[32m'congress_num'\u001b[0m: \u001b[32m'118'\u001b[0m,\n",
       "        \u001b[32m'legis_class'\u001b[0m: \u001b[32m'HCONRES'\u001b[0m,\n",
       "        \u001b[32m'legis_num'\u001b[0m: \u001b[32m'13'\u001b[0m,\n",
       "        \u001b[32m'name'\u001b[0m: \u001b[32m'Supporting the Local Radio Freedom Act.'\u001b[0m,\n",
       "        \u001b[32m'summary'\u001b[0m: \u001b[32m' This concurrent resolution declares that Congress should not impose any new performance fee, \u001b[0m\n",
       "\u001b[32mtax, royalty, or other charge relating to the public performance of sound recordings on a local radio station for \u001b[0m\n",
       "\u001b[32mbroadcasting sound recordings over the air, or on any business for such public performance of sound recordings.'\u001b[0m,\n",
       "        \u001b[32m'sponsor'\u001b[0m: \u001b[32m'W000809'\u001b[0m,\n",
       "        \u001b[32m'source'\u001b[0m: \u001b[32m'https://www.congress.gov/bill/118th-congress/house-concurrent-resolution/13'\u001b[0m\n",
       "    \u001b[1m}\u001b[0m\n",
       "\u001b[1m)\u001b[0m\n"
      ]
     },
     "metadata": {},
     "output_type": "display_data"
    }
   ],
   "source": [
    "print(split_docs[50])"
   ]
  },
  {
   "cell_type": "markdown",
   "metadata": {
    "id": "7BVOa0TebHtY"
   },
   "source": [
    "# Part 2 - Embed and Index Doc Chunks\n",
    "\n",
    "Now we will embed and index the document chunks from the previous section. \n",
    "We have many choices when it comes to text embedding models and vector indexes. \n",
    "For this tutorial we will choose, \n",
    "\n",
    "* text embedding model: `text_embedding_ada_002`\n",
    "* vector index:\n",
    "  * https://www.trychroma.com\n",
    "  * https://docs.trychroma.com/usage-guide#changing-the-distance-function\n",
    "  * https://github.com/nmslib/hnswlib/tree/master#supported-distances\n",
    "  * https://github.com/hwchase17/langchain/blob/master/langchain/vectorstores/chroma.py\n",
    "  * https://github.com/hwchase17/langchain/blob/master/langchain/vectorstores/utils.py#L10\n",
    "\n",
    "For a look at some of the top performing closed and open source text embedding models, check out the HuggingFace Massive Text Embedding Benchmark (MTEB), \n",
    "* https://huggingface.co/spaces/mteb/leaderboard\n",
    "  \n",
    "For a more detailed introduction to embeddings in general, see the embeddings notebook\n",
    "* https://github.com/FMurray/hyperdemocracy/blob/main/sidequests/embeddings_v2.ipynb"
   ]
  },
  {
   "cell_type": "code",
   "execution_count": 37,
   "metadata": {
    "id": "UdBDoTvLbLfZ"
   },
   "outputs": [],
   "source": [
    "from langchain.vectorstores import Chroma\n",
    "from langchain.embeddings import OpenAIEmbeddings\n",
    "from langchain.embeddings import HuggingFaceEmbeddings"
   ]
  },
  {
   "cell_type": "code",
   "execution_count": 38,
   "metadata": {},
   "outputs": [],
   "source": [
    "if PROVIDER == \"HF\":\n",
    "    embeddings = HuggingFaceEmbeddings(model_name=CONFIG[\"embd\"])\n",
    "elif PROVIDER == \"OPENAI\":\n",
    "    embeddings = OpenAIEmbeddings(model=CONFIG[\"embd\"])"
   ]
  },
  {
   "cell_type": "code",
   "execution_count": 39,
   "metadata": {},
   "outputs": [
    {
     "data": {
      "text/html": [
       "<pre style=\"white-space:pre;overflow-x:auto;line-height:normal;font-family:Menlo,'DejaVu Sans Mono',consolas,'Courier New',monospace\">hyperdemocracy-chromadb-prov-HF-ndocs-<span style=\"color: #008080; text-decoration-color: #008080; font-weight: bold\">6132</span>\n",
       "</pre>\n"
      ],
      "text/plain": [
       "hyperdemocracy-chromadb-prov-HF-ndocs-\u001b[1;36m6132\u001b[0m\n"
      ]
     },
     "metadata": {},
     "output_type": "display_data"
    }
   ],
   "source": [
    "persist_directory = f\"hyperdemocracy-chromadb-prov-{PROVIDER}-ndocs-{NUM_DOCS}\"\n",
    "print(persist_directory)"
   ]
  },
  {
   "cell_type": "code",
   "execution_count": 40,
   "metadata": {
    "id": "18-prZMJFisk"
   },
   "outputs": [
    {
     "data": {
      "application/vnd.jupyter.widget-view+json": {
       "model_id": "63b62d631d5b455cb8abe9a21c204c94",
       "version_major": 2,
       "version_minor": 0
      },
      "text/plain": [
       "FloatProgress(value=0.0, layout=Layout(width='auto'), style=ProgressStyle(bar_color='black'))"
      ]
     },
     "metadata": {},
     "output_type": "display_data"
    }
   ],
   "source": [
    "## THIS CELL SPENDS MONEY THE FIRST TIME ##\n",
    "if os.path.exists(persist_directory):\n",
    "    vec_store = Chroma(persist_directory=persist_directory, embedding_function=embeddings)\n",
    "else:\n",
    "    batch_size = 128\n",
    "    for ii in tqdm(range(0, len(split_docs), batch_size)):\n",
    "        batch = split_docs[ii:ii+batch_size]\n",
    "        if ii == 0:\n",
    "            vec_store = Chroma.from_documents(batch, embeddings, persist_directory=persist_directory)\n",
    "        else:\n",
    "            vec_store.add_documents(batch)\n",
    "        time.sleep(1.0)\n",
    "    vec_store.persist()"
   ]
  },
  {
   "cell_type": "code",
   "execution_count": 41,
   "metadata": {
    "id": "Y8wCr8FuFnUf"
   },
   "outputs": [
    {
     "data": {
      "text/plain": [
       "<langchain.vectorstores.chroma.Chroma at 0x7f6aa33e04d0>"
      ]
     },
     "execution_count": 41,
     "metadata": {},
     "output_type": "execute_result"
    }
   ],
   "source": [
    "vec_store"
   ]
  },
  {
   "cell_type": "code",
   "execution_count": 42,
   "metadata": {
    "id": "dl4Zh4V5FqEM"
   },
   "outputs": [
    {
     "data": {
      "text/html": [
       "<pre style=\"white-space:pre;overflow-x:auto;line-height:normal;font-family:Menlo,'DejaVu Sans Mono',consolas,'Courier New',monospace\">number of returned docs:  <span style=\"color: #008080; text-decoration-color: #008080; font-weight: bold\">3</span>\n",
       "</pre>\n"
      ],
      "text/plain": [
       "number of returned docs:  \u001b[1;36m3\u001b[0m\n"
      ]
     },
     "metadata": {},
     "output_type": "display_data"
    },
    {
     "data": {
      "text/html": [
       "<pre style=\"white-space:pre;overflow-x:auto;line-height:normal;font-family:Menlo,'DejaVu Sans Mono',consolas,'Courier New',monospace\"><span style=\"font-weight: bold\">(</span>\n",
       "    <span style=\"color: #800080; text-decoration-color: #800080; font-weight: bold\">Document</span><span style=\"font-weight: bold\">(</span>\n",
       "        <span style=\"color: #808000; text-decoration-color: #808000\">page_content</span>=<span style=\"color: #008000; text-decoration-color: #008000\">'producer in the world;\\nWhereas, in 2019, the United States became a net exporter of </span>\n",
       "<span style=\"color: #008000; text-decoration-color: #008000\">petroleum products \\n        for the first time since 1952, and the reliance of the United States on \\n        </span>\n",
       "<span style=\"color: #008000; text-decoration-color: #008000\">foreign imports of petroleum products has declined to historic lows; and\\nWhereas free trade, open markets, and </span>\n",
       "<span style=\"color: #008000; text-decoration-color: #008000\">competition have contributed to the rise \\n        of the United States as a global energy superpower: Now, </span>\n",
       "<span style=\"color: #008000; text-decoration-color: #008000\">therefore, be \\n        it'</span>,\n",
       "        <span style=\"color: #808000; text-decoration-color: #808000\">metadata</span>=<span style=\"font-weight: bold\">{</span>\n",
       "            <span style=\"color: #008000; text-decoration-color: #008000\">'key'</span>: <span style=\"color: #008000; text-decoration-color: #008000\">'118HCONRES17'</span>,\n",
       "            <span style=\"color: #008000; text-decoration-color: #008000\">'congress_num'</span>: <span style=\"color: #008000; text-decoration-color: #008000\">'118'</span>,\n",
       "            <span style=\"color: #008000; text-decoration-color: #008000\">'legis_class'</span>: <span style=\"color: #008000; text-decoration-color: #008000\">'HCONRES'</span>,\n",
       "            <span style=\"color: #008000; text-decoration-color: #008000\">'legis_num'</span>: <span style=\"color: #008000; text-decoration-color: #008000\">'17'</span>,\n",
       "            <span style=\"color: #008000; text-decoration-color: #008000\">'name'</span>: <span style=\"color: #008000; text-decoration-color: #008000\">'Expressing the sense of Congress that the Federal Government should not impose any </span>\n",
       "<span style=\"color: #008000; text-decoration-color: #008000\">restrictions on the export of crude oil or other petroleum products.'</span>,\n",
       "            <span style=\"color: #008000; text-decoration-color: #008000\">'summary'</span>: <span style=\"color: #008000; text-decoration-color: #008000\">''</span>,\n",
       "            <span style=\"color: #008000; text-decoration-color: #008000\">'sponsor'</span>: <span style=\"color: #008000; text-decoration-color: #008000\">'G000558'</span>,\n",
       "            <span style=\"color: #008000; text-decoration-color: #008000\">'source'</span>: <span style=\"color: #008000; text-decoration-color: #008000\">'https://www.congress.gov/bill/118th-congress/house-concurrent-resolution/17'</span>\n",
       "        <span style=\"font-weight: bold\">}</span>\n",
       "    <span style=\"font-weight: bold\">)</span>,\n",
       "    <span style=\"color: #008080; text-decoration-color: #008080; font-weight: bold\">1.3940151929855347</span>\n",
       "<span style=\"font-weight: bold\">)</span>\n",
       "</pre>\n"
      ],
      "text/plain": [
       "\u001b[1m(\u001b[0m\n",
       "    \u001b[1;35mDocument\u001b[0m\u001b[1m(\u001b[0m\n",
       "        \u001b[33mpage_content\u001b[0m=\u001b[32m'producer in the world;\\nWhereas, in 2019, the United States became a net exporter of \u001b[0m\n",
       "\u001b[32mpetroleum products \\n        for the first time since 1952, and the reliance of the United States on \\n        \u001b[0m\n",
       "\u001b[32mforeign imports of petroleum products has declined to historic lows; and\\nWhereas free trade, open markets, and \u001b[0m\n",
       "\u001b[32mcompetition have contributed to the rise \\n        of the United States as a global energy superpower: Now, \u001b[0m\n",
       "\u001b[32mtherefore, be \\n        it'\u001b[0m,\n",
       "        \u001b[33mmetadata\u001b[0m=\u001b[1m{\u001b[0m\n",
       "            \u001b[32m'key'\u001b[0m: \u001b[32m'118HCONRES17'\u001b[0m,\n",
       "            \u001b[32m'congress_num'\u001b[0m: \u001b[32m'118'\u001b[0m,\n",
       "            \u001b[32m'legis_class'\u001b[0m: \u001b[32m'HCONRES'\u001b[0m,\n",
       "            \u001b[32m'legis_num'\u001b[0m: \u001b[32m'17'\u001b[0m,\n",
       "            \u001b[32m'name'\u001b[0m: \u001b[32m'Expressing the sense of Congress that the Federal Government should not impose any \u001b[0m\n",
       "\u001b[32mrestrictions on the export of crude oil or other petroleum products.'\u001b[0m,\n",
       "            \u001b[32m'summary'\u001b[0m: \u001b[32m''\u001b[0m,\n",
       "            \u001b[32m'sponsor'\u001b[0m: \u001b[32m'G000558'\u001b[0m,\n",
       "            \u001b[32m'source'\u001b[0m: \u001b[32m'https://www.congress.gov/bill/118th-congress/house-concurrent-resolution/17'\u001b[0m\n",
       "        \u001b[1m}\u001b[0m\n",
       "    \u001b[1m)\u001b[0m,\n",
       "    \u001b[1;36m1.3940151929855347\u001b[0m\n",
       "\u001b[1m)\u001b[0m\n"
      ]
     },
     "metadata": {},
     "output_type": "display_data"
    },
    {
     "data": {
      "text/html": [
       "<pre style=\"white-space:pre;overflow-x:auto;line-height:normal;font-family:Menlo,'DejaVu Sans Mono',consolas,'Courier New',monospace\"><span style=\"font-weight: bold\">(</span>\n",
       "    <span style=\"color: #800080; text-decoration-color: #800080; font-weight: bold\">Document</span><span style=\"font-weight: bold\">(</span>\n",
       "        <span style=\"color: #808000; text-decoration-color: #808000\">page_content</span>=<span style=\"color: #008000; text-decoration-color: #008000\">'of the United States as a global energy superpower: Now, therefore, be \\n        it\\n    </span>\n",
       "<span style=\"color: #008000; text-decoration-color: #008000\">Resolved by the House of Representatives (the Senate concurring), \\nThat it is the sense of Congress that the </span>\n",
       "<span style=\"color: #008000; text-decoration-color: #008000\">Federal Government should not \\nimpose--\\n            (1) overly restrictive regulations on the exploration, \\n    </span>\n",
       "<span style=\"color: #008000; text-decoration-color: #008000\">production, or marketing of energy resources; or\\n            (2) any restrictions on the export of crude oil or </span>\n",
       "<span style=\"color: #008000; text-decoration-color: #008000\">other \\n        petroleum products under the Energy Policy and Conservation Act'</span>,\n",
       "        <span style=\"color: #808000; text-decoration-color: #808000\">metadata</span>=<span style=\"font-weight: bold\">{</span>\n",
       "            <span style=\"color: #008000; text-decoration-color: #008000\">'key'</span>: <span style=\"color: #008000; text-decoration-color: #008000\">'118HCONRES17'</span>,\n",
       "            <span style=\"color: #008000; text-decoration-color: #008000\">'congress_num'</span>: <span style=\"color: #008000; text-decoration-color: #008000\">'118'</span>,\n",
       "            <span style=\"color: #008000; text-decoration-color: #008000\">'legis_class'</span>: <span style=\"color: #008000; text-decoration-color: #008000\">'HCONRES'</span>,\n",
       "            <span style=\"color: #008000; text-decoration-color: #008000\">'legis_num'</span>: <span style=\"color: #008000; text-decoration-color: #008000\">'17'</span>,\n",
       "            <span style=\"color: #008000; text-decoration-color: #008000\">'name'</span>: <span style=\"color: #008000; text-decoration-color: #008000\">'Expressing the sense of Congress that the Federal Government should not impose any </span>\n",
       "<span style=\"color: #008000; text-decoration-color: #008000\">restrictions on the export of crude oil or other petroleum products.'</span>,\n",
       "            <span style=\"color: #008000; text-decoration-color: #008000\">'summary'</span>: <span style=\"color: #008000; text-decoration-color: #008000\">''</span>,\n",
       "            <span style=\"color: #008000; text-decoration-color: #008000\">'sponsor'</span>: <span style=\"color: #008000; text-decoration-color: #008000\">'G000558'</span>,\n",
       "            <span style=\"color: #008000; text-decoration-color: #008000\">'source'</span>: <span style=\"color: #008000; text-decoration-color: #008000\">'https://www.congress.gov/bill/118th-congress/house-concurrent-resolution/17'</span>\n",
       "        <span style=\"font-weight: bold\">}</span>\n",
       "    <span style=\"font-weight: bold\">)</span>,\n",
       "    <span style=\"color: #008080; text-decoration-color: #008080; font-weight: bold\">1.4783275127410889</span>\n",
       "<span style=\"font-weight: bold\">)</span>\n",
       "</pre>\n"
      ],
      "text/plain": [
       "\u001b[1m(\u001b[0m\n",
       "    \u001b[1;35mDocument\u001b[0m\u001b[1m(\u001b[0m\n",
       "        \u001b[33mpage_content\u001b[0m=\u001b[32m'of the United States as a global energy superpower: Now, therefore, be \\n        it\\n    \u001b[0m\n",
       "\u001b[32mResolved by the House of Representatives \u001b[0m\u001b[32m(\u001b[0m\u001b[32mthe Senate concurring\u001b[0m\u001b[32m)\u001b[0m\u001b[32m, \\nThat it is the sense of Congress that the \u001b[0m\n",
       "\u001b[32mFederal Government should not \\nimpose--\\n            \u001b[0m\u001b[32m(\u001b[0m\u001b[32m1\u001b[0m\u001b[32m)\u001b[0m\u001b[32m overly restrictive regulations on the exploration, \\n    \u001b[0m\n",
       "\u001b[32mproduction, or marketing of energy resources; or\\n            \u001b[0m\u001b[32m(\u001b[0m\u001b[32m2\u001b[0m\u001b[32m)\u001b[0m\u001b[32m any restrictions on the export of crude oil or \u001b[0m\n",
       "\u001b[32mother \\n        petroleum products under the Energy Policy and Conservation Act'\u001b[0m,\n",
       "        \u001b[33mmetadata\u001b[0m=\u001b[1m{\u001b[0m\n",
       "            \u001b[32m'key'\u001b[0m: \u001b[32m'118HCONRES17'\u001b[0m,\n",
       "            \u001b[32m'congress_num'\u001b[0m: \u001b[32m'118'\u001b[0m,\n",
       "            \u001b[32m'legis_class'\u001b[0m: \u001b[32m'HCONRES'\u001b[0m,\n",
       "            \u001b[32m'legis_num'\u001b[0m: \u001b[32m'17'\u001b[0m,\n",
       "            \u001b[32m'name'\u001b[0m: \u001b[32m'Expressing the sense of Congress that the Federal Government should not impose any \u001b[0m\n",
       "\u001b[32mrestrictions on the export of crude oil or other petroleum products.'\u001b[0m,\n",
       "            \u001b[32m'summary'\u001b[0m: \u001b[32m''\u001b[0m,\n",
       "            \u001b[32m'sponsor'\u001b[0m: \u001b[32m'G000558'\u001b[0m,\n",
       "            \u001b[32m'source'\u001b[0m: \u001b[32m'https://www.congress.gov/bill/118th-congress/house-concurrent-resolution/17'\u001b[0m\n",
       "        \u001b[1m}\u001b[0m\n",
       "    \u001b[1m)\u001b[0m,\n",
       "    \u001b[1;36m1.4783275127410889\u001b[0m\n",
       "\u001b[1m)\u001b[0m\n"
      ]
     },
     "metadata": {},
     "output_type": "display_data"
    },
    {
     "data": {
      "text/html": [
       "<pre style=\"white-space:pre;overflow-x:auto;line-height:normal;font-family:Menlo,'DejaVu Sans Mono',consolas,'Courier New',monospace\"><span style=\"font-weight: bold\">(</span>\n",
       "    <span style=\"color: #800080; text-decoration-color: #800080; font-weight: bold\">Document</span><span style=\"font-weight: bold\">(</span>\n",
       "        <span style=\"color: #808000; text-decoration-color: #808000\">page_content</span>=<span style=\"color: #008000; text-decoration-color: #008000\">'Whereas the United States has enjoyed a renaissance in energy production, with \\n        the </span>\n",
       "<span style=\"color: #008000; text-decoration-color: #008000\">expansion of domestic crude oil and other petroleum product \\n        production contributing to enhanced energy </span>\n",
       "<span style=\"color: #008000; text-decoration-color: #008000\">security and significant \\n        economic benefits to the national economy;\\nWhereas, in 2015, Congress </span>\n",
       "<span style=\"color: #008000; text-decoration-color: #008000\">recognized the need to adapt to changing crude oil \\n        market conditions and repealed all restrictions on the</span>\n",
       "<span style=\"color: #008000; text-decoration-color: #008000\">export of crude \\n        oil on a bipartisan basis;'</span>,\n",
       "        <span style=\"color: #808000; text-decoration-color: #808000\">metadata</span>=<span style=\"font-weight: bold\">{</span>\n",
       "            <span style=\"color: #008000; text-decoration-color: #008000\">'key'</span>: <span style=\"color: #008000; text-decoration-color: #008000\">'118HCONRES17'</span>,\n",
       "            <span style=\"color: #008000; text-decoration-color: #008000\">'congress_num'</span>: <span style=\"color: #008000; text-decoration-color: #008000\">'118'</span>,\n",
       "            <span style=\"color: #008000; text-decoration-color: #008000\">'legis_class'</span>: <span style=\"color: #008000; text-decoration-color: #008000\">'HCONRES'</span>,\n",
       "            <span style=\"color: #008000; text-decoration-color: #008000\">'legis_num'</span>: <span style=\"color: #008000; text-decoration-color: #008000\">'17'</span>,\n",
       "            <span style=\"color: #008000; text-decoration-color: #008000\">'name'</span>: <span style=\"color: #008000; text-decoration-color: #008000\">'Expressing the sense of Congress that the Federal Government should not impose any </span>\n",
       "<span style=\"color: #008000; text-decoration-color: #008000\">restrictions on the export of crude oil or other petroleum products.'</span>,\n",
       "            <span style=\"color: #008000; text-decoration-color: #008000\">'summary'</span>: <span style=\"color: #008000; text-decoration-color: #008000\">''</span>,\n",
       "            <span style=\"color: #008000; text-decoration-color: #008000\">'sponsor'</span>: <span style=\"color: #008000; text-decoration-color: #008000\">'G000558'</span>,\n",
       "            <span style=\"color: #008000; text-decoration-color: #008000\">'source'</span>: <span style=\"color: #008000; text-decoration-color: #008000\">'https://www.congress.gov/bill/118th-congress/house-concurrent-resolution/17'</span>\n",
       "        <span style=\"font-weight: bold\">}</span>\n",
       "    <span style=\"font-weight: bold\">)</span>,\n",
       "    <span style=\"color: #008080; text-decoration-color: #008080; font-weight: bold\">1.5029969215393066</span>\n",
       "<span style=\"font-weight: bold\">)</span>\n",
       "</pre>\n"
      ],
      "text/plain": [
       "\u001b[1m(\u001b[0m\n",
       "    \u001b[1;35mDocument\u001b[0m\u001b[1m(\u001b[0m\n",
       "        \u001b[33mpage_content\u001b[0m=\u001b[32m'Whereas the United States has enjoyed a renaissance in energy production, with \\n        the \u001b[0m\n",
       "\u001b[32mexpansion of domestic crude oil and other petroleum product \\n        production contributing to enhanced energy \u001b[0m\n",
       "\u001b[32msecurity and significant \\n        economic benefits to the national economy;\\nWhereas, in 2015, Congress \u001b[0m\n",
       "\u001b[32mrecognized the need to adapt to changing crude oil \\n        market conditions and repealed all restrictions on the\u001b[0m\n",
       "\u001b[32mexport of crude \\n        oil on a bipartisan basis;'\u001b[0m,\n",
       "        \u001b[33mmetadata\u001b[0m=\u001b[1m{\u001b[0m\n",
       "            \u001b[32m'key'\u001b[0m: \u001b[32m'118HCONRES17'\u001b[0m,\n",
       "            \u001b[32m'congress_num'\u001b[0m: \u001b[32m'118'\u001b[0m,\n",
       "            \u001b[32m'legis_class'\u001b[0m: \u001b[32m'HCONRES'\u001b[0m,\n",
       "            \u001b[32m'legis_num'\u001b[0m: \u001b[32m'17'\u001b[0m,\n",
       "            \u001b[32m'name'\u001b[0m: \u001b[32m'Expressing the sense of Congress that the Federal Government should not impose any \u001b[0m\n",
       "\u001b[32mrestrictions on the export of crude oil or other petroleum products.'\u001b[0m,\n",
       "            \u001b[32m'summary'\u001b[0m: \u001b[32m''\u001b[0m,\n",
       "            \u001b[32m'sponsor'\u001b[0m: \u001b[32m'G000558'\u001b[0m,\n",
       "            \u001b[32m'source'\u001b[0m: \u001b[32m'https://www.congress.gov/bill/118th-congress/house-concurrent-resolution/17'\u001b[0m\n",
       "        \u001b[1m}\u001b[0m\n",
       "    \u001b[1m)\u001b[0m,\n",
       "    \u001b[1;36m1.5029969215393066\u001b[0m\n",
       "\u001b[1m)\u001b[0m\n"
      ]
     },
     "metadata": {},
     "output_type": "display_data"
    }
   ],
   "source": [
    "ret_docs = vec_store.similarity_search_with_score(\n",
    "    \"commercial relations in Europe\", \n",
    "    k=3, \n",
    "    filter={\"source\": \"https://www.congress.gov/bill/118th-congress/house-concurrent-resolution/17\"},\n",
    ")\n",
    "\n",
    "print(\"number of returned docs: \", len(ret_docs))\n",
    "for doc in ret_docs:\n",
    "    print(doc)"
   ]
  },
  {
   "cell_type": "markdown",
   "metadata": {
    "id": "Bdr41mxrb-rn"
   },
   "source": [
    "# Part 3 - Build A RetrievalQA Chain"
   ]
  },
  {
   "cell_type": "code",
   "execution_count": 43,
   "metadata": {},
   "outputs": [],
   "source": [
    "import langchain\n",
    "langchain.verbose = False"
   ]
  },
  {
   "cell_type": "code",
   "execution_count": 44,
   "metadata": {
    "id": "1bllOTmFfWdS"
   },
   "outputs": [],
   "source": [
    "from langchain.chains import RetrievalQA\n",
    "from langchain.chains import RetrievalQAWithSourcesChain\n",
    "from langchain.llms import HuggingFaceHub\n",
    "from langchain.llms import OpenAI\n",
    "from langchain.chat_models import ChatOpenAI\n",
    "\n",
    "# base classes to examine\n",
    "from langchain.vectorstores.base import VectorStore\n",
    "from langchain.schema import BaseRetriever"
   ]
  },
  {
   "cell_type": "markdown",
   "metadata": {},
   "source": [
    "## Create a Retriever from Chroma VectorStore"
   ]
  },
  {
   "cell_type": "code",
   "execution_count": 45,
   "metadata": {
    "id": "vBt_jRxmF94T"
   },
   "outputs": [],
   "source": [
    "retriever = vec_store.as_retriever(search_kwargs={'k':5})"
   ]
  },
  {
   "cell_type": "code",
   "execution_count": 46,
   "metadata": {},
   "outputs": [
    {
     "data": {
      "text/plain": [
       "<langchain.vectorstores.chroma.Chroma at 0x7f6aa33e04d0>"
      ]
     },
     "execution_count": 46,
     "metadata": {},
     "output_type": "execute_result"
    }
   ],
   "source": [
    "vec_store"
   ]
  },
  {
   "cell_type": "code",
   "execution_count": 47,
   "metadata": {
    "id": "9ODHd9ltGQlq"
   },
   "outputs": [
    {
     "data": {
      "text/plain": [
       "VectorStoreRetriever(vectorstore=<langchain.vectorstores.chroma.Chroma object at 0x7f6aa33e04d0>, search_type='similarity', search_kwargs={'k': 5})"
      ]
     },
     "execution_count": 47,
     "metadata": {},
     "output_type": "execute_result"
    }
   ],
   "source": [
    "retriever"
   ]
  },
  {
   "cell_type": "markdown",
   "metadata": {},
   "source": [
    "## Plug in a Language Model\n",
    "\n",
    "With LangChain we can use a text completion model or a chat model for QA."
   ]
  },
  {
   "cell_type": "code",
   "execution_count": 48,
   "metadata": {},
   "outputs": [],
   "source": [
    "if PROVIDER == \"HF\":\n",
    "    llm = HuggingFaceHub(\n",
    "        repo_id=CONFIG[\"llm\"], \n",
    "        model_kwargs={\n",
    "            \"temperature\": 0,\n",
    "            \"max_length\": 512,\n",
    "        })\n",
    "elif PROVIDER == \"OPENAI\":\n",
    "    if CONFIG[\"llm\"].startswith(\"text\"):\n",
    "        llm = OpenAI(model_name=CONFIG[\"llm\"], temperature=0)\n",
    "    elif CONFIG[\"llm\"].startswith(\"gpt\"):\n",
    "        llm = ChatOpenAI(model_name=CONFIG[\"llm\"], temperature=0)"
   ]
  },
  {
   "cell_type": "code",
   "execution_count": 49,
   "metadata": {},
   "outputs": [
    {
     "data": {
      "text/plain": [
       "HuggingFaceHub(cache=None, verbose=False, callbacks=None, callback_manager=None, tags=None, client=InferenceAPI(api_url='https://api-inference.huggingface.co/pipeline/text2text-generation/google/flan-t5-large', task='text2text-generation', options={'wait_for_model': True, 'use_gpu': False}), repo_id='google/flan-t5-large', task=None, model_kwargs={'temperature': 0, 'max_length': 512}, huggingfacehub_api_token=None)"
      ]
     },
     "execution_count": 49,
     "metadata": {},
     "output_type": "execute_result"
    }
   ],
   "source": [
    "llm"
   ]
  },
  {
   "cell_type": "code",
   "execution_count": 50,
   "metadata": {
    "id": "kPEKaYi3GmE1"
   },
   "outputs": [],
   "source": [
    "# create a RetrievalQA Chain\n",
    "qa = RetrievalQA.from_chain_type(\n",
    "    llm=llm,\n",
    "    chain_type=\"stuff\", \n",
    "    retriever=retriever, \n",
    "    return_source_documents=True,\n",
    ")"
   ]
  },
  {
   "cell_type": "code",
   "execution_count": 51,
   "metadata": {},
   "outputs": [
    {
     "data": {
      "text/html": [
       "<pre style=\"white-space:pre;overflow-x:auto;line-height:normal;font-family:Menlo,'DejaVu Sans Mono',consolas,'Courier New',monospace\">regular, transparent, and unmanipulated visits by members of the press, Members of Congress, congressional staff \n",
       "delegations, the United States Special Coordinator for Uyghur Issues under section <span style=\"color: #008080; text-decoration-color: #008080; font-weight: bold\">4</span>\n",
       "</pre>\n"
      ],
      "text/plain": [
       "regular, transparent, and unmanipulated visits by members of the press, Members of Congress, congressional staff \n",
       "delegations, the United States Special Coordinator for Uyghur Issues under section \u001b[1;36m4\u001b[0m\n"
      ]
     },
     "metadata": {},
     "output_type": "display_data"
    },
    {
     "data": {
      "text/html": [
       "<pre style=\"white-space:pre;overflow-x:auto;line-height:normal;font-family:Menlo,'DejaVu Sans Mono',consolas,'Courier New',monospace\"><span style=\"font-weight: bold\">[</span>\n",
       "    <span style=\"color: #800080; text-decoration-color: #800080; font-weight: bold\">Document</span><span style=\"font-weight: bold\">(</span>\n",
       "        <span style=\"color: #808000; text-decoration-color: #808000\">page_content</span>=<span style=\"color: #008000; text-decoration-color: #008000\">\"Congress finds the following:\\n            (1) It has been the long-standing policy of the </span>\n",
       "<span style=\"color: #008000; text-decoration-color: #008000\">United \\n        States to encourage meaningful and direct dialogue between \\n        People's Republic of China </span>\n",
       "<span style=\"color: #008000; text-decoration-color: #008000\">authorities and the Dalai Lama or \\n        his representatives, without preconditions, to seek a \\n        </span>\n",
       "<span style=\"color: #008000; text-decoration-color: #008000\">settlement that resolves differences.\\n            (2) Ten rounds of dialogue held between 2002 and 2010 \\n        </span>\n",
       "<span style=\"color: #008000; text-decoration-color: #008000\">between the People's Republic of China authorities and the 14th\"</span>,\n",
       "        <span style=\"color: #808000; text-decoration-color: #808000\">metadata</span>=<span style=\"font-weight: bold\">{</span>\n",
       "            <span style=\"color: #008000; text-decoration-color: #008000\">'key'</span>: <span style=\"color: #008000; text-decoration-color: #008000\">'118HR533'</span>,\n",
       "            <span style=\"color: #008000; text-decoration-color: #008000\">'congress_num'</span>: <span style=\"color: #008000; text-decoration-color: #008000\">'118'</span>,\n",
       "            <span style=\"color: #008000; text-decoration-color: #008000\">'legis_class'</span>: <span style=\"color: #008000; text-decoration-color: #008000\">'HR'</span>,\n",
       "            <span style=\"color: #008000; text-decoration-color: #008000\">'legis_num'</span>: <span style=\"color: #008000; text-decoration-color: #008000\">'533'</span>,\n",
       "            <span style=\"color: #008000; text-decoration-color: #008000\">'name'</span>: <span style=\"color: #008000; text-decoration-color: #008000\">'Promoting a Resolution to the Tibet-China Conflict Act'</span>,\n",
       "            <span style=\"color: #008000; text-decoration-color: #008000\">'summary'</span>: <span style=\"color: #008000; text-decoration-color: #008000\">\" Promoting a Resolution to the Tibet-China Conflict Act This bill addresses issues relating</span>\n",
       "<span style=\"color: #008000; text-decoration-color: #008000\">to Tibet, including by establishing a statutory definition of Tibet that includes areas in Chinese provinces </span>\n",
       "<span style=\"color: #008000; text-decoration-color: #008000\">outside the Tibet Autonomous Region (TAR).  For the purposes of U.S. policies and activities relating to Tibet, </span>\n",
       "<span style=\"color: #008000; text-decoration-color: #008000\">this bill defines Tibet to include the TAR and the Tibetan areas of the Qinghai, Sichuan, Gansu, and Yunnan </span>\n",
       "<span style=\"color: #008000; text-decoration-color: #008000\">provinces. (Generally, when China's government refers to Tibet, it means only the TAR, while Tibetan exile groups </span>\n",
       "<span style=\"color: #008000; text-decoration-color: #008000\">consider historical Tibet to include the TAR as well as areas in the provinces included in this bill's definition. </span>\n",
       "<span style=\"color: #008000; text-decoration-color: #008000\">China's government formally established the TAR in 1965.) Furthermore, the objectives of the Office of the U.S. </span>\n",
       "<span style=\"color: #008000; text-decoration-color: #008000\">Special Coordinator for Tibetan Issues shall include working to ensure that U.S. government statements and </span>\n",
       "<span style=\"color: #008000; text-decoration-color: #008000\">documents counter disinformation about Tibet by China's government and the Chinese Communist Party, including </span>\n",
       "<span style=\"color: #008000; text-decoration-color: #008000\">disinformation about Tibet's history and institutions. The bill also authorizes the office to take other actions to</span>\n",
       "<span style=\"color: #008000; text-decoration-color: #008000\">counter such disinformation.  This bill also states that it is U.S. policy that the conflict between Tibet and </span>\n",
       "<span style=\"color: #008000; text-decoration-color: #008000\">China is unresolved and that Tibet's legal status remains to be determined in accordance with international law. \"</span>,\n",
       "            <span style=\"color: #008000; text-decoration-color: #008000\">'sponsor'</span>: <span style=\"color: #008000; text-decoration-color: #008000\">'M000312'</span>,\n",
       "            <span style=\"color: #008000; text-decoration-color: #008000\">'source'</span>: <span style=\"color: #008000; text-decoration-color: #008000\">'https://www.congress.gov/bill/118th-congress/house-bill/533'</span>\n",
       "        <span style=\"font-weight: bold\">}</span>\n",
       "    <span style=\"font-weight: bold\">)</span>,\n",
       "    <span style=\"color: #800080; text-decoration-color: #800080; font-weight: bold\">Document</span><span style=\"font-weight: bold\">(</span>\n",
       "        <span style=\"color: #808000; text-decoration-color: #808000\">page_content</span>=<span style=\"color: #008000; text-decoration-color: #008000\">\"Congress finds the following:\\n            (1) It has been the long-standing policy of the </span>\n",
       "<span style=\"color: #008000; text-decoration-color: #008000\">United \\n        States to encourage meaningful and direct dialogue between \\n        People's Republic of China </span>\n",
       "<span style=\"color: #008000; text-decoration-color: #008000\">authorities and the Dalai Lama or \\n        his representatives, without preconditions, to seek a \\n        </span>\n",
       "<span style=\"color: #008000; text-decoration-color: #008000\">settlement that resolves differences.\\n            (2) Ten rounds of dialogue held between 2002 and 2010 \\n        </span>\n",
       "<span style=\"color: #008000; text-decoration-color: #008000\">between the People's Republic of China authorities and the 14th\"</span>,\n",
       "        <span style=\"color: #808000; text-decoration-color: #808000\">metadata</span>=<span style=\"font-weight: bold\">{</span>\n",
       "            <span style=\"color: #008000; text-decoration-color: #008000\">'key'</span>: <span style=\"color: #008000; text-decoration-color: #008000\">'118S138'</span>,\n",
       "            <span style=\"color: #008000; text-decoration-color: #008000\">'congress_num'</span>: <span style=\"color: #008000; text-decoration-color: #008000\">'118'</span>,\n",
       "            <span style=\"color: #008000; text-decoration-color: #008000\">'legis_class'</span>: <span style=\"color: #008000; text-decoration-color: #008000\">'S'</span>,\n",
       "            <span style=\"color: #008000; text-decoration-color: #008000\">'legis_num'</span>: <span style=\"color: #008000; text-decoration-color: #008000\">'138'</span>,\n",
       "            <span style=\"color: #008000; text-decoration-color: #008000\">'name'</span>: <span style=\"color: #008000; text-decoration-color: #008000\">'Promoting a Resolution to the Tibet-China Conflict Act'</span>,\n",
       "            <span style=\"color: #008000; text-decoration-color: #008000\">'summary'</span>: <span style=\"color: #008000; text-decoration-color: #008000\">\" Promoting a Resolution to the Tibet-China Conflict Act This bill addresses issues relating</span>\n",
       "<span style=\"color: #008000; text-decoration-color: #008000\">to Tibet, including by establishing a statutory definition of Tibet that includes areas in Chinese provinces </span>\n",
       "<span style=\"color: #008000; text-decoration-color: #008000\">outside the Tibet Autonomous Region (TAR).  For the purposes of U.S. policies and activities relating to Tibet, </span>\n",
       "<span style=\"color: #008000; text-decoration-color: #008000\">this bill defines Tibet to include the TAR and the Tibetan areas of the Qinghai, Sichuan, Gansu, and Yunnan </span>\n",
       "<span style=\"color: #008000; text-decoration-color: #008000\">provinces. (Generally, when China's government refers to Tibet, it means only the TAR, while Tibetan exile groups </span>\n",
       "<span style=\"color: #008000; text-decoration-color: #008000\">consider historical Tibet to include the TAR as well as areas in the provinces included in this bill's definition. </span>\n",
       "<span style=\"color: #008000; text-decoration-color: #008000\">China's government formally established the TAR in 1965.) Furthermore, the objectives of the Office of the U.S. </span>\n",
       "<span style=\"color: #008000; text-decoration-color: #008000\">Special Coordinator for Tibetan Issues shall include working to ensure that U.S. government statements and </span>\n",
       "<span style=\"color: #008000; text-decoration-color: #008000\">documents counter disinformation about Tibet by China's government and the Chinese Communist Party, including </span>\n",
       "<span style=\"color: #008000; text-decoration-color: #008000\">disinformation about Tibet's history and institutions. The bill also authorizes the office to take other actions to</span>\n",
       "<span style=\"color: #008000; text-decoration-color: #008000\">counter such disinformation.  This bill also states that it is U.S. policy that the conflict between Tibet and </span>\n",
       "<span style=\"color: #008000; text-decoration-color: #008000\">China is unresolved and that Tibet's legal status remains to be determined in accordance with international law. \"</span>,\n",
       "            <span style=\"color: #008000; text-decoration-color: #008000\">'sponsor'</span>: <span style=\"color: #008000; text-decoration-color: #008000\">'M001176'</span>,\n",
       "            <span style=\"color: #008000; text-decoration-color: #008000\">'source'</span>: <span style=\"color: #008000; text-decoration-color: #008000\">'https://www.congress.gov/bill/118th-congress/senate-bill/138'</span>\n",
       "        <span style=\"font-weight: bold\">}</span>\n",
       "    <span style=\"font-weight: bold\">)</span>,\n",
       "    <span style=\"color: #800080; text-decoration-color: #800080; font-weight: bold\">Document</span><span style=\"font-weight: bold\">(</span>\n",
       "        <span style=\"color: #808000; text-decoration-color: #808000\">page_content</span>=<span style=\"color: #008000; text-decoration-color: #008000\">\"People's Republic of China.\\n            (3) To recommend steps toward a stable international</span>\n",
       "<span style=\"color: #008000; text-decoration-color: #008000\">order \\n        that includes the People's Republic of China that accounts for \\n        the People's Republic of </span>\n",
       "<span style=\"color: #008000; text-decoration-color: #008000\">China's participation in that order.\\n            (4) To consider the manner in which the United States and \\n     </span>\n",
       "<span style=\"color: #008000; text-decoration-color: #008000\">the allies and partners of the United States cooperate and \\n        compete with the People's Republic of China </span>\n",
       "<span style=\"color: #008000; text-decoration-color: #008000\">and to identify \\n        areas for such cooperation and competition.\"</span>,\n",
       "        <span style=\"color: #808000; text-decoration-color: #808000\">metadata</span>=<span style=\"font-weight: bold\">{</span>\n",
       "            <span style=\"color: #008000; text-decoration-color: #008000\">'key'</span>: <span style=\"color: #008000; text-decoration-color: #008000\">'118S863'</span>,\n",
       "            <span style=\"color: #008000; text-decoration-color: #008000\">'congress_num'</span>: <span style=\"color: #008000; text-decoration-color: #008000\">'118'</span>,\n",
       "            <span style=\"color: #008000; text-decoration-color: #008000\">'legis_class'</span>: <span style=\"color: #008000; text-decoration-color: #008000\">'S'</span>,\n",
       "            <span style=\"color: #008000; text-decoration-color: #008000\">'legis_num'</span>: <span style=\"color: #008000; text-decoration-color: #008000\">'863'</span>,\n",
       "            <span style=\"color: #008000; text-decoration-color: #008000\">'name'</span>: <span style=\"color: #008000; text-decoration-color: #008000\">\"A bill to establish a temporary commission to develop a consensus and actionable </span>\n",
       "<span style=\"color: #008000; text-decoration-color: #008000\">recommendations on a comprehensive grand strategy with respect to the United States relationship with the People's </span>\n",
       "<span style=\"color: #008000; text-decoration-color: #008000\">Republic of China for purposes of ensuring a holistic approach toward the People's Republic of China across all </span>\n",
       "<span style=\"color: #008000; text-decoration-color: #008000\">Federal departments and agencies.\"</span>,\n",
       "            <span style=\"color: #008000; text-decoration-color: #008000\">'summary'</span>: <span style=\"color: #008000; text-decoration-color: #008000\">''</span>,\n",
       "            <span style=\"color: #008000; text-decoration-color: #008000\">'sponsor'</span>: <span style=\"color: #008000; text-decoration-color: #008000\">'K000383'</span>,\n",
       "            <span style=\"color: #008000; text-decoration-color: #008000\">'source'</span>: <span style=\"color: #008000; text-decoration-color: #008000\">'https://www.congress.gov/bill/118th-congress/senate-bill/863'</span>\n",
       "        <span style=\"font-weight: bold\">}</span>\n",
       "    <span style=\"font-weight: bold\">)</span>,\n",
       "    <span style=\"color: #800080; text-decoration-color: #800080; font-weight: bold\">Document</span><span style=\"font-weight: bold\">(</span>\n",
       "        <span style=\"color: #808000; text-decoration-color: #808000\">page_content</span>=<span style=\"color: #008000; text-decoration-color: #008000\">\"Congress--\\n            (1) calls upon the Government of the People's Republic of \\n        </span>\n",
       "<span style=\"color: #008000; text-decoration-color: #008000\">China to open the XUAR to regular, transparent, and \\n        unmanipulated visits by members of the press, Members</span>\n",
       "<span style=\"color: #008000; text-decoration-color: #008000\">of \\n        Congress, congressional staff delegations, the United States \\n        Special Coordinator for Uyghur </span>\n",
       "<span style=\"color: #008000; text-decoration-color: #008000\">Issues under section 4, and \\n        members and staff of the Congressional-Executive Commission on \\n        the </span>\n",
       "<span style=\"color: #008000; text-decoration-color: #008000\">People's Republic of China;\"</span>,\n",
       "        <span style=\"color: #808000; text-decoration-color: #808000\">metadata</span>=<span style=\"font-weight: bold\">{</span>\n",
       "            <span style=\"color: #008000; text-decoration-color: #008000\">'key'</span>: <span style=\"color: #008000; text-decoration-color: #008000\">'118HR2766'</span>,\n",
       "            <span style=\"color: #008000; text-decoration-color: #008000\">'congress_num'</span>: <span style=\"color: #008000; text-decoration-color: #008000\">'118'</span>,\n",
       "            <span style=\"color: #008000; text-decoration-color: #008000\">'legis_class'</span>: <span style=\"color: #008000; text-decoration-color: #008000\">'HR'</span>,\n",
       "            <span style=\"color: #008000; text-decoration-color: #008000\">'legis_num'</span>: <span style=\"color: #008000; text-decoration-color: #008000\">'2766'</span>,\n",
       "            <span style=\"color: #008000; text-decoration-color: #008000\">'name'</span>: <span style=\"color: #008000; text-decoration-color: #008000\">'Uyghur Policy Act of 2023'</span>,\n",
       "            <span style=\"color: #008000; text-decoration-color: #008000\">'summary'</span>: <span style=\"color: #008000; text-decoration-color: #008000\">''</span>,\n",
       "            <span style=\"color: #008000; text-decoration-color: #008000\">'sponsor'</span>: <span style=\"color: #008000; text-decoration-color: #008000\">'K000397'</span>,\n",
       "            <span style=\"color: #008000; text-decoration-color: #008000\">'source'</span>: <span style=\"color: #008000; text-decoration-color: #008000\">'https://www.congress.gov/bill/118th-congress/house-bill/2766'</span>\n",
       "        <span style=\"font-weight: bold\">}</span>\n",
       "    <span style=\"font-weight: bold\">)</span>,\n",
       "    <span style=\"color: #800080; text-decoration-color: #800080; font-weight: bold\">Document</span><span style=\"font-weight: bold\">(</span>\n",
       "        <span style=\"color: #808000; text-decoration-color: #808000\">page_content</span>=<span style=\"color: #008000; text-decoration-color: #008000\">\"Government of the PRC has reached a final negotiated agreement \\n        on Tibet with the </span>\n",
       "<span style=\"color: #008000; text-decoration-color: #008000\">Dalai Lama or his representatives or with \\n        democratically elected leaders of the Tibetan people.''.\"</span>,\n",
       "        <span style=\"color: #808000; text-decoration-color: #808000\">metadata</span>=<span style=\"font-weight: bold\">{</span>\n",
       "            <span style=\"color: #008000; text-decoration-color: #008000\">'key'</span>: <span style=\"color: #008000; text-decoration-color: #008000\">'118HR533'</span>,\n",
       "            <span style=\"color: #008000; text-decoration-color: #008000\">'congress_num'</span>: <span style=\"color: #008000; text-decoration-color: #008000\">'118'</span>,\n",
       "            <span style=\"color: #008000; text-decoration-color: #008000\">'legis_class'</span>: <span style=\"color: #008000; text-decoration-color: #008000\">'HR'</span>,\n",
       "            <span style=\"color: #008000; text-decoration-color: #008000\">'legis_num'</span>: <span style=\"color: #008000; text-decoration-color: #008000\">'533'</span>,\n",
       "            <span style=\"color: #008000; text-decoration-color: #008000\">'name'</span>: <span style=\"color: #008000; text-decoration-color: #008000\">'Promoting a Resolution to the Tibet-China Conflict Act'</span>,\n",
       "            <span style=\"color: #008000; text-decoration-color: #008000\">'summary'</span>: <span style=\"color: #008000; text-decoration-color: #008000\">\" Promoting a Resolution to the Tibet-China Conflict Act This bill addresses issues relating</span>\n",
       "<span style=\"color: #008000; text-decoration-color: #008000\">to Tibet, including by establishing a statutory definition of Tibet that includes areas in Chinese provinces </span>\n",
       "<span style=\"color: #008000; text-decoration-color: #008000\">outside the Tibet Autonomous Region (TAR).  For the purposes of U.S. policies and activities relating to Tibet, </span>\n",
       "<span style=\"color: #008000; text-decoration-color: #008000\">this bill defines Tibet to include the TAR and the Tibetan areas of the Qinghai, Sichuan, Gansu, and Yunnan </span>\n",
       "<span style=\"color: #008000; text-decoration-color: #008000\">provinces. (Generally, when China's government refers to Tibet, it means only the TAR, while Tibetan exile groups </span>\n",
       "<span style=\"color: #008000; text-decoration-color: #008000\">consider historical Tibet to include the TAR as well as areas in the provinces included in this bill's definition. </span>\n",
       "<span style=\"color: #008000; text-decoration-color: #008000\">China's government formally established the TAR in 1965.) Furthermore, the objectives of the Office of the U.S. </span>\n",
       "<span style=\"color: #008000; text-decoration-color: #008000\">Special Coordinator for Tibetan Issues shall include working to ensure that U.S. government statements and </span>\n",
       "<span style=\"color: #008000; text-decoration-color: #008000\">documents counter disinformation about Tibet by China's government and the Chinese Communist Party, including </span>\n",
       "<span style=\"color: #008000; text-decoration-color: #008000\">disinformation about Tibet's history and institutions. The bill also authorizes the office to take other actions to</span>\n",
       "<span style=\"color: #008000; text-decoration-color: #008000\">counter such disinformation.  This bill also states that it is U.S. policy that the conflict between Tibet and </span>\n",
       "<span style=\"color: #008000; text-decoration-color: #008000\">China is unresolved and that Tibet's legal status remains to be determined in accordance with international law. \"</span>,\n",
       "            <span style=\"color: #008000; text-decoration-color: #008000\">'sponsor'</span>: <span style=\"color: #008000; text-decoration-color: #008000\">'M000312'</span>,\n",
       "            <span style=\"color: #008000; text-decoration-color: #008000\">'source'</span>: <span style=\"color: #008000; text-decoration-color: #008000\">'https://www.congress.gov/bill/118th-congress/house-bill/533'</span>\n",
       "        <span style=\"font-weight: bold\">}</span>\n",
       "    <span style=\"font-weight: bold\">)</span>\n",
       "<span style=\"font-weight: bold\">]</span>\n",
       "</pre>\n"
      ],
      "text/plain": [
       "\u001b[1m[\u001b[0m\n",
       "    \u001b[1;35mDocument\u001b[0m\u001b[1m(\u001b[0m\n",
       "        \u001b[33mpage_content\u001b[0m=\u001b[32m\"Congress\u001b[0m\u001b[32m finds the following:\\n            \u001b[0m\u001b[32m(\u001b[0m\u001b[32m1\u001b[0m\u001b[32m)\u001b[0m\u001b[32m It has been the long-standing policy of the \u001b[0m\n",
       "\u001b[32mUnited \\n        States to encourage meaningful and direct dialogue between \\n        People's Republic of China \u001b[0m\n",
       "\u001b[32mauthorities and the Dalai Lama or \\n        his representatives, without preconditions, to seek a \\n        \u001b[0m\n",
       "\u001b[32msettlement that resolves differences.\\n            \u001b[0m\u001b[32m(\u001b[0m\u001b[32m2\u001b[0m\u001b[32m)\u001b[0m\u001b[32m Ten rounds of dialogue held between 2002 and 2010 \\n        \u001b[0m\n",
       "\u001b[32mbetween the People's Republic of China authorities and the 14th\"\u001b[0m,\n",
       "        \u001b[33mmetadata\u001b[0m=\u001b[1m{\u001b[0m\n",
       "            \u001b[32m'key'\u001b[0m: \u001b[32m'118HR533'\u001b[0m,\n",
       "            \u001b[32m'congress_num'\u001b[0m: \u001b[32m'118'\u001b[0m,\n",
       "            \u001b[32m'legis_class'\u001b[0m: \u001b[32m'HR'\u001b[0m,\n",
       "            \u001b[32m'legis_num'\u001b[0m: \u001b[32m'533'\u001b[0m,\n",
       "            \u001b[32m'name'\u001b[0m: \u001b[32m'Promoting a Resolution to the Tibet-China Conflict Act'\u001b[0m,\n",
       "            \u001b[32m'summary'\u001b[0m: \u001b[32m\" Promoting a Resolution to the Tibet-China Conflict Act This bill addresses issues relating\u001b[0m\n",
       "\u001b[32mto Tibet, including by establishing a statutory definition of Tibet that includes areas in Chinese provinces \u001b[0m\n",
       "\u001b[32moutside the Tibet Autonomous Region \u001b[0m\u001b[32m(\u001b[0m\u001b[32mTAR\u001b[0m\u001b[32m)\u001b[0m\u001b[32m.  For the purposes of U.S. policies and activities relating to Tibet, \u001b[0m\n",
       "\u001b[32mthis bill defines Tibet to include the TAR and the Tibetan areas of the Qinghai, Sichuan, Gansu, and Yunnan \u001b[0m\n",
       "\u001b[32mprovinces. \u001b[0m\u001b[32m(\u001b[0m\u001b[32mGenerally, when China's government refers to Tibet, it means only the TAR, while Tibetan exile groups \u001b[0m\n",
       "\u001b[32mconsider historical Tibet to include the TAR as well as areas in the provinces included in this bill's definition. \u001b[0m\n",
       "\u001b[32mChina's government formally established the TAR in 1965.\u001b[0m\u001b[32m)\u001b[0m\u001b[32m Furthermore, the objectives of the Office of the U.S. \u001b[0m\n",
       "\u001b[32mSpecial Coordinator for Tibetan Issues shall include working to ensure that U.S. government statements and \u001b[0m\n",
       "\u001b[32mdocuments counter disinformation about Tibet by China's government and the Chinese Communist Party, including \u001b[0m\n",
       "\u001b[32mdisinformation about Tibet's history and institutions. The bill also authorizes the office to take other actions to\u001b[0m\n",
       "\u001b[32mcounter such disinformation.  This bill also states that it is U.S. policy that the conflict between Tibet and \u001b[0m\n",
       "\u001b[32mChina is unresolved and that Tibet's legal status remains to be determined in accordance with international law. \"\u001b[0m,\n",
       "            \u001b[32m'sponsor'\u001b[0m: \u001b[32m'M000312'\u001b[0m,\n",
       "            \u001b[32m'source'\u001b[0m: \u001b[32m'https://www.congress.gov/bill/118th-congress/house-bill/533'\u001b[0m\n",
       "        \u001b[1m}\u001b[0m\n",
       "    \u001b[1m)\u001b[0m,\n",
       "    \u001b[1;35mDocument\u001b[0m\u001b[1m(\u001b[0m\n",
       "        \u001b[33mpage_content\u001b[0m=\u001b[32m\"Congress\u001b[0m\u001b[32m finds the following:\\n            \u001b[0m\u001b[32m(\u001b[0m\u001b[32m1\u001b[0m\u001b[32m)\u001b[0m\u001b[32m It has been the long-standing policy of the \u001b[0m\n",
       "\u001b[32mUnited \\n        States to encourage meaningful and direct dialogue between \\n        People's Republic of China \u001b[0m\n",
       "\u001b[32mauthorities and the Dalai Lama or \\n        his representatives, without preconditions, to seek a \\n        \u001b[0m\n",
       "\u001b[32msettlement that resolves differences.\\n            \u001b[0m\u001b[32m(\u001b[0m\u001b[32m2\u001b[0m\u001b[32m)\u001b[0m\u001b[32m Ten rounds of dialogue held between 2002 and 2010 \\n        \u001b[0m\n",
       "\u001b[32mbetween the People's Republic of China authorities and the 14th\"\u001b[0m,\n",
       "        \u001b[33mmetadata\u001b[0m=\u001b[1m{\u001b[0m\n",
       "            \u001b[32m'key'\u001b[0m: \u001b[32m'118S138'\u001b[0m,\n",
       "            \u001b[32m'congress_num'\u001b[0m: \u001b[32m'118'\u001b[0m,\n",
       "            \u001b[32m'legis_class'\u001b[0m: \u001b[32m'S'\u001b[0m,\n",
       "            \u001b[32m'legis_num'\u001b[0m: \u001b[32m'138'\u001b[0m,\n",
       "            \u001b[32m'name'\u001b[0m: \u001b[32m'Promoting a Resolution to the Tibet-China Conflict Act'\u001b[0m,\n",
       "            \u001b[32m'summary'\u001b[0m: \u001b[32m\" Promoting a Resolution to the Tibet-China Conflict Act This bill addresses issues relating\u001b[0m\n",
       "\u001b[32mto Tibet, including by establishing a statutory definition of Tibet that includes areas in Chinese provinces \u001b[0m\n",
       "\u001b[32moutside the Tibet Autonomous Region \u001b[0m\u001b[32m(\u001b[0m\u001b[32mTAR\u001b[0m\u001b[32m)\u001b[0m\u001b[32m.  For the purposes of U.S. policies and activities relating to Tibet, \u001b[0m\n",
       "\u001b[32mthis bill defines Tibet to include the TAR and the Tibetan areas of the Qinghai, Sichuan, Gansu, and Yunnan \u001b[0m\n",
       "\u001b[32mprovinces. \u001b[0m\u001b[32m(\u001b[0m\u001b[32mGenerally, when China's government refers to Tibet, it means only the TAR, while Tibetan exile groups \u001b[0m\n",
       "\u001b[32mconsider historical Tibet to include the TAR as well as areas in the provinces included in this bill's definition. \u001b[0m\n",
       "\u001b[32mChina's government formally established the TAR in 1965.\u001b[0m\u001b[32m)\u001b[0m\u001b[32m Furthermore, the objectives of the Office of the U.S. \u001b[0m\n",
       "\u001b[32mSpecial Coordinator for Tibetan Issues shall include working to ensure that U.S. government statements and \u001b[0m\n",
       "\u001b[32mdocuments counter disinformation about Tibet by China's government and the Chinese Communist Party, including \u001b[0m\n",
       "\u001b[32mdisinformation about Tibet's history and institutions. The bill also authorizes the office to take other actions to\u001b[0m\n",
       "\u001b[32mcounter such disinformation.  This bill also states that it is U.S. policy that the conflict between Tibet and \u001b[0m\n",
       "\u001b[32mChina is unresolved and that Tibet's legal status remains to be determined in accordance with international law. \"\u001b[0m,\n",
       "            \u001b[32m'sponsor'\u001b[0m: \u001b[32m'M001176'\u001b[0m,\n",
       "            \u001b[32m'source'\u001b[0m: \u001b[32m'https://www.congress.gov/bill/118th-congress/senate-bill/138'\u001b[0m\n",
       "        \u001b[1m}\u001b[0m\n",
       "    \u001b[1m)\u001b[0m,\n",
       "    \u001b[1;35mDocument\u001b[0m\u001b[1m(\u001b[0m\n",
       "        \u001b[33mpage_content\u001b[0m=\u001b[32m\"People\u001b[0m\u001b[32m's Republic of China.\\n            \u001b[0m\u001b[32m(\u001b[0m\u001b[32m3\u001b[0m\u001b[32m)\u001b[0m\u001b[32m To recommend steps toward a stable international\u001b[0m\n",
       "\u001b[32morder \\n        that includes the People's Republic of China that accounts for \\n        the People's Republic of \u001b[0m\n",
       "\u001b[32mChina's participation in that order.\\n            \u001b[0m\u001b[32m(\u001b[0m\u001b[32m4\u001b[0m\u001b[32m)\u001b[0m\u001b[32m To consider the manner in which the United States and \\n     \u001b[0m\n",
       "\u001b[32mthe allies and partners of the United States cooperate and \\n        compete with the People's Republic of China \u001b[0m\n",
       "\u001b[32mand to identify \\n        areas for such cooperation and competition.\"\u001b[0m,\n",
       "        \u001b[33mmetadata\u001b[0m=\u001b[1m{\u001b[0m\n",
       "            \u001b[32m'key'\u001b[0m: \u001b[32m'118S863'\u001b[0m,\n",
       "            \u001b[32m'congress_num'\u001b[0m: \u001b[32m'118'\u001b[0m,\n",
       "            \u001b[32m'legis_class'\u001b[0m: \u001b[32m'S'\u001b[0m,\n",
       "            \u001b[32m'legis_num'\u001b[0m: \u001b[32m'863'\u001b[0m,\n",
       "            \u001b[32m'name'\u001b[0m: \u001b[32m\"A bill to establish a temporary commission to develop a consensus and actionable \u001b[0m\n",
       "\u001b[32mrecommendations on a comprehensive grand strategy with respect to the United States relationship with the People's \u001b[0m\n",
       "\u001b[32mRepublic of China for purposes of ensuring a holistic approach toward the People's Republic of China across all \u001b[0m\n",
       "\u001b[32mFederal departments and agencies.\"\u001b[0m,\n",
       "            \u001b[32m'summary'\u001b[0m: \u001b[32m''\u001b[0m,\n",
       "            \u001b[32m'sponsor'\u001b[0m: \u001b[32m'K000383'\u001b[0m,\n",
       "            \u001b[32m'source'\u001b[0m: \u001b[32m'https://www.congress.gov/bill/118th-congress/senate-bill/863'\u001b[0m\n",
       "        \u001b[1m}\u001b[0m\n",
       "    \u001b[1m)\u001b[0m,\n",
       "    \u001b[1;35mDocument\u001b[0m\u001b[1m(\u001b[0m\n",
       "        \u001b[33mpage_content\u001b[0m=\u001b[32m\"Congress\u001b[0m\u001b[32m--\\n            \u001b[0m\u001b[32m(\u001b[0m\u001b[32m1\u001b[0m\u001b[32m)\u001b[0m\u001b[32m calls upon the Government of the People's Republic of \\n        \u001b[0m\n",
       "\u001b[32mChina to open the XUAR to regular, transparent, and \\n        unmanipulated visits by members of the press, Members\u001b[0m\n",
       "\u001b[32mof \\n        Congress, congressional staff delegations, the United States \\n        Special Coordinator for Uyghur \u001b[0m\n",
       "\u001b[32mIssues under section 4, and \\n        members and staff of the Congressional-Executive Commission on \\n        the \u001b[0m\n",
       "\u001b[32mPeople's Republic of China;\"\u001b[0m,\n",
       "        \u001b[33mmetadata\u001b[0m=\u001b[1m{\u001b[0m\n",
       "            \u001b[32m'key'\u001b[0m: \u001b[32m'118HR2766'\u001b[0m,\n",
       "            \u001b[32m'congress_num'\u001b[0m: \u001b[32m'118'\u001b[0m,\n",
       "            \u001b[32m'legis_class'\u001b[0m: \u001b[32m'HR'\u001b[0m,\n",
       "            \u001b[32m'legis_num'\u001b[0m: \u001b[32m'2766'\u001b[0m,\n",
       "            \u001b[32m'name'\u001b[0m: \u001b[32m'Uyghur Policy Act of 2023'\u001b[0m,\n",
       "            \u001b[32m'summary'\u001b[0m: \u001b[32m''\u001b[0m,\n",
       "            \u001b[32m'sponsor'\u001b[0m: \u001b[32m'K000397'\u001b[0m,\n",
       "            \u001b[32m'source'\u001b[0m: \u001b[32m'https://www.congress.gov/bill/118th-congress/house-bill/2766'\u001b[0m\n",
       "        \u001b[1m}\u001b[0m\n",
       "    \u001b[1m)\u001b[0m,\n",
       "    \u001b[1;35mDocument\u001b[0m\u001b[1m(\u001b[0m\n",
       "        \u001b[33mpage_content\u001b[0m=\u001b[32m\"Government\u001b[0m\u001b[32m of the PRC has reached a final negotiated agreement \\n        on Tibet with the \u001b[0m\n",
       "\u001b[32mDalai Lama or his representatives or with \\n        democratically elected leaders of the Tibetan people.''.\"\u001b[0m,\n",
       "        \u001b[33mmetadata\u001b[0m=\u001b[1m{\u001b[0m\n",
       "            \u001b[32m'key'\u001b[0m: \u001b[32m'118HR533'\u001b[0m,\n",
       "            \u001b[32m'congress_num'\u001b[0m: \u001b[32m'118'\u001b[0m,\n",
       "            \u001b[32m'legis_class'\u001b[0m: \u001b[32m'HR'\u001b[0m,\n",
       "            \u001b[32m'legis_num'\u001b[0m: \u001b[32m'533'\u001b[0m,\n",
       "            \u001b[32m'name'\u001b[0m: \u001b[32m'Promoting a Resolution to the Tibet-China Conflict Act'\u001b[0m,\n",
       "            \u001b[32m'summary'\u001b[0m: \u001b[32m\" Promoting a Resolution to the Tibet-China Conflict Act This bill addresses issues relating\u001b[0m\n",
       "\u001b[32mto Tibet, including by establishing a statutory definition of Tibet that includes areas in Chinese provinces \u001b[0m\n",
       "\u001b[32moutside the Tibet Autonomous Region \u001b[0m\u001b[32m(\u001b[0m\u001b[32mTAR\u001b[0m\u001b[32m)\u001b[0m\u001b[32m.  For the purposes of U.S. policies and activities relating to Tibet, \u001b[0m\n",
       "\u001b[32mthis bill defines Tibet to include the TAR and the Tibetan areas of the Qinghai, Sichuan, Gansu, and Yunnan \u001b[0m\n",
       "\u001b[32mprovinces. \u001b[0m\u001b[32m(\u001b[0m\u001b[32mGenerally, when China's government refers to Tibet, it means only the TAR, while Tibetan exile groups \u001b[0m\n",
       "\u001b[32mconsider historical Tibet to include the TAR as well as areas in the provinces included in this bill's definition. \u001b[0m\n",
       "\u001b[32mChina's government formally established the TAR in 1965.\u001b[0m\u001b[32m)\u001b[0m\u001b[32m Furthermore, the objectives of the Office of the U.S. \u001b[0m\n",
       "\u001b[32mSpecial Coordinator for Tibetan Issues shall include working to ensure that U.S. government statements and \u001b[0m\n",
       "\u001b[32mdocuments counter disinformation about Tibet by China's government and the Chinese Communist Party, including \u001b[0m\n",
       "\u001b[32mdisinformation about Tibet's history and institutions. The bill also authorizes the office to take other actions to\u001b[0m\n",
       "\u001b[32mcounter such disinformation.  This bill also states that it is U.S. policy that the conflict between Tibet and \u001b[0m\n",
       "\u001b[32mChina is unresolved and that Tibet's legal status remains to be determined in accordance with international law. \"\u001b[0m,\n",
       "            \u001b[32m'sponsor'\u001b[0m: \u001b[32m'M000312'\u001b[0m,\n",
       "            \u001b[32m'source'\u001b[0m: \u001b[32m'https://www.congress.gov/bill/118th-congress/house-bill/533'\u001b[0m\n",
       "        \u001b[1m}\u001b[0m\n",
       "    \u001b[1m)\u001b[0m\n",
       "\u001b[1m]\u001b[0m\n"
      ]
     },
     "metadata": {},
     "output_type": "display_data"
    }
   ],
   "source": [
    "response = qa(\"How can China be encouraged to discuss land deals in middle Asia?\")\n",
    "print(response['result'])\n",
    "print(response['source_documents'])"
   ]
  },
  {
   "cell_type": "code",
   "execution_count": 52,
   "metadata": {},
   "outputs": [
    {
     "data": {
      "text/html": [
       "<pre style=\"white-space:pre;overflow-x:auto;line-height:normal;font-family:Menlo,'DejaVu Sans Mono',consolas,'Courier New',monospace\">academic hospitals, and other Federal and non-Federal health entities\n",
       "</pre>\n"
      ],
      "text/plain": [
       "academic hospitals, and other Federal and non-Federal health entities\n"
      ]
     },
     "metadata": {},
     "output_type": "display_data"
    },
    {
     "data": {
      "text/html": [
       "<pre style=\"white-space:pre;overflow-x:auto;line-height:normal;font-family:Menlo,'DejaVu Sans Mono',consolas,'Courier New',monospace\"><span style=\"font-weight: bold\">[</span>\n",
       "    <span style=\"color: #800080; text-decoration-color: #800080; font-weight: bold\">Document</span><span style=\"font-weight: bold\">(</span>\n",
       "        <span style=\"color: #808000; text-decoration-color: #808000\">page_content</span>=<span style=\"color: #008000; text-decoration-color: #008000\">'2022 of this title);\\n                    ``(B) financial management;\\n                    </span>\n",
       "<span style=\"color: #008000; text-decoration-color: #008000\">``(C) counseling for addiction issues;\\n                    ``(D) educational opportunities;\\n                    </span>\n",
       "<span style=\"color: #008000; text-decoration-color: #008000\">``(E) anger management; and\\n                    ``(F) career and employment resources.\\n            ``(4) Any </span>\n",
       "<span style=\"color: #008000; text-decoration-color: #008000\">other use the Secretary determines appropriate.\\n    ``(d) Notice.--The Secretary shall publish a Notice of Funding</span>\n",
       "<span style=\"color: #008000; text-decoration-color: #008000\">\\nOpportunity on the internet website Grants.gov, or such successor'</span>,\n",
       "        <span style=\"color: #808000; text-decoration-color: #808000\">metadata</span>=<span style=\"font-weight: bold\">{</span>\n",
       "            <span style=\"color: #008000; text-decoration-color: #008000\">'key'</span>: <span style=\"color: #008000; text-decoration-color: #008000\">'118HR3326'</span>,\n",
       "            <span style=\"color: #008000; text-decoration-color: #008000\">'congress_num'</span>: <span style=\"color: #008000; text-decoration-color: #008000\">'118'</span>,\n",
       "            <span style=\"color: #008000; text-decoration-color: #008000\">'legis_class'</span>: <span style=\"color: #008000; text-decoration-color: #008000\">'HR'</span>,\n",
       "            <span style=\"color: #008000; text-decoration-color: #008000\">'legis_num'</span>: <span style=\"color: #008000; text-decoration-color: #008000\">'3326'</span>,\n",
       "            <span style=\"color: #008000; text-decoration-color: #008000\">'name'</span>: <span style=\"color: #008000; text-decoration-color: #008000\">'HAVENS Act'</span>,\n",
       "            <span style=\"color: #008000; text-decoration-color: #008000\">'summary'</span>: <span style=\"color: #008000; text-decoration-color: #008000\">''</span>,\n",
       "            <span style=\"color: #008000; text-decoration-color: #008000\">'sponsor'</span>: <span style=\"color: #008000; text-decoration-color: #008000\">'K000381'</span>,\n",
       "            <span style=\"color: #008000; text-decoration-color: #008000\">'source'</span>: <span style=\"color: #008000; text-decoration-color: #008000\">'https://www.congress.gov/bill/118th-congress/house-bill/3326'</span>\n",
       "        <span style=\"font-weight: bold\">}</span>\n",
       "    <span style=\"font-weight: bold\">)</span>,\n",
       "    <span style=\"color: #800080; text-decoration-color: #800080; font-weight: bold\">Document</span><span style=\"font-weight: bold\">(</span>\n",
       "        <span style=\"color: #808000; text-decoration-color: #808000\">page_content</span>=<span style=\"color: #008000; text-decoration-color: #008000\">'National Institutes of Health, the Secretary of Defense, and \\n        private sector </span>\n",
       "<span style=\"color: #008000; text-decoration-color: #008000\">entities.'</span>,\n",
       "        <span style=\"color: #808000; text-decoration-color: #808000\">metadata</span>=<span style=\"font-weight: bold\">{</span>\n",
       "            <span style=\"color: #008000; text-decoration-color: #008000\">'key'</span>: <span style=\"color: #008000; text-decoration-color: #008000\">'118HR2854'</span>,\n",
       "            <span style=\"color: #008000; text-decoration-color: #008000\">'congress_num'</span>: <span style=\"color: #008000; text-decoration-color: #008000\">'118'</span>,\n",
       "            <span style=\"color: #008000; text-decoration-color: #008000\">'legis_class'</span>: <span style=\"color: #008000; text-decoration-color: #008000\">'HR'</span>,\n",
       "            <span style=\"color: #008000; text-decoration-color: #008000\">'legis_num'</span>: <span style=\"color: #008000; text-decoration-color: #008000\">'2854'</span>,\n",
       "            <span style=\"color: #008000; text-decoration-color: #008000\">'name'</span>: <span style=\"color: #008000; text-decoration-color: #008000\">'To require the Administrator of the United States Agency for International Development to </span>\n",
       "<span style=\"color: #008000; text-decoration-color: #008000\">submit a report on progress relating to malaria reduction, and for other purposes.'</span>,\n",
       "            <span style=\"color: #008000; text-decoration-color: #008000\">'summary'</span>: <span style=\"color: #008000; text-decoration-color: #008000\">''</span>,\n",
       "            <span style=\"color: #008000; text-decoration-color: #008000\">'sponsor'</span>: <span style=\"color: #008000; text-decoration-color: #008000\">'S000522'</span>,\n",
       "            <span style=\"color: #008000; text-decoration-color: #008000\">'source'</span>: <span style=\"color: #008000; text-decoration-color: #008000\">'https://www.congress.gov/bill/118th-congress/house-bill/2854'</span>\n",
       "        <span style=\"font-weight: bold\">}</span>\n",
       "    <span style=\"font-weight: bold\">)</span>,\n",
       "    <span style=\"color: #800080; text-decoration-color: #800080; font-weight: bold\">Document</span><span style=\"font-weight: bold\">(</span>\n",
       "        <span style=\"color: #808000; text-decoration-color: #808000\">page_content</span>=<span style=\"color: #008000; text-decoration-color: #008000\">'academic hospitals, and other Federal and non-Federal health \\n        entities.\\n           </span>\n",
       "<span style=\"color: #008000; text-decoration-color: #008000\">&lt;all&gt;'</span><span style=\"color: #000000; text-decoration-color: #000000\">,</span>\n",
       "<span style=\"color: #000000; text-decoration-color: #000000\">        </span><span style=\"color: #808000; text-decoration-color: #808000\">metadata</span><span style=\"color: #000000; text-decoration-color: #000000\">=</span><span style=\"color: #000000; text-decoration-color: #000000; font-weight: bold\">{</span>\n",
       "<span style=\"color: #000000; text-decoration-color: #000000\">            </span><span style=\"color: #008000; text-decoration-color: #008000\">'key'</span><span style=\"color: #000000; text-decoration-color: #000000\">: </span><span style=\"color: #008000; text-decoration-color: #008000\">'118S1125'</span><span style=\"color: #000000; text-decoration-color: #000000\">,</span>\n",
       "<span style=\"color: #000000; text-decoration-color: #000000\">            </span><span style=\"color: #008000; text-decoration-color: #008000\">'congress_num'</span><span style=\"color: #000000; text-decoration-color: #000000\">: </span><span style=\"color: #008000; text-decoration-color: #008000\">'118'</span><span style=\"color: #000000; text-decoration-color: #000000\">,</span>\n",
       "<span style=\"color: #000000; text-decoration-color: #000000\">            </span><span style=\"color: #008000; text-decoration-color: #008000\">'legis_class'</span><span style=\"color: #000000; text-decoration-color: #000000\">: </span><span style=\"color: #008000; text-decoration-color: #008000\">'S'</span><span style=\"color: #000000; text-decoration-color: #000000\">,</span>\n",
       "<span style=\"color: #000000; text-decoration-color: #000000\">            </span><span style=\"color: #008000; text-decoration-color: #008000\">'legis_num'</span><span style=\"color: #000000; text-decoration-color: #000000\">: </span><span style=\"color: #008000; text-decoration-color: #008000\">'1125'</span><span style=\"color: #000000; text-decoration-color: #000000\">,</span>\n",
       "<span style=\"color: #000000; text-decoration-color: #000000\">            </span><span style=\"color: #008000; text-decoration-color: #008000\">'name'</span><span style=\"color: #000000; text-decoration-color: #000000\">: </span><span style=\"color: #008000; text-decoration-color: #008000\">'EHR Program RESET Act of 2023'</span><span style=\"color: #000000; text-decoration-color: #000000\">,</span>\n",
       "<span style=\"color: #000000; text-decoration-color: #000000\">            </span><span style=\"color: #008000; text-decoration-color: #008000\">'summary'</span><span style=\"color: #000000; text-decoration-color: #000000\">: </span><span style=\"color: #008000; text-decoration-color: #008000\">''</span><span style=\"color: #000000; text-decoration-color: #000000\">,</span>\n",
       "<span style=\"color: #000000; text-decoration-color: #000000\">            </span><span style=\"color: #008000; text-decoration-color: #008000\">'sponsor'</span><span style=\"color: #000000; text-decoration-color: #000000\">: </span><span style=\"color: #008000; text-decoration-color: #008000\">'T000464'</span><span style=\"color: #000000; text-decoration-color: #000000\">,</span>\n",
       "<span style=\"color: #000000; text-decoration-color: #000000\">            </span><span style=\"color: #008000; text-decoration-color: #008000\">'source'</span><span style=\"color: #000000; text-decoration-color: #000000\">: </span><span style=\"color: #008000; text-decoration-color: #008000\">'https://www.congress.gov/bill/118th-congress/senate-bill/1125'</span>\n",
       "<span style=\"color: #000000; text-decoration-color: #000000\">        </span><span style=\"color: #000000; text-decoration-color: #000000; font-weight: bold\">}</span>\n",
       "<span style=\"color: #000000; text-decoration-color: #000000\">    </span><span style=\"color: #000000; text-decoration-color: #000000; font-weight: bold\">)</span><span style=\"color: #000000; text-decoration-color: #000000\">,</span>\n",
       "<span style=\"color: #000000; text-decoration-color: #000000\">    </span><span style=\"color: #800080; text-decoration-color: #800080; font-weight: bold\">Document</span><span style=\"color: #000000; text-decoration-color: #000000; font-weight: bold\">(</span>\n",
       "<span style=\"color: #000000; text-decoration-color: #000000\">        </span><span style=\"color: #808000; text-decoration-color: #808000\">page_content</span><span style=\"color: #000000; text-decoration-color: #000000\">=</span><span style=\"color: #008000; text-decoration-color: #008000\">'appropriated for grants under this section $750,000,000 for each of \\nfiscal years 2024 </span>\n",
       "<span style=\"color: #008000; text-decoration-color: #008000\">through 2028.\\n                                 &lt;all&gt;'</span>,\n",
       "        <span style=\"color: #808000; text-decoration-color: #808000\">metadata</span>=<span style=\"font-weight: bold\">{</span>\n",
       "            <span style=\"color: #008000; text-decoration-color: #008000\">'key'</span>: <span style=\"color: #008000; text-decoration-color: #008000\">'118HR3117'</span>,\n",
       "            <span style=\"color: #008000; text-decoration-color: #008000\">'congress_num'</span>: <span style=\"color: #008000; text-decoration-color: #008000\">'118'</span>,\n",
       "            <span style=\"color: #008000; text-decoration-color: #008000\">'legis_class'</span>: <span style=\"color: #008000; text-decoration-color: #008000\">'HR'</span>,\n",
       "            <span style=\"color: #008000; text-decoration-color: #008000\">'legis_num'</span>: <span style=\"color: #008000; text-decoration-color: #008000\">'3117'</span>,\n",
       "            <span style=\"color: #008000; text-decoration-color: #008000\">'name'</span>: <span style=\"color: #008000; text-decoration-color: #008000\">'Hotel to Housing Conversion Act of 2023'</span>,\n",
       "            <span style=\"color: #008000; text-decoration-color: #008000\">'summary'</span>: <span style=\"color: #008000; text-decoration-color: #008000\">''</span>,\n",
       "            <span style=\"color: #008000; text-decoration-color: #008000\">'sponsor'</span>: <span style=\"color: #008000; text-decoration-color: #008000\">'S001150'</span>,\n",
       "            <span style=\"color: #008000; text-decoration-color: #008000\">'source'</span>: <span style=\"color: #008000; text-decoration-color: #008000\">'https://www.congress.gov/bill/118th-congress/house-bill/3117'</span>\n",
       "        <span style=\"font-weight: bold\">}</span>\n",
       "    <span style=\"font-weight: bold\">)</span>,\n",
       "    <span style=\"color: #800080; text-decoration-color: #800080; font-weight: bold\">Document</span><span style=\"font-weight: bold\">(</span>\n",
       "        <span style=\"color: #808000; text-decoration-color: #808000\">page_content</span>=<span style=\"color: #008000; text-decoration-color: #008000\">\"``(2) the National Laboratories; and\\n            ``(3) the private sector.\\n    ``(e) </span>\n",
       "<span style=\"color: #008000; text-decoration-color: #008000\">Authorization of Appropriations.--There are authorized to be \\nappropriated to carry out this section--\\n          </span>\n",
       "<span style=\"color: #008000; text-decoration-color: #008000\">``(1) $30,000,000 for fiscal year 2023;\\n            ``(2) $31,250,000 for fiscal year 2024;\\n            ``(3) </span>\n",
       "<span style=\"color: #008000; text-decoration-color: #008000\">$32,500,000 for fiscal year 2025;\\n            ``(4) $33,750,000 for fiscal year 2026; and\\n            ``(5) </span>\n",
       "<span style=\"color: #008000; text-decoration-color: #008000\">$35,000,000 for fiscal year 2027.''.\"</span>,\n",
       "        <span style=\"color: #808000; text-decoration-color: #808000\">metadata</span>=<span style=\"font-weight: bold\">{</span>\n",
       "            <span style=\"color: #008000; text-decoration-color: #008000\">'key'</span>: <span style=\"color: #008000; text-decoration-color: #008000\">'118S429'</span>,\n",
       "            <span style=\"color: #008000; text-decoration-color: #008000\">'congress_num'</span>: <span style=\"color: #008000; text-decoration-color: #008000\">'118'</span>,\n",
       "            <span style=\"color: #008000; text-decoration-color: #008000\">'legis_class'</span>: <span style=\"color: #008000; text-decoration-color: #008000\">'S'</span>,\n",
       "            <span style=\"color: #008000; text-decoration-color: #008000\">'legis_num'</span>: <span style=\"color: #008000; text-decoration-color: #008000\">'429'</span>,\n",
       "            <span style=\"color: #008000; text-decoration-color: #008000\">'name'</span>: <span style=\"color: #008000; text-decoration-color: #008000\">'Abandoned Well Remediation Research and Development Act'</span>,\n",
       "            <span style=\"color: #008000; text-decoration-color: #008000\">'summary'</span>: <span style=\"color: #008000; text-decoration-color: #008000\">' Abandoned Well Remediation Research and Development Act This bill requires the Department </span>\n",
       "<span style=\"color: #008000; text-decoration-color: #008000\">of Energy (DOE) to establish a research, development, and demonstration program concerning abandoned oil and gas </span>\n",
       "<span style=\"color: #008000; text-decoration-color: #008000\">wells. Under the program, DOE must work to improve (1) data collection on the location of abandoned oil or gas </span>\n",
       "<span style=\"color: #008000; text-decoration-color: #008000\">wells; (2) the plugging, remediation, reclamation, and repurposing of the wells; and (3) strategies to mitigate </span>\n",
       "<span style=\"color: #008000; text-decoration-color: #008000\">potential environmental impacts of documented and undocumented abandoned wells.'</span>,\n",
       "            <span style=\"color: #008000; text-decoration-color: #008000\">'sponsor'</span>: <span style=\"color: #008000; text-decoration-color: #008000\">'L000570'</span>,\n",
       "            <span style=\"color: #008000; text-decoration-color: #008000\">'source'</span>: <span style=\"color: #008000; text-decoration-color: #008000\">'https://www.congress.gov/bill/118th-congress/senate-bill/429'</span>\n",
       "        <span style=\"font-weight: bold\">}</span>\n",
       "    <span style=\"font-weight: bold\">)</span>\n",
       "<span style=\"font-weight: bold\">]</span>\n",
       "</pre>\n"
      ],
      "text/plain": [
       "\u001b[1m[\u001b[0m\n",
       "    \u001b[1;35mDocument\u001b[0m\u001b[1m(\u001b[0m\n",
       "        \u001b[33mpage_content\u001b[0m=\u001b[32m'2022 of this title\u001b[0m\u001b[32m)\u001b[0m\u001b[32m;\\n                    ``\u001b[0m\u001b[32m(\u001b[0m\u001b[32mB\u001b[0m\u001b[32m)\u001b[0m\u001b[32m financial management;\\n                    \u001b[0m\n",
       "\u001b[32m``\u001b[0m\u001b[32m(\u001b[0m\u001b[32mC\u001b[0m\u001b[32m)\u001b[0m\u001b[32m counseling for addiction issues;\\n                    ``\u001b[0m\u001b[32m(\u001b[0m\u001b[32mD\u001b[0m\u001b[32m)\u001b[0m\u001b[32m educational opportunities;\\n                    \u001b[0m\n",
       "\u001b[32m``\u001b[0m\u001b[32m(\u001b[0m\u001b[32mE\u001b[0m\u001b[32m)\u001b[0m\u001b[32m anger management; and\\n                    ``\u001b[0m\u001b[32m(\u001b[0m\u001b[32mF\u001b[0m\u001b[32m)\u001b[0m\u001b[32m career and employment resources.\\n            ``\u001b[0m\u001b[32m(\u001b[0m\u001b[32m4\u001b[0m\u001b[32m)\u001b[0m\u001b[32m Any \u001b[0m\n",
       "\u001b[32mother use the Secretary determines appropriate.\\n    ``\u001b[0m\u001b[32m(\u001b[0m\u001b[32md\u001b[0m\u001b[32m)\u001b[0m\u001b[32m Notice.--The Secretary shall publish a Notice of Funding\u001b[0m\n",
       "\u001b[32m\\nOpportunity on the internet website Grants.gov, or such successor'\u001b[0m,\n",
       "        \u001b[33mmetadata\u001b[0m=\u001b[1m{\u001b[0m\n",
       "            \u001b[32m'key'\u001b[0m: \u001b[32m'118HR3326'\u001b[0m,\n",
       "            \u001b[32m'congress_num'\u001b[0m: \u001b[32m'118'\u001b[0m,\n",
       "            \u001b[32m'legis_class'\u001b[0m: \u001b[32m'HR'\u001b[0m,\n",
       "            \u001b[32m'legis_num'\u001b[0m: \u001b[32m'3326'\u001b[0m,\n",
       "            \u001b[32m'name'\u001b[0m: \u001b[32m'HAVENS Act'\u001b[0m,\n",
       "            \u001b[32m'summary'\u001b[0m: \u001b[32m''\u001b[0m,\n",
       "            \u001b[32m'sponsor'\u001b[0m: \u001b[32m'K000381'\u001b[0m,\n",
       "            \u001b[32m'source'\u001b[0m: \u001b[32m'https://www.congress.gov/bill/118th-congress/house-bill/3326'\u001b[0m\n",
       "        \u001b[1m}\u001b[0m\n",
       "    \u001b[1m)\u001b[0m,\n",
       "    \u001b[1;35mDocument\u001b[0m\u001b[1m(\u001b[0m\n",
       "        \u001b[33mpage_content\u001b[0m=\u001b[32m'National Institutes of Health, the Secretary of Defense, and \\n        private sector \u001b[0m\n",
       "\u001b[32mentities.'\u001b[0m,\n",
       "        \u001b[33mmetadata\u001b[0m=\u001b[1m{\u001b[0m\n",
       "            \u001b[32m'key'\u001b[0m: \u001b[32m'118HR2854'\u001b[0m,\n",
       "            \u001b[32m'congress_num'\u001b[0m: \u001b[32m'118'\u001b[0m,\n",
       "            \u001b[32m'legis_class'\u001b[0m: \u001b[32m'HR'\u001b[0m,\n",
       "            \u001b[32m'legis_num'\u001b[0m: \u001b[32m'2854'\u001b[0m,\n",
       "            \u001b[32m'name'\u001b[0m: \u001b[32m'To require the Administrator of the United States Agency for International Development to \u001b[0m\n",
       "\u001b[32msubmit a report on progress relating to malaria reduction, and for other purposes.'\u001b[0m,\n",
       "            \u001b[32m'summary'\u001b[0m: \u001b[32m''\u001b[0m,\n",
       "            \u001b[32m'sponsor'\u001b[0m: \u001b[32m'S000522'\u001b[0m,\n",
       "            \u001b[32m'source'\u001b[0m: \u001b[32m'https://www.congress.gov/bill/118th-congress/house-bill/2854'\u001b[0m\n",
       "        \u001b[1m}\u001b[0m\n",
       "    \u001b[1m)\u001b[0m,\n",
       "    \u001b[1;35mDocument\u001b[0m\u001b[1m(\u001b[0m\n",
       "        \u001b[33mpage_content\u001b[0m=\u001b[32m'academic hospitals, and other Federal and non-Federal health \\n        entities.\\n           \u001b[0m\n",
       "\u001b[32m<\u001b[0m\u001b[32mall\u001b[0m\u001b[32m>'\u001b[0m\u001b[39m,\u001b[0m\n",
       "\u001b[39m        \u001b[0m\u001b[33mmetadata\u001b[0m\u001b[39m=\u001b[0m\u001b[1;39m{\u001b[0m\n",
       "\u001b[39m            \u001b[0m\u001b[32m'key'\u001b[0m\u001b[39m: \u001b[0m\u001b[32m'118S1125'\u001b[0m\u001b[39m,\u001b[0m\n",
       "\u001b[39m            \u001b[0m\u001b[32m'congress_num'\u001b[0m\u001b[39m: \u001b[0m\u001b[32m'118'\u001b[0m\u001b[39m,\u001b[0m\n",
       "\u001b[39m            \u001b[0m\u001b[32m'legis_class'\u001b[0m\u001b[39m: \u001b[0m\u001b[32m'S'\u001b[0m\u001b[39m,\u001b[0m\n",
       "\u001b[39m            \u001b[0m\u001b[32m'legis_num'\u001b[0m\u001b[39m: \u001b[0m\u001b[32m'1125'\u001b[0m\u001b[39m,\u001b[0m\n",
       "\u001b[39m            \u001b[0m\u001b[32m'name'\u001b[0m\u001b[39m: \u001b[0m\u001b[32m'EHR Program RESET Act of 2023'\u001b[0m\u001b[39m,\u001b[0m\n",
       "\u001b[39m            \u001b[0m\u001b[32m'summary'\u001b[0m\u001b[39m: \u001b[0m\u001b[32m''\u001b[0m\u001b[39m,\u001b[0m\n",
       "\u001b[39m            \u001b[0m\u001b[32m'sponsor'\u001b[0m\u001b[39m: \u001b[0m\u001b[32m'T000464'\u001b[0m\u001b[39m,\u001b[0m\n",
       "\u001b[39m            \u001b[0m\u001b[32m'source'\u001b[0m\u001b[39m: \u001b[0m\u001b[32m'https://www.congress.gov/bill/118th-congress/senate-bill/1125'\u001b[0m\n",
       "\u001b[39m        \u001b[0m\u001b[1;39m}\u001b[0m\n",
       "\u001b[39m    \u001b[0m\u001b[1;39m)\u001b[0m\u001b[39m,\u001b[0m\n",
       "\u001b[39m    \u001b[0m\u001b[1;35mDocument\u001b[0m\u001b[1;39m(\u001b[0m\n",
       "\u001b[39m        \u001b[0m\u001b[33mpage_content\u001b[0m\u001b[39m=\u001b[0m\u001b[32m'appropriated for grants under this section $750,000,000 for each of \\nfiscal years 2024 \u001b[0m\n",
       "\u001b[32mthrough 2028.\\n                                 <all\u001b[0m\u001b[32m>\u001b[0m\u001b[32m'\u001b[0m,\n",
       "        \u001b[33mmetadata\u001b[0m=\u001b[1m{\u001b[0m\n",
       "            \u001b[32m'key'\u001b[0m: \u001b[32m'118HR3117'\u001b[0m,\n",
       "            \u001b[32m'congress_num'\u001b[0m: \u001b[32m'118'\u001b[0m,\n",
       "            \u001b[32m'legis_class'\u001b[0m: \u001b[32m'HR'\u001b[0m,\n",
       "            \u001b[32m'legis_num'\u001b[0m: \u001b[32m'3117'\u001b[0m,\n",
       "            \u001b[32m'name'\u001b[0m: \u001b[32m'Hotel to Housing Conversion Act of 2023'\u001b[0m,\n",
       "            \u001b[32m'summary'\u001b[0m: \u001b[32m''\u001b[0m,\n",
       "            \u001b[32m'sponsor'\u001b[0m: \u001b[32m'S001150'\u001b[0m,\n",
       "            \u001b[32m'source'\u001b[0m: \u001b[32m'https://www.congress.gov/bill/118th-congress/house-bill/3117'\u001b[0m\n",
       "        \u001b[1m}\u001b[0m\n",
       "    \u001b[1m)\u001b[0m,\n",
       "    \u001b[1;35mDocument\u001b[0m\u001b[1m(\u001b[0m\n",
       "        \u001b[33mpage_content\u001b[0m=\u001b[32m\"``\u001b[0m\u001b[32m(\u001b[0m\u001b[32m2\u001b[0m\u001b[32m)\u001b[0m\u001b[32m the National Laboratories; and\\n            ``\u001b[0m\u001b[32m(\u001b[0m\u001b[32m3\u001b[0m\u001b[32m)\u001b[0m\u001b[32m the private sector.\\n    ``\u001b[0m\u001b[32m(\u001b[0m\u001b[32me\u001b[0m\u001b[32m)\u001b[0m\u001b[32m \u001b[0m\n",
       "\u001b[32mAuthorization of Appropriations.--There are authorized to be \\nappropriated to carry out this section--\\n          \u001b[0m\n",
       "\u001b[32m``\u001b[0m\u001b[32m(\u001b[0m\u001b[32m1\u001b[0m\u001b[32m)\u001b[0m\u001b[32m $30,000,000 for fiscal year 2023;\\n            ``\u001b[0m\u001b[32m(\u001b[0m\u001b[32m2\u001b[0m\u001b[32m)\u001b[0m\u001b[32m $31,250,000 for fiscal year 2024;\\n            ``\u001b[0m\u001b[32m(\u001b[0m\u001b[32m3\u001b[0m\u001b[32m)\u001b[0m\u001b[32m \u001b[0m\n",
       "\u001b[32m$32,500,000 for fiscal year 2025;\\n            ``\u001b[0m\u001b[32m(\u001b[0m\u001b[32m4\u001b[0m\u001b[32m)\u001b[0m\u001b[32m $33,750,000 for fiscal year 2026; and\\n            ``\u001b[0m\u001b[32m(\u001b[0m\u001b[32m5\u001b[0m\u001b[32m)\u001b[0m\u001b[32m \u001b[0m\n",
       "\u001b[32m$35,000,000 for fiscal year 2027.''.\"\u001b[0m,\n",
       "        \u001b[33mmetadata\u001b[0m=\u001b[1m{\u001b[0m\n",
       "            \u001b[32m'key'\u001b[0m: \u001b[32m'118S429'\u001b[0m,\n",
       "            \u001b[32m'congress_num'\u001b[0m: \u001b[32m'118'\u001b[0m,\n",
       "            \u001b[32m'legis_class'\u001b[0m: \u001b[32m'S'\u001b[0m,\n",
       "            \u001b[32m'legis_num'\u001b[0m: \u001b[32m'429'\u001b[0m,\n",
       "            \u001b[32m'name'\u001b[0m: \u001b[32m'Abandoned Well Remediation Research and Development Act'\u001b[0m,\n",
       "            \u001b[32m'summary'\u001b[0m: \u001b[32m' Abandoned Well Remediation Research and Development Act This bill requires the Department \u001b[0m\n",
       "\u001b[32mof Energy \u001b[0m\u001b[32m(\u001b[0m\u001b[32mDOE\u001b[0m\u001b[32m)\u001b[0m\u001b[32m to establish a research, development, and demonstration program concerning abandoned oil and gas \u001b[0m\n",
       "\u001b[32mwells. Under the program, DOE must work to improve \u001b[0m\u001b[32m(\u001b[0m\u001b[32m1\u001b[0m\u001b[32m)\u001b[0m\u001b[32m data collection on the location of abandoned oil or gas \u001b[0m\n",
       "\u001b[32mwells; \u001b[0m\u001b[32m(\u001b[0m\u001b[32m2\u001b[0m\u001b[32m)\u001b[0m\u001b[32m the plugging, remediation, reclamation, and repurposing of the wells; and \u001b[0m\u001b[32m(\u001b[0m\u001b[32m3\u001b[0m\u001b[32m)\u001b[0m\u001b[32m strategies to mitigate \u001b[0m\n",
       "\u001b[32mpotential environmental impacts of documented and undocumented abandoned wells.'\u001b[0m,\n",
       "            \u001b[32m'sponsor'\u001b[0m: \u001b[32m'L000570'\u001b[0m,\n",
       "            \u001b[32m'source'\u001b[0m: \u001b[32m'https://www.congress.gov/bill/118th-congress/senate-bill/429'\u001b[0m\n",
       "        \u001b[1m}\u001b[0m\n",
       "    \u001b[1m)\u001b[0m\n",
       "\u001b[1m]\u001b[0m\n"
      ]
     },
     "metadata": {},
     "output_type": "display_data"
    }
   ],
   "source": [
    "response = qa(\"Which fields of industry receive significant federal funding through grants?\")\n",
    "print(response['result'])\n",
    "print(response['source_documents'])"
   ]
  },
  {
   "cell_type": "code",
   "execution_count": 53,
   "metadata": {},
   "outputs": [
    {
     "data": {
      "text/html": [
       "<pre style=\"white-space:pre;overflow-x:auto;line-height:normal;font-family:Menlo,'DejaVu Sans Mono',consolas,'Courier New',monospace\">rape, summary execution, and unlawful violence and threats against civilians\n",
       "</pre>\n"
      ],
      "text/plain": [
       "rape, summary execution, and unlawful violence and threats against civilians\n"
      ]
     },
     "metadata": {},
     "output_type": "display_data"
    },
    {
     "data": {
      "text/html": [
       "<pre style=\"white-space:pre;overflow-x:auto;line-height:normal;font-family:Menlo,'DejaVu Sans Mono',consolas,'Courier New',monospace\"><span style=\"font-weight: bold\">[</span>\n",
       "    <span style=\"color: #800080; text-decoration-color: #800080; font-weight: bold\">Document</span><span style=\"font-weight: bold\">(</span>\n",
       "        <span style=\"color: #808000; text-decoration-color: #808000\">page_content</span>=<span style=\"color: #008000; text-decoration-color: #008000\">'Whereas, on February 24, 2022, the Russian Federation invaded the sovereign \\n        State </span>\n",
       "<span style=\"color: #008000; text-decoration-color: #008000\">of Ukraine in violation of international law;\\nWhereas Russian troops have since committed horrendous atrocities </span>\n",
       "<span style=\"color: #008000; text-decoration-color: #008000\">and human \\n        rights violations;\\nWhereas, as of March 2023, the Russian Government has kidnapped and removed</span>\n",
       "<span style=\"color: #008000; text-decoration-color: #008000\">tens \\n        of thousands of innocent children from their homes in Ukraine;\\nWhereas the Russian Government </span>\n",
       "<span style=\"color: #008000; text-decoration-color: #008000\">continues to falsely claim that the parents and'</span>,\n",
       "        <span style=\"color: #808000; text-decoration-color: #808000\">metadata</span>=<span style=\"font-weight: bold\">{</span>\n",
       "            <span style=\"color: #008000; text-decoration-color: #008000\">'key'</span>: <span style=\"color: #008000; text-decoration-color: #008000\">'118HCONRES29'</span>,\n",
       "            <span style=\"color: #008000; text-decoration-color: #008000\">'congress_num'</span>: <span style=\"color: #008000; text-decoration-color: #008000\">'118'</span>,\n",
       "            <span style=\"color: #008000; text-decoration-color: #008000\">'legis_class'</span>: <span style=\"color: #008000; text-decoration-color: #008000\">'HCONRES'</span>,\n",
       "            <span style=\"color: #008000; text-decoration-color: #008000\">'legis_num'</span>: <span style=\"color: #008000; text-decoration-color: #008000\">'29'</span>,\n",
       "            <span style=\"color: #008000; text-decoration-color: #008000\">'name'</span>: <span style=\"color: #008000; text-decoration-color: #008000\">\"Condemning the Russian Federation's kidnapping of Ukrainian children.\"</span>,\n",
       "            <span style=\"color: #008000; text-decoration-color: #008000\">'summary'</span>: <span style=\"color: #008000; text-decoration-color: #008000\">''</span>,\n",
       "            <span style=\"color: #008000; text-decoration-color: #008000\">'sponsor'</span>: <span style=\"color: #008000; text-decoration-color: #008000\">'B001298'</span>,\n",
       "            <span style=\"color: #008000; text-decoration-color: #008000\">'source'</span>: <span style=\"color: #008000; text-decoration-color: #008000\">'https://www.congress.gov/bill/118th-congress/house-concurrent-resolution/29'</span>\n",
       "        <span style=\"font-weight: bold\">}</span>\n",
       "    <span style=\"font-weight: bold\">)</span>,\n",
       "    <span style=\"color: #800080; text-decoration-color: #800080; font-weight: bold\">Document</span><span style=\"font-weight: bold\">(</span>\n",
       "        <span style=\"color: #808000; text-decoration-color: #808000\">page_content</span>=<span style=\"color: #008000; text-decoration-color: #008000\">'Whereas, on February 24, 2022, Russia unleashed a full-scale invasion of Ukraine \\n        in</span>\n",
       "<span style=\"color: #008000; text-decoration-color: #008000\">contravention of international law and the Charter of the United \\n        Nations;\\nWhereas the Russian Armed </span>\n",
       "<span style=\"color: #008000; text-decoration-color: #008000\">Forces committed mass atrocities in Bucha, Irpin, \\n        Kherson, Izyum, Mariupol, Dnipro, and Ukrainian towns </span>\n",
       "<span style=\"color: #008000; text-decoration-color: #008000\">occupied by the \\n        Russian Federation, including rape, summary execution, and unlawful \\n        violence </span>\n",
       "<span style=\"color: #008000; text-decoration-color: #008000\">and threats against civilians;'</span>,\n",
       "        <span style=\"color: #808000; text-decoration-color: #808000\">metadata</span>=<span style=\"font-weight: bold\">{</span>\n",
       "            <span style=\"color: #008000; text-decoration-color: #008000\">'key'</span>: <span style=\"color: #008000; text-decoration-color: #008000\">'118SRES227'</span>,\n",
       "            <span style=\"color: #008000; text-decoration-color: #008000\">'congress_num'</span>: <span style=\"color: #008000; text-decoration-color: #008000\">'118'</span>,\n",
       "            <span style=\"color: #008000; text-decoration-color: #008000\">'legis_class'</span>: <span style=\"color: #008000; text-decoration-color: #008000\">'SRES'</span>,\n",
       "            <span style=\"color: #008000; text-decoration-color: #008000\">'legis_num'</span>: <span style=\"color: #008000; text-decoration-color: #008000\">'227'</span>,\n",
       "            <span style=\"color: #008000; text-decoration-color: #008000\">'name'</span>: <span style=\"color: #008000; text-decoration-color: #008000\">\"A resolution calling on the President to support the creation of an international special </span>\n",
       "<span style=\"color: #008000; text-decoration-color: #008000\">tribunal to prosecute Russia's aggression against Ukraine.\"</span>,\n",
       "            <span style=\"color: #008000; text-decoration-color: #008000\">'summary'</span>: <span style=\"color: #008000; text-decoration-color: #008000\">''</span>,\n",
       "            <span style=\"color: #008000; text-decoration-color: #008000\">'sponsor'</span>: <span style=\"color: #008000; text-decoration-color: #008000\">'C000141'</span>,\n",
       "            <span style=\"color: #008000; text-decoration-color: #008000\">'source'</span>: <span style=\"color: #008000; text-decoration-color: #008000\">'https://www.congress.gov/bill/118th-congress/senate-resolution/227'</span>\n",
       "        <span style=\"font-weight: bold\">}</span>\n",
       "    <span style=\"font-weight: bold\">)</span>,\n",
       "    <span style=\"color: #800080; text-decoration-color: #800080; font-weight: bold\">Document</span><span style=\"font-weight: bold\">(</span>\n",
       "        <span style=\"color: #808000; text-decoration-color: #808000\">page_content</span>=<span style=\"color: #008000; text-decoration-color: #008000\">'Whereas, on February 24, 2022, the Russian Federation invaded the sovereign \\n        State </span>\n",
       "<span style=\"color: #008000; text-decoration-color: #008000\">of Ukraine in violation of international law;\\nWhereas Russian troops have since committed horrendous atrocities </span>\n",
       "<span style=\"color: #008000; text-decoration-color: #008000\">and human \\n        rights violations;\\nWhereas, as of March 2023, research indicates that agents of the Government</span>\n",
       "<span style=\"color: #008000; text-decoration-color: #008000\">of \\n        the Russian Federation have kidnapped and removed at least 6,000 \\n        innocent children from </span>\n",
       "<span style=\"color: #008000; text-decoration-color: #008000\">their homes in Ukraine, and have likely kidnapped'</span>,\n",
       "        <span style=\"color: #808000; text-decoration-color: #808000\">metadata</span>=<span style=\"font-weight: bold\">{</span>\n",
       "            <span style=\"color: #008000; text-decoration-color: #008000\">'key'</span>: <span style=\"color: #008000; text-decoration-color: #008000\">'118SRES128'</span>,\n",
       "            <span style=\"color: #008000; text-decoration-color: #008000\">'congress_num'</span>: <span style=\"color: #008000; text-decoration-color: #008000\">'118'</span>,\n",
       "            <span style=\"color: #008000; text-decoration-color: #008000\">'legis_class'</span>: <span style=\"color: #008000; text-decoration-color: #008000\">'SRES'</span>,\n",
       "            <span style=\"color: #008000; text-decoration-color: #008000\">'legis_num'</span>: <span style=\"color: #008000; text-decoration-color: #008000\">'128'</span>,\n",
       "            <span style=\"color: #008000; text-decoration-color: #008000\">'name'</span>: <span style=\"color: #008000; text-decoration-color: #008000\">\"A resolution condemning the Russian Federation's kidnapping of Ukrainian children.\"</span>,\n",
       "            <span style=\"color: #008000; text-decoration-color: #008000\">'summary'</span>: <span style=\"color: #008000; text-decoration-color: #008000\">''</span>,\n",
       "            <span style=\"color: #008000; text-decoration-color: #008000\">'sponsor'</span>: <span style=\"color: #008000; text-decoration-color: #008000\">'K000367'</span>,\n",
       "            <span style=\"color: #008000; text-decoration-color: #008000\">'source'</span>: <span style=\"color: #008000; text-decoration-color: #008000\">'https://www.congress.gov/bill/118th-congress/senate-resolution/128'</span>\n",
       "        <span style=\"font-weight: bold\">}</span>\n",
       "    <span style=\"font-weight: bold\">)</span>,\n",
       "    <span style=\"color: #800080; text-decoration-color: #800080; font-weight: bold\">Document</span><span style=\"font-weight: bold\">(</span>\n",
       "        <span style=\"color: #808000; text-decoration-color: #808000\">page_content</span>=<span style=\"color: #008000; text-decoration-color: #008000\">\"Whereas the Russian Federation's military tactics and calculations have led to \\n        </span>\n",
       "<span style=\"color: #008000; text-decoration-color: #008000\">outright failure in Ukraine;\\nWhereas an immense amount of compelling evidence has already been collected \\n       </span>\n",
       "<span style=\"color: #008000; text-decoration-color: #008000\">indicating that members of the Russian military have committed a wide \\n        variety of atrocity crimes in </span>\n",
       "<span style=\"color: #008000; text-decoration-color: #008000\">Ukraine and against the Ukrainian people;\\nWhereas efforts to achieve justice and accountability for atrocity </span>\n",
       "<span style=\"color: #008000; text-decoration-color: #008000\">crimes \\n        committed by members of Russia's forces in Ukraine have been organized\"</span>,\n",
       "        <span style=\"color: #808000; text-decoration-color: #808000\">metadata</span>=<span style=\"font-weight: bold\">{</span>\n",
       "            <span style=\"color: #008000; text-decoration-color: #008000\">'key'</span>: <span style=\"color: #008000; text-decoration-color: #008000\">'118HRES41'</span>,\n",
       "            <span style=\"color: #008000; text-decoration-color: #008000\">'congress_num'</span>: <span style=\"color: #008000; text-decoration-color: #008000\">'118'</span>,\n",
       "            <span style=\"color: #008000; text-decoration-color: #008000\">'legis_class'</span>: <span style=\"color: #008000; text-decoration-color: #008000\">'HRES'</span>,\n",
       "            <span style=\"color: #008000; text-decoration-color: #008000\">'legis_num'</span>: <span style=\"color: #008000; text-decoration-color: #008000\">'41'</span>,\n",
       "            <span style=\"color: #008000; text-decoration-color: #008000\">'name'</span>: <span style=\"color: #008000; text-decoration-color: #008000\">\"Underscoring continued support for the people of Ukraine in their fight against Russia's </span>\n",
       "<span style=\"color: #008000; text-decoration-color: #008000\">aggression, reiterating support for Ukraine's independence, sovereignty, and territorial integrity within its </span>\n",
       "<span style=\"color: #008000; text-decoration-color: #008000\">internationally recognized borders and its territorial waters, and calling for justice for all atrocity crimes </span>\n",
       "<span style=\"color: #008000; text-decoration-color: #008000\">committed by members of Russia's forces in Ukraine.\"</span>,\n",
       "            <span style=\"color: #008000; text-decoration-color: #008000\">'summary'</span>: <span style=\"color: #008000; text-decoration-color: #008000\">\" This resolution condemns Russia's invasion of Ukraine. The resolution also (1) calls on </span>\n",
       "<span style=\"color: #008000; text-decoration-color: #008000\">Russia to end the war and remove all of its troops from Ukraine; and (2) expresses support for the people of </span>\n",
       "<span style=\"color: #008000; text-decoration-color: #008000\">Ukraine in their defense of their country's freedom, independence, and democracy. \"</span>,\n",
       "            <span style=\"color: #008000; text-decoration-color: #008000\">'sponsor'</span>: <span style=\"color: #008000; text-decoration-color: #008000\">'K000375'</span>,\n",
       "            <span style=\"color: #008000; text-decoration-color: #008000\">'source'</span>: <span style=\"color: #008000; text-decoration-color: #008000\">'https://www.congress.gov/bill/118th-congress/house-resolution/41'</span>\n",
       "        <span style=\"font-weight: bold\">}</span>\n",
       "    <span style=\"font-weight: bold\">)</span>,\n",
       "    <span style=\"color: #800080; text-decoration-color: #800080; font-weight: bold\">Document</span><span style=\"font-weight: bold\">(</span>\n",
       "        <span style=\"color: #808000; text-decoration-color: #808000\">page_content</span>=<span style=\"color: #008000; text-decoration-color: #008000\">'Ukraine to prevent acts of Russian genocide against the \\n        Ukrainian people;\\n        </span>\n",
       "<span style=\"color: #008000; text-decoration-color: #008000\">(3) supports tribunals and international criminal \\n        investigations to hold Russian political leaders and </span>\n",
       "<span style=\"color: #008000; text-decoration-color: #008000\">military \\n        personnel to account for a war of aggression, war crimes, \\n        crimes against humanity, and</span>\n",
       "<span style=\"color: #008000; text-decoration-color: #008000\">genocide; and\\n            (4) urges the President to use the authorities under the \\n        Global Magnitsky </span>\n",
       "<span style=\"color: #008000; text-decoration-color: #008000\">Human Rights Accountability Act (22 U.S.C.'</span>,\n",
       "        <span style=\"color: #808000; text-decoration-color: #808000\">metadata</span>=<span style=\"font-weight: bold\">{</span>\n",
       "            <span style=\"color: #008000; text-decoration-color: #008000\">'key'</span>: <span style=\"color: #008000; text-decoration-color: #008000\">'118SRES72'</span>,\n",
       "            <span style=\"color: #008000; text-decoration-color: #008000\">'congress_num'</span>: <span style=\"color: #008000; text-decoration-color: #008000\">'118'</span>,\n",
       "            <span style=\"color: #008000; text-decoration-color: #008000\">'legis_class'</span>: <span style=\"color: #008000; text-decoration-color: #008000\">'SRES'</span>,\n",
       "            <span style=\"color: #008000; text-decoration-color: #008000\">'legis_num'</span>: <span style=\"color: #008000; text-decoration-color: #008000\">'72'</span>,\n",
       "            <span style=\"color: #008000; text-decoration-color: #008000\">'name'</span>: <span style=\"color: #008000; text-decoration-color: #008000\">'A resolution recognizing Russian actions in Ukraine as a genocide.'</span>,\n",
       "            <span style=\"color: #008000; text-decoration-color: #008000\">'summary'</span>: <span style=\"color: #008000; text-decoration-color: #008000\">' This resolution condemns those acting on behalf of Russia for committing acts of genocide </span>\n",
       "<span style=\"color: #008000; text-decoration-color: #008000\">against the Ukrainian people. It also calls on the United States, in cooperation with North Atlantic Treaty </span>\n",
       "<span style=\"color: #008000; text-decoration-color: #008000\">Organization and European Union allies, to undertake measures to support the Ukrainian government to prevent acts </span>\n",
       "<span style=\"color: #008000; text-decoration-color: #008000\">of Russian genocide against the Ukrainian people. It also urges the President to impose sanctions on those </span>\n",
       "<span style=\"color: #008000; text-decoration-color: #008000\">responsible for or complicit in such acts of genocide. '</span>,\n",
       "            <span style=\"color: #008000; text-decoration-color: #008000\">'sponsor'</span>: <span style=\"color: #008000; text-decoration-color: #008000\">'R000584'</span>,\n",
       "            <span style=\"color: #008000; text-decoration-color: #008000\">'source'</span>: <span style=\"color: #008000; text-decoration-color: #008000\">'https://www.congress.gov/bill/118th-congress/senate-resolution/72'</span>\n",
       "        <span style=\"font-weight: bold\">}</span>\n",
       "    <span style=\"font-weight: bold\">)</span>\n",
       "<span style=\"font-weight: bold\">]</span>\n",
       "</pre>\n"
      ],
      "text/plain": [
       "\u001b[1m[\u001b[0m\n",
       "    \u001b[1;35mDocument\u001b[0m\u001b[1m(\u001b[0m\n",
       "        \u001b[33mpage_content\u001b[0m=\u001b[32m'Whereas, on February 24, 2022, the Russian Federation invaded the sovereign \\n        State \u001b[0m\n",
       "\u001b[32mof Ukraine in violation of international law;\\nWhereas Russian troops have since committed horrendous atrocities \u001b[0m\n",
       "\u001b[32mand human \\n        rights violations;\\nWhereas, as of March 2023, the Russian Government has kidnapped and removed\u001b[0m\n",
       "\u001b[32mtens \\n        of thousands of innocent children from their homes in Ukraine;\\nWhereas the Russian Government \u001b[0m\n",
       "\u001b[32mcontinues to falsely claim that the parents and'\u001b[0m,\n",
       "        \u001b[33mmetadata\u001b[0m=\u001b[1m{\u001b[0m\n",
       "            \u001b[32m'key'\u001b[0m: \u001b[32m'118HCONRES29'\u001b[0m,\n",
       "            \u001b[32m'congress_num'\u001b[0m: \u001b[32m'118'\u001b[0m,\n",
       "            \u001b[32m'legis_class'\u001b[0m: \u001b[32m'HCONRES'\u001b[0m,\n",
       "            \u001b[32m'legis_num'\u001b[0m: \u001b[32m'29'\u001b[0m,\n",
       "            \u001b[32m'name'\u001b[0m: \u001b[32m\"Condemning the Russian Federation's kidnapping of Ukrainian children.\"\u001b[0m,\n",
       "            \u001b[32m'summary'\u001b[0m: \u001b[32m''\u001b[0m,\n",
       "            \u001b[32m'sponsor'\u001b[0m: \u001b[32m'B001298'\u001b[0m,\n",
       "            \u001b[32m'source'\u001b[0m: \u001b[32m'https://www.congress.gov/bill/118th-congress/house-concurrent-resolution/29'\u001b[0m\n",
       "        \u001b[1m}\u001b[0m\n",
       "    \u001b[1m)\u001b[0m,\n",
       "    \u001b[1;35mDocument\u001b[0m\u001b[1m(\u001b[0m\n",
       "        \u001b[33mpage_content\u001b[0m=\u001b[32m'Whereas, on February 24, 2022, Russia unleashed a full-scale invasion of Ukraine \\n        in\u001b[0m\n",
       "\u001b[32mcontravention of international law and the Charter of the United \\n        Nations;\\nWhereas the Russian Armed \u001b[0m\n",
       "\u001b[32mForces committed mass atrocities in Bucha, Irpin, \\n        Kherson, Izyum, Mariupol, Dnipro, and Ukrainian towns \u001b[0m\n",
       "\u001b[32moccupied by the \\n        Russian Federation, including rape, summary execution, and unlawful \\n        violence \u001b[0m\n",
       "\u001b[32mand threats against civilians;'\u001b[0m,\n",
       "        \u001b[33mmetadata\u001b[0m=\u001b[1m{\u001b[0m\n",
       "            \u001b[32m'key'\u001b[0m: \u001b[32m'118SRES227'\u001b[0m,\n",
       "            \u001b[32m'congress_num'\u001b[0m: \u001b[32m'118'\u001b[0m,\n",
       "            \u001b[32m'legis_class'\u001b[0m: \u001b[32m'SRES'\u001b[0m,\n",
       "            \u001b[32m'legis_num'\u001b[0m: \u001b[32m'227'\u001b[0m,\n",
       "            \u001b[32m'name'\u001b[0m: \u001b[32m\"A resolution calling on the President to support the creation of an international special \u001b[0m\n",
       "\u001b[32mtribunal to prosecute Russia's aggression against Ukraine.\"\u001b[0m,\n",
       "            \u001b[32m'summary'\u001b[0m: \u001b[32m''\u001b[0m,\n",
       "            \u001b[32m'sponsor'\u001b[0m: \u001b[32m'C000141'\u001b[0m,\n",
       "            \u001b[32m'source'\u001b[0m: \u001b[32m'https://www.congress.gov/bill/118th-congress/senate-resolution/227'\u001b[0m\n",
       "        \u001b[1m}\u001b[0m\n",
       "    \u001b[1m)\u001b[0m,\n",
       "    \u001b[1;35mDocument\u001b[0m\u001b[1m(\u001b[0m\n",
       "        \u001b[33mpage_content\u001b[0m=\u001b[32m'Whereas, on February 24, 2022, the Russian Federation invaded the sovereign \\n        State \u001b[0m\n",
       "\u001b[32mof Ukraine in violation of international law;\\nWhereas Russian troops have since committed horrendous atrocities \u001b[0m\n",
       "\u001b[32mand human \\n        rights violations;\\nWhereas, as of March 2023, research indicates that agents of the Government\u001b[0m\n",
       "\u001b[32mof \\n        the Russian Federation have kidnapped and removed at least 6,000 \\n        innocent children from \u001b[0m\n",
       "\u001b[32mtheir homes in Ukraine, and have likely kidnapped'\u001b[0m,\n",
       "        \u001b[33mmetadata\u001b[0m=\u001b[1m{\u001b[0m\n",
       "            \u001b[32m'key'\u001b[0m: \u001b[32m'118SRES128'\u001b[0m,\n",
       "            \u001b[32m'congress_num'\u001b[0m: \u001b[32m'118'\u001b[0m,\n",
       "            \u001b[32m'legis_class'\u001b[0m: \u001b[32m'SRES'\u001b[0m,\n",
       "            \u001b[32m'legis_num'\u001b[0m: \u001b[32m'128'\u001b[0m,\n",
       "            \u001b[32m'name'\u001b[0m: \u001b[32m\"A resolution condemning the Russian Federation's kidnapping of Ukrainian children.\"\u001b[0m,\n",
       "            \u001b[32m'summary'\u001b[0m: \u001b[32m''\u001b[0m,\n",
       "            \u001b[32m'sponsor'\u001b[0m: \u001b[32m'K000367'\u001b[0m,\n",
       "            \u001b[32m'source'\u001b[0m: \u001b[32m'https://www.congress.gov/bill/118th-congress/senate-resolution/128'\u001b[0m\n",
       "        \u001b[1m}\u001b[0m\n",
       "    \u001b[1m)\u001b[0m,\n",
       "    \u001b[1;35mDocument\u001b[0m\u001b[1m(\u001b[0m\n",
       "        \u001b[33mpage_content\u001b[0m=\u001b[32m\"Whereas\u001b[0m\u001b[32m the Russian Federation's military tactics and calculations have led to \\n        \u001b[0m\n",
       "\u001b[32moutright failure in Ukraine;\\nWhereas an immense amount of compelling evidence has already been collected \\n       \u001b[0m\n",
       "\u001b[32mindicating that members of the Russian military have committed a wide \\n        variety of atrocity crimes in \u001b[0m\n",
       "\u001b[32mUkraine and against the Ukrainian people;\\nWhereas efforts to achieve justice and accountability for atrocity \u001b[0m\n",
       "\u001b[32mcrimes \\n        committed by members of Russia's forces in Ukraine have been organized\"\u001b[0m,\n",
       "        \u001b[33mmetadata\u001b[0m=\u001b[1m{\u001b[0m\n",
       "            \u001b[32m'key'\u001b[0m: \u001b[32m'118HRES41'\u001b[0m,\n",
       "            \u001b[32m'congress_num'\u001b[0m: \u001b[32m'118'\u001b[0m,\n",
       "            \u001b[32m'legis_class'\u001b[0m: \u001b[32m'HRES'\u001b[0m,\n",
       "            \u001b[32m'legis_num'\u001b[0m: \u001b[32m'41'\u001b[0m,\n",
       "            \u001b[32m'name'\u001b[0m: \u001b[32m\"Underscoring continued support for the people of Ukraine in their fight against Russia's \u001b[0m\n",
       "\u001b[32maggression, reiterating support for Ukraine's independence, sovereignty, and territorial integrity within its \u001b[0m\n",
       "\u001b[32minternationally recognized borders and its territorial waters, and calling for justice for all atrocity crimes \u001b[0m\n",
       "\u001b[32mcommitted by members of Russia's forces in Ukraine.\"\u001b[0m,\n",
       "            \u001b[32m'summary'\u001b[0m: \u001b[32m\" This resolution condemns Russia's invasion of Ukraine. The resolution also \u001b[0m\u001b[32m(\u001b[0m\u001b[32m1\u001b[0m\u001b[32m)\u001b[0m\u001b[32m calls on \u001b[0m\n",
       "\u001b[32mRussia to end the war and remove all of its troops from Ukraine; and \u001b[0m\u001b[32m(\u001b[0m\u001b[32m2\u001b[0m\u001b[32m)\u001b[0m\u001b[32m expresses support for the people of \u001b[0m\n",
       "\u001b[32mUkraine in their defense of their country's freedom, independence, and democracy. \"\u001b[0m,\n",
       "            \u001b[32m'sponsor'\u001b[0m: \u001b[32m'K000375'\u001b[0m,\n",
       "            \u001b[32m'source'\u001b[0m: \u001b[32m'https://www.congress.gov/bill/118th-congress/house-resolution/41'\u001b[0m\n",
       "        \u001b[1m}\u001b[0m\n",
       "    \u001b[1m)\u001b[0m,\n",
       "    \u001b[1;35mDocument\u001b[0m\u001b[1m(\u001b[0m\n",
       "        \u001b[33mpage_content\u001b[0m=\u001b[32m'Ukraine to prevent acts of Russian genocide against the \\n        Ukrainian people;\\n        \u001b[0m\n",
       "\u001b[32m(\u001b[0m\u001b[32m3\u001b[0m\u001b[32m)\u001b[0m\u001b[32m supports tribunals and international criminal \\n        investigations to hold Russian political leaders and \u001b[0m\n",
       "\u001b[32mmilitary \\n        personnel to account for a war of aggression, war crimes, \\n        crimes against humanity, and\u001b[0m\n",
       "\u001b[32mgenocide; and\\n            \u001b[0m\u001b[32m(\u001b[0m\u001b[32m4\u001b[0m\u001b[32m)\u001b[0m\u001b[32m urges the President to use the authorities under the \\n        Global Magnitsky \u001b[0m\n",
       "\u001b[32mHuman Rights Accountability Act \u001b[0m\u001b[32m(\u001b[0m\u001b[32m22 U.S.C.'\u001b[0m,\n",
       "        \u001b[33mmetadata\u001b[0m=\u001b[1m{\u001b[0m\n",
       "            \u001b[32m'key'\u001b[0m: \u001b[32m'118SRES72'\u001b[0m,\n",
       "            \u001b[32m'congress_num'\u001b[0m: \u001b[32m'118'\u001b[0m,\n",
       "            \u001b[32m'legis_class'\u001b[0m: \u001b[32m'SRES'\u001b[0m,\n",
       "            \u001b[32m'legis_num'\u001b[0m: \u001b[32m'72'\u001b[0m,\n",
       "            \u001b[32m'name'\u001b[0m: \u001b[32m'A resolution recognizing Russian actions in Ukraine as a genocide.'\u001b[0m,\n",
       "            \u001b[32m'summary'\u001b[0m: \u001b[32m' This resolution condemns those acting on behalf of Russia for committing acts of genocide \u001b[0m\n",
       "\u001b[32magainst the Ukrainian people. It also calls on the United States, in cooperation with North Atlantic Treaty \u001b[0m\n",
       "\u001b[32mOrganization and European Union allies, to undertake measures to support the Ukrainian government to prevent acts \u001b[0m\n",
       "\u001b[32mof Russian genocide against the Ukrainian people. It also urges the President to impose sanctions on those \u001b[0m\n",
       "\u001b[32mresponsible for or complicit in such acts of genocide. '\u001b[0m,\n",
       "            \u001b[32m'sponsor'\u001b[0m: \u001b[32m'R000584'\u001b[0m,\n",
       "            \u001b[32m'source'\u001b[0m: \u001b[32m'https://www.congress.gov/bill/118th-congress/senate-resolution/72'\u001b[0m\n",
       "        \u001b[1m}\u001b[0m\n",
       "    \u001b[1m)\u001b[0m\n",
       "\u001b[1m]\u001b[0m\n"
      ]
     },
     "metadata": {},
     "output_type": "display_data"
    }
   ],
   "source": [
    "response = qa(\"Describe the crimes of war Russia has carried on in Ukraine.\")\n",
    "print(response['result'])\n",
    "print(response['source_documents'])"
   ]
  },
  {
   "cell_type": "code",
   "execution_count": 54,
   "metadata": {},
   "outputs": [
    {
     "data": {
      "text/html": [
       "<pre style=\"white-space:pre;overflow-x:auto;line-height:normal;font-family:Menlo,'DejaVu Sans Mono',consolas,'Courier New',monospace\">No Federal reserve bank may hold digital currencies minted or issued by the United States Government as assets or \n",
       "liabilities on a balance sheet of the bank\n",
       "</pre>\n"
      ],
      "text/plain": [
       "No Federal reserve bank may hold digital currencies minted or issued by the United States Government as assets or \n",
       "liabilities on a balance sheet of the bank\n"
      ]
     },
     "metadata": {},
     "output_type": "display_data"
    },
    {
     "data": {
      "text/html": [
       "<pre style=\"white-space:pre;overflow-x:auto;line-height:normal;font-family:Menlo,'DejaVu Sans Mono',consolas,'Courier New',monospace\"><span style=\"font-weight: bold\">[</span>\n",
       "    <span style=\"color: #800080; text-decoration-color: #800080; font-weight: bold\">Document</span><span style=\"font-weight: bold\">(</span>\n",
       "        <span style=\"color: #808000; text-decoration-color: #808000\">page_content</span>=<span style=\"color: #008000; text-decoration-color: #008000\">'currency directly to an individual (including central bank \\n        digital currency issued </span>\n",
       "<span style=\"color: #008000; text-decoration-color: #008000\">to an individual through a custodial \\n        intermediary) or a digital currency intermediary, offer related \\n  </span>\n",
       "<span style=\"color: #008000; text-decoration-color: #008000\">products or services directly to an individual, or maintain an \\n        account on behalf of an individual </span>\n",
       "<span style=\"color: #008000; text-decoration-color: #008000\">(including an account in a \\n        specially designated account at a digital currency intermediary \\n        or </span>\n",
       "<span style=\"color: #008000; text-decoration-color: #008000\">supervised commercial bank). No Federal reserve bank may'</span>,\n",
       "        <span style=\"color: #808000; text-decoration-color: #808000\">metadata</span>=<span style=\"font-weight: bold\">{</span>\n",
       "            <span style=\"color: #008000; text-decoration-color: #008000\">'key'</span>: <span style=\"color: #008000; text-decoration-color: #008000\">'118S967'</span>,\n",
       "            <span style=\"color: #008000; text-decoration-color: #008000\">'congress_num'</span>: <span style=\"color: #008000; text-decoration-color: #008000\">'118'</span>,\n",
       "            <span style=\"color: #008000; text-decoration-color: #008000\">'legis_class'</span>: <span style=\"color: #008000; text-decoration-color: #008000\">'S'</span>,\n",
       "            <span style=\"color: #008000; text-decoration-color: #008000\">'legis_num'</span>: <span style=\"color: #008000; text-decoration-color: #008000\">'967'</span>,\n",
       "            <span style=\"color: #008000; text-decoration-color: #008000\">'name'</span>: <span style=\"color: #008000; text-decoration-color: #008000\">'No CBDC Act'</span>,\n",
       "            <span style=\"color: #008000; text-decoration-color: #008000\">'summary'</span>: <span style=\"color: #008000; text-decoration-color: #008000\">''</span>,\n",
       "            <span style=\"color: #008000; text-decoration-color: #008000\">'sponsor'</span>: <span style=\"color: #008000; text-decoration-color: #008000\">'L000577'</span>,\n",
       "            <span style=\"color: #008000; text-decoration-color: #008000\">'source'</span>: <span style=\"color: #008000; text-decoration-color: #008000\">'https://www.congress.gov/bill/118th-congress/senate-bill/967'</span>\n",
       "        <span style=\"font-weight: bold\">}</span>\n",
       "    <span style=\"font-weight: bold\">)</span>,\n",
       "    <span style=\"color: #800080; text-decoration-color: #800080; font-weight: bold\">Document</span><span style=\"font-weight: bold\">(</span>\n",
       "        <span style=\"color: #808000; text-decoration-color: #808000\">page_content</span>=<span style=\"color: #008000; text-decoration-color: #008000\">'SEC. 4. CENTRAL BANK DIGITAL CURRENCY STUDY AND PILOT PROGRAM \\n              COORDINATION.'</span>,\n",
       "        <span style=\"color: #808000; text-decoration-color: #808000\">metadata</span>=<span style=\"font-weight: bold\">{</span>\n",
       "            <span style=\"color: #008000; text-decoration-color: #008000\">'key'</span>: <span style=\"color: #008000; text-decoration-color: #008000\">'118HR1122'</span>,\n",
       "            <span style=\"color: #008000; text-decoration-color: #008000\">'congress_num'</span>: <span style=\"color: #008000; text-decoration-color: #008000\">'118'</span>,\n",
       "            <span style=\"color: #008000; text-decoration-color: #008000\">'legis_class'</span>: <span style=\"color: #008000; text-decoration-color: #008000\">'HR'</span>,\n",
       "            <span style=\"color: #008000; text-decoration-color: #008000\">'legis_num'</span>: <span style=\"color: #008000; text-decoration-color: #008000\">'1122'</span>,\n",
       "            <span style=\"color: #008000; text-decoration-color: #008000\">'name'</span>: <span style=\"color: #008000; text-decoration-color: #008000\">'CBDC Anti-Surveillance State Act'</span>,\n",
       "            <span style=\"color: #008000; text-decoration-color: #008000\">'summary'</span>: <span style=\"color: #008000; text-decoration-color: #008000\">' CBDC Anti-Surveillance State Act  This bill limits the ability of the Federal Reserve to </span>\n",
       "<span style=\"color: #008000; text-decoration-color: #008000\">(1) provide direct services to individuals, and (2) use a central bank digital currency. A central bank digital </span>\n",
       "<span style=\"color: #008000; text-decoration-color: #008000\">currency is a digital currency (e.g., Bitcoin or Ether) issued by a government-backed central bank. Specifically, </span>\n",
       "<span style=\"color: #008000; text-decoration-color: #008000\">the bill prohibits the Federal Reserve and the Federal Open Market Committee from using any central bank digital </span>\n",
       "<span style=\"color: #008000; text-decoration-color: #008000\">currency to implement monetary policy. In addition, a Federal Reserve bank is prohibited from offering products or </span>\n",
       "<span style=\"color: #008000; text-decoration-color: #008000\">services directly to an individual, maintaining an account on behalf of an individual, or issuing a central bank </span>\n",
       "<span style=\"color: #008000; text-decoration-color: #008000\">digital currency directly to an individual.  The Federal Reserve must (1) consult with each Federal Reserve bank </span>\n",
       "<span style=\"color: #008000; text-decoration-color: #008000\">with respect to any central bank digital currency study or pilot program, and (2) issue quarterly reports on the </span>\n",
       "<span style=\"color: #008000; text-decoration-color: #008000\">findings and determinations of any such study or program.'</span>,\n",
       "            <span style=\"color: #008000; text-decoration-color: #008000\">'sponsor'</span>: <span style=\"color: #008000; text-decoration-color: #008000\">'E000294'</span>,\n",
       "            <span style=\"color: #008000; text-decoration-color: #008000\">'source'</span>: <span style=\"color: #008000; text-decoration-color: #008000\">'https://www.congress.gov/bill/118th-congress/house-bill/1122'</span>\n",
       "        <span style=\"font-weight: bold\">}</span>\n",
       "    <span style=\"font-weight: bold\">)</span>,\n",
       "    <span style=\"color: #800080; text-decoration-color: #800080; font-weight: bold\">Document</span><span style=\"font-weight: bold\">(</span>\n",
       "        <span style=\"color: #808000; text-decoration-color: #808000\">page_content</span>=<span style=\"color: #008000; text-decoration-color: #008000\">\"or supervised commercial bank). No Federal reserve bank may \\n        hold digital currencies</span>\n",
       "<span style=\"color: #008000; text-decoration-color: #008000\">minted or issued by the United States \\n        Government as assets or liabilities on a balance sheet of the \\n   </span>\n",
       "<span style=\"color: #008000; text-decoration-color: #008000\">bank or use such digital currencies as part of fulfilling the \\n        requirements under section 2A.''.\\n        </span>\n",
       "<span style=\"color: #008000; text-decoration-color: #008000\">&lt;all&gt;\"</span>,\n",
       "        <span style=\"color: #808000; text-decoration-color: #808000\">metadata</span>=<span style=\"font-weight: bold\">{</span>\n",
       "            <span style=\"color: #008000; text-decoration-color: #008000\">'key'</span>: <span style=\"color: #008000; text-decoration-color: #008000\">'118S967'</span>,\n",
       "            <span style=\"color: #008000; text-decoration-color: #008000\">'congress_num'</span>: <span style=\"color: #008000; text-decoration-color: #008000\">'118'</span>,\n",
       "            <span style=\"color: #008000; text-decoration-color: #008000\">'legis_class'</span>: <span style=\"color: #008000; text-decoration-color: #008000\">'S'</span>,\n",
       "            <span style=\"color: #008000; text-decoration-color: #008000\">'legis_num'</span>: <span style=\"color: #008000; text-decoration-color: #008000\">'967'</span>,\n",
       "            <span style=\"color: #008000; text-decoration-color: #008000\">'name'</span>: <span style=\"color: #008000; text-decoration-color: #008000\">'No CBDC Act'</span>,\n",
       "            <span style=\"color: #008000; text-decoration-color: #008000\">'summary'</span>: <span style=\"color: #008000; text-decoration-color: #008000\">''</span>,\n",
       "            <span style=\"color: #008000; text-decoration-color: #008000\">'sponsor'</span>: <span style=\"color: #008000; text-decoration-color: #008000\">'L000577'</span>,\n",
       "            <span style=\"color: #008000; text-decoration-color: #008000\">'source'</span>: <span style=\"color: #008000; text-decoration-color: #008000\">'https://www.congress.gov/bill/118th-congress/senate-bill/967'</span>\n",
       "        <span style=\"font-weight: bold\">}</span>\n",
       "    <span style=\"font-weight: bold\">)</span>,\n",
       "    <span style=\"color: #800080; text-decoration-color: #800080; font-weight: bold\">Document</span><span style=\"font-weight: bold\">(</span>\n",
       "        <span style=\"color: #808000; text-decoration-color: #808000\">page_content</span>=<span style=\"color: #008000; text-decoration-color: #008000\">\"securities.'' and inserting ``other forms of securities and in \\n        cryptocurrency or </span>\n",
       "<span style=\"color: #008000; text-decoration-color: #008000\">other digital assets that are issued or \\n        transferred using distributed ledger or blockchain technology \\n </span>\n",
       "<span style=\"color: #008000; text-decoration-color: #008000\">including: virtual currencies, coins and tokens or any other \\n        digital asset specified by regulations of a </span>\n",
       "<span style=\"color: #008000; text-decoration-color: #008000\">filer's supervising \\n        ethics office.''.\\n    (f) Mandatory Electronic Filing.--Section 103(a) of the Ethics</span>\n",
       "<span style=\"color: #008000; text-decoration-color: #008000\">in\"</span>,\n",
       "        <span style=\"color: #808000; text-decoration-color: #808000\">metadata</span>=<span style=\"font-weight: bold\">{</span>\n",
       "            <span style=\"color: #008000; text-decoration-color: #008000\">'key'</span>: <span style=\"color: #008000; text-decoration-color: #008000\">'118HR389'</span>,\n",
       "            <span style=\"color: #008000; text-decoration-color: #008000\">'congress_num'</span>: <span style=\"color: #008000; text-decoration-color: #008000\">'118'</span>,\n",
       "            <span style=\"color: #008000; text-decoration-color: #008000\">'legis_class'</span>: <span style=\"color: #008000; text-decoration-color: #008000\">'HR'</span>,\n",
       "            <span style=\"color: #008000; text-decoration-color: #008000\">'legis_num'</span>: <span style=\"color: #008000; text-decoration-color: #008000\">'389'</span>,\n",
       "            <span style=\"color: #008000; text-decoration-color: #008000\">'name'</span>: <span style=\"color: #008000; text-decoration-color: #008000\">'PORTFOLIO Act'</span>,\n",
       "            <span style=\"color: #008000; text-decoration-color: #008000\">'summary'</span>: <span style=\"color: #008000; text-decoration-color: #008000\">' Preventing Opportunistic Returns on Trades and Futures by Officials, Leadership, and </span>\n",
       "<span style=\"color: #008000; text-decoration-color: #008000\">Individuals in Office Act or the PORTFOLIO Act This bill generally prohibits federal employees and officials from </span>\n",
       "<span style=\"color: #008000; text-decoration-color: #008000\">owning or trading in synthetic assets (i.e., tokenized derivatives). It also establishes financial disclosure </span>\n",
       "<span style=\"color: #008000; text-decoration-color: #008000\">requirements with respect to cryptocurrency. Specifically, the bill prohibits federal employees, Members of </span>\n",
       "<span style=\"color: #008000; text-decoration-color: #008000\">Congress, the President, and Vice President from owning or trading investments in a security, a commodity, a </span>\n",
       "<span style=\"color: #008000; text-decoration-color: #008000\">future, cryptocurrency, or any comparable economic interest acquired through synthetic means, such as through a </span>\n",
       "<span style=\"color: #008000; text-decoration-color: #008000\">derivative. Such investments must be divested through gift or donation, cashing out, or a qualified blind trust. </span>\n",
       "<span style=\"color: #008000; text-decoration-color: #008000\">The appropriate ethics office may grant temporary exemptions in certain situations, such as for preexisting complex</span>\n",
       "<span style=\"color: #008000; text-decoration-color: #008000\">financial arrangements from which investments cannot be withdrawn, and may assess fees for violations. The </span>\n",
       "<span style=\"color: #008000; text-decoration-color: #008000\">Department of Justice may also bring civil actions for violations.  The bill also (1) incorporates cryptocurrency </span>\n",
       "<span style=\"color: #008000; text-decoration-color: #008000\">and other digital assets into current financial disclosure requirements; (2) modifies the categories and timelines </span>\n",
       "<span style=\"color: #008000; text-decoration-color: #008000\">for financial disclosures; and (3) requires agencies, ethics offices, and the Department of Justice to regularly </span>\n",
       "<span style=\"color: #008000; text-decoration-color: #008000\">report on violations of this bill and other related requirements.'</span>,\n",
       "            <span style=\"color: #008000; text-decoration-color: #008000\">'sponsor'</span>: <span style=\"color: #008000; text-decoration-color: #008000\">'S001183'</span>,\n",
       "            <span style=\"color: #008000; text-decoration-color: #008000\">'source'</span>: <span style=\"color: #008000; text-decoration-color: #008000\">'https://www.congress.gov/bill/118th-congress/house-bill/389'</span>\n",
       "        <span style=\"font-weight: bold\">}</span>\n",
       "    <span style=\"font-weight: bold\">)</span>,\n",
       "    <span style=\"color: #800080; text-decoration-color: #800080; font-weight: bold\">Document</span><span style=\"font-weight: bold\">(</span>\n",
       "        <span style=\"color: #808000; text-decoration-color: #808000\">page_content</span>=<span style=\"color: #008000; text-decoration-color: #008000\">\"``(a) In General.--The Board of Governors of the Federal Reserve \\nmay not, absent </span>\n",
       "<span style=\"color: #008000; text-decoration-color: #008000\">Congressional authorization, issue a central bank \\ndigital currency.\\n    ``(b) Central Bank Digital Currency </span>\n",
       "<span style=\"color: #008000; text-decoration-color: #008000\">Defined.--In this section, the \\nterm `central bank digital currency' means a form of digital money or \\nmonetary </span>\n",
       "<span style=\"color: #008000; text-decoration-color: #008000\">value, denominated in the national unit of account, that is a \\ndirect liability of the Federal Reserve.''.\\n    </span>\n",
       "<span style=\"color: #008000; text-decoration-color: #008000\">(b) Treasury.--Chapter 3 of subtitle I of title 31 of the United\"</span>,\n",
       "        <span style=\"color: #808000; text-decoration-color: #808000\">metadata</span>=<span style=\"font-weight: bold\">{</span>\n",
       "            <span style=\"color: #008000; text-decoration-color: #008000\">'key'</span>: <span style=\"color: #008000; text-decoration-color: #008000\">'118HR3402'</span>,\n",
       "            <span style=\"color: #008000; text-decoration-color: #008000\">'congress_num'</span>: <span style=\"color: #008000; text-decoration-color: #008000\">'118'</span>,\n",
       "            <span style=\"color: #008000; text-decoration-color: #008000\">'legis_class'</span>: <span style=\"color: #008000; text-decoration-color: #008000\">'HR'</span>,\n",
       "            <span style=\"color: #008000; text-decoration-color: #008000\">'legis_num'</span>: <span style=\"color: #008000; text-decoration-color: #008000\">'3402'</span>,\n",
       "            <span style=\"color: #008000; text-decoration-color: #008000\">'name'</span>: <span style=\"color: #008000; text-decoration-color: #008000\">'Power of the Mint Act'</span>,\n",
       "            <span style=\"color: #008000; text-decoration-color: #008000\">'summary'</span>: <span style=\"color: #008000; text-decoration-color: #008000\">''</span>,\n",
       "            <span style=\"color: #008000; text-decoration-color: #008000\">'sponsor'</span>: <span style=\"color: #008000; text-decoration-color: #008000\">'A000148'</span>,\n",
       "            <span style=\"color: #008000; text-decoration-color: #008000\">'source'</span>: <span style=\"color: #008000; text-decoration-color: #008000\">'https://www.congress.gov/bill/118th-congress/house-bill/3402'</span>\n",
       "        <span style=\"font-weight: bold\">}</span>\n",
       "    <span style=\"font-weight: bold\">)</span>\n",
       "<span style=\"font-weight: bold\">]</span>\n",
       "</pre>\n"
      ],
      "text/plain": [
       "\u001b[1m[\u001b[0m\n",
       "    \u001b[1;35mDocument\u001b[0m\u001b[1m(\u001b[0m\n",
       "        \u001b[33mpage_content\u001b[0m=\u001b[32m'currency directly to an individual \u001b[0m\u001b[32m(\u001b[0m\u001b[32mincluding central bank \\n        digital currency issued \u001b[0m\n",
       "\u001b[32mto an individual through a custodial \\n        intermediary\u001b[0m\u001b[32m)\u001b[0m\u001b[32m or a digital currency intermediary, offer related \\n  \u001b[0m\n",
       "\u001b[32mproducts or services directly to an individual, or maintain an \\n        account on behalf of an individual \u001b[0m\n",
       "\u001b[32m(\u001b[0m\u001b[32mincluding an account in a \\n        specially designated account at a digital currency intermediary \\n        or \u001b[0m\n",
       "\u001b[32msupervised commercial bank\u001b[0m\u001b[32m)\u001b[0m\u001b[32m. No Federal reserve bank may'\u001b[0m,\n",
       "        \u001b[33mmetadata\u001b[0m=\u001b[1m{\u001b[0m\n",
       "            \u001b[32m'key'\u001b[0m: \u001b[32m'118S967'\u001b[0m,\n",
       "            \u001b[32m'congress_num'\u001b[0m: \u001b[32m'118'\u001b[0m,\n",
       "            \u001b[32m'legis_class'\u001b[0m: \u001b[32m'S'\u001b[0m,\n",
       "            \u001b[32m'legis_num'\u001b[0m: \u001b[32m'967'\u001b[0m,\n",
       "            \u001b[32m'name'\u001b[0m: \u001b[32m'No CBDC Act'\u001b[0m,\n",
       "            \u001b[32m'summary'\u001b[0m: \u001b[32m''\u001b[0m,\n",
       "            \u001b[32m'sponsor'\u001b[0m: \u001b[32m'L000577'\u001b[0m,\n",
       "            \u001b[32m'source'\u001b[0m: \u001b[32m'https://www.congress.gov/bill/118th-congress/senate-bill/967'\u001b[0m\n",
       "        \u001b[1m}\u001b[0m\n",
       "    \u001b[1m)\u001b[0m,\n",
       "    \u001b[1;35mDocument\u001b[0m\u001b[1m(\u001b[0m\n",
       "        \u001b[33mpage_content\u001b[0m=\u001b[32m'SEC. 4. CENTRAL BANK DIGITAL CURRENCY STUDY AND PILOT PROGRAM \\n              COORDINATION.'\u001b[0m,\n",
       "        \u001b[33mmetadata\u001b[0m=\u001b[1m{\u001b[0m\n",
       "            \u001b[32m'key'\u001b[0m: \u001b[32m'118HR1122'\u001b[0m,\n",
       "            \u001b[32m'congress_num'\u001b[0m: \u001b[32m'118'\u001b[0m,\n",
       "            \u001b[32m'legis_class'\u001b[0m: \u001b[32m'HR'\u001b[0m,\n",
       "            \u001b[32m'legis_num'\u001b[0m: \u001b[32m'1122'\u001b[0m,\n",
       "            \u001b[32m'name'\u001b[0m: \u001b[32m'CBDC Anti-Surveillance State Act'\u001b[0m,\n",
       "            \u001b[32m'summary'\u001b[0m: \u001b[32m' CBDC Anti-Surveillance State Act  This bill limits the ability of the Federal Reserve to \u001b[0m\n",
       "\u001b[32m(\u001b[0m\u001b[32m1\u001b[0m\u001b[32m)\u001b[0m\u001b[32m provide direct services to individuals, and \u001b[0m\u001b[32m(\u001b[0m\u001b[32m2\u001b[0m\u001b[32m)\u001b[0m\u001b[32m use a central bank digital currency. A central bank digital \u001b[0m\n",
       "\u001b[32mcurrency is a digital currency \u001b[0m\u001b[32m(\u001b[0m\u001b[32me.g., Bitcoin or Ether\u001b[0m\u001b[32m)\u001b[0m\u001b[32m issued by a government-backed central bank. Specifically, \u001b[0m\n",
       "\u001b[32mthe bill prohibits the Federal Reserve and the Federal Open Market Committee from using any central bank digital \u001b[0m\n",
       "\u001b[32mcurrency to implement monetary policy. In addition, a Federal Reserve bank is prohibited from offering products or \u001b[0m\n",
       "\u001b[32mservices directly to an individual, maintaining an account on behalf of an individual, or issuing a central bank \u001b[0m\n",
       "\u001b[32mdigital currency directly to an individual.  The Federal Reserve must \u001b[0m\u001b[32m(\u001b[0m\u001b[32m1\u001b[0m\u001b[32m)\u001b[0m\u001b[32m consult with each Federal Reserve bank \u001b[0m\n",
       "\u001b[32mwith respect to any central bank digital currency study or pilot program, and \u001b[0m\u001b[32m(\u001b[0m\u001b[32m2\u001b[0m\u001b[32m)\u001b[0m\u001b[32m issue quarterly reports on the \u001b[0m\n",
       "\u001b[32mfindings and determinations of any such study or program.'\u001b[0m,\n",
       "            \u001b[32m'sponsor'\u001b[0m: \u001b[32m'E000294'\u001b[0m,\n",
       "            \u001b[32m'source'\u001b[0m: \u001b[32m'https://www.congress.gov/bill/118th-congress/house-bill/1122'\u001b[0m\n",
       "        \u001b[1m}\u001b[0m\n",
       "    \u001b[1m)\u001b[0m,\n",
       "    \u001b[1;35mDocument\u001b[0m\u001b[1m(\u001b[0m\n",
       "        \u001b[33mpage_content\u001b[0m=\u001b[32m\"or\u001b[0m\u001b[32m supervised commercial bank\u001b[0m\u001b[32m)\u001b[0m\u001b[32m. No Federal reserve bank may \\n        hold digital currencies\u001b[0m\n",
       "\u001b[32mminted or issued by the United States \\n        Government as assets or liabilities on a balance sheet of the \\n   \u001b[0m\n",
       "\u001b[32mbank or use such digital currencies as part of fulfilling the \\n        requirements under section 2A.''.\\n        \u001b[0m\n",
       "\u001b[32m<\u001b[0m\u001b[32mall\u001b[0m\u001b[32m>\u001b[0m\u001b[32m\"\u001b[0m,\n",
       "        \u001b[33mmetadata\u001b[0m=\u001b[1m{\u001b[0m\n",
       "            \u001b[32m'key'\u001b[0m: \u001b[32m'118S967'\u001b[0m,\n",
       "            \u001b[32m'congress_num'\u001b[0m: \u001b[32m'118'\u001b[0m,\n",
       "            \u001b[32m'legis_class'\u001b[0m: \u001b[32m'S'\u001b[0m,\n",
       "            \u001b[32m'legis_num'\u001b[0m: \u001b[32m'967'\u001b[0m,\n",
       "            \u001b[32m'name'\u001b[0m: \u001b[32m'No CBDC Act'\u001b[0m,\n",
       "            \u001b[32m'summary'\u001b[0m: \u001b[32m''\u001b[0m,\n",
       "            \u001b[32m'sponsor'\u001b[0m: \u001b[32m'L000577'\u001b[0m,\n",
       "            \u001b[32m'source'\u001b[0m: \u001b[32m'https://www.congress.gov/bill/118th-congress/senate-bill/967'\u001b[0m\n",
       "        \u001b[1m}\u001b[0m\n",
       "    \u001b[1m)\u001b[0m,\n",
       "    \u001b[1;35mDocument\u001b[0m\u001b[1m(\u001b[0m\n",
       "        \u001b[33mpage_content\u001b[0m=\u001b[32m\"securities\u001b[0m\u001b[32m.'' and inserting ``other forms of securities and in \\n        cryptocurrency or \u001b[0m\n",
       "\u001b[32mother digital assets that are issued or \\n        transferred using distributed ledger or blockchain technology \\n \u001b[0m\n",
       "\u001b[32mincluding: virtual currencies, coins and tokens or any other \\n        digital asset specified by regulations of a \u001b[0m\n",
       "\u001b[32mfiler's supervising \\n        ethics office.''.\\n    \u001b[0m\u001b[32m(\u001b[0m\u001b[32mf\u001b[0m\u001b[32m)\u001b[0m\u001b[32m Mandatory Electronic Filing.--Section 103\u001b[0m\u001b[32m(\u001b[0m\u001b[32ma\u001b[0m\u001b[32m)\u001b[0m\u001b[32m of the Ethics\u001b[0m\n",
       "\u001b[32min\"\u001b[0m,\n",
       "        \u001b[33mmetadata\u001b[0m=\u001b[1m{\u001b[0m\n",
       "            \u001b[32m'key'\u001b[0m: \u001b[32m'118HR389'\u001b[0m,\n",
       "            \u001b[32m'congress_num'\u001b[0m: \u001b[32m'118'\u001b[0m,\n",
       "            \u001b[32m'legis_class'\u001b[0m: \u001b[32m'HR'\u001b[0m,\n",
       "            \u001b[32m'legis_num'\u001b[0m: \u001b[32m'389'\u001b[0m,\n",
       "            \u001b[32m'name'\u001b[0m: \u001b[32m'PORTFOLIO Act'\u001b[0m,\n",
       "            \u001b[32m'summary'\u001b[0m: \u001b[32m' Preventing Opportunistic Returns on Trades and Futures by Officials, Leadership, and \u001b[0m\n",
       "\u001b[32mIndividuals in Office Act or the PORTFOLIO Act This bill generally prohibits federal employees and officials from \u001b[0m\n",
       "\u001b[32mowning or trading in synthetic assets \u001b[0m\u001b[32m(\u001b[0m\u001b[32mi.e., tokenized derivatives\u001b[0m\u001b[32m)\u001b[0m\u001b[32m. It also establishes financial disclosure \u001b[0m\n",
       "\u001b[32mrequirements with respect to cryptocurrency. Specifically, the bill prohibits federal employees, Members of \u001b[0m\n",
       "\u001b[32mCongress, the President, and Vice President from owning or trading investments in a security, a commodity, a \u001b[0m\n",
       "\u001b[32mfuture, cryptocurrency, or any comparable economic interest acquired through synthetic means, such as through a \u001b[0m\n",
       "\u001b[32mderivative. Such investments must be divested through gift or donation, cashing out, or a qualified blind trust. \u001b[0m\n",
       "\u001b[32mThe appropriate ethics office may grant temporary exemptions in certain situations, such as for preexisting complex\u001b[0m\n",
       "\u001b[32mfinancial arrangements from which investments cannot be withdrawn, and may assess fees for violations. The \u001b[0m\n",
       "\u001b[32mDepartment of Justice may also bring civil actions for violations.  The bill also \u001b[0m\u001b[32m(\u001b[0m\u001b[32m1\u001b[0m\u001b[32m)\u001b[0m\u001b[32m incorporates cryptocurrency \u001b[0m\n",
       "\u001b[32mand other digital assets into current financial disclosure requirements; \u001b[0m\u001b[32m(\u001b[0m\u001b[32m2\u001b[0m\u001b[32m)\u001b[0m\u001b[32m modifies the categories and timelines \u001b[0m\n",
       "\u001b[32mfor financial disclosures; and \u001b[0m\u001b[32m(\u001b[0m\u001b[32m3\u001b[0m\u001b[32m)\u001b[0m\u001b[32m requires agencies, ethics offices, and the Department of Justice to regularly \u001b[0m\n",
       "\u001b[32mreport on violations of this bill and other related requirements.'\u001b[0m,\n",
       "            \u001b[32m'sponsor'\u001b[0m: \u001b[32m'S001183'\u001b[0m,\n",
       "            \u001b[32m'source'\u001b[0m: \u001b[32m'https://www.congress.gov/bill/118th-congress/house-bill/389'\u001b[0m\n",
       "        \u001b[1m}\u001b[0m\n",
       "    \u001b[1m)\u001b[0m,\n",
       "    \u001b[1;35mDocument\u001b[0m\u001b[1m(\u001b[0m\n",
       "        \u001b[33mpage_content\u001b[0m=\u001b[32m\"``\u001b[0m\u001b[32m(\u001b[0m\u001b[32ma\u001b[0m\u001b[32m)\u001b[0m\u001b[32m In General.--The Board of Governors of the Federal Reserve \\nmay not, absent \u001b[0m\n",
       "\u001b[32mCongressional authorization, issue a central bank \\ndigital currency.\\n    ``\u001b[0m\u001b[32m(\u001b[0m\u001b[32mb\u001b[0m\u001b[32m)\u001b[0m\u001b[32m Central Bank Digital Currency \u001b[0m\n",
       "\u001b[32mDefined.--In this section, the \\nterm `central bank digital currency' means a form of digital money or \\nmonetary \u001b[0m\n",
       "\u001b[32mvalue, denominated in the national unit of account, that is a \\ndirect liability of the Federal Reserve.''.\\n    \u001b[0m\n",
       "\u001b[32m(\u001b[0m\u001b[32mb\u001b[0m\u001b[32m)\u001b[0m\u001b[32m Treasury.--Chapter 3 of subtitle I of title 31 of the United\"\u001b[0m,\n",
       "        \u001b[33mmetadata\u001b[0m=\u001b[1m{\u001b[0m\n",
       "            \u001b[32m'key'\u001b[0m: \u001b[32m'118HR3402'\u001b[0m,\n",
       "            \u001b[32m'congress_num'\u001b[0m: \u001b[32m'118'\u001b[0m,\n",
       "            \u001b[32m'legis_class'\u001b[0m: \u001b[32m'HR'\u001b[0m,\n",
       "            \u001b[32m'legis_num'\u001b[0m: \u001b[32m'3402'\u001b[0m,\n",
       "            \u001b[32m'name'\u001b[0m: \u001b[32m'Power of the Mint Act'\u001b[0m,\n",
       "            \u001b[32m'summary'\u001b[0m: \u001b[32m''\u001b[0m,\n",
       "            \u001b[32m'sponsor'\u001b[0m: \u001b[32m'A000148'\u001b[0m,\n",
       "            \u001b[32m'source'\u001b[0m: \u001b[32m'https://www.congress.gov/bill/118th-congress/house-bill/3402'\u001b[0m\n",
       "        \u001b[1m}\u001b[0m\n",
       "    \u001b[1m)\u001b[0m\n",
       "\u001b[1m]\u001b[0m\n"
      ]
     },
     "metadata": {},
     "output_type": "display_data"
    }
   ],
   "source": [
    "response = qa(\"How are cryptocurrencies handled differently from normal banking procedures?\")\n",
    "print(response['result'])\n",
    "print(response['source_documents'])"
   ]
  }
 ],
 "metadata": {
  "colab": {
   "include_colab_link": true,
   "provenance": []
  },
  "kernelspec": {
   "display_name": "Python 3 (ipykernel)",
   "language": "python",
   "name": "python3"
  },
  "language_info": {
   "codemirror_mode": {
    "name": "ipython",
    "version": 3
   },
   "file_extension": ".py",
   "mimetype": "text/x-python",
   "name": "python",
   "nbconvert_exporter": "python",
   "pygments_lexer": "ipython3",
   "version": "3.11.3"
  }
 },
 "nbformat": 4,
 "nbformat_minor": 4
}
