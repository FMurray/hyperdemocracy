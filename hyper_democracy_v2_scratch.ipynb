{
 "cells": [
  {
   "attachments": {},
   "cell_type": "markdown",
   "metadata": {
    "colab_type": "text",
    "id": "view-in-github"
   },
   "source": [
    "<a href=\"https://colab.research.google.com/github/FMurray/hyperdemocracy/blob/main/hyper_democracy_v2.ipynb\" target=\"_parent\"><img src=\"https://colab.research.google.com/assets/colab-badge.svg\" alt=\"Open In Colab\"/></a>"
   ]
  },
  {
   "attachments": {},
   "cell_type": "markdown",
   "metadata": {
    "id": "KkXxD28y6u2w"
   },
   "source": [
    "# Install Dependencies"
   ]
  },
  {
   "cell_type": "code",
   "execution_count": 1,
   "metadata": {},
   "outputs": [],
   "source": [
    "# if you are on a google colab, uncomment the lines below to fetch the requirements file and the hyperdemocracy.py module\n",
    "# and pip install the requirements\n",
    "\n",
    "#!wget https://raw.githubusercontent.com/FMurray/hyperdemocracy/main/requirements.txt\n",
    "#!wget https://raw.githubusercontent.com/FMurray/hyperdemocracy/main/hyperdemocracy.py\n",
    "#!pip install -r requirements.txt"
   ]
  },
  {
   "cell_type": "code",
   "execution_count": 24,
   "metadata": {},
   "outputs": [],
   "source": [
    "import os\n",
    "import rich"
   ]
  },
  {
   "cell_type": "markdown",
   "metadata": {},
   "source": [
    "# Note on Formatted Output\n",
    "\n",
    "Note that we patch the builtin Python `print` function with `rich.print` in the cell below. If you prefer a more traditional print output you can comment out the import below. "
   ]
  },
  {
   "cell_type": "code",
   "execution_count": 3,
   "metadata": {},
   "outputs": [],
   "source": [
    "from rich import print"
   ]
  },
  {
   "cell_type": "markdown",
   "metadata": {},
   "source": [
    "# Note on Cost\n",
    "\n",
    "Running this notebook with your OpenAI key in an environment variable will charge a small amount of money to your OpenAI account. The total cost of running this notebook multiple times should be less than 10 cents but that can change if the datasource is changed. Each cell that makes a request to an OpenAI endpoint that costs money will have the following comment in it, \n",
    "\n",
    "```\n",
    "## THIS CELL SPENDS MONEY ##\n",
    "```\n",
    "\n",
    "Up to date pricing information on OpenAI models can be found here https://openai.com/pricing"
   ]
  },
  {
   "attachments": {},
   "cell_type": "markdown",
   "metadata": {
    "id": "IRqdS7Elhfpl"
   },
   "source": [
    "# Setup Keys"
   ]
  },
  {
   "cell_type": "code",
   "execution_count": 4,
   "metadata": {},
   "outputs": [
    {
     "data": {
      "text/plain": [
       "True"
      ]
     },
     "execution_count": 4,
     "metadata": {},
     "output_type": "execute_result"
    }
   ],
   "source": [
    "# if you want to use local secrets, add a file called .env to this directory and uncomment the lines below\n",
    "\n",
    "from dotenv import load_dotenv\n",
    "load_dotenv(\".env\")\n",
    "#%dotenv ./.env"
   ]
  },
  {
   "cell_type": "code",
   "execution_count": 7,
   "metadata": {
    "id": "jtSzpF4Ehii5"
   },
   "outputs": [],
   "source": [
    "# if you are using google colab, uncomment the lines below to manually enter your OpenAI key.\n",
    "\n",
    "#import getpass\n",
    "#os.environ['OPENAI_API_KEY'] = getpass.getpass()"
   ]
  },
  {
   "cell_type": "code",
   "execution_count": 8,
   "metadata": {},
   "outputs": [],
   "source": [
    "%load_ext autoreload\n",
    "%autoreload 2"
   ]
  },
  {
   "attachments": {},
   "cell_type": "markdown",
   "metadata": {
    "id": "vSe6gY8_gazO"
   },
   "source": [
    "# Load Assembleco Records\n",
    "\n",
    "We are going to use a small subset of records provided by https://assembled.app/.\n",
    "\n",
    "For the purposes of this workshop, we have created a [huggingface dataset](https://huggingface.co/datasets/assembleco/hyperdemocracy)  which we can load using the `load_dataset` function. This is all handled for you in the `load_assembleco_records` function. See more info here [datasets](https://huggingface.co/docs/datasets/index) package."
   ]
  },
  {
   "cell_type": "code",
   "execution_count": 9,
   "metadata": {},
   "outputs": [],
   "source": [
    "from hyperdemocracy import load_assembleco_records"
   ]
  },
  {
   "cell_type": "code",
   "execution_count": 10,
   "metadata": {},
   "outputs": [
    {
     "name": "stderr",
     "output_type": "stream",
     "text": [
      "Found cached dataset parquet (/home/galtay/.cache/huggingface/datasets/assembleco___parquet/assembleco--hyperdemocracy-37bf3764bb15f4d0/0.0.0/14a00e99c0d15a23649d0db8944380ac81082d4b021f398733dd84f3a6c569a7)\n"
     ]
    }
   ],
   "source": [
    "df = load_assembleco_records(process=True, strip_html=True, remove_empty_body=True)"
   ]
  },
  {
   "cell_type": "code",
   "execution_count": 11,
   "metadata": {
    "id": "L5r6oJ7MmQM5"
   },
   "outputs": [
    {
     "data": {
      "text/html": [
       "<div>\n",
       "<style scoped>\n",
       "    .dataframe tbody tr th:only-of-type {\n",
       "        vertical-align: middle;\n",
       "    }\n",
       "\n",
       "    .dataframe tbody tr th {\n",
       "        vertical-align: top;\n",
       "    }\n",
       "\n",
       "    .dataframe thead th {\n",
       "        text-align: right;\n",
       "    }\n",
       "</style>\n",
       "<table border=\"1\" class=\"dataframe\">\n",
       "  <thead>\n",
       "    <tr style=\"text-align: right;\">\n",
       "      <th></th>\n",
       "      <th>key</th>\n",
       "      <th>name</th>\n",
       "      <th>sponsors</th>\n",
       "      <th>summary</th>\n",
       "      <th>body</th>\n",
       "      <th>themes</th>\n",
       "      <th>index</th>\n",
       "      <th>actions</th>\n",
       "      <th>amendments</th>\n",
       "      <th>committees</th>\n",
       "      <th>relatedbills</th>\n",
       "      <th>cosponsors</th>\n",
       "      <th>subjects</th>\n",
       "      <th>text</th>\n",
       "      <th>titles</th>\n",
       "      <th>congress_num</th>\n",
       "      <th>legis_class</th>\n",
       "      <th>legis_num</th>\n",
       "      <th>congress_gov_url</th>\n",
       "    </tr>\n",
       "  </thead>\n",
       "  <tbody>\n",
       "    <tr>\n",
       "      <th>0</th>\n",
       "      <td>118HCONRES1</td>\n",
       "      <td>Regarding consent to assemble outside the seat...</td>\n",
       "      <td>[[C001053, Rep. Cole, Tom [R-OK-4], sponsor]]</td>\n",
       "      <td>This concurrent resolution authorizes the Spe...</td>\n",
       "      <td>[Congressional Bills 118th Congress]\\n[From th...</td>\n",
       "      <td>[Congress, Congressional operations and organi...</td>\n",
       "      <td>{'bill': {'actions': {'count': 7, 'url': 'http...</td>\n",
       "      <td>{'actions': [{'actionCode': None, 'actionDate'...</td>\n",
       "      <td>{'amendments': [], 'pagination': {'count': 0},...</td>\n",
       "      <td>{'committees': [], 'request': {'billNumber': '...</td>\n",
       "      <td>{'pagination': {'count': 0}, 'relatedBills': [...</td>\n",
       "      <td>{'cosponsors': [], 'pagination': {'count': 0, ...</td>\n",
       "      <td>{'pagination': {'count': 2}, 'request': {'bill...</td>\n",
       "      <td>{'pagination': {'count': 1}, 'request': {'bill...</td>\n",
       "      <td>{'pagination': {'count': 2}, 'request': {'bill...</td>\n",
       "      <td>118</td>\n",
       "      <td>HCONRES</td>\n",
       "      <td>1</td>\n",
       "      <td>https://www.congress.gov/bill/118th-congress/h...</td>\n",
       "    </tr>\n",
       "    <tr>\n",
       "      <th>1</th>\n",
       "      <td>118HCONRES10</td>\n",
       "      <td>Expressing the sense of Congress that the Unit...</td>\n",
       "      <td>[[T000165, Rep. Tiffany, Thomas P. [R-WI-7], s...</td>\n",
       "      <td>This concurrent resolution calls on the Presi...</td>\n",
       "      <td>[Congressional Bills 118th Congress]\\n[From th...</td>\n",
       "      <td>[International Affairs]</td>\n",
       "      <td>{'bill': {'actions': {'count': 4, 'url': 'http...</td>\n",
       "      <td>{'actions': [{'actionCode': 'H11100', 'actionD...</td>\n",
       "      <td>{'amendments': [], 'pagination': {'count': 0},...</td>\n",
       "      <td>{'committees': [{'activities': [{'date': '2023...</td>\n",
       "      <td>{'pagination': {'count': 0}, 'relatedBills': [...</td>\n",
       "      <td>{'cosponsors': [{'bioguideId': 'P000605', 'dis...</td>\n",
       "      <td>{'pagination': {'count': 1}, 'request': {'bill...</td>\n",
       "      <td>{'pagination': {'count': 1}, 'request': {'bill...</td>\n",
       "      <td>{'pagination': {'count': 2}, 'request': {'bill...</td>\n",
       "      <td>118</td>\n",
       "      <td>HCONRES</td>\n",
       "      <td>10</td>\n",
       "      <td>https://www.congress.gov/bill/118th-congress/h...</td>\n",
       "    </tr>\n",
       "    <tr>\n",
       "      <th>2</th>\n",
       "      <td>118HCONRES11</td>\n",
       "      <td>Providing for a joint session of Congress to r...</td>\n",
       "      <td>[[S001176, Rep. Scalise, Steve [R-LA-1], spons...</td>\n",
       "      <td>This concurrent resolution provides for a joi...</td>\n",
       "      <td>[Congressional Bills 118th Congress]\\n[From th...</td>\n",
       "      <td>[Congress, Congressional operations and organi...</td>\n",
       "      <td>{'bill': {'actions': {'count': 10, 'url': 'htt...</td>\n",
       "      <td>{'actions': [{'actionCode': None, 'actionDate'...</td>\n",
       "      <td>{'amendments': [], 'pagination': {'count': 0},...</td>\n",
       "      <td>{'committees': [], 'request': {'billNumber': '...</td>\n",
       "      <td>{'pagination': {'count': 0}, 'relatedBills': [...</td>\n",
       "      <td>{'cosponsors': [], 'pagination': {'count': 0, ...</td>\n",
       "      <td>{'pagination': {'count': 3}, 'request': {'bill...</td>\n",
       "      <td>{'pagination': {'count': 3}, 'request': {'bill...</td>\n",
       "      <td>{'pagination': {'count': 2}, 'request': {'bill...</td>\n",
       "      <td>118</td>\n",
       "      <td>HCONRES</td>\n",
       "      <td>11</td>\n",
       "      <td>https://www.congress.gov/bill/118th-congress/h...</td>\n",
       "    </tr>\n",
       "    <tr>\n",
       "      <th>3</th>\n",
       "      <td>118HCONRES12</td>\n",
       "      <td>Expressing the sense of Congress that all dire...</td>\n",
       "      <td>[[C001039, Rep. Cammack, Kat [R-FL-3], sponsor...</td>\n",
       "      <td>This concurrent resolution expresses the sens...</td>\n",
       "      <td>[Congressional Bills 118th Congress]\\n[From th...</td>\n",
       "      <td>[Foreign Trade and International Finance, Agri...</td>\n",
       "      <td>{'bill': {'actions': {'count': 5, 'url': 'http...</td>\n",
       "      <td>{'actions': [{'actionCode': 'H11000', 'actionD...</td>\n",
       "      <td>{'amendments': [], 'pagination': {'count': 0},...</td>\n",
       "      <td>{'committees': [{'activities': [{'date': '2023...</td>\n",
       "      <td>{'pagination': {'count': 0}, 'relatedBills': [...</td>\n",
       "      <td>{'cosponsors': [{'bioguideId': 'K000380', 'dis...</td>\n",
       "      <td>{'pagination': {'count': 6}, 'request': {'bill...</td>\n",
       "      <td>{'pagination': {'count': 1}, 'request': {'bill...</td>\n",
       "      <td>{'pagination': {'count': 2}, 'request': {'bill...</td>\n",
       "      <td>118</td>\n",
       "      <td>HCONRES</td>\n",
       "      <td>12</td>\n",
       "      <td>https://www.congress.gov/bill/118th-congress/h...</td>\n",
       "    </tr>\n",
       "    <tr>\n",
       "      <th>4</th>\n",
       "      <td>118HCONRES13</td>\n",
       "      <td>Supporting the Local Radio Freedom Act.</td>\n",
       "      <td>[[W000809, Rep. Womack, Steve [R-AR-3], sponso...</td>\n",
       "      <td>This concurrent resolution declares that Cong...</td>\n",
       "      <td>[Congressional Bills 118th Congress]\\n[From th...</td>\n",
       "      <td>[Science, Technology, Communications, Congress]</td>\n",
       "      <td>{'bill': {'actions': {'count': 3, 'url': 'http...</td>\n",
       "      <td>{'actions': [{'actionCode': 'H11100', 'actionD...</td>\n",
       "      <td>{'amendments': [], 'pagination': {'count': 0},...</td>\n",
       "      <td>{'committees': [{'activities': [{'date': '2023...</td>\n",
       "      <td>{'pagination': {'count': 1}, 'relatedBills': [...</td>\n",
       "      <td>{'cosponsors': [{'bioguideId': 'C001066', 'dis...</td>\n",
       "      <td>{'pagination': {'count': 2}, 'request': {'bill...</td>\n",
       "      <td>{'pagination': {'count': 1}, 'request': {'bill...</td>\n",
       "      <td>{'pagination': {'count': 2}, 'request': {'bill...</td>\n",
       "      <td>118</td>\n",
       "      <td>HCONRES</td>\n",
       "      <td>13</td>\n",
       "      <td>https://www.congress.gov/bill/118th-congress/h...</td>\n",
       "    </tr>\n",
       "  </tbody>\n",
       "</table>\n",
       "</div>"
      ],
      "text/plain": [
       "            key                                               name  \\\n",
       "0   118HCONRES1  Regarding consent to assemble outside the seat...   \n",
       "1  118HCONRES10  Expressing the sense of Congress that the Unit...   \n",
       "2  118HCONRES11  Providing for a joint session of Congress to r...   \n",
       "3  118HCONRES12  Expressing the sense of Congress that all dire...   \n",
       "4  118HCONRES13            Supporting the Local Radio Freedom Act.   \n",
       "\n",
       "                                            sponsors  \\\n",
       "0      [[C001053, Rep. Cole, Tom [R-OK-4], sponsor]]   \n",
       "1  [[T000165, Rep. Tiffany, Thomas P. [R-WI-7], s...   \n",
       "2  [[S001176, Rep. Scalise, Steve [R-LA-1], spons...   \n",
       "3  [[C001039, Rep. Cammack, Kat [R-FL-3], sponsor...   \n",
       "4  [[W000809, Rep. Womack, Steve [R-AR-3], sponso...   \n",
       "\n",
       "                                             summary  \\\n",
       "0   This concurrent resolution authorizes the Spe...   \n",
       "1   This concurrent resolution calls on the Presi...   \n",
       "2   This concurrent resolution provides for a joi...   \n",
       "3   This concurrent resolution expresses the sens...   \n",
       "4   This concurrent resolution declares that Cong...   \n",
       "\n",
       "                                                body  \\\n",
       "0  [Congressional Bills 118th Congress]\\n[From th...   \n",
       "1  [Congressional Bills 118th Congress]\\n[From th...   \n",
       "2  [Congressional Bills 118th Congress]\\n[From th...   \n",
       "3  [Congressional Bills 118th Congress]\\n[From th...   \n",
       "4  [Congressional Bills 118th Congress]\\n[From th...   \n",
       "\n",
       "                                              themes  \\\n",
       "0  [Congress, Congressional operations and organi...   \n",
       "1                            [International Affairs]   \n",
       "2  [Congress, Congressional operations and organi...   \n",
       "3  [Foreign Trade and International Finance, Agri...   \n",
       "4    [Science, Technology, Communications, Congress]   \n",
       "\n",
       "                                               index  \\\n",
       "0  {'bill': {'actions': {'count': 7, 'url': 'http...   \n",
       "1  {'bill': {'actions': {'count': 4, 'url': 'http...   \n",
       "2  {'bill': {'actions': {'count': 10, 'url': 'htt...   \n",
       "3  {'bill': {'actions': {'count': 5, 'url': 'http...   \n",
       "4  {'bill': {'actions': {'count': 3, 'url': 'http...   \n",
       "\n",
       "                                             actions  \\\n",
       "0  {'actions': [{'actionCode': None, 'actionDate'...   \n",
       "1  {'actions': [{'actionCode': 'H11100', 'actionD...   \n",
       "2  {'actions': [{'actionCode': None, 'actionDate'...   \n",
       "3  {'actions': [{'actionCode': 'H11000', 'actionD...   \n",
       "4  {'actions': [{'actionCode': 'H11100', 'actionD...   \n",
       "\n",
       "                                          amendments  \\\n",
       "0  {'amendments': [], 'pagination': {'count': 0},...   \n",
       "1  {'amendments': [], 'pagination': {'count': 0},...   \n",
       "2  {'amendments': [], 'pagination': {'count': 0},...   \n",
       "3  {'amendments': [], 'pagination': {'count': 0},...   \n",
       "4  {'amendments': [], 'pagination': {'count': 0},...   \n",
       "\n",
       "                                          committees  \\\n",
       "0  {'committees': [], 'request': {'billNumber': '...   \n",
       "1  {'committees': [{'activities': [{'date': '2023...   \n",
       "2  {'committees': [], 'request': {'billNumber': '...   \n",
       "3  {'committees': [{'activities': [{'date': '2023...   \n",
       "4  {'committees': [{'activities': [{'date': '2023...   \n",
       "\n",
       "                                        relatedbills  \\\n",
       "0  {'pagination': {'count': 0}, 'relatedBills': [...   \n",
       "1  {'pagination': {'count': 0}, 'relatedBills': [...   \n",
       "2  {'pagination': {'count': 0}, 'relatedBills': [...   \n",
       "3  {'pagination': {'count': 0}, 'relatedBills': [...   \n",
       "4  {'pagination': {'count': 1}, 'relatedBills': [...   \n",
       "\n",
       "                                          cosponsors  \\\n",
       "0  {'cosponsors': [], 'pagination': {'count': 0, ...   \n",
       "1  {'cosponsors': [{'bioguideId': 'P000605', 'dis...   \n",
       "2  {'cosponsors': [], 'pagination': {'count': 0, ...   \n",
       "3  {'cosponsors': [{'bioguideId': 'K000380', 'dis...   \n",
       "4  {'cosponsors': [{'bioguideId': 'C001066', 'dis...   \n",
       "\n",
       "                                            subjects  \\\n",
       "0  {'pagination': {'count': 2}, 'request': {'bill...   \n",
       "1  {'pagination': {'count': 1}, 'request': {'bill...   \n",
       "2  {'pagination': {'count': 3}, 'request': {'bill...   \n",
       "3  {'pagination': {'count': 6}, 'request': {'bill...   \n",
       "4  {'pagination': {'count': 2}, 'request': {'bill...   \n",
       "\n",
       "                                                text  \\\n",
       "0  {'pagination': {'count': 1}, 'request': {'bill...   \n",
       "1  {'pagination': {'count': 1}, 'request': {'bill...   \n",
       "2  {'pagination': {'count': 3}, 'request': {'bill...   \n",
       "3  {'pagination': {'count': 1}, 'request': {'bill...   \n",
       "4  {'pagination': {'count': 1}, 'request': {'bill...   \n",
       "\n",
       "                                              titles congress_num legis_class  \\\n",
       "0  {'pagination': {'count': 2}, 'request': {'bill...          118     HCONRES   \n",
       "1  {'pagination': {'count': 2}, 'request': {'bill...          118     HCONRES   \n",
       "2  {'pagination': {'count': 2}, 'request': {'bill...          118     HCONRES   \n",
       "3  {'pagination': {'count': 2}, 'request': {'bill...          118     HCONRES   \n",
       "4  {'pagination': {'count': 2}, 'request': {'bill...          118     HCONRES   \n",
       "\n",
       "  legis_num                                   congress_gov_url  \n",
       "0         1  https://www.congress.gov/bill/118th-congress/h...  \n",
       "1        10  https://www.congress.gov/bill/118th-congress/h...  \n",
       "2        11  https://www.congress.gov/bill/118th-congress/h...  \n",
       "3        12  https://www.congress.gov/bill/118th-congress/h...  \n",
       "4        13  https://www.congress.gov/bill/118th-congress/h...  "
      ]
     },
     "execution_count": 11,
     "metadata": {},
     "output_type": "execute_result"
    }
   ],
   "source": [
    "df.head()"
   ]
  },
  {
   "cell_type": "code",
   "execution_count": 12,
   "metadata": {
    "id": "m4eSYiO5Ii9X"
   },
   "outputs": [
    {
     "data": {
      "text/plain": [
       "(51, 19)"
      ]
     },
     "execution_count": 12,
     "metadata": {},
     "output_type": "execute_result"
    }
   ],
   "source": [
    "df.shape"
   ]
  },
  {
   "attachments": {},
   "cell_type": "markdown",
   "metadata": {
    "id": "-HUxJ4XAFOaZ",
    "jp-MarkdownHeadingCollapsed": true
   },
   "source": [
    "# Sponsor Graph Sidequest\n",
    "\n",
    "We will be focusing on the text content of the legislation in this workshop, but if you would like to explore building a graph from the sponsor / co-sponsor / legislation network check out the [sponsor_graph notebook](https://github.com/FMurray/hyperdemocracy/blob/main/sidequests/sponsor_graph.ipynb) to get started."
   ]
  },
  {
   "attachments": {},
   "cell_type": "markdown",
   "metadata": {
    "id": "5GM8DqH7Ojeu"
   },
   "source": [
    "# From Pandas Dataframe to LangChain Documents\n",
    "\n",
    "A langchain document is a simple class with two attributes, \n",
    "* page_content (a string)\n",
    "* metadata (a dictionary)"
   ]
  },
  {
   "cell_type": "code",
   "execution_count": 13,
   "metadata": {
    "id": "DH58_PTsRJyD"
   },
   "outputs": [],
   "source": [
    "from langchain.schema import Document "
   ]
  },
  {
   "cell_type": "code",
   "execution_count": 14,
   "metadata": {},
   "outputs": [
    {
     "data": {
      "text/plain": [
       "\u001b[0;31mInit signature:\u001b[0m \u001b[0mDocument\u001b[0m\u001b[0;34m(\u001b[0m\u001b[0;34m*\u001b[0m\u001b[0;34m,\u001b[0m \u001b[0mpage_content\u001b[0m\u001b[0;34m:\u001b[0m \u001b[0mstr\u001b[0m\u001b[0;34m,\u001b[0m \u001b[0mmetadata\u001b[0m\u001b[0;34m:\u001b[0m \u001b[0mdict\u001b[0m \u001b[0;34m=\u001b[0m \u001b[0;32mNone\u001b[0m\u001b[0;34m)\u001b[0m \u001b[0;34m->\u001b[0m \u001b[0;32mNone\u001b[0m\u001b[0;34m\u001b[0m\u001b[0;34m\u001b[0m\u001b[0m\n",
       "\u001b[0;31mSource:\u001b[0m        \n",
       "\u001b[0;32mclass\u001b[0m \u001b[0mDocument\u001b[0m\u001b[0;34m(\u001b[0m\u001b[0mSerializable\u001b[0m\u001b[0;34m)\u001b[0m\u001b[0;34m:\u001b[0m\u001b[0;34m\u001b[0m\n",
       "\u001b[0;34m\u001b[0m    \u001b[0;34m\"\"\"Interface for interacting with a document.\"\"\"\u001b[0m\u001b[0;34m\u001b[0m\n",
       "\u001b[0;34m\u001b[0m\u001b[0;34m\u001b[0m\n",
       "\u001b[0;34m\u001b[0m    \u001b[0mpage_content\u001b[0m\u001b[0;34m:\u001b[0m \u001b[0mstr\u001b[0m\u001b[0;34m\u001b[0m\n",
       "\u001b[0;34m\u001b[0m    \u001b[0mmetadata\u001b[0m\u001b[0;34m:\u001b[0m \u001b[0mdict\u001b[0m \u001b[0;34m=\u001b[0m \u001b[0mField\u001b[0m\u001b[0;34m(\u001b[0m\u001b[0mdefault_factory\u001b[0m\u001b[0;34m=\u001b[0m\u001b[0mdict\u001b[0m\u001b[0;34m)\u001b[0m\u001b[0;34m\u001b[0m\u001b[0;34m\u001b[0m\u001b[0m\n",
       "\u001b[0;31mFile:\u001b[0m           ~/miniconda3/envs/hd/lib/python3.10/site-packages/langchain/schema.py\n",
       "\u001b[0;31mType:\u001b[0m           ModelMetaclass\n",
       "\u001b[0;31mSubclasses:\u001b[0m     "
      ]
     },
     "metadata": {},
     "output_type": "display_data"
    }
   ],
   "source": [
    "Document??"
   ]
  },
  {
   "cell_type": "markdown",
   "metadata": {},
   "source": [
    "Below we take each row from our legislation DataFrame and create a LangChain Document. We use the `body` column for the `page_content` attribute and populate the `metadata` attribute with data from some of the other columns. Note that the `source` key in the `metadata` dictionary is associated with a congress.gov url. The `source` key can hold an arbitrary string and will become important when we look into question answering systems that return information about the sources used to answer a question. We also restrict ourselves to `str`, `int`, and `float` types in the other values of our `metadata` dictionary. This is to make it easy to use them as filters when querying our vectorstore. If that doesn't make sense, dont worry! It will by the end of the workshop.  "
   ]
  },
  {
   "cell_type": "code",
   "execution_count": 15,
   "metadata": {
    "id": "cLHx06mHepKQ"
   },
   "outputs": [],
   "source": [
    "docs = []\n",
    "for irow, row in df.iterrows():\n",
    "    doc = Document(\n",
    "        page_content=row['body'],\n",
    "        metadata={\n",
    "            # Note: chroma can only filter on float, str, or int\n",
    "            # https://docs.trychroma.com/usage-guide#using-where-filters\n",
    "            'key': row['key'],\n",
    "            'congress_num': row['congress_num'],\n",
    "            'legis_class': row['legis_class'],\n",
    "            'legis_num': row['legis_num'],\n",
    "            'name': row['name'],\n",
    "            'summary': row['summary'],\n",
    "            'sponsor': row['sponsors'][0][0],\n",
    "            'source': row['congress_gov_url'],\n",
    "        },\n",
    "    )\n",
    "    docs.append(doc)"
   ]
  },
  {
   "cell_type": "code",
   "execution_count": 16,
   "metadata": {
    "id": "2-fFRGsTUDGX"
   },
   "outputs": [
    {
     "data": {
      "text/html": [
       "<pre style=\"white-space:pre;overflow-x:auto;line-height:normal;font-family:Menlo,'DejaVu Sans Mono',consolas,'Courier New',monospace\"><span style=\"color: #800080; text-decoration-color: #800080; font-weight: bold\">Document</span><span style=\"font-weight: bold\">(</span>\n",
       "    <span style=\"color: #808000; text-decoration-color: #808000\">page_content</span>=<span style=\"color: #008000; text-decoration-color: #008000\">'[Congressional Bills 118th Congress]\\n[From the U.S. Government Publishing Office]\\n[H. Con. Res.</span>\n",
       "<span style=\"color: #008000; text-decoration-color: #008000\">1 Engrossed in House (EH)]\\n\\n&lt;DOC&gt;\\n  \\n  \\n  \\n  \\n  \\n  \\n  \\n  \\n  \\n  \\n  \\n  \\n  \\n  \\n  \\n  \\n  \\n  \\n  \\n  </span>\n",
       "<span style=\"color: #008000; text-decoration-color: #008000\">\\n  \\n  \\n  \\n118th CONGRESS\\n  1st Session\\nH. CON. RES. </span>\n",
       "<span style=\"color: #008000; text-decoration-color: #008000\">1\\n\\n_______________________________________________________________________\\n\\n                         CONCURRENT</span>\n",
       "<span style=\"color: #008000; text-decoration-color: #008000\">RESOLUTION\\n\\n    Resolved by the House of Representatives (the Senate concurring), \\nThat pursuant to clause 4, </span>\n",
       "<span style=\"color: #008000; text-decoration-color: #008000\">section 5, article I of the Constitution, \\nduring the One Hundred Eighteenth Congress the Speaker of the House and</span>\n",
       "<span style=\"color: #008000; text-decoration-color: #008000\">\\nthe Majority Leader of the Senate or their respective designees, acting \\njointly after consultation with the </span>\n",
       "<span style=\"color: #008000; text-decoration-color: #008000\">Minority Leader of the House and \\nthe Minority Leader of the Senate,\\n\\n\\n              \\n\\n may notify the </span>\n",
       "<span style=\"color: #008000; text-decoration-color: #008000\">Members of the House and the Senate, respectively, to \\nassemble at a place outside the District of Columbia if, in</span>\n",
       "<span style=\"color: #008000; text-decoration-color: #008000\">their \\nopinion, the public interest shall warrant it.\\n\\n            Passed the House of Representatives January </span>\n",
       "<span style=\"color: #008000; text-decoration-color: #008000\">9, 2023.\\n\\n            Attest:\\n\\n                                                                 Clerk.\\n118th </span>\n",
       "<span style=\"color: #008000; text-decoration-color: #008000\">CONGRESS\\n\\n  1st Session\\n\\n                             H. CON. RES. </span>\n",
       "<span style=\"color: #008000; text-decoration-color: #008000\">1\\n\\n_______________________________________________________________________\\n\\n                         CONCURRENT</span>\n",
       "<span style=\"color: #008000; text-decoration-color: #008000\">RESOLUTION\\n\\n     Regarding consent to assemble outside the seat of government.\\n\\n'</span>,\n",
       "    <span style=\"color: #808000; text-decoration-color: #808000\">metadata</span>=<span style=\"font-weight: bold\">{</span>\n",
       "        <span style=\"color: #008000; text-decoration-color: #008000\">'key'</span>: <span style=\"color: #008000; text-decoration-color: #008000\">'118HCONRES1'</span>,\n",
       "        <span style=\"color: #008000; text-decoration-color: #008000\">'congress_num'</span>: <span style=\"color: #008000; text-decoration-color: #008000\">'118'</span>,\n",
       "        <span style=\"color: #008000; text-decoration-color: #008000\">'legis_class'</span>: <span style=\"color: #008000; text-decoration-color: #008000\">'HCONRES'</span>,\n",
       "        <span style=\"color: #008000; text-decoration-color: #008000\">'legis_num'</span>: <span style=\"color: #008000; text-decoration-color: #008000\">'1'</span>,\n",
       "        <span style=\"color: #008000; text-decoration-color: #008000\">'name'</span>: <span style=\"color: #008000; text-decoration-color: #008000\">'Regarding consent to assemble outside the seat of government.'</span>,\n",
       "        <span style=\"color: #008000; text-decoration-color: #008000\">'summary'</span>: <span style=\"color: #008000; text-decoration-color: #008000\">' This concurrent resolution authorizes the Speaker of the House and the Majority Leader of the </span>\n",
       "<span style=\"color: #008000; text-decoration-color: #008000\">Senate to assemble the House and the Senate outside the District of Columbia whenever the public interest warrants </span>\n",
       "<span style=\"color: #008000; text-decoration-color: #008000\">it.'</span>,\n",
       "        <span style=\"color: #008000; text-decoration-color: #008000\">'sponsor'</span>: <span style=\"color: #008000; text-decoration-color: #008000\">'C001053'</span>,\n",
       "        <span style=\"color: #008000; text-decoration-color: #008000\">'source'</span>: <span style=\"color: #008000; text-decoration-color: #008000\">'https://www.congress.gov/bill/118th-congress/house-concurrent-resolution/1'</span>\n",
       "    <span style=\"font-weight: bold\">}</span>\n",
       "<span style=\"font-weight: bold\">)</span>\n",
       "</pre>\n"
      ],
      "text/plain": [
       "\u001b[1;35mDocument\u001b[0m\u001b[1m(\u001b[0m\n",
       "    \u001b[33mpage_content\u001b[0m=\u001b[32m'\u001b[0m\u001b[32m[\u001b[0m\u001b[32mCongressional Bills 118th Congress\u001b[0m\u001b[32m]\u001b[0m\u001b[32m\\n\u001b[0m\u001b[32m[\u001b[0m\u001b[32mFrom the U.S. Government Publishing Office\u001b[0m\u001b[32m]\u001b[0m\u001b[32m\\n\u001b[0m\u001b[32m[\u001b[0m\u001b[32mH. Con. Res.\u001b[0m\n",
       "\u001b[32m1 Engrossed in House \u001b[0m\u001b[32m(\u001b[0m\u001b[32mEH\u001b[0m\u001b[32m)\u001b[0m\u001b[32m]\u001b[0m\u001b[32m\\n\\n\u001b[0m\u001b[32m<\u001b[0m\u001b[32mDOC\u001b[0m\u001b[32m>\u001b[0m\u001b[32m\\n  \\n  \\n  \\n  \\n  \\n  \\n  \\n  \\n  \\n  \\n  \\n  \\n  \\n  \\n  \\n  \\n  \\n  \\n  \\n  \u001b[0m\n",
       "\u001b[32m\\n  \\n  \\n  \\n118th CONGRESS\\n  1st Session\\nH. CON. RES. \u001b[0m\n",
       "\u001b[32m1\\n\\n_______________________________________________________________________\\n\\n                         CONCURRENT\u001b[0m\n",
       "\u001b[32mRESOLUTION\\n\\n    Resolved by the House of Representatives \u001b[0m\u001b[32m(\u001b[0m\u001b[32mthe Senate concurring\u001b[0m\u001b[32m)\u001b[0m\u001b[32m, \\nThat pursuant to clause 4, \u001b[0m\n",
       "\u001b[32msection 5, article I of the Constitution, \\nduring the One Hundred Eighteenth Congress the Speaker of the House and\u001b[0m\n",
       "\u001b[32m\\nthe Majority Leader of the Senate or their respective designees, acting \\njointly after consultation with the \u001b[0m\n",
       "\u001b[32mMinority Leader of the House and \\nthe Minority Leader of the Senate,\\n\\n\\n              \\n\\n may notify the \u001b[0m\n",
       "\u001b[32mMembers of the House and the Senate, respectively, to \\nassemble at a place outside the District of Columbia if, in\u001b[0m\n",
       "\u001b[32mtheir \\nopinion, the public interest shall warrant it.\\n\\n            Passed the House of Representatives January \u001b[0m\n",
       "\u001b[32m9, 2023.\\n\\n            Attest:\\n\\n                                                                 Clerk.\\n118th \u001b[0m\n",
       "\u001b[32mCONGRESS\\n\\n  1st Session\\n\\n                             H. CON. RES. \u001b[0m\n",
       "\u001b[32m1\\n\\n_______________________________________________________________________\\n\\n                         CONCURRENT\u001b[0m\n",
       "\u001b[32mRESOLUTION\\n\\n     Regarding consent to assemble outside the seat of government.\\n\\n'\u001b[0m,\n",
       "    \u001b[33mmetadata\u001b[0m=\u001b[1m{\u001b[0m\n",
       "        \u001b[32m'key'\u001b[0m: \u001b[32m'118HCONRES1'\u001b[0m,\n",
       "        \u001b[32m'congress_num'\u001b[0m: \u001b[32m'118'\u001b[0m,\n",
       "        \u001b[32m'legis_class'\u001b[0m: \u001b[32m'HCONRES'\u001b[0m,\n",
       "        \u001b[32m'legis_num'\u001b[0m: \u001b[32m'1'\u001b[0m,\n",
       "        \u001b[32m'name'\u001b[0m: \u001b[32m'Regarding consent to assemble outside the seat of government.'\u001b[0m,\n",
       "        \u001b[32m'summary'\u001b[0m: \u001b[32m' This concurrent resolution authorizes the Speaker of the House and the Majority Leader of the \u001b[0m\n",
       "\u001b[32mSenate to assemble the House and the Senate outside the District of Columbia whenever the public interest warrants \u001b[0m\n",
       "\u001b[32mit.'\u001b[0m,\n",
       "        \u001b[32m'sponsor'\u001b[0m: \u001b[32m'C001053'\u001b[0m,\n",
       "        \u001b[32m'source'\u001b[0m: \u001b[32m'https://www.congress.gov/bill/118th-congress/house-concurrent-resolution/1'\u001b[0m\n",
       "    \u001b[1m}\u001b[0m\n",
       "\u001b[1m)\u001b[0m\n"
      ]
     },
     "metadata": {},
     "output_type": "display_data"
    }
   ],
   "source": [
    "print(docs[0])"
   ]
  },
  {
   "cell_type": "markdown",
   "metadata": {},
   "source": [
    "## Activity\n",
    "\n",
    "* examine the Document content\n",
    "* visit the congress.gov URL and view the document in various formats\n",
    "* examine the body text below\n",
    "* read the summary of the document and attempt to connect it with the long form text of the document"
   ]
  },
  {
   "cell_type": "code",
   "execution_count": 17,
   "metadata": {
    "id": "fceFBIiDRcZk"
   },
   "outputs": [
    {
     "data": {
      "text/html": [
       "<pre style=\"white-space:pre;overflow-x:auto;line-height:normal;font-family:Menlo,'DejaVu Sans Mono',consolas,'Courier New',monospace\"><span style=\"font-weight: bold\">[</span>Congressional Bills 118th Congress<span style=\"font-weight: bold\">]</span>\n",
       "<span style=\"font-weight: bold\">[</span>From the U.S. Government Publishing Office<span style=\"font-weight: bold\">]</span>\n",
       "<span style=\"font-weight: bold\">[</span>H. Con. Res. <span style=\"color: #008080; text-decoration-color: #008080; font-weight: bold\">1</span> Engrossed in House <span style=\"font-weight: bold\">(</span>EH<span style=\"font-weight: bold\">)]</span>\n",
       "\n",
       "<span style=\"font-weight: bold\">&lt;</span><span style=\"color: #ff00ff; text-decoration-color: #ff00ff; font-weight: bold\">DOC</span><span style=\"font-weight: bold\">&gt;</span>\n",
       "  \n",
       "  \n",
       "  \n",
       "  \n",
       "  \n",
       "  \n",
       "  \n",
       "  \n",
       "  \n",
       "  \n",
       "  \n",
       "  \n",
       "  \n",
       "  \n",
       "  \n",
       "  \n",
       "  \n",
       "  \n",
       "  \n",
       "  \n",
       "  \n",
       "  \n",
       "  \n",
       "118th CONGRESS\n",
       "  1st Session\n",
       "H. CON. RES. <span style=\"color: #008080; text-decoration-color: #008080; font-weight: bold\">1</span>\n",
       "\n",
       "_______________________________________________________________________\n",
       "\n",
       "                         CONCURRENT RESOLUTION\n",
       "\n",
       "    Resolved by the House of Representatives <span style=\"font-weight: bold\">(</span>the Senate concurring<span style=\"font-weight: bold\">)</span>, \n",
       "That pursuant to clause <span style=\"color: #008080; text-decoration-color: #008080; font-weight: bold\">4</span>, section <span style=\"color: #008080; text-decoration-color: #008080; font-weight: bold\">5</span>, article I of the Constitution, \n",
       "during the One Hundred Eighteenth Congress the Speaker of the House and \n",
       "the Majority Leader of the Senate or their respective designees, acting \n",
       "jointly after consultation with the Minority Leader of the House and \n",
       "the Minority Leader of the Senate,\n",
       "\n",
       "\n",
       "              \n",
       "\n",
       " may notify the Members of the House and the Senate, respectively, to \n",
       "assemble at a place outside the District of Columbia if, in their \n",
       "opinion, the public interest shall warrant it.\n",
       "\n",
       "            Passed the House of Representatives January <span style=\"color: #008080; text-decoration-color: #008080; font-weight: bold\">9</span>, <span style=\"color: #008080; text-decoration-color: #008080; font-weight: bold\">2023</span>.\n",
       "\n",
       "            Attest:\n",
       "\n",
       "                                                                 Clerk.\n",
       "118th CONGRESS\n",
       "\n",
       "  1st Session\n",
       "\n",
       "                             H. CON. RES. <span style=\"color: #008080; text-decoration-color: #008080; font-weight: bold\">1</span>\n",
       "\n",
       "_______________________________________________________________________\n",
       "\n",
       "                         CONCURRENT RESOLUTION\n",
       "\n",
       "     Regarding consent to assemble outside the seat of government.\n",
       "\n",
       "\n",
       "</pre>\n"
      ],
      "text/plain": [
       "\u001b[1m[\u001b[0mCongressional Bills 118th Congress\u001b[1m]\u001b[0m\n",
       "\u001b[1m[\u001b[0mFrom the U.S. Government Publishing Office\u001b[1m]\u001b[0m\n",
       "\u001b[1m[\u001b[0mH. Con. Res. \u001b[1;36m1\u001b[0m Engrossed in House \u001b[1m(\u001b[0mEH\u001b[1m)\u001b[0m\u001b[1m]\u001b[0m\n",
       "\n",
       "\u001b[1m<\u001b[0m\u001b[1;95mDOC\u001b[0m\u001b[1m>\u001b[0m\n",
       "  \n",
       "  \n",
       "  \n",
       "  \n",
       "  \n",
       "  \n",
       "  \n",
       "  \n",
       "  \n",
       "  \n",
       "  \n",
       "  \n",
       "  \n",
       "  \n",
       "  \n",
       "  \n",
       "  \n",
       "  \n",
       "  \n",
       "  \n",
       "  \n",
       "  \n",
       "  \n",
       "118th CONGRESS\n",
       "  1st Session\n",
       "H. CON. RES. \u001b[1;36m1\u001b[0m\n",
       "\n",
       "_______________________________________________________________________\n",
       "\n",
       "                         CONCURRENT RESOLUTION\n",
       "\n",
       "    Resolved by the House of Representatives \u001b[1m(\u001b[0mthe Senate concurring\u001b[1m)\u001b[0m, \n",
       "That pursuant to clause \u001b[1;36m4\u001b[0m, section \u001b[1;36m5\u001b[0m, article I of the Constitution, \n",
       "during the One Hundred Eighteenth Congress the Speaker of the House and \n",
       "the Majority Leader of the Senate or their respective designees, acting \n",
       "jointly after consultation with the Minority Leader of the House and \n",
       "the Minority Leader of the Senate,\n",
       "\n",
       "\n",
       "              \n",
       "\n",
       " may notify the Members of the House and the Senate, respectively, to \n",
       "assemble at a place outside the District of Columbia if, in their \n",
       "opinion, the public interest shall warrant it.\n",
       "\n",
       "            Passed the House of Representatives January \u001b[1;36m9\u001b[0m, \u001b[1;36m2023\u001b[0m.\n",
       "\n",
       "            Attest:\n",
       "\n",
       "                                                                 Clerk.\n",
       "118th CONGRESS\n",
       "\n",
       "  1st Session\n",
       "\n",
       "                             H. CON. RES. \u001b[1;36m1\u001b[0m\n",
       "\n",
       "_______________________________________________________________________\n",
       "\n",
       "                         CONCURRENT RESOLUTION\n",
       "\n",
       "     Regarding consent to assemble outside the seat of government.\n",
       "\n",
       "\n"
      ]
     },
     "metadata": {},
     "output_type": "display_data"
    }
   ],
   "source": [
    "print(docs[0].page_content)"
   ]
  },
  {
   "cell_type": "code",
   "execution_count": 18,
   "metadata": {
    "id": "siRiWjCyj63F"
   },
   "outputs": [
    {
     "data": {
      "text/html": [
       "<pre style=\"white-space:pre;overflow-x:auto;line-height:normal;font-family:Menlo,'DejaVu Sans Mono',consolas,'Courier New',monospace\"><span style=\"color: #008080; text-decoration-color: #008080; font-weight: bold\">51</span>\n",
       "</pre>\n"
      ],
      "text/plain": [
       "\u001b[1;36m51\u001b[0m\n"
      ]
     },
     "metadata": {},
     "output_type": "display_data"
    }
   ],
   "source": [
    "print(len(docs))"
   ]
  },
  {
   "attachments": {},
   "cell_type": "markdown",
   "metadata": {
    "id": "pVPwxKHLA3fC"
   },
   "source": [
    "# Document QA Quickstart\n",
    "\n",
    "* https://python.langchain.com/docs/modules/chains/additional/question_answering\n",
    "* https://python.langchain.com/docs/modules/chains/document.html\n",
    "\n",
    "Our goal is to setup a question answering (QA) system that can repond to natural language questions about legislation using source material that we provide. In the following section, we will explore the quickest most high-level approach provided by LangChain. Afterwards, we will unpack all of components and go over them in more detail. "
   ]
  },
  {
   "cell_type": "code",
   "execution_count": 19,
   "metadata": {
    "id": "PBZermt7U07_"
   },
   "outputs": [],
   "source": [
    "from langchain.indexes import VectorstoreIndexCreator"
   ]
  },
  {
   "cell_type": "code",
   "execution_count": 20,
   "metadata": {
    "id": "OZyffFybguTs"
   },
   "outputs": [],
   "source": [
    "## THIS CELL SPENDS MONEY ##\n",
    "index = VectorstoreIndexCreator().from_documents(docs)"
   ]
  },
  {
   "cell_type": "code",
   "execution_count": 28,
   "metadata": {
    "id": "8XukLCIikWVp"
   },
   "outputs": [
    {
     "data": {
      "text/plain": [
       "' The primary themes around energy policy are reducing carbon emissions, embracing and accepting nuclear power as a clean baseload energy source, boosting the renewable energy economy, and avoiding overly restrictive regulations on the exploration, production, or marketing of energy resources.'"
      ]
     },
     "execution_count": 28,
     "metadata": {},
     "output_type": "execute_result"
    }
   ],
   "source": [
    "## THIS CELL SPENDS MONEY ##\n",
    "\n",
    "# QA \n",
    "\n",
    "# copy paste this cell and try some questions of your own\n",
    "query = \"What are the primary themes around energy policy?\"\n",
    "out = index.query(query)\n",
    "out"
   ]
  },
  {
   "cell_type": "code",
   "execution_count": 32,
   "metadata": {
    "id": "8UYqM62Kn3GS"
   },
   "outputs": [
    {
     "data": {
      "text/html": [
       "<pre style=\"white-space:pre;overflow-x:auto;line-height:normal;font-family:Menlo,'DejaVu Sans Mono',consolas,'Courier New',monospace\">question:\n",
       " What are the primary themes around energy policy?\n",
       "</pre>\n"
      ],
      "text/plain": [
       "question:\n",
       " What are the primary themes around energy policy?\n"
      ]
     },
     "metadata": {},
     "output_type": "display_data"
    },
    {
     "data": {
      "text/html": [
       "<pre style=\"white-space:pre;overflow-x:auto;line-height:normal;font-family:Menlo,'DejaVu Sans Mono',consolas,'Courier New',monospace\">answer:\n",
       "  The primary themes around energy policy include reducing carbon emissions, embracing and accepting nuclear power \n",
       "as a clean baseload energy source, and transitioning to renewable energy technologies.\n",
       "\n",
       "</pre>\n"
      ],
      "text/plain": [
       "answer:\n",
       "  The primary themes around energy policy include reducing carbon emissions, embracing and accepting nuclear power \n",
       "as a clean baseload energy source, and transitioning to renewable energy technologies.\n",
       "\n"
      ]
     },
     "metadata": {},
     "output_type": "display_data"
    },
    {
     "data": {
      "text/html": [
       "<pre style=\"white-space:pre;overflow-x:auto;line-height:normal;font-family:Menlo,'DejaVu Sans Mono',consolas,'Courier New',monospace\">sources:\n",
       " <span style=\"color: #0000ff; text-decoration-color: #0000ff; text-decoration: underline\">https://www.congress.gov/bill/118th-congress/house-concurrent-resolution/37</span>\n",
       "<span style=\"color: #0000ff; text-decoration-color: #0000ff; text-decoration: underline\">https://www.congress.gov/bill/118th-congress/house-concurrent-resolution/17</span>\n",
       "<span style=\"color: #0000ff; text-decoration-color: #0000ff; text-decoration: underline\">https://www.congress.gov/bill/118th-congress/house-concurrent-resolution/26</span>\n",
       "</pre>\n"
      ],
      "text/plain": [
       "sources:\n",
       " \u001b[4;94mhttps://www.congress.gov/bill/118th-congress/house-concurrent-resolution/37\u001b[0m\n",
       "\u001b[4;94mhttps://www.congress.gov/bill/118th-congress/house-concurrent-resolution/17\u001b[0m\n",
       "\u001b[4;94mhttps://www.congress.gov/bill/118th-congress/house-concurrent-resolution/26\u001b[0m\n"
      ]
     },
     "metadata": {},
     "output_type": "display_data"
    }
   ],
   "source": [
    "## THIS CELL SPENDS MONEY ##\n",
    "\n",
    "# QA with sources\n",
    "\n",
    "# copy paste this cell and try some questions of your own\n",
    "out = index.query_with_sources(query)\n",
    "print(\"question:\\n\", out['question'])\n",
    "print(\"answer:\\n\", out['answer'])\n",
    "print(\"sources:\\n\", out['sources'])"
   ]
  },
  {
   "cell_type": "markdown",
   "metadata": {},
   "source": [
    "## Activity\n",
    "\n",
    "* Contemplate why the answers are slightly different between the \"QA\" result and the \"QA with sources\" result.\n",
    "* Visit the source links and check if the linked legislation is relevant to the question."
   ]
  },
  {
   "attachments": {},
   "cell_type": "markdown",
   "metadata": {
    "id": "4ry8zdrlCEqi"
   },
   "source": [
    "# Document QA - Step by Step\n",
    "\n",
    "Now that we've used the high-level tools of LangChain, lets go into more detail."
   ]
  },
  {
   "attachments": {},
   "cell_type": "markdown",
   "metadata": {
    "id": "KCdDA0eOXJ_1"
   },
   "source": [
    "## Langchain Text Splitters\n",
    "\n",
    "> When you want to deal with long pieces of text, it is necessary to split up that text into chunks. As simple as this sounds, there is a lot of potential complexity here. Ideally, you want to keep the semantically related pieces of text together. What \"semantically related\" means could depend on the type of text. This notebook showcases several ways to do that.\n",
    "\n",
    "> At a high level, text splitters work as following:\n",
    "\n",
    ">    1. Split the text up into small, semantically meaningful chunks (often sentences).\n",
    ">    2. Start combining these small chunks into a larger chunk until you reach a certain size (as measured by some function).\n",
    ">    3. Once you reach that size, make that chunk its own piece of text and then start creating a new chunk of text with some overlap (to keep context between chunks).\n",
    "\n",
    "> That means there are two different axes along which you can customize your text splitter:\n",
    "\n",
    ">    1. How the text is split\n",
    ">    2. How the chunk size is measured\n",
    "\n",
    "-- https://python.langchain.com/docs/modules/data_connection/document_transformers/#text-splitters\n",
    "\n",
    "Here are some useful options for splitting legislative text, \n",
    "\n",
    "* [character text splitter](https://python.langchain.com/docs/modules/data_connection/document_transformers/text_splitters/character_text_splitter)\n",
    "  * How the text is split: by single character\n",
    "  * How the chunk size is measured: by number of characters\n",
    "* [recursive text splitter](https://python.langchain.com/docs/modules/data_connection/document_transformers/text_splitters/recursive_text_splitter)\n",
    "  * How the text is split: by list of characters\n",
    "  * How the chunk size is measured: by number of characters\n",
    "* [split by token](https://python.langchain.com/docs/modules/data_connection/document_transformers/text_splitters/split_by_token)\n",
    "  * How the text is split: by character passed in\n",
    "  * How the chunk size is measured: by tiktoken tokenizer\n",
    "\n",
    "If you are not familiar with the concept of a token, this article may help, \n",
    "* https://simonwillison.net/2023/Jun/8/gpt-tokenizers/"
   ]
  },
  {
   "cell_type": "code",
   "execution_count": 34,
   "metadata": {
    "id": "_w6e8Bcia6gp"
   },
   "outputs": [],
   "source": [
    "from langchain.text_splitter import CharacterTextSplitter\n",
    "from langchain.text_splitter import RecursiveCharacterTextSplitter\n",
    "from langchain.text_splitter import TokenTextSplitter"
   ]
  },
  {
   "cell_type": "code",
   "execution_count": 37,
   "metadata": {},
   "outputs": [],
   "source": [
    "text = \"\"\"We hold these truths to be self-evident, that all men are created equal,\n",
    "\n",
    "that they are endowed by their Creator with certain unalienable Rights,\n",
    "\n",
    "that among these are Life, Liberty and the pursuit of Happiness.\"\"\""
   ]
  },
  {
   "cell_type": "markdown",
   "metadata": {},
   "source": [
    "### CharacterTextSplitter"
   ]
  },
  {
   "cell_type": "code",
   "execution_count": 45,
   "metadata": {},
   "outputs": [
    {
     "name": "stderr",
     "output_type": "stream",
     "text": [
      "Created a chunk of size 72, which is longer than the specified 20\n",
      "Created a chunk of size 71, which is longer than the specified 20\n"
     ]
    },
    {
     "data": {
      "text/plain": [
       "['We hold these truths to be self-evident, that all men are created equal,',\n",
       " 'that they are endowed by their Creator with certain unalienable Rights,',\n",
       " 'that among these are Life, Liberty and the pursuit of Happiness.']"
      ]
     },
     "execution_count": 45,
     "metadata": {},
     "output_type": "execute_result"
    }
   ],
   "source": [
    "# this is the default separator\n",
    "CharacterTextSplitter(separator=\"\\n\\n\", chunk_size=20, chunk_overlap=0).split_text(text)"
   ]
  },
  {
   "cell_type": "code",
   "execution_count": 62,
   "metadata": {},
   "outputs": [
    {
     "data": {
      "text/plain": [
       "['We hold these truths',\n",
       " 'to be self-evident,',\n",
       " 'that all men are',\n",
       " 'created equal,\\n\\nthat',\n",
       " 'they are endowed by',\n",
       " 'their Creator with',\n",
       " 'certain unalienable',\n",
       " 'Rights,\\n\\nthat among',\n",
       " 'these are Life,',\n",
       " 'Liberty and the',\n",
       " 'pursuit of',\n",
       " 'Happiness.']"
      ]
     },
     "execution_count": 62,
     "metadata": {},
     "output_type": "execute_result"
    }
   ],
   "source": [
    "# this is what happens if we change the default separator\n",
    "CharacterTextSplitter(separator=\" \", chunk_size=20, chunk_overlap=0).split_text(text)"
   ]
  },
  {
   "cell_type": "code",
   "execution_count": 63,
   "metadata": {},
   "outputs": [
    {
     "data": {
      "text/plain": [
       "['We hold these truths',\n",
       " 'truths to be',\n",
       " 'to be self-evident,',\n",
       " 'that all men are',\n",
       " 'men are created',\n",
       " 'created equal,\\n\\nthat',\n",
       " 'they are endowed by',\n",
       " 'endowed by their',\n",
       " 'by their Creator',\n",
       " 'Creator with certain',\n",
       " 'certain unalienable',\n",
       " 'Rights,\\n\\nthat among',\n",
       " 'among these are',\n",
       " 'these are Life,',\n",
       " 'are Life, Liberty',\n",
       " 'Liberty and the',\n",
       " 'and the pursuit of',\n",
       " 'of Happiness.']"
      ]
     },
     "execution_count": 63,
     "metadata": {},
     "output_type": "execute_result"
    }
   ],
   "source": [
    "# this is what overlap does\n",
    "CharacterTextSplitter(separator=\" \", chunk_size=20, chunk_overlap=10).split_text(text)"
   ]
  },
  {
   "cell_type": "markdown",
   "metadata": {},
   "source": [
    "### RecursiveCharacterTextSplitter"
   ]
  },
  {
   "cell_type": "code",
   "execution_count": 48,
   "metadata": {},
   "outputs": [
    {
     "data": {
      "text/plain": [
       "['We hold these truths to be self-evident,',\n",
       " 'that all men are created equal,',\n",
       " 'that they are endowed by their Creator',\n",
       " 'with certain unalienable Rights,',\n",
       " 'that among these are Life, Liberty and',\n",
       " 'the pursuit of Happiness.']"
      ]
     },
     "execution_count": 48,
     "metadata": {},
     "output_type": "execute_result"
    }
   ],
   "source": [
    "# these are the default separators\n",
    "RecursiveCharacterTextSplitter(separators=[\"\\n\\n\", \"\\n\", \" \", \"\"], chunk_size=40, chunk_overlap=0).split_text(text)"
   ]
  },
  {
   "cell_type": "code",
   "execution_count": 64,
   "metadata": {},
   "outputs": [
    {
     "data": {
      "text/plain": [
       "['We hold these truths to be self-evident',\n",
       " ', that all men are created equal,',\n",
       " 'that they are endowed by their Creator',\n",
       " 'with certain unalienable Rights',\n",
       " ',',\n",
       " 'that among these are Life',\n",
       " ', Liberty and the pursuit of Happiness.']"
      ]
     },
     "execution_count": 64,
     "metadata": {},
     "output_type": "execute_result"
    }
   ],
   "source": [
    "RecursiveCharacterTextSplitter(separators=[\"\\n\\n\", \"\\n\", \",\", \" \", \"\"], chunk_size=40, chunk_overlap=0).split_text(text)"
   ]
  },
  {
   "cell_type": "code",
   "execution_count": null,
   "metadata": {},
   "outputs": [],
   "source": []
  },
  {
   "cell_type": "code",
   "execution_count": null,
   "metadata": {},
   "outputs": [],
   "source": []
  },
  {
   "cell_type": "markdown",
   "metadata": {},
   "source": [
    "### TokenTextSplitter"
   ]
  },
  {
   "cell_type": "code",
   "execution_count": 65,
   "metadata": {},
   "outputs": [
    {
     "data": {
      "text/plain": [
       "['We hold these truths to be self-evident',\n",
       " ', that all men are created equal,\\n\\nthat they',\n",
       " ' are endowed by their Creator with certain unalienable',\n",
       " ' Rights,\\n\\nthat among these are Life, Liberty and',\n",
       " ' the pursuit of Happiness.']"
      ]
     },
     "execution_count": 65,
     "metadata": {},
     "output_type": "execute_result"
    }
   ],
   "source": [
    "# the length unit here is tokens not characters\n",
    "TokenTextSplitter(model_name=\"text-embedding-ada-002\", chunk_size=10, chunk_overlap=0).split_text(text)"
   ]
  },
  {
   "cell_type": "code",
   "execution_count": 66,
   "metadata": {},
   "outputs": [
    {
     "data": {
      "text/plain": [
       "['We hold these truths to be self-evident',\n",
       " ' self-evident, that all men are created',\n",
       " ' all men are created equal,\\n\\nthat they are endowed',\n",
       " 'that they are endowed by their Creator with certain un',\n",
       " ' Creator with certain unalienable Rights,\\n\\nthat among',\n",
       " ' Rights,\\n\\nthat among these are Life, Liberty and',\n",
       " ' Life, Liberty and the pursuit of Happiness.',\n",
       " ' of Happiness.']"
      ]
     },
     "execution_count": 66,
     "metadata": {},
     "output_type": "execute_result"
    }
   ],
   "source": [
    "# the length unit here is tokens not characters\n",
    "TokenTextSplitter(model_name=\"text-embedding-ada-002\", chunk_size=10, chunk_overlap=4).split_text(text)"
   ]
  },
  {
   "cell_type": "code",
   "execution_count": 54,
   "metadata": {},
   "outputs": [],
   "source": [
    "import tiktoken"
   ]
  },
  {
   "cell_type": "code",
   "execution_count": 57,
   "metadata": {},
   "outputs": [
    {
     "data": {
      "text/html": [
       "<pre style=\"white-space:pre;overflow-x:auto;line-height:normal;font-family:Menlo,'DejaVu Sans Mono',consolas,'Courier New',monospace\"><span style=\"font-weight: bold\">&lt;</span><span style=\"color: #ff00ff; text-decoration-color: #ff00ff; font-weight: bold\">Encoding</span><span style=\"color: #000000; text-decoration-color: #000000\"> </span><span style=\"color: #008000; text-decoration-color: #008000\">'cl100k_base'</span><span style=\"font-weight: bold\">&gt;</span>\n",
       "</pre>\n"
      ],
      "text/plain": [
       "\u001b[1m<\u001b[0m\u001b[1;95mEncoding\u001b[0m\u001b[39m \u001b[0m\u001b[32m'cl100k_base'\u001b[0m\u001b[1m>\u001b[0m\n"
      ]
     },
     "metadata": {},
     "output_type": "display_data"
    }
   ],
   "source": [
    "enc = tiktoken.encoding_for_model(\"text-embedding-ada-002\")\n",
    "print(enc)"
   ]
  },
  {
   "cell_type": "code",
   "execution_count": 59,
   "metadata": {},
   "outputs": [
    {
     "data": {
      "text/html": [
       "<pre style=\"white-space:pre;overflow-x:auto;line-height:normal;font-family:Menlo,'DejaVu Sans Mono',consolas,'Courier New',monospace\"><span style=\"font-weight: bold\">[</span>\n",
       "    <span style=\"color: #008080; text-decoration-color: #008080; font-weight: bold\">1687</span>,\n",
       "    <span style=\"color: #008080; text-decoration-color: #008080; font-weight: bold\">3412</span>,\n",
       "    <span style=\"color: #008080; text-decoration-color: #008080; font-weight: bold\">1521</span>,\n",
       "    <span style=\"color: #008080; text-decoration-color: #008080; font-weight: bold\">53219</span>,\n",
       "    <span style=\"color: #008080; text-decoration-color: #008080; font-weight: bold\">311</span>,\n",
       "    <span style=\"color: #008080; text-decoration-color: #008080; font-weight: bold\">387</span>,\n",
       "    <span style=\"color: #008080; text-decoration-color: #008080; font-weight: bold\">659</span>,\n",
       "    <span style=\"color: #008080; text-decoration-color: #008080; font-weight: bold\">5773</span>,\n",
       "    <span style=\"color: #008080; text-decoration-color: #008080; font-weight: bold\">1325</span>,\n",
       "    <span style=\"color: #008080; text-decoration-color: #008080; font-weight: bold\">306</span>,\n",
       "    <span style=\"color: #008080; text-decoration-color: #008080; font-weight: bold\">11</span>,\n",
       "    <span style=\"color: #008080; text-decoration-color: #008080; font-weight: bold\">430</span>,\n",
       "    <span style=\"color: #008080; text-decoration-color: #008080; font-weight: bold\">682</span>,\n",
       "    <span style=\"color: #008080; text-decoration-color: #008080; font-weight: bold\">3026</span>,\n",
       "    <span style=\"color: #008080; text-decoration-color: #008080; font-weight: bold\">527</span>,\n",
       "    <span style=\"color: #008080; text-decoration-color: #008080; font-weight: bold\">3549</span>,\n",
       "    <span style=\"color: #008080; text-decoration-color: #008080; font-weight: bold\">6273</span>,\n",
       "    <span style=\"color: #008080; text-decoration-color: #008080; font-weight: bold\">3638</span>,\n",
       "    <span style=\"color: #008080; text-decoration-color: #008080; font-weight: bold\">9210</span>,\n",
       "    <span style=\"color: #008080; text-decoration-color: #008080; font-weight: bold\">814</span>,\n",
       "    <span style=\"color: #008080; text-decoration-color: #008080; font-weight: bold\">527</span>,\n",
       "    <span style=\"color: #008080; text-decoration-color: #008080; font-weight: bold\">98728</span>,\n",
       "    <span style=\"color: #008080; text-decoration-color: #008080; font-weight: bold\">555</span>,\n",
       "    <span style=\"color: #008080; text-decoration-color: #008080; font-weight: bold\">872</span>,\n",
       "    <span style=\"color: #008080; text-decoration-color: #008080; font-weight: bold\">36778</span>,\n",
       "    <span style=\"color: #008080; text-decoration-color: #008080; font-weight: bold\">449</span>,\n",
       "    <span style=\"color: #008080; text-decoration-color: #008080; font-weight: bold\">3738</span>,\n",
       "    <span style=\"color: #008080; text-decoration-color: #008080; font-weight: bold\">653</span>,\n",
       "    <span style=\"color: #008080; text-decoration-color: #008080; font-weight: bold\">56418</span>,\n",
       "    <span style=\"color: #008080; text-decoration-color: #008080; font-weight: bold\">481</span>,\n",
       "    <span style=\"color: #008080; text-decoration-color: #008080; font-weight: bold\">10734</span>,\n",
       "    <span style=\"color: #008080; text-decoration-color: #008080; font-weight: bold\">3638</span>,\n",
       "    <span style=\"color: #008080; text-decoration-color: #008080; font-weight: bold\">9210</span>,\n",
       "    <span style=\"color: #008080; text-decoration-color: #008080; font-weight: bold\">4315</span>,\n",
       "    <span style=\"color: #008080; text-decoration-color: #008080; font-weight: bold\">1521</span>,\n",
       "    <span style=\"color: #008080; text-decoration-color: #008080; font-weight: bold\">527</span>,\n",
       "    <span style=\"color: #008080; text-decoration-color: #008080; font-weight: bold\">9601</span>,\n",
       "    <span style=\"color: #008080; text-decoration-color: #008080; font-weight: bold\">11</span>,\n",
       "    <span style=\"color: #008080; text-decoration-color: #008080; font-weight: bold\">32492</span>,\n",
       "    <span style=\"color: #008080; text-decoration-color: #008080; font-weight: bold\">323</span>,\n",
       "    <span style=\"color: #008080; text-decoration-color: #008080; font-weight: bold\">279</span>,\n",
       "    <span style=\"color: #008080; text-decoration-color: #008080; font-weight: bold\">33436</span>,\n",
       "    <span style=\"color: #008080; text-decoration-color: #008080; font-weight: bold\">315</span>,\n",
       "    <span style=\"color: #008080; text-decoration-color: #008080; font-weight: bold\">79244</span>,\n",
       "    <span style=\"color: #008080; text-decoration-color: #008080; font-weight: bold\">13</span>\n",
       "<span style=\"font-weight: bold\">]</span>\n",
       "</pre>\n"
      ],
      "text/plain": [
       "\u001b[1m[\u001b[0m\n",
       "    \u001b[1;36m1687\u001b[0m,\n",
       "    \u001b[1;36m3412\u001b[0m,\n",
       "    \u001b[1;36m1521\u001b[0m,\n",
       "    \u001b[1;36m53219\u001b[0m,\n",
       "    \u001b[1;36m311\u001b[0m,\n",
       "    \u001b[1;36m387\u001b[0m,\n",
       "    \u001b[1;36m659\u001b[0m,\n",
       "    \u001b[1;36m5773\u001b[0m,\n",
       "    \u001b[1;36m1325\u001b[0m,\n",
       "    \u001b[1;36m306\u001b[0m,\n",
       "    \u001b[1;36m11\u001b[0m,\n",
       "    \u001b[1;36m430\u001b[0m,\n",
       "    \u001b[1;36m682\u001b[0m,\n",
       "    \u001b[1;36m3026\u001b[0m,\n",
       "    \u001b[1;36m527\u001b[0m,\n",
       "    \u001b[1;36m3549\u001b[0m,\n",
       "    \u001b[1;36m6273\u001b[0m,\n",
       "    \u001b[1;36m3638\u001b[0m,\n",
       "    \u001b[1;36m9210\u001b[0m,\n",
       "    \u001b[1;36m814\u001b[0m,\n",
       "    \u001b[1;36m527\u001b[0m,\n",
       "    \u001b[1;36m98728\u001b[0m,\n",
       "    \u001b[1;36m555\u001b[0m,\n",
       "    \u001b[1;36m872\u001b[0m,\n",
       "    \u001b[1;36m36778\u001b[0m,\n",
       "    \u001b[1;36m449\u001b[0m,\n",
       "    \u001b[1;36m3738\u001b[0m,\n",
       "    \u001b[1;36m653\u001b[0m,\n",
       "    \u001b[1;36m56418\u001b[0m,\n",
       "    \u001b[1;36m481\u001b[0m,\n",
       "    \u001b[1;36m10734\u001b[0m,\n",
       "    \u001b[1;36m3638\u001b[0m,\n",
       "    \u001b[1;36m9210\u001b[0m,\n",
       "    \u001b[1;36m4315\u001b[0m,\n",
       "    \u001b[1;36m1521\u001b[0m,\n",
       "    \u001b[1;36m527\u001b[0m,\n",
       "    \u001b[1;36m9601\u001b[0m,\n",
       "    \u001b[1;36m11\u001b[0m,\n",
       "    \u001b[1;36m32492\u001b[0m,\n",
       "    \u001b[1;36m323\u001b[0m,\n",
       "    \u001b[1;36m279\u001b[0m,\n",
       "    \u001b[1;36m33436\u001b[0m,\n",
       "    \u001b[1;36m315\u001b[0m,\n",
       "    \u001b[1;36m79244\u001b[0m,\n",
       "    \u001b[1;36m13\u001b[0m\n",
       "\u001b[1m]\u001b[0m\n"
      ]
     },
     "metadata": {},
     "output_type": "display_data"
    }
   ],
   "source": [
    "print(enc.encode(text))"
   ]
  },
  {
   "cell_type": "code",
   "execution_count": 61,
   "metadata": {},
   "outputs": [
    {
     "data": {
      "text/plain": [
       "[b'We',\n",
       " b' hold',\n",
       " b' these',\n",
       " b' truths',\n",
       " b' to',\n",
       " b' be',\n",
       " b' self',\n",
       " b'-e',\n",
       " b'vid',\n",
       " b'ent',\n",
       " b',',\n",
       " b' that',\n",
       " b' all',\n",
       " b' men',\n",
       " b' are',\n",
       " b' created',\n",
       " b' equal',\n",
       " b',\\n\\n',\n",
       " b'that',\n",
       " b' they',\n",
       " b' are',\n",
       " b' endowed',\n",
       " b' by',\n",
       " b' their',\n",
       " b' Creator',\n",
       " b' with',\n",
       " b' certain',\n",
       " b' un',\n",
       " b'alien',\n",
       " b'able',\n",
       " b' Rights',\n",
       " b',\\n\\n',\n",
       " b'that',\n",
       " b' among',\n",
       " b' these',\n",
       " b' are',\n",
       " b' Life',\n",
       " b',',\n",
       " b' Liberty',\n",
       " b' and',\n",
       " b' the',\n",
       " b' pursuit',\n",
       " b' of',\n",
       " b' Happiness',\n",
       " b'.']"
      ]
     },
     "execution_count": 61,
     "metadata": {},
     "output_type": "execute_result"
    }
   ],
   "source": [
    "tokens = [enc.decode_single_token_bytes(token) for token in enc.encode(text)]\n",
    "tokens"
   ]
  },
  {
   "cell_type": "markdown",
   "metadata": {},
   "source": [
    "### Lets Make a TextSplitter Choice here"
   ]
  },
  {
   "cell_type": "code",
   "execution_count": 67,
   "metadata": {
    "id": "oCi59g8rFAMi"
   },
   "outputs": [],
   "source": [
    "text_splitter = RecursiveCharacterTextSplitter(chunk_size=512, chunk_overlap=128)\n",
    "split_docs = text_splitter.split_documents(docs)"
   ]
  },
  {
   "cell_type": "code",
   "execution_count": 68,
   "metadata": {
    "id": "da7F2FUuFR8q"
   },
   "outputs": [
    {
     "data": {
      "text/html": [
       "<pre style=\"white-space:pre;overflow-x:auto;line-height:normal;font-family:Menlo,'DejaVu Sans Mono',consolas,'Courier New',monospace\">Number of original docs:  <span style=\"color: #008080; text-decoration-color: #008080; font-weight: bold\">51</span>\n",
       "</pre>\n"
      ],
      "text/plain": [
       "Number of original docs:  \u001b[1;36m51\u001b[0m\n"
      ]
     },
     "metadata": {},
     "output_type": "display_data"
    },
    {
     "data": {
      "text/html": [
       "<pre style=\"white-space:pre;overflow-x:auto;line-height:normal;font-family:Menlo,'DejaVu Sans Mono',consolas,'Courier New',monospace\">Number of split docs:  <span style=\"color: #008080; text-decoration-color: #008080; font-weight: bold\">761</span>\n",
       "</pre>\n"
      ],
      "text/plain": [
       "Number of split docs:  \u001b[1;36m761\u001b[0m\n"
      ]
     },
     "metadata": {},
     "output_type": "display_data"
    }
   ],
   "source": [
    "print(\"Number of original docs: \", len(docs))\n",
    "print(\"Number of split docs: \", len(split_docs))"
   ]
  },
  {
   "attachments": {},
   "cell_type": "markdown",
   "metadata": {
    "id": "7BVOa0TebHtY"
   },
   "source": [
    "## Embed and Index Doc Chunks"
   ]
  },
  {
   "attachments": {},
   "cell_type": "markdown",
   "metadata": {
    "id": "RQ6Sjc74Yh-a"
   },
   "source": [
    "# Intro To Embdeddings\n",
    "\n",
    "[Link to Notebook](\"https://github.com/FMurray/hyperdemocracy/blob/main/sidequests/embeddings.ipynb\")\n"
   ]
  },
  {
   "attachments": {},
   "cell_type": "markdown",
   "metadata": {
    "id": "8HDvH1JAcu-U"
   },
   "source": [
    "## Index Embeddings in a Vector Database"
   ]
  },
  {
   "cell_type": "code",
   "execution_count": null,
   "metadata": {
    "id": "UdBDoTvLbLfZ"
   },
   "outputs": [],
   "source": [
    "from langchain.vectorstores import Chroma"
   ]
  },
  {
   "cell_type": "code",
   "execution_count": null,
   "metadata": {
    "id": "18-prZMJFisk"
   },
   "outputs": [],
   "source": [
    "db = Chroma.from_documents(split_docs, embeddings)"
   ]
  },
  {
   "cell_type": "code",
   "execution_count": null,
   "metadata": {
    "id": "Y8wCr8FuFnUf"
   },
   "outputs": [],
   "source": [
    "db"
   ]
  },
  {
   "cell_type": "code",
   "execution_count": null,
   "metadata": {
    "id": "dl4Zh4V5FqEM"
   },
   "outputs": [],
   "source": [
    "# explnain similarity types, cosine, inner-product, squared L2, \n",
    "# looks like chroma uses hnswlib which supports 3 distances (default cosine) [TODO confirm default]\n",
    "# https://github.com/hwchase17/langchain/blob/master/langchain/vectorstores/chroma.py\n",
    "# https://docs.trychroma.com/usage-guide#changing-the-distance-function\n",
    "# https://github.com/nmslib/hnswlib/tree/master#supported-distances\n",
    "\n",
    "# in addition langchain offers maximal marginal relevance on top of cosine\n",
    "# https://github.com/hwchase17/langchain/blob/master/langchain/vectorstores/utils.py#L10\n",
    "\n",
    "ret_docs = db.similarity_search_with_score(\n",
    "    \"nuclear power\", \n",
    "    k=10, \n",
    "    filter={\"source\": \"https://www.congress.gov/bill/118th-congress/house-concurrent-resolution/17\"},\n",
    ")\n",
    "\n",
    "for doc in ret_docs:\n",
    "    print(doc)"
   ]
  },
  {
   "cell_type": "code",
   "execution_count": null,
   "metadata": {
    "id": "tm0GVNxUFxok"
   },
   "outputs": [],
   "source": [
    "# show that this is all the docs from filter\n",
    "len([d for d in split_docs if d.metadata['source']=='https://www.congress.gov/bill/118th-congress/house-concurrent-resolution/17'])"
   ]
  },
  {
   "attachments": {},
   "cell_type": "markdown",
   "metadata": {
    "id": "Bdr41mxrb-rn"
   },
   "source": [
    "# What are retrievers?\n",
    "\n",
    "TODO: TL;DR "
   ]
  },
  {
   "cell_type": "code",
   "execution_count": null,
   "metadata": {},
   "outputs": [],
   "source": [
    "import langchain\n",
    "langchain.verbose = False"
   ]
  },
  {
   "cell_type": "code",
   "execution_count": null,
   "metadata": {
    "id": "1bllOTmFfWdS"
   },
   "outputs": [],
   "source": [
    "from langchain.chains import RetrievalQA\n",
    "from langchain.chains import RetrievalQAWithSourcesChain\n",
    "from langchain.llms import OpenAI"
   ]
  },
  {
   "cell_type": "code",
   "execution_count": null,
   "metadata": {
    "id": "vBt_jRxmF94T"
   },
   "outputs": [],
   "source": [
    "retriever = db.as_retriever(search_kwargs={'k':10})"
   ]
  },
  {
   "cell_type": "code",
   "execution_count": null,
   "metadata": {
    "id": "9ODHd9ltGQlq"
   },
   "outputs": [],
   "source": [
    "retriever"
   ]
  },
  {
   "attachments": {},
   "cell_type": "markdown",
   "metadata": {
    "id": "tRzjp9aVc9rd"
   },
   "source": [
    "Compare the chains in the original DocumentQA quickstart with the chains here"
   ]
  },
  {
   "cell_type": "code",
   "execution_count": null,
   "metadata": {
    "id": "kPEKaYi3GmE1"
   },
   "outputs": [],
   "source": [
    "qa = RetrievalQA.from_chain_type(\n",
    "    llm=OpenAI(), \n",
    "    chain_type=\"stuff\", \n",
    "    retriever=retriever, \n",
    "    return_source_documents=True,\n",
    ")"
   ]
  },
  {
   "attachments": {},
   "cell_type": "markdown",
   "metadata": {
    "id": "fwzvjXPqbcrC"
   },
   "source": [
    "# Questions\n",
    "\n",
    "* what are the components of the RetrievalQA chain?\n",
    "* what is the QA prompt?\n",
    "* how would you modify the QA prompt?\n",
    "* what is the difference between the following qa chain types?,\n",
    "    * stuff\n",
    "    * map_reduce\n",
    "    * map_rerank\n",
    "    * refine\n",
    "\n",
    "# Resources\n",
    "\n",
    "* https://github.com/hwchase17/langchain/tree/master/langchain/chains/retrieval_qa\n",
    "* https://github.com/hwchase17/langchain/tree/master/langchain/chains/question_answering"
   ]
  },
  {
   "cell_type": "code",
   "execution_count": null,
   "metadata": {},
   "outputs": [],
   "source": [
    "from IPython import display"
   ]
  },
  {
   "cell_type": "code",
   "execution_count": null,
   "metadata": {},
   "outputs": [],
   "source": [
    "display.Image(\"https://python.langchain.com/assets/images/stuff-818da4c66ee17911bc8861c089316579.jpg\", width=600)"
   ]
  },
  {
   "cell_type": "code",
   "execution_count": null,
   "metadata": {},
   "outputs": [],
   "source": [
    "# WARNING! Do not commit the outputs of this cell if it contains your API key\n",
    "\n",
    "rich.print(qa)"
   ]
  },
  {
   "attachments": {},
   "cell_type": "markdown",
   "metadata": {
    "id": "8MdA3SOznZkm"
   },
   "source": [
    "## How many ways can we print a prompt? "
   ]
  },
  {
   "cell_type": "code",
   "execution_count": null,
   "metadata": {
    "id": "zhmxZhEIbbpR"
   },
   "outputs": [],
   "source": [
    "prompt_template = qa.combine_documents_chain.llm_chain.prompt\n",
    "prompt_template"
   ]
  },
  {
   "cell_type": "code",
   "execution_count": null,
   "metadata": {
    "id": "MqSdtKYqjSwv"
   },
   "outputs": [],
   "source": [
    "print(prompt_template.template)"
   ]
  },
  {
   "cell_type": "code",
   "execution_count": null,
   "metadata": {
    "id": "vb-itdmsi_6n"
   },
   "outputs": [],
   "source": [
    "import textwrap"
   ]
  },
  {
   "cell_type": "code",
   "execution_count": null,
   "metadata": {
    "id": "AeBaZGNzigx6"
   },
   "outputs": [],
   "source": [
    "rich.print(prompt_template.format(context='[CONTEXT]', question='[QUESTION]'))"
   ]
  },
  {
   "cell_type": "code",
   "execution_count": null,
   "metadata": {
    "id": "JdGfg21jG3VA"
   },
   "outputs": [],
   "source": [
    "answer = qa(\"What is the solution to climate change?\")"
   ]
  },
  {
   "cell_type": "code",
   "execution_count": null,
   "metadata": {
    "id": "rkaJ3v9CHPc7"
   },
   "outputs": [],
   "source": [
    "answer.keys()"
   ]
  },
  {
   "cell_type": "code",
   "execution_count": null,
   "metadata": {
    "id": "cR-f8EBgjwOi"
   },
   "outputs": [],
   "source": [
    "print(answer['result'])"
   ]
  },
  {
   "cell_type": "code",
   "execution_count": null,
   "metadata": {
    "id": "1GDnvwb2jzxy"
   },
   "outputs": [],
   "source": [
    "qaws = RetrievalQAWithSourcesChain.from_chain_type(\n",
    "    llm=OpenAI(), \n",
    "    chain_type=\"stuff\", \n",
    "    retriever=retriever, \n",
    "    return_source_documents=True,\n",
    ")"
   ]
  },
  {
   "cell_type": "code",
   "execution_count": null,
   "metadata": {},
   "outputs": [],
   "source": [
    "# WARNING! Do not commit the outputs of this cell if it contains your API key\n",
    "print(qaws)"
   ]
  },
  {
   "cell_type": "code",
   "execution_count": null,
   "metadata": {
    "id": "eIBbG6f6BFC5"
   },
   "outputs": [],
   "source": [
    "pt = qaws.combine_documents_chain.llm_chain.prompt"
   ]
  },
  {
   "cell_type": "code",
   "execution_count": null,
   "metadata": {
    "id": "B90CgFIDBDmM"
   },
   "outputs": [],
   "source": [
    "print(pt.format(summaries='[SUMMARIES]', question='[QUESTION]'))"
   ]
  },
  {
   "cell_type": "code",
   "execution_count": null,
   "metadata": {
    "id": "wwOMdmEmj5qE"
   },
   "outputs": [],
   "source": [
    "answer = qaws(\"What is the solution to climate change?\")"
   ]
  },
  {
   "cell_type": "code",
   "execution_count": null,
   "metadata": {
    "id": "tGtEw6NVj_nj"
   },
   "outputs": [],
   "source": [
    "answer.keys()"
   ]
  },
  {
   "cell_type": "code",
   "execution_count": null,
   "metadata": {
    "id": "flHelL8nkLEy"
   },
   "outputs": [],
   "source": [
    "print(answer['answer'])\n",
    "print(answer['sources'])"
   ]
  },
  {
   "attachments": {},
   "cell_type": "markdown",
   "metadata": {},
   "source": [
    "# Prompt Construction Sidequest"
   ]
  },
  {
   "attachments": {},
   "cell_type": "markdown",
   "metadata": {
    "id": "rPvFbf88HtOa"
   },
   "source": [
    "# TODO\n",
    "\n",
    "Try alternatives to stuff\n",
    "\n",
    "Figure out how to pass all the options to the high level constructor. \n",
    "\n",
    "https://github.com/hwchase17/langchain/blob/master/langchain/indexes/vectorstore.py"
   ]
  },
  {
   "cell_type": "code",
   "execution_count": null,
   "metadata": {
    "id": "L7pVNm_wH0Aq"
   },
   "outputs": [],
   "source": [
    "index_creator = VectorstoreIndexCreator(\n",
    "    vectorstore_cls=Chroma, \n",
    "    embedding=OpenAIEmbeddings(),\n",
    "    text_splitter=RecursiveCharacterTextSplitter(chunk_size=512, chunk_overlap=128)\n",
    ")"
   ]
  },
  {
   "attachments": {},
   "cell_type": "markdown",
   "metadata": {
    "id": "4UtKAlz-f4u7"
   },
   "source": [
    "\n",
    "Sticking this here to decide if we want to use this in the course content\n",
    "\n",
    "https://xml.house.gov/\n",
    "\n",
    "TODO: Sidequest on implementing a langchain document loader using this XML schema ^^^\n",
    "\n",
    "https://www.everycrsreport.com/"
   ]
  },
  {
   "attachments": {},
   "cell_type": "markdown",
   "metadata": {
    "id": "J2yKjNzlGLSz"
   },
   "source": [
    "# Lets make it a conversation\n",
    "\n",
    "https://python.langchain.com/en/latest/modules/chains/index_examples/chat_vector_db.html"
   ]
  },
  {
   "cell_type": "code",
   "execution_count": null,
   "metadata": {
    "id": "mFKsRfVUOtvZ"
   },
   "outputs": [],
   "source": [
    "from langchain.chains import ConversationalRetrievalChain"
   ]
  },
  {
   "cell_type": "code",
   "execution_count": null,
   "metadata": {
    "id": "rkvuSKPqHVOb"
   },
   "outputs": [],
   "source": [
    "# TODO cover serializing the db to disk\n",
    "db"
   ]
  },
  {
   "cell_type": "code",
   "execution_count": null,
   "metadata": {
    "id": "gq9o8v49HZjh"
   },
   "outputs": [],
   "source": [
    "from langchain.memory import ConversationBufferMemory\n",
    "memory = ConversationBufferMemory(memory_key=\"chat_history\", return_messages=True)"
   ]
  },
  {
   "cell_type": "code",
   "execution_count": null,
   "metadata": {
    "id": "dqbSxH8THddW"
   },
   "outputs": [],
   "source": [
    "qachat = ConversationalRetrievalChain.from_llm(\n",
    "    OpenAI(temperature=0), \n",
    "    db.as_retriever(), \n",
    "    memory=memory\n",
    ")"
   ]
  },
  {
   "cell_type": "code",
   "execution_count": null,
   "metadata": {
    "id": "ZbgFkWm_Ho9Q"
   },
   "outputs": [],
   "source": [
    "query = \"What is the solution to climate change?\"\n",
    "answer = qachat(query)"
   ]
  },
  {
   "cell_type": "code",
   "execution_count": null,
   "metadata": {
    "id": "8baHeDdgIX2f"
   },
   "outputs": [],
   "source": [
    "print(answer)"
   ]
  },
  {
   "cell_type": "code",
   "execution_count": null,
   "metadata": {
    "id": "LaaP287rIdDC"
   },
   "outputs": [],
   "source": [
    "follow_up = \"How certain is the 350 number?\"\n",
    "result = qachat({\"question\": follow_up})"
   ]
  },
  {
   "cell_type": "code",
   "execution_count": null,
   "metadata": {
    "id": "C7UitxViI-mm"
   },
   "outputs": [],
   "source": [
    "print(result)"
   ]
  },
  {
   "cell_type": "code",
   "execution_count": null,
   "metadata": {
    "id": "qxLyw-PlJIMQ"
   },
   "outputs": [],
   "source": []
  }
 ],
 "metadata": {
  "colab": {
   "include_colab_link": true,
   "provenance": []
  },
  "kernelspec": {
   "display_name": "Python 3 (ipykernel)",
   "language": "python",
   "name": "python3"
  },
  "language_info": {
   "codemirror_mode": {
    "name": "ipython",
    "version": 3
   },
   "file_extension": ".py",
   "mimetype": "text/x-python",
   "name": "python",
   "nbconvert_exporter": "python",
   "pygments_lexer": "ipython3",
   "version": "3.10.11"
  }
 },
 "nbformat": 4,
 "nbformat_minor": 4
}
