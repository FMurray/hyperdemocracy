{
  "cells": [
    {
      "attachments": {},
      "cell_type": "markdown",
      "metadata": {
        "colab_type": "text",
        "id": "view-in-github"
      },
      "source": [
        "<a href=\"https://colab.research.google.com/github/FMurray/hyperdemocracy/blob/main/hyper_democracy_v2.ipynb\" target=\"_parent\"><img src=\"https://colab.research.google.com/assets/colab-badge.svg\" alt=\"Open In Colab\"/></a>"
      ]
    },
    {
      "attachments": {},
      "cell_type": "markdown",
      "metadata": {
        "id": "KkXxD28y6u2w"
      },
      "source": [
        "# Install Dependencies"
      ]
    },
    {
      "cell_type": "code",
      "execution_count": null,
      "metadata": {
        "id": "54Xv3xgeeKTE"
      },
      "outputs": [],
      "source": [
        "%%capture\n",
        "!pip install datasets\n",
        "!pip install langchain==0.0.193\n",
        "!pip install chromadb\n",
        "!pip install openai\n",
        "!pip install tiktoken\n",
        "!pip install rich"
      ]
    },
    {
      "cell_type": "code",
      "execution_count": null,
      "metadata": {
        "id": "IlW0mCtVd454"
      },
      "outputs": [],
      "source": [
        "import os\n",
        "import random\n",
        "import re\n",
        "\n",
        "from datasets import load_dataset\n",
        "import rich"
      ]
    },
    {
      "attachments": {},
      "cell_type": "markdown",
      "metadata": {
        "id": "IRqdS7Elhfpl"
      },
      "source": [
        "# Setup Keys"
      ]
    },
    {
      "cell_type": "code",
      "execution_count": null,
      "metadata": {
        "id": "jtSzpF4Ehii5"
      },
      "outputs": [],
      "source": [
        "# os.environ[\"OPENAI_API_KEY\"] = \"YOUR KEY HERE\"\n",
        "import getpass\n",
        "key = getpass.getpass()"
      ]
    },
    {
      "cell_type": "code",
      "execution_count": null,
      "metadata": {
        "id": "G1yOacoxS4Lv"
      },
      "outputs": [],
      "source": [
        "os.environ['OPENAI_API_KEY'] = key"
      ]
    },
    {
      "attachments": {},
      "cell_type": "markdown",
      "metadata": {
        "id": "vSe6gY8_gazO"
      },
      "source": [
        "# Load Demo Records\n",
        "\n",
        "We are going to use a small subset of records provided by https://assembled.app/.\n",
        "\n",
        "For the purposes of this workshop, we have created a huggingface dataset https://huggingface.co/datasets/hacdc/hyperdemocracy which we can load using the `load_dataset` function to returns a Huggingface dataset. See more info here [datasets](https://huggingface.co/docs/datasets/index) package."
      ]
    },
    {
      "cell_type": "code",
      "execution_count": null,
      "metadata": {
        "id": "ihNv1h7xd_7J"
      },
      "outputs": [],
      "source": [
        "ds = load_dataset(\"hacdc/hyperdemocracy\", split=\"train\")"
      ]
    },
    {
      "cell_type": "code",
      "execution_count": null,
      "metadata": {
        "id": "L5r6oJ7MmQM5"
      },
      "outputs": [],
      "source": [
        "ds"
      ]
    },
    {
      "attachments": {},
      "cell_type": "markdown",
      "metadata": {
        "id": "qqqNZnVFKlaH"
      },
      "source": [
        "# Convert to Pandas DataFrame\n",
        "\n",
        "We could do all the processing using the HF dataset, but sometimes it is simpler to explore with a DataFrame."
      ]
    },
    {
      "cell_type": "code",
      "execution_count": null,
      "metadata": {
        "id": "KmJu2i7hIaHb"
      },
      "outputs": [],
      "source": [
        "df_all = ds.to_pandas()"
      ]
    },
    {
      "cell_type": "code",
      "execution_count": null,
      "metadata": {
        "id": "m4eSYiO5Ii9X"
      },
      "outputs": [],
      "source": [
        "df_all.shape"
      ]
    },
    {
      "cell_type": "code",
      "execution_count": null,
      "metadata": {
        "id": "rwWgSU0MIkRQ"
      },
      "outputs": [],
      "source": [
        "df_all.head()"
      ]
    },
    {
      "attachments": {},
      "cell_type": "markdown",
      "metadata": {
        "id": "-HUxJ4XAFOaZ"
      },
      "source": [
        "# Sponsor Graph Sidequest\n",
        "\n",
        "[Notebook here:](https://github.com/FMurray/hyperdemocracy/sidequests/sponsor_graph.ipynb)"
      ]
    },
    {
      "cell_type": "code",
      "execution_count": null,
      "metadata": {
        "id": "lUYuGQGOFb6R"
      },
      "outputs": [],
      "source": [
        "import networkx as nx"
      ]
    },
    {
      "cell_type": "code",
      "execution_count": null,
      "metadata": {
        "id": "TRMFlocUFe5d"
      },
      "outputs": [],
      "source": [
        "G = nx.Graph()\n",
        "for _, record in df_all.iterrows():\n",
        "    node = (record['key'], {\"kind\": \"record\", \"name\": record[\"name\"]})\n",
        "    G.add_nodes_from([node])\n",
        "    for sponsor in record['sponsors']:\n",
        "        node = (sponsor[0], {\"name_tag\": sponsor[1], \"kind\": \"person\"})\n",
        "        G.add_nodes_from([node])\n",
        "        edge = (record['key'], sponsor[0], {\"kind\": sponsor[2]})\n",
        "        G.add_edges_from([edge])"
      ]
    },
    {
      "cell_type": "code",
      "execution_count": null,
      "metadata": {
        "id": "tx32w1vsGy7N"
      },
      "outputs": [],
      "source": [
        "for node in list(G.nodes.data())[0:5]:\n",
        "    print(node)"
      ]
    },
    {
      "cell_type": "code",
      "execution_count": null,
      "metadata": {
        "id": "2xCBs5uVKBOW"
      },
      "outputs": [],
      "source": [
        "for edge in list(G.edges)[0:5]:\n",
        "    print(G.edges[edge], G.nodes[edge[0]], G.nodes[edge[1]])"
      ]
    },
    {
      "cell_type": "code",
      "execution_count": null,
      "metadata": {
        "id": "LpQblO-9mYJ-"
      },
      "outputs": [],
      "source": [
        "nx.draw(G)"
      ]
    },
    {
      "attachments": {},
      "cell_type": "markdown",
      "metadata": {
        "id": "RO9TDWIpOEfA"
      },
      "source": [
        "# Remove Records with no Text"
      ]
    },
    {
      "cell_type": "code",
      "execution_count": null,
      "metadata": {
        "id": "8ui3bWZKhvhF"
      },
      "outputs": [],
      "source": [
        "df = df_all[df_all['body']!='']\n",
        "df.shape"
      ]
    },
    {
      "cell_type": "code",
      "execution_count": null,
      "metadata": {
        "id": "o3UJ_0aXNSen"
      },
      "outputs": [],
      "source": [
        "def split_key(key):\n",
        "    \"\"\"\n",
        "    TODO: add a link explaining this notation and variable names\n",
        "    \"\"\"\n",
        "    congress_num, legis_class, legis_num = re.match(\"(\\d+)(\\D+)(\\d+)\", key).groups()\n",
        "    return congress_num, legis_class, legis_num"
      ]
    },
    {
      "cell_type": "code",
      "execution_count": null,
      "metadata": {
        "id": "OD0zHernRn_w"
      },
      "outputs": [],
      "source": [
        "def url_from_key(key):\n",
        "    \"\"\"Return congress.gov url from key.\"\"\"\n",
        "    url_map = {\n",
        "        \"HR\": \"house-bill\",\n",
        "        \"HCONRES\": \"house-concurrent-resolution\",\n",
        "        \"HRES\": \"house-resolution\",\n",
        "        \"HJRES\": \"house-joint-resolution\",\n",
        "        \"S\": \"senate-bill\",\n",
        "        \"SCONRES\": \"senate-concurrent-resolution\",\n",
        "        \"SRES\": \"senate-resolution\",\n",
        "        \"SJRES\": \"senate-joint-resolution\",\n",
        "    }\n",
        "    congress_num, legis_class, legis_num = split_key(key)\n",
        "    url_legis_class = url_map[legis_class]\n",
        "    url = f\"https://www.congress.gov/bill/{congress_num}th-congress/{url_legis_class}/{legis_num}\"\n",
        "    return url"
      ]
    },
    {
      "attachments": {},
      "cell_type": "markdown",
      "metadata": {
        "id": "5GM8DqH7Ojeu"
      },
      "source": [
        "# From Pandas Dataframe to Langchain Document\n",
        "\n",
        "TODO: Document me!\n",
        "\n",
        "TODO: Try loading directly from source with langchain HTML Document loader\n",
        "\n",
        "Langchain makes [UnstructuredText](https://unstructured-io.github.io/unstructured/examples.html)"
      ]
    },
    {
      "cell_type": "code",
      "execution_count": null,
      "metadata": {
        "id": "DH58_PTsRJyD"
      },
      "outputs": [],
      "source": [
        "from bs4 import BeautifulSoup\n",
        "from langchain.schema import Document "
      ]
    },
    {
      "cell_type": "code",
      "execution_count": null,
      "metadata": {
        "id": "cLHx06mHepKQ"
      },
      "outputs": [],
      "source": [
        "docs = []\n",
        "for irow, row in df.iterrows():\n",
        "    congress_num, legis_class, legis_num = split_key(row['key'])\n",
        "    doc = Document(\n",
        "        page_content=BeautifulSoup(row['body']).get_text(),\n",
        "        metadata={\n",
        "            'key': row['key'],\n",
        "            'congress_num': congress_num,\n",
        "            'legis_class': legis_class,\n",
        "            'legis_num': legis_num,\n",
        "            'name': row['name'],\n",
        "            'summary': BeautifulSoup(row['summary']).get_text(),\n",
        "            #'summary': row['summary'],\n",
        "            'source': url_from_key(row['key']),\n",
        "\n",
        "            # Note: chroma can only filter on float, str, or int\n",
        "            # https://docs.trychroma.com/usage-guide#using-where-filters\n",
        "\n",
        "            'sponsor': row['sponsors'][0][0],\n",
        "\n",
        "            # TODO: figure out how to break theme list up in a better way\n",
        "            'theme0': row['themes'][0] if row['themes'].size > 0 else \"\"\n",
        "        },\n",
        "    )\n",
        "    docs.append(doc)"
      ]
    },
    {
      "cell_type": "code",
      "execution_count": null,
      "metadata": {
        "id": "2-fFRGsTUDGX"
      },
      "outputs": [],
      "source": [
        "doc"
      ]
    },
    {
      "cell_type": "code",
      "execution_count": null,
      "metadata": {
        "id": "fceFBIiDRcZk"
      },
      "outputs": [],
      "source": [
        "print(doc.page_content)"
      ]
    },
    {
      "cell_type": "code",
      "execution_count": null,
      "metadata": {
        "id": "siRiWjCyj63F"
      },
      "outputs": [],
      "source": [
        "print(len(docs))"
      ]
    },
    {
      "cell_type": "code",
      "execution_count": null,
      "metadata": {
        "id": "cz9jEQxQKRO_"
      },
      "outputs": [],
      "source": [
        "doc.metadata"
      ]
    },
    {
      "attachments": {},
      "cell_type": "markdown",
      "metadata": {
        "id": "pVPwxKHLA3fC"
      },
      "source": [
        "# Document QA Quickstart\n",
        "\n",
        "https://python.langchain.com/en/latest/modules/indexes/getting_started.html\n",
        "\n",
        "TODO: What is DocumentQA? "
      ]
    },
    {
      "cell_type": "code",
      "execution_count": null,
      "metadata": {
        "id": "4KRBYWt99gkV"
      },
      "outputs": [],
      "source": [
        "import langchain\n",
        "langchain.verbose = False"
      ]
    },
    {
      "attachments": {},
      "cell_type": "markdown",
      "metadata": {
        "id": "sLwzn1qKTGMG"
      },
      "source": [
        "# Introducing indexes\n",
        "\n",
        "TODO: What are indexes?"
      ]
    },
    {
      "cell_type": "code",
      "execution_count": null,
      "metadata": {
        "id": "PBZermt7U07_"
      },
      "outputs": [],
      "source": [
        "from langchain.indexes import VectorstoreIndexCreator"
      ]
    },
    {
      "cell_type": "code",
      "execution_count": null,
      "metadata": {
        "id": "OZyffFybguTs"
      },
      "outputs": [],
      "source": [
        "index = VectorstoreIndexCreator().from_documents(docs)"
      ]
    },
    {
      "cell_type": "code",
      "execution_count": null,
      "metadata": {
        "id": "ttsIeAUNg4zH"
      },
      "outputs": [],
      "source": [
        "index"
      ]
    },
    {
      "cell_type": "code",
      "execution_count": null,
      "metadata": {
        "id": "8XukLCIikWVp"
      },
      "outputs": [],
      "source": [
        "query = \"What are the primary themes around energy policy?\""
      ]
    },
    {
      "attachments": {},
      "cell_type": "markdown",
      "metadata": {
        "id": "GmXVY7PRUiLX"
      },
      "source": [
        "Try some other questions for yourself!"
      ]
    },
    {
      "cell_type": "code",
      "execution_count": null,
      "metadata": {
        "id": "2mVw_W-mn2zF"
      },
      "outputs": [],
      "source": [
        "out = index.query(query)\n",
        "out"
      ]
    },
    {
      "cell_type": "code",
      "execution_count": null,
      "metadata": {
        "id": "8UYqM62Kn3GS"
      },
      "outputs": [],
      "source": [
        "out = index.query_with_sources(query)"
      ]
    },
    {
      "cell_type": "code",
      "execution_count": null,
      "metadata": {
        "id": "DYMC9K2r9p2h"
      },
      "outputs": [],
      "source": [
        "out"
      ]
    },
    {
      "cell_type": "code",
      "execution_count": null,
      "metadata": {
        "id": "uoCow45WWHgV"
      },
      "outputs": [],
      "source": [
        "print(out['sources'])"
      ]
    },
    {
      "cell_type": "code",
      "execution_count": null,
      "metadata": {
        "id": "Bk8e-wLVn686"
      },
      "outputs": [],
      "source": [
        "query = \"Describe in 100 words the proposed solutions to climate change?\"\n",
        "out = index.query_with_sources(query)\n",
        "out"
      ]
    },
    {
      "attachments": {},
      "cell_type": "markdown",
      "metadata": {
        "id": "4ry8zdrlCEqi"
      },
      "source": [
        "# Step by step explanation of the DocumentQA"
      ]
    },
    {
      "attachments": {},
      "cell_type": "markdown",
      "metadata": {
        "id": "KCdDA0eOXJ_1"
      },
      "source": [
        "## Langchain Text Splitters\n",
        "\n",
        "https://python.langchain.com/en/latest/modules/indexes/text_splitters.html"
      ]
    },
    {
      "cell_type": "code",
      "execution_count": null,
      "metadata": {
        "id": "_w6e8Bcia6gp"
      },
      "outputs": [],
      "source": [
        "from langchain.text_splitter import RecursiveCharacterTextSplitter"
      ]
    },
    {
      "cell_type": "code",
      "execution_count": null,
      "metadata": {
        "id": "oCi59g8rFAMi"
      },
      "outputs": [],
      "source": [
        "text_splitter = RecursiveCharacterTextSplitter(chunk_size=512, chunk_overlap=128)\n",
        "split_docs = text_splitter.split_documents(docs)"
      ]
    },
    {
      "cell_type": "code",
      "execution_count": null,
      "metadata": {
        "id": "da7F2FUuFR8q"
      },
      "outputs": [],
      "source": [
        "print(\"The length before splitting: \", len(docs))\n",
        "print(\"The length after splitting: \", len(split_docs))"
      ]
    },
    {
      "attachments": {},
      "cell_type": "markdown",
      "metadata": {
        "id": "Kg2pkJghXekK"
      },
      "source": [
        "TODO drill in on chunk size and chunk overlap"
      ]
    },
    {
      "cell_type": "code",
      "execution_count": null,
      "metadata": {
        "id": "3qiJJxj0EesX"
      },
      "outputs": [],
      "source": [
        "split_docs[0]"
      ]
    },
    {
      "attachments": {},
      "cell_type": "markdown",
      "metadata": {
        "id": "7BVOa0TebHtY"
      },
      "source": [
        "## Embed and Index Doc Chunks"
      ]
    },
    {
      "attachments": {},
      "cell_type": "markdown",
      "metadata": {
        "id": "RQ6Sjc74Yh-a"
      },
      "source": [
        "### Intro to embeddings\n",
        "\n",
        "TODO: Gabe to do intro to embeddings"
      ]
    },
    {
      "cell_type": "code",
      "execution_count": null,
      "metadata": {
        "id": "tEDwXen1YbLi"
      },
      "outputs": [],
      "source": [
        "import openai"
      ]
    },
    {
      "cell_type": "code",
      "execution_count": null,
      "metadata": {
        "id": "LPsFeSceYE5K"
      },
      "outputs": [],
      "source": [
        "oai_embd = openai.Embedding.create(input=docs[0].page_content, model='text-embedding-ada-002')['data'][0]['embedding']\n",
        "len(oai_embd), oai_embd[0:10]"
      ]
    },
    {
      "cell_type": "code",
      "execution_count": null,
      "metadata": {
        "id": "-Xlt9RWMFfdR"
      },
      "outputs": [],
      "source": [
        "from langchain.embeddings import OpenAIEmbeddings"
      ]
    },
    {
      "cell_type": "code",
      "execution_count": null,
      "metadata": {
        "id": "7nnxUQMgb1qH"
      },
      "outputs": [],
      "source": [
        "embeddings = OpenAIEmbeddings()"
      ]
    },
    {
      "cell_type": "code",
      "execution_count": null,
      "metadata": {
        "id": "9E4fAo8ZYz-Z"
      },
      "outputs": [],
      "source": [
        "lc_embd = embeddings.embed_documents([docs[0].page_content])\n",
        "len(lc_embd[0]), lc_embd[0][0:10]"
      ]
    },
    {
      "attachments": {},
      "cell_type": "markdown",
      "metadata": {
        "id": "8HDvH1JAcu-U"
      },
      "source": [
        "## Index Embeddings in a Vector Database"
      ]
    },
    {
      "cell_type": "code",
      "execution_count": null,
      "metadata": {
        "id": "UdBDoTvLbLfZ"
      },
      "outputs": [],
      "source": [
        "from langchain.vectorstores import Chroma"
      ]
    },
    {
      "cell_type": "code",
      "execution_count": null,
      "metadata": {
        "id": "18-prZMJFisk"
      },
      "outputs": [],
      "source": [
        "db = Chroma.from_documents(split_docs, embeddings)"
      ]
    },
    {
      "cell_type": "code",
      "execution_count": null,
      "metadata": {
        "id": "Y8wCr8FuFnUf"
      },
      "outputs": [],
      "source": [
        "db"
      ]
    },
    {
      "cell_type": "code",
      "execution_count": null,
      "metadata": {
        "id": "cGyD94zObb5I"
      },
      "outputs": [],
      "source": [
        "# TODO Forrest can implement vector search in numpy and explain what it's doing\n",
        "\n",
        "# we can just do a search of the vectors (text embeddings)\n",
        "# and some vectorscores allow us to do different types of search\n",
        "# https://python.langchain.com/en/latest/modules/indexes/vectorstores.html"
      ]
    },
    {
      "cell_type": "code",
      "execution_count": null,
      "metadata": {
        "id": "dl4Zh4V5FqEM"
      },
      "outputs": [],
      "source": [
        "# explnain similarity types, cosine, inner-product, squared L2, \n",
        "# looks like chroma uses hnswlib which supports 3 distances (default cosine) [TODO confirm default]\n",
        "# https://github.com/hwchase17/langchain/blob/master/langchain/vectorstores/chroma.py\n",
        "# https://docs.trychroma.com/usage-guide#changing-the-distance-function\n",
        "# https://github.com/nmslib/hnswlib/tree/master#supported-distances\n",
        "\n",
        "# in addition langchain offers maximal marginal relevance on top of cosine\n",
        "# https://github.com/hwchase17/langchain/blob/master/langchain/vectorstores/utils.py#L10\n",
        "\n",
        "ret_docs = db.similarity_search_with_score(\n",
        "    \"nuclear power\", \n",
        "    k=10, \n",
        "    filter={\"source\": \"https://www.congress.gov/bill/118th-congress/house-concurrent-resolution/17\"},\n",
        ")\n",
        "\n",
        "for doc in ret_docs:\n",
        "    print(doc)"
      ]
    },
    {
      "cell_type": "code",
      "execution_count": null,
      "metadata": {
        "id": "tm0GVNxUFxok"
      },
      "outputs": [],
      "source": [
        "# show that this is all the docs from filter\n",
        "len([d for d in split_docs if d.metadata['source']=='https://www.congress.gov/bill/118th-congress/house-concurrent-resolution/17'])"
      ]
    },
    {
      "cell_type": "code",
      "execution_count": null,
      "metadata": {
        "id": "mX6r_69JbA98"
      },
      "outputs": [],
      "source": []
    },
    {
      "cell_type": "code",
      "execution_count": null,
      "metadata": {
        "id": "bLM5U4D8bAYW"
      },
      "outputs": [],
      "source": []
    },
    {
      "attachments": {},
      "cell_type": "markdown",
      "metadata": {
        "id": "Bdr41mxrb-rn"
      },
      "source": [
        "# What are retrievers?\n",
        "\n",
        "TODO: TL;DR "
      ]
    },
    {
      "cell_type": "code",
      "execution_count": null,
      "metadata": {
        "id": "1bllOTmFfWdS"
      },
      "outputs": [],
      "source": [
        "from langchain.chains import RetrievalQA\n",
        "from langchain.chains import RetrievalQAWithSourcesChain\n",
        "from langchain.llms import OpenAI"
      ]
    },
    {
      "cell_type": "code",
      "execution_count": null,
      "metadata": {
        "id": "vBt_jRxmF94T"
      },
      "outputs": [],
      "source": [
        "retriever = db.as_retriever(search_kwargs={'k':10})"
      ]
    },
    {
      "cell_type": "code",
      "execution_count": null,
      "metadata": {
        "id": "9ODHd9ltGQlq"
      },
      "outputs": [],
      "source": [
        "retriever"
      ]
    },
    {
      "attachments": {},
      "cell_type": "markdown",
      "metadata": {
        "id": "tRzjp9aVc9rd"
      },
      "source": [
        "Compare the chains in the original DocumentQA quickstart with the chains here"
      ]
    },
    {
      "cell_type": "code",
      "execution_count": null,
      "metadata": {
        "id": "kPEKaYi3GmE1"
      },
      "outputs": [],
      "source": [
        "qa = RetrievalQA.from_chain_type(\n",
        "    llm=OpenAI(), \n",
        "    chain_type=\"stuff\", \n",
        "    retriever=retriever, \n",
        "    return_source_documents=True,\n",
        ")"
      ]
    },
    {
      "attachments": {},
      "cell_type": "markdown",
      "metadata": {
        "id": "fwzvjXPqbcrC"
      },
      "source": [
        "# Questions\n",
        "\n",
        "* what are the components of the RetrievalQA chain?\n",
        "* what is the QA prompt?\n",
        "* how would you modify the QA prompt?\n",
        "* what is the difference between the following qa chain types?,\n",
        "    * stuff\n",
        "    * map_reduce\n",
        "    * map_rerank\n",
        "    * refine\n",
        "\n",
        "# Resources\n",
        "\n",
        "* https://github.com/hwchase17/langchain/tree/master/langchain/chains/retrieval_qa\n",
        "* https://github.com/hwchase17/langchain/tree/master/langchain/chains/question_answering"
      ]
    },
    {
      "cell_type": "code",
      "execution_count": null,
      "metadata": {
        "id": "i-ls86o_bPTe"
      },
      "outputs": [],
      "source": [
        "rich.print(qa)"
      ]
    },
    {
      "attachments": {},
      "cell_type": "markdown",
      "metadata": {
        "id": "8MdA3SOznZkm"
      },
      "source": [
        "## How many ways can we print a prompt? "
      ]
    },
    {
      "cell_type": "code",
      "execution_count": null,
      "metadata": {
        "id": "zhmxZhEIbbpR"
      },
      "outputs": [],
      "source": [
        "prompt_template = qa.combine_documents_chain.llm_chain.prompt\n",
        "prompt_template"
      ]
    },
    {
      "cell_type": "code",
      "execution_count": null,
      "metadata": {
        "id": "MqSdtKYqjSwv"
      },
      "outputs": [],
      "source": [
        "print(prompt_template.template)"
      ]
    },
    {
      "cell_type": "code",
      "execution_count": null,
      "metadata": {
        "id": "vb-itdmsi_6n"
      },
      "outputs": [],
      "source": [
        "import textwrap"
      ]
    },
    {
      "cell_type": "code",
      "execution_count": null,
      "metadata": {
        "id": "uVcnqueOi5Wl"
      },
      "outputs": [],
      "source": [
        "print('\\n'.join(textwrap.wrap(prompt_template.template)))"
      ]
    },
    {
      "cell_type": "code",
      "execution_count": null,
      "metadata": {
        "id": "AeBaZGNzigx6"
      },
      "outputs": [],
      "source": [
        "rich.print(prompt_template.format(context='[CONTEXT]', question='[QUESTION]'))"
      ]
    },
    {
      "cell_type": "code",
      "execution_count": null,
      "metadata": {
        "id": "JdGfg21jG3VA"
      },
      "outputs": [],
      "source": [
        "answer = qa(\"What is the solution to climate change?\")"
      ]
    },
    {
      "cell_type": "code",
      "execution_count": null,
      "metadata": {
        "id": "rkaJ3v9CHPc7"
      },
      "outputs": [],
      "source": [
        "answer.keys()"
      ]
    },
    {
      "cell_type": "code",
      "execution_count": null,
      "metadata": {
        "id": "cR-f8EBgjwOi"
      },
      "outputs": [],
      "source": [
        "answer['result']"
      ]
    },
    {
      "cell_type": "code",
      "execution_count": null,
      "metadata": {
        "id": "1GDnvwb2jzxy"
      },
      "outputs": [],
      "source": [
        "qaws = RetrievalQAWithSourcesChain.from_chain_type(\n",
        "    llm=OpenAI(), \n",
        "    chain_type=\"stuff\", \n",
        "    retriever=retriever, \n",
        "    return_source_documents=True,\n",
        ")"
      ]
    },
    {
      "cell_type": "code",
      "execution_count": null,
      "metadata": {
        "id": "UY6ultI5_tJn"
      },
      "outputs": [],
      "source": [
        "rich.print(qaws)"
      ]
    },
    {
      "cell_type": "code",
      "execution_count": null,
      "metadata": {
        "id": "eIBbG6f6BFC5"
      },
      "outputs": [],
      "source": [
        "pt = qaws.combine_documents_chain.llm_chain.prompt"
      ]
    },
    {
      "cell_type": "code",
      "execution_count": null,
      "metadata": {
        "id": "B90CgFIDBDmM"
      },
      "outputs": [],
      "source": [
        "rich.print(pt.format(summaries='[SUMMARIES]', question='[QUESTION]'))"
      ]
    },
    {
      "cell_type": "code",
      "execution_count": null,
      "metadata": {
        "id": "wwOMdmEmj5qE"
      },
      "outputs": [],
      "source": [
        "answer = qaws(\"What is the solution to climate change?\")"
      ]
    },
    {
      "cell_type": "code",
      "execution_count": null,
      "metadata": {
        "id": "tGtEw6NVj_nj"
      },
      "outputs": [],
      "source": [
        "answer.keys()"
      ]
    },
    {
      "cell_type": "code",
      "execution_count": null,
      "metadata": {
        "id": "flHelL8nkLEy"
      },
      "outputs": [],
      "source": [
        "answer['answer'], answer['sources']"
      ]
    },
    {
      "attachments": {},
      "cell_type": "markdown",
      "metadata": {
        "id": "rPvFbf88HtOa"
      },
      "source": [
        "# TODO\n",
        "\n",
        "Try alternatives to stuff\n",
        "\n",
        "Figure out how to pass all the options to the high level constructor. \n",
        "\n",
        "https://github.com/hwchase17/langchain/blob/master/langchain/indexes/vectorstore.py"
      ]
    },
    {
      "cell_type": "code",
      "execution_count": null,
      "metadata": {
        "id": "L7pVNm_wH0Aq"
      },
      "outputs": [],
      "source": [
        "index_creator = VectorstoreIndexCreator(\n",
        "    vectorstore_cls=Chroma, \n",
        "    embedding=OpenAIEmbeddings(),\n",
        "    text_splitter=RecursiveCharacterTextSplitter(chunk_size=512, chunk_overlap=128)\n",
        ")"
      ]
    },
    {
      "attachments": {},
      "cell_type": "markdown",
      "metadata": {
        "id": "4UtKAlz-f4u7"
      },
      "source": [
        "\n",
        "Sticking this here to decide if we want to use this in the course content\n",
        "\n",
        "https://xml.house.gov/\n",
        "\n",
        "TODO: Sidequest on implementing a langchain document loader using this XML schema ^^^\n",
        "\n",
        "https://www.everycrsreport.com/"
      ]
    },
    {
      "attachments": {},
      "cell_type": "markdown",
      "metadata": {
        "id": "J2yKjNzlGLSz"
      },
      "source": [
        "# Lets make it a conversation\n",
        "\n",
        "https://python.langchain.com/en/latest/modules/chains/index_examples/chat_vector_db.html"
      ]
    },
    {
      "cell_type": "code",
      "execution_count": null,
      "metadata": {
        "id": "mFKsRfVUOtvZ"
      },
      "outputs": [],
      "source": [
        "from langchain.chains import ConversationalRetrievalChain"
      ]
    },
    {
      "cell_type": "code",
      "execution_count": null,
      "metadata": {
        "id": "rkvuSKPqHVOb"
      },
      "outputs": [],
      "source": [
        "db"
      ]
    },
    {
      "cell_type": "code",
      "execution_count": null,
      "metadata": {
        "id": "gq9o8v49HZjh"
      },
      "outputs": [],
      "source": [
        "from langchain.memory import ConversationBufferMemory\n",
        "memory = ConversationBufferMemory(memory_key=\"chat_history\", return_messages=True)"
      ]
    },
    {
      "cell_type": "code",
      "execution_count": null,
      "metadata": {
        "id": "dqbSxH8THddW"
      },
      "outputs": [],
      "source": [
        "qachat = ConversationalRetrievalChain.from_llm(\n",
        "    OpenAI(temperature=0), \n",
        "    db.as_retriever(), \n",
        "    memory=memory\n",
        ")"
      ]
    },
    {
      "cell_type": "code",
      "execution_count": null,
      "metadata": {
        "id": "ZbgFkWm_Ho9Q"
      },
      "outputs": [],
      "source": [
        "query = \"What is the solution to climate change?\"\n",
        "answer = qachat(query)"
      ]
    },
    {
      "cell_type": "code",
      "execution_count": null,
      "metadata": {
        "id": "8baHeDdgIX2f"
      },
      "outputs": [],
      "source": [
        "rich.print(answer)"
      ]
    },
    {
      "cell_type": "code",
      "execution_count": null,
      "metadata": {
        "id": "LaaP287rIdDC"
      },
      "outputs": [],
      "source": [
        "follow_up = \"How certain is the 350 number?\"\n",
        "result = qachat({\"question\": follow_up})"
      ]
    },
    {
      "cell_type": "code",
      "execution_count": null,
      "metadata": {
        "id": "C7UitxViI-mm"
      },
      "outputs": [],
      "source": [
        "rich.print(result)"
      ]
    },
    {
      "cell_type": "code",
      "execution_count": null,
      "metadata": {
        "id": "qxLyw-PlJIMQ"
      },
      "outputs": [],
      "source": []
    }
  ],
  "metadata": {
    "colab": {
      "include_colab_link": true,
      "provenance": []
    },
    "kernelspec": {
      "display_name": "Python 3",
      "name": "python3"
    },
    "language_info": {
      "name": "python"
    }
  },
  "nbformat": 4,
  "nbformat_minor": 0
}
