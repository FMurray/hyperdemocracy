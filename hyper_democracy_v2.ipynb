{
  "cells": [
    {
      "attachments": {},
      "cell_type": "markdown",
      "metadata": {
        "colab_type": "text",
        "id": "view-in-github"
      },
      "source": [
        "<a href=\"https://colab.research.google.com/github/FMurray/hyperdemocracy/blob/main/hyper_democracy_v2.ipynb\" target=\"_parent\"><img src=\"https://colab.research.google.com/assets/colab-badge.svg\" alt=\"Open In Colab\"/></a>"
      ]
    },
    {
      "attachments": {},
      "cell_type": "markdown",
      "metadata": {
        "id": "KkXxD28y6u2w"
      },
      "source": [
        "# Install Dependencies"
      ]
    },
    {
      "cell_type": "code",
      "execution_count": 111,
      "metadata": {
        "id": "IlW0mCtVd454"
      },
      "outputs": [],
      "source": [
        "import os\n",
        "import random\n",
        "import re\n",
        "\n",
        "from datasets import load_dataset\n",
        "from rich import print"
      ]
    },
    {
      "attachments": {},
      "cell_type": "markdown",
      "metadata": {
        "id": "IRqdS7Elhfpl"
      },
      "source": [
        "# Setup Keys"
      ]
    },
    {
      "cell_type": "code",
      "execution_count": 2,
      "metadata": {
        "id": "jtSzpF4Ehii5"
      },
      "outputs": [],
      "source": [
        "# os.environ[\"OPENAI_API_KEY\"] = \"YOUR KEY HERE\"\n",
        "import getpass\n",
        "os.environ['OPENAI_API_KEY'] = getpass.getpass()"
      ]
    },
    {
      "cell_type": "code",
      "execution_count": 3,
      "metadata": {},
      "outputs": [],
      "source": [
        "%load_ext autoreload\n",
        "%autoreload 2"
      ]
    },
    {
      "attachments": {},
      "cell_type": "markdown",
      "metadata": {
        "id": "vSe6gY8_gazO"
      },
      "source": [
        "# Load Demo Records\n",
        "\n",
        "We are going to use a small subset of records provided by https://assembled.app/.\n",
        "\n",
        "For the purposes of this workshop, we have created a huggingface dataset https://huggingface.co/datasets/hacdc/hyperdemocracy which we can load using the `load_dataset` function to returns a Huggingface dataset. See more info here [datasets](https://huggingface.co/docs/datasets/index) package."
      ]
    },
    {
      "cell_type": "code",
      "execution_count": 4,
      "metadata": {},
      "outputs": [],
      "source": [
        "from hyperdemocracy import load_assembly_records"
      ]
    },
    {
      "cell_type": "code",
      "execution_count": 15,
      "metadata": {},
      "outputs": [
        {
          "name": "stderr",
          "output_type": "stream",
          "text": [
            "Found cached dataset parquet (/Users/forrestmurray/.cache/huggingface/datasets/hacdc___parquet/hacdc--hyperdemocracy-0481830ea620e91d/0.0.0/2a3b91fbd88a2c90d1dbbb32b460cf621d31bd5b05b934492fdef7d8d6f236ec)\n"
          ]
        }
      ],
      "source": [
        "df = load_assembly_records(process=True, strip_html=True, remove_empty_body=True)"
      ]
    },
    {
      "cell_type": "code",
      "execution_count": 16,
      "metadata": {
        "id": "L5r6oJ7MmQM5"
      },
      "outputs": [
        {
          "data": {
            "text/html": [
              "<div>\n",
              "<style scoped>\n",
              "    .dataframe tbody tr th:only-of-type {\n",
              "        vertical-align: middle;\n",
              "    }\n",
              "\n",
              "    .dataframe tbody tr th {\n",
              "        vertical-align: top;\n",
              "    }\n",
              "\n",
              "    .dataframe thead th {\n",
              "        text-align: right;\n",
              "    }\n",
              "</style>\n",
              "<table border=\"1\" class=\"dataframe\">\n",
              "  <thead>\n",
              "    <tr style=\"text-align: right;\">\n",
              "      <th></th>\n",
              "      <th>key</th>\n",
              "      <th>name</th>\n",
              "      <th>sponsors</th>\n",
              "      <th>summary</th>\n",
              "      <th>body</th>\n",
              "      <th>themes</th>\n",
              "      <th>index</th>\n",
              "      <th>actions</th>\n",
              "      <th>amendments</th>\n",
              "      <th>committees</th>\n",
              "      <th>relatedbills</th>\n",
              "      <th>cosponsors</th>\n",
              "      <th>subjects</th>\n",
              "      <th>text</th>\n",
              "      <th>titles</th>\n",
              "      <th>congress_num</th>\n",
              "      <th>legis_class</th>\n",
              "      <th>legis_num</th>\n",
              "      <th>congress_gov_url</th>\n",
              "    </tr>\n",
              "  </thead>\n",
              "  <tbody>\n",
              "    <tr>\n",
              "      <th>0</th>\n",
              "      <td>118HCONRES1</td>\n",
              "      <td>Regarding consent to assemble outside the seat...</td>\n",
              "      <td>[[C001053, Rep. Cole, Tom [R-OK-4], sponsor]]</td>\n",
              "      <td>This concurrent resolution authorizes the Spe...</td>\n",
              "      <td>[Congressional Bills 118th Congress]\\n[From th...</td>\n",
              "      <td>[Congress, Congressional operations and organi...</td>\n",
              "      <td>{'bill': {'actions': {'count': 7, 'url': 'http...</td>\n",
              "      <td>{'actions': [{'actionCode': None, 'actionDate'...</td>\n",
              "      <td>{'amendments': [], 'pagination': {'count': 0},...</td>\n",
              "      <td>{'committees': [], 'request': {'billNumber': '...</td>\n",
              "      <td>{'pagination': {'count': 0}, 'relatedBills': [...</td>\n",
              "      <td>{'cosponsors': [], 'pagination': {'count': 0, ...</td>\n",
              "      <td>{'pagination': {'count': 2}, 'request': {'bill...</td>\n",
              "      <td>{'pagination': {'count': 1}, 'request': {'bill...</td>\n",
              "      <td>{'pagination': {'count': 2}, 'request': {'bill...</td>\n",
              "      <td>118</td>\n",
              "      <td>HCONRES</td>\n",
              "      <td>1</td>\n",
              "      <td>https://www.congress.gov/bill/118th-congress/h...</td>\n",
              "    </tr>\n",
              "    <tr>\n",
              "      <th>1</th>\n",
              "      <td>118HCONRES10</td>\n",
              "      <td>Expressing the sense of Congress that the Unit...</td>\n",
              "      <td>[[T000165, Rep. Tiffany, Thomas P. [R-WI-7], s...</td>\n",
              "      <td>This concurrent resolution calls on the Presi...</td>\n",
              "      <td>[Congressional Bills 118th Congress]\\n[From th...</td>\n",
              "      <td>[International Affairs]</td>\n",
              "      <td>{'bill': {'actions': {'count': 4, 'url': 'http...</td>\n",
              "      <td>{'actions': [{'actionCode': 'H11100', 'actionD...</td>\n",
              "      <td>{'amendments': [], 'pagination': {'count': 0},...</td>\n",
              "      <td>{'committees': [{'activities': [{'date': '2023...</td>\n",
              "      <td>{'pagination': {'count': 0}, 'relatedBills': [...</td>\n",
              "      <td>{'cosponsors': [{'bioguideId': 'P000605', 'dis...</td>\n",
              "      <td>{'pagination': {'count': 1}, 'request': {'bill...</td>\n",
              "      <td>{'pagination': {'count': 1}, 'request': {'bill...</td>\n",
              "      <td>{'pagination': {'count': 2}, 'request': {'bill...</td>\n",
              "      <td>118</td>\n",
              "      <td>HCONRES</td>\n",
              "      <td>10</td>\n",
              "      <td>https://www.congress.gov/bill/118th-congress/h...</td>\n",
              "    </tr>\n",
              "    <tr>\n",
              "      <th>2</th>\n",
              "      <td>118HCONRES11</td>\n",
              "      <td>Providing for a joint session of Congress to r...</td>\n",
              "      <td>[[S001176, Rep. Scalise, Steve [R-LA-1], spons...</td>\n",
              "      <td>This concurrent resolution provides for a joi...</td>\n",
              "      <td>[Congressional Bills 118th Congress]\\n[From th...</td>\n",
              "      <td>[Congress, Congressional operations and organi...</td>\n",
              "      <td>{'bill': {'actions': {'count': 10, 'url': 'htt...</td>\n",
              "      <td>{'actions': [{'actionCode': None, 'actionDate'...</td>\n",
              "      <td>{'amendments': [], 'pagination': {'count': 0},...</td>\n",
              "      <td>{'committees': [], 'request': {'billNumber': '...</td>\n",
              "      <td>{'pagination': {'count': 0}, 'relatedBills': [...</td>\n",
              "      <td>{'cosponsors': [], 'pagination': {'count': 0, ...</td>\n",
              "      <td>{'pagination': {'count': 3}, 'request': {'bill...</td>\n",
              "      <td>{'pagination': {'count': 3}, 'request': {'bill...</td>\n",
              "      <td>{'pagination': {'count': 2}, 'request': {'bill...</td>\n",
              "      <td>118</td>\n",
              "      <td>HCONRES</td>\n",
              "      <td>11</td>\n",
              "      <td>https://www.congress.gov/bill/118th-congress/h...</td>\n",
              "    </tr>\n",
              "    <tr>\n",
              "      <th>3</th>\n",
              "      <td>118HCONRES12</td>\n",
              "      <td>Expressing the sense of Congress that all dire...</td>\n",
              "      <td>[[C001039, Rep. Cammack, Kat [R-FL-3], sponsor...</td>\n",
              "      <td>This concurrent resolution expresses the sens...</td>\n",
              "      <td>[Congressional Bills 118th Congress]\\n[From th...</td>\n",
              "      <td>[Foreign Trade and International Finance, Agri...</td>\n",
              "      <td>{'bill': {'actions': {'count': 5, 'url': 'http...</td>\n",
              "      <td>{'actions': [{'actionCode': 'H11000', 'actionD...</td>\n",
              "      <td>{'amendments': [], 'pagination': {'count': 0},...</td>\n",
              "      <td>{'committees': [{'activities': [{'date': '2023...</td>\n",
              "      <td>{'pagination': {'count': 0}, 'relatedBills': [...</td>\n",
              "      <td>{'cosponsors': [{'bioguideId': 'K000380', 'dis...</td>\n",
              "      <td>{'pagination': {'count': 6}, 'request': {'bill...</td>\n",
              "      <td>{'pagination': {'count': 1}, 'request': {'bill...</td>\n",
              "      <td>{'pagination': {'count': 2}, 'request': {'bill...</td>\n",
              "      <td>118</td>\n",
              "      <td>HCONRES</td>\n",
              "      <td>12</td>\n",
              "      <td>https://www.congress.gov/bill/118th-congress/h...</td>\n",
              "    </tr>\n",
              "    <tr>\n",
              "      <th>4</th>\n",
              "      <td>118HCONRES13</td>\n",
              "      <td>Supporting the Local Radio Freedom Act.</td>\n",
              "      <td>[[W000809, Rep. Womack, Steve [R-AR-3], sponso...</td>\n",
              "      <td>This concurrent resolution declares that Cong...</td>\n",
              "      <td>[Congressional Bills 118th Congress]\\n[From th...</td>\n",
              "      <td>[Science, Technology, Communications, Congress]</td>\n",
              "      <td>{'bill': {'actions': {'count': 3, 'url': 'http...</td>\n",
              "      <td>{'actions': [{'actionCode': 'H11100', 'actionD...</td>\n",
              "      <td>{'amendments': [], 'pagination': {'count': 0},...</td>\n",
              "      <td>{'committees': [{'activities': [{'date': '2023...</td>\n",
              "      <td>{'pagination': {'count': 1}, 'relatedBills': [...</td>\n",
              "      <td>{'cosponsors': [{'bioguideId': 'C001066', 'dis...</td>\n",
              "      <td>{'pagination': {'count': 2}, 'request': {'bill...</td>\n",
              "      <td>{'pagination': {'count': 1}, 'request': {'bill...</td>\n",
              "      <td>{'pagination': {'count': 2}, 'request': {'bill...</td>\n",
              "      <td>118</td>\n",
              "      <td>HCONRES</td>\n",
              "      <td>13</td>\n",
              "      <td>https://www.congress.gov/bill/118th-congress/h...</td>\n",
              "    </tr>\n",
              "  </tbody>\n",
              "</table>\n",
              "</div>"
            ],
            "text/plain": [
              "            key                                               name  \\\n",
              "0   118HCONRES1  Regarding consent to assemble outside the seat...   \n",
              "1  118HCONRES10  Expressing the sense of Congress that the Unit...   \n",
              "2  118HCONRES11  Providing for a joint session of Congress to r...   \n",
              "3  118HCONRES12  Expressing the sense of Congress that all dire...   \n",
              "4  118HCONRES13            Supporting the Local Radio Freedom Act.   \n",
              "\n",
              "                                            sponsors  \\\n",
              "0      [[C001053, Rep. Cole, Tom [R-OK-4], sponsor]]   \n",
              "1  [[T000165, Rep. Tiffany, Thomas P. [R-WI-7], s...   \n",
              "2  [[S001176, Rep. Scalise, Steve [R-LA-1], spons...   \n",
              "3  [[C001039, Rep. Cammack, Kat [R-FL-3], sponsor...   \n",
              "4  [[W000809, Rep. Womack, Steve [R-AR-3], sponso...   \n",
              "\n",
              "                                             summary  \\\n",
              "0   This concurrent resolution authorizes the Spe...   \n",
              "1   This concurrent resolution calls on the Presi...   \n",
              "2   This concurrent resolution provides for a joi...   \n",
              "3   This concurrent resolution expresses the sens...   \n",
              "4   This concurrent resolution declares that Cong...   \n",
              "\n",
              "                                                body  \\\n",
              "0  [Congressional Bills 118th Congress]\\n[From th...   \n",
              "1  [Congressional Bills 118th Congress]\\n[From th...   \n",
              "2  [Congressional Bills 118th Congress]\\n[From th...   \n",
              "3  [Congressional Bills 118th Congress]\\n[From th...   \n",
              "4  [Congressional Bills 118th Congress]\\n[From th...   \n",
              "\n",
              "                                              themes  \\\n",
              "0  [Congress, Congressional operations and organi...   \n",
              "1                            [International Affairs]   \n",
              "2  [Congress, Congressional operations and organi...   \n",
              "3  [Foreign Trade and International Finance, Agri...   \n",
              "4    [Science, Technology, Communications, Congress]   \n",
              "\n",
              "                                               index  \\\n",
              "0  {'bill': {'actions': {'count': 7, 'url': 'http...   \n",
              "1  {'bill': {'actions': {'count': 4, 'url': 'http...   \n",
              "2  {'bill': {'actions': {'count': 10, 'url': 'htt...   \n",
              "3  {'bill': {'actions': {'count': 5, 'url': 'http...   \n",
              "4  {'bill': {'actions': {'count': 3, 'url': 'http...   \n",
              "\n",
              "                                             actions  \\\n",
              "0  {'actions': [{'actionCode': None, 'actionDate'...   \n",
              "1  {'actions': [{'actionCode': 'H11100', 'actionD...   \n",
              "2  {'actions': [{'actionCode': None, 'actionDate'...   \n",
              "3  {'actions': [{'actionCode': 'H11000', 'actionD...   \n",
              "4  {'actions': [{'actionCode': 'H11100', 'actionD...   \n",
              "\n",
              "                                          amendments  \\\n",
              "0  {'amendments': [], 'pagination': {'count': 0},...   \n",
              "1  {'amendments': [], 'pagination': {'count': 0},...   \n",
              "2  {'amendments': [], 'pagination': {'count': 0},...   \n",
              "3  {'amendments': [], 'pagination': {'count': 0},...   \n",
              "4  {'amendments': [], 'pagination': {'count': 0},...   \n",
              "\n",
              "                                          committees  \\\n",
              "0  {'committees': [], 'request': {'billNumber': '...   \n",
              "1  {'committees': [{'activities': [{'date': '2023...   \n",
              "2  {'committees': [], 'request': {'billNumber': '...   \n",
              "3  {'committees': [{'activities': [{'date': '2023...   \n",
              "4  {'committees': [{'activities': [{'date': '2023...   \n",
              "\n",
              "                                        relatedbills  \\\n",
              "0  {'pagination': {'count': 0}, 'relatedBills': [...   \n",
              "1  {'pagination': {'count': 0}, 'relatedBills': [...   \n",
              "2  {'pagination': {'count': 0}, 'relatedBills': [...   \n",
              "3  {'pagination': {'count': 0}, 'relatedBills': [...   \n",
              "4  {'pagination': {'count': 1}, 'relatedBills': [...   \n",
              "\n",
              "                                          cosponsors  \\\n",
              "0  {'cosponsors': [], 'pagination': {'count': 0, ...   \n",
              "1  {'cosponsors': [{'bioguideId': 'P000605', 'dis...   \n",
              "2  {'cosponsors': [], 'pagination': {'count': 0, ...   \n",
              "3  {'cosponsors': [{'bioguideId': 'K000380', 'dis...   \n",
              "4  {'cosponsors': [{'bioguideId': 'C001066', 'dis...   \n",
              "\n",
              "                                            subjects  \\\n",
              "0  {'pagination': {'count': 2}, 'request': {'bill...   \n",
              "1  {'pagination': {'count': 1}, 'request': {'bill...   \n",
              "2  {'pagination': {'count': 3}, 'request': {'bill...   \n",
              "3  {'pagination': {'count': 6}, 'request': {'bill...   \n",
              "4  {'pagination': {'count': 2}, 'request': {'bill...   \n",
              "\n",
              "                                                text  \\\n",
              "0  {'pagination': {'count': 1}, 'request': {'bill...   \n",
              "1  {'pagination': {'count': 1}, 'request': {'bill...   \n",
              "2  {'pagination': {'count': 3}, 'request': {'bill...   \n",
              "3  {'pagination': {'count': 1}, 'request': {'bill...   \n",
              "4  {'pagination': {'count': 1}, 'request': {'bill...   \n",
              "\n",
              "                                              titles congress_num legis_class  \\\n",
              "0  {'pagination': {'count': 2}, 'request': {'bill...          118     HCONRES   \n",
              "1  {'pagination': {'count': 2}, 'request': {'bill...          118     HCONRES   \n",
              "2  {'pagination': {'count': 2}, 'request': {'bill...          118     HCONRES   \n",
              "3  {'pagination': {'count': 2}, 'request': {'bill...          118     HCONRES   \n",
              "4  {'pagination': {'count': 2}, 'request': {'bill...          118     HCONRES   \n",
              "\n",
              "  legis_num                                   congress_gov_url  \n",
              "0         1  https://www.congress.gov/bill/118th-congress/h...  \n",
              "1        10  https://www.congress.gov/bill/118th-congress/h...  \n",
              "2        11  https://www.congress.gov/bill/118th-congress/h...  \n",
              "3        12  https://www.congress.gov/bill/118th-congress/h...  \n",
              "4        13  https://www.congress.gov/bill/118th-congress/h...  "
            ]
          },
          "execution_count": 16,
          "metadata": {},
          "output_type": "execute_result"
        }
      ],
      "source": [
        "df.head()"
      ]
    },
    {
      "cell_type": "code",
      "execution_count": 18,
      "metadata": {
        "id": "m4eSYiO5Ii9X"
      },
      "outputs": [
        {
          "data": {
            "text/plain": [
              "(51, 19)"
            ]
          },
          "execution_count": 18,
          "metadata": {},
          "output_type": "execute_result"
        }
      ],
      "source": [
        "df.shape"
      ]
    },
    {
      "attachments": {},
      "cell_type": "markdown",
      "metadata": {
        "id": "-HUxJ4XAFOaZ"
      },
      "source": [
        "# Sponsor Graph Sidequest\n",
        "\n",
        "[Notebook here:](https://github.com/FMurray/hyperdemocracy/blob/main/sidequests/sponsor_graph.ipynb)"
      ]
    },
    {
      "attachments": {},
      "cell_type": "markdown",
      "metadata": {
        "id": "5GM8DqH7Ojeu"
      },
      "source": [
        "# From Pandas Dataframe to Langchain Document\n",
        "\n",
        "TODO: Document me!\n",
        "\n",
        "TODO: Try loading directly from source with langchain HTML Document loader\n",
        "\n",
        "Langchain makes [UnstructuredText](https://unstructured-io.github.io/unstructured/examples.html)"
      ]
    },
    {
      "cell_type": "code",
      "execution_count": 19,
      "metadata": {
        "id": "DH58_PTsRJyD"
      },
      "outputs": [],
      "source": [
        "from langchain.schema import Document "
      ]
    },
    {
      "cell_type": "code",
      "execution_count": 20,
      "metadata": {
        "id": "cLHx06mHepKQ"
      },
      "outputs": [],
      "source": [
        "docs = []\n",
        "for irow, row in df.iterrows():\n",
        "    doc = Document(\n",
        "        page_content=row['body'],\n",
        "        metadata={\n",
        "            'key': row['key'],\n",
        "            'congress_num': row['congress_num'],\n",
        "            'legis_class': row['legis_class'],\n",
        "            'legis_num': row['legis_num'],\n",
        "            'name': row['name'],\n",
        "            'summary': row['summary'],\n",
        "            'source': row['congress_gov_url'],\n",
        "\n",
        "            # Note: chroma can only filter on float, str, or int\n",
        "            # https://docs.trychroma.com/usage-guide#using-where-filters\n",
        "\n",
        "            'sponsor': row['sponsors'][0][0],\n",
        "\n",
        "            # TODO: figure out how to break theme list up in a better way\n",
        "            'theme0': row['themes'][0] if row['themes'].size > 0 else \"\"\n",
        "        },\n",
        "    )\n",
        "    docs.append(doc)"
      ]
    },
    {
      "cell_type": "code",
      "execution_count": 22,
      "metadata": {
        "id": "2-fFRGsTUDGX"
      },
      "outputs": [
        {
          "data": {
            "text/html": [
              "<pre style=\"white-space:pre;overflow-x:auto;line-height:normal;font-family:Menlo,'DejaVu Sans Mono',consolas,'Courier New',monospace\"><span style=\"color: #800080; text-decoration-color: #800080; font-weight: bold\">Document</span><span style=\"font-weight: bold\">(</span>\n",
              "    <span style=\"color: #808000; text-decoration-color: #808000\">page_content</span>=<span style=\"color: #008000; text-decoration-color: #008000\">\"[Congressional Bills 118th Congress]\\n[From the U.S. Government Publishing Office]\\n[H.R. 2905 </span>\n",
              "<span style=\"color: #008000; text-decoration-color: #008000\">Introduced in House (IH)]\\n\\n&lt;DOC&gt;\\n\\n\\n\\n\\n\\n\\n118th CONGRESS\\n  1st Session\\n                                H. </span>\n",
              "<span style=\"color: #008000; text-decoration-color: #008000\">R. 2905\\n\\n To amend title 13, United States Code, to provide that individuals in \\nprison shall, for the purposes </span>\n",
              "<span style=\"color: #008000; text-decoration-color: #008000\">of a decennial census, be attributed to \\n the last usual place of residence before incarceration, and for other \\n</span>\n",
              "<span style=\"color: #008000; text-decoration-color: #008000\">purposes.\\n\\n\\n_______________________________________________________________________\\n\\n\\n                    IN </span>\n",
              "<span style=\"color: #008000; text-decoration-color: #008000\">THE HOUSE OF REPRESENTATIVES\\n\\n                             April 26, 2023\\n\\n    Ms. Ross (for herself, Mr. </span>\n",
              "<span style=\"color: #008000; text-decoration-color: #008000\">Pocan, Mr. Cleaver, and Mrs. Sykes) \\n introduced the following bill; which was referred to the Committee on \\n </span>\n",
              "<span style=\"color: #008000; text-decoration-color: #008000\">Oversight and Accountability, and in addition to the Committee on the \\n Judiciary, for a period to be subsequently</span>\n",
              "<span style=\"color: #008000; text-decoration-color: #008000\">determined by the Speaker, \\n in each case for consideration of such provisions as fall within the \\n              </span>\n",
              "<span style=\"color: #008000; text-decoration-color: #008000\">jurisdiction of the committee </span>\n",
              "<span style=\"color: #008000; text-decoration-color: #008000\">concerned\\n\\n_______________________________________________________________________\\n\\n                           </span>\n",
              "<span style=\"color: #008000; text-decoration-color: #008000\">A BILL\\n\\n\\n \\n To amend title 13, United States Code, to provide that individuals in \\nprison shall, for the </span>\n",
              "<span style=\"color: #008000; text-decoration-color: #008000\">purposes of a decennial census, be attributed to \\n the last usual place of residence before incarceration, and for</span>\n",
              "<span style=\"color: #008000; text-decoration-color: #008000\">other \\n                               purposes.\\n\\n    Be it enacted by the Senate and House of Representatives of</span>\n",
              "<span style=\"color: #008000; text-decoration-color: #008000\">the \\nUnited States of America in Congress assembled,\\n\\nSECTION 1. SHORT TITLE.\\n\\n    This Act may be cited as </span>\n",
              "<span style=\"color: #008000; text-decoration-color: #008000\">the ``End Prison Gerrymandering Act''.\\n\\nSEC. 2. RESIDENCE OF INCARCERATED INDIVIDUALS.\\n\\n    (a) </span>\n",
              "<span style=\"color: #008000; text-decoration-color: #008000\">Residence.--Section 141 of title 13, United States Code, is \\namended--\\n            (1) by redesignating </span>\n",
              "<span style=\"color: #008000; text-decoration-color: #008000\">subsection (g) as subsection (h); and\\n            (2) by inserting after subsection (f) the following:\\n    ``(g) </span>\n",
              "<span style=\"color: #008000; text-decoration-color: #008000\">Effective beginning with the 2030 decennial census of \\npopulation and every census thereafter, in taking any </span>\n",
              "<span style=\"color: #008000; text-decoration-color: #008000\">census of \\npopulation under subsection (a) the Secretary shall, with respect to an \\nindividual incarcerated in a </span>\n",
              "<span style=\"color: #008000; text-decoration-color: #008000\">State, Federal, county, or municipal \\ncorrectional facility, or in a youth correctional facility or detention </span>\n",
              "<span style=\"color: #008000; text-decoration-color: #008000\">\\ncenter, as of the decennial census date, attribute such individual to \\nsuch individual's last usual place of </span>\n",
              "<span style=\"color: #008000; text-decoration-color: #008000\">residence before \\nincarceration.''.\\n    (b) Use of Residence for Purposes of Congressional </span>\n",
              "<span style=\"color: #008000; text-decoration-color: #008000\">Redistricting.--\\nSection 22 of the Act entitled ``An Act to provide for the fifteenth \\nand subsequent decennial </span>\n",
              "<span style=\"color: #008000; text-decoration-color: #008000\">censuses and to provide for an apportionment \\nof Representatives in Congress'', approved June 18, 1929 (2 U.S.C. </span>\n",
              "<span style=\"color: #008000; text-decoration-color: #008000\">2a), \\nis amended by adding at the end the following new subsection:\\n    ``(d) If the tabulation of the number of </span>\n",
              "<span style=\"color: #008000; text-decoration-color: #008000\">persons in a State under \\nsubsection (a) includes an individual incarcerated in a State, Federal, \\ncounty, or </span>\n",
              "<span style=\"color: #008000; text-decoration-color: #008000\">municipal correctional facility, or in a youth correctional \\nfacility or detention center, who is treated as a </span>\n",
              "<span style=\"color: #008000; text-decoration-color: #008000\">resident of the State \\nbecause the tabulation attributes the individual to the individual's \\nlast usual place of </span>\n",
              "<span style=\"color: #008000; text-decoration-color: #008000\">residence before incarceration, as provided under \\nsection 141(g) of title 13, United States Code, the State shall</span>\n",
              "<span style=\"color: #008000; text-decoration-color: #008000\">treat \\nthe individual's last usual place of residence in the State before \\nincarceration as the individual's </span>\n",
              "<span style=\"color: #008000; text-decoration-color: #008000\">place of residence for purposes of \\ncongressional redistricting.''.\\n                                 &lt;all&gt;\\n\\n\"</span>,\n",
              "    <span style=\"color: #808000; text-decoration-color: #808000\">metadata</span>=<span style=\"font-weight: bold\">{</span>\n",
              "        <span style=\"color: #008000; text-decoration-color: #008000\">'key'</span>: <span style=\"color: #008000; text-decoration-color: #008000\">'118HR2905'</span>,\n",
              "        <span style=\"color: #008000; text-decoration-color: #008000\">'congress_num'</span>: <span style=\"color: #008000; text-decoration-color: #008000\">'118'</span>,\n",
              "        <span style=\"color: #008000; text-decoration-color: #008000\">'legis_class'</span>: <span style=\"color: #008000; text-decoration-color: #008000\">'HR'</span>,\n",
              "        <span style=\"color: #008000; text-decoration-color: #008000\">'legis_num'</span>: <span style=\"color: #008000; text-decoration-color: #008000\">'2905'</span>,\n",
              "        <span style=\"color: #008000; text-decoration-color: #008000\">'name'</span>: <span style=\"color: #008000; text-decoration-color: #008000\">'End Prison Gerrymandering Act'</span>,\n",
              "        <span style=\"color: #008000; text-decoration-color: #008000\">'summary'</span>: <span style=\"color: #008000; text-decoration-color: #008000\">\" End Prison Gerrymandering Act This bill requires the Bureau of the Census, beginning with the </span>\n",
              "<span style=\"color: #008000; text-decoration-color: #008000\">2030 decennial census, to attribute an individual incarcerated in a correctional facility or detention center to </span>\n",
              "<span style=\"color: #008000; text-decoration-color: #008000\">the individual's last place of residence before incarceration. Further, a state must treat such an individual's </span>\n",
              "<span style=\"color: #008000; text-decoration-color: #008000\">last place of residence in the state before incarceration as the individual's place of residence for purposes of </span>\n",
              "<span style=\"color: #008000; text-decoration-color: #008000\">congressional redistricting.\"</span>,\n",
              "        <span style=\"color: #008000; text-decoration-color: #008000\">'source'</span>: <span style=\"color: #008000; text-decoration-color: #008000\">'https://www.congress.gov/bill/118th-congress/house-bill/2905'</span>,\n",
              "        <span style=\"color: #008000; text-decoration-color: #008000\">'sponsor'</span>: <span style=\"color: #008000; text-decoration-color: #008000\">'R000305'</span>,\n",
              "        <span style=\"color: #008000; text-decoration-color: #008000\">'theme0'</span>: <span style=\"color: #008000; text-decoration-color: #008000\">'Government Operations and Politics'</span>\n",
              "    <span style=\"font-weight: bold\">}</span>\n",
              "<span style=\"font-weight: bold\">)</span>\n",
              "</pre>\n"
            ],
            "text/plain": [
              "\u001b[1;35mDocument\u001b[0m\u001b[1m(\u001b[0m\n",
              "    \u001b[33mpage_content\u001b[0m=\u001b[32m\"\u001b[0m\u001b[32m[\u001b[0m\u001b[32mCongressional Bills 118th Congress\u001b[0m\u001b[32m]\u001b[0m\u001b[32m\\n\u001b[0m\u001b[32m[\u001b[0m\u001b[32mFrom the U.S. Government Publishing Office\u001b[0m\u001b[32m]\u001b[0m\u001b[32m\\n\u001b[0m\u001b[32m[\u001b[0m\u001b[32mH.R. 2905 \u001b[0m\n",
              "\u001b[32mIntroduced in House \u001b[0m\u001b[32m(\u001b[0m\u001b[32mIH\u001b[0m\u001b[32m)\u001b[0m\u001b[32m]\u001b[0m\u001b[32m\\n\\n\u001b[0m\u001b[32m<\u001b[0m\u001b[32mDOC\u001b[0m\u001b[32m>\\n\\n\\n\\n\\n\\n\\n118th CONGRESS\\n  1st Session\\n                                H. \u001b[0m\n",
              "\u001b[32mR. 2905\\n\\n To amend title 13, United States Code, to provide that individuals in \\nprison shall, for the purposes \u001b[0m\n",
              "\u001b[32mof a decennial census, be attributed to \\n the last usual place of residence before incarceration, and for other \\n\u001b[0m\n",
              "\u001b[32mpurposes.\\n\\n\\n_______________________________________________________________________\\n\\n\\n                    IN \u001b[0m\n",
              "\u001b[32mTHE HOUSE OF REPRESENTATIVES\\n\\n                             April 26, 2023\\n\\n    Ms. Ross \u001b[0m\u001b[32m(\u001b[0m\u001b[32mfor herself, Mr. \u001b[0m\n",
              "\u001b[32mPocan, Mr. Cleaver, and Mrs. Sykes\u001b[0m\u001b[32m)\u001b[0m\u001b[32m \\n introduced the following bill; which was referred to the Committee on \\n \u001b[0m\n",
              "\u001b[32mOversight and Accountability, and in addition to the Committee on the \\n Judiciary, for a period to be subsequently\u001b[0m\n",
              "\u001b[32mdetermined by the Speaker, \\n in each case for consideration of such provisions as fall within the \\n              \u001b[0m\n",
              "\u001b[32mjurisdiction of the committee \u001b[0m\n",
              "\u001b[32mconcerned\\n\\n_______________________________________________________________________\\n\\n                           \u001b[0m\n",
              "\u001b[32mA BILL\\n\\n\\n \\n To amend title 13, United States Code, to provide that individuals in \\nprison shall, for the \u001b[0m\n",
              "\u001b[32mpurposes of a decennial census, be attributed to \\n the last usual place of residence before incarceration, and for\u001b[0m\n",
              "\u001b[32mother \\n                               purposes.\\n\\n    Be it enacted by the Senate and House of Representatives of\u001b[0m\n",
              "\u001b[32mthe \\nUnited States of America in Congress assembled,\\n\\nSECTION 1. SHORT TITLE.\\n\\n    This Act may be cited as \u001b[0m\n",
              "\u001b[32mthe ``End Prison Gerrymandering Act''.\\n\\nSEC. 2. RESIDENCE OF INCARCERATED INDIVIDUALS.\\n\\n    \u001b[0m\u001b[32m(\u001b[0m\u001b[32ma\u001b[0m\u001b[32m)\u001b[0m\u001b[32m \u001b[0m\n",
              "\u001b[32mResidence.--Section 141 of title 13, United States Code, is \\namended--\\n            \u001b[0m\u001b[32m(\u001b[0m\u001b[32m1\u001b[0m\u001b[32m)\u001b[0m\u001b[32m by redesignating \u001b[0m\n",
              "\u001b[32msubsection \u001b[0m\u001b[32m(\u001b[0m\u001b[32mg\u001b[0m\u001b[32m)\u001b[0m\u001b[32m as subsection \u001b[0m\u001b[32m(\u001b[0m\u001b[32mh\u001b[0m\u001b[32m)\u001b[0m\u001b[32m; and\\n            \u001b[0m\u001b[32m(\u001b[0m\u001b[32m2\u001b[0m\u001b[32m)\u001b[0m\u001b[32m by inserting after subsection \u001b[0m\u001b[32m(\u001b[0m\u001b[32mf\u001b[0m\u001b[32m)\u001b[0m\u001b[32m the following:\\n    ``\u001b[0m\u001b[32m(\u001b[0m\u001b[32mg\u001b[0m\u001b[32m)\u001b[0m\u001b[32m \u001b[0m\n",
              "\u001b[32mEffective beginning with the 2030 decennial census of \\npopulation and every census thereafter, in taking any \u001b[0m\n",
              "\u001b[32mcensus of \\npopulation under subsection \u001b[0m\u001b[32m(\u001b[0m\u001b[32ma\u001b[0m\u001b[32m)\u001b[0m\u001b[32m the Secretary shall, with respect to an \\nindividual incarcerated in a \u001b[0m\n",
              "\u001b[32mState, Federal, county, or municipal \\ncorrectional facility, or in a youth correctional facility or detention \u001b[0m\n",
              "\u001b[32m\\ncenter, as of the decennial census date, attribute such individual to \\nsuch individual's last usual place of \u001b[0m\n",
              "\u001b[32mresidence before \\nincarceration.''.\\n    \u001b[0m\u001b[32m(\u001b[0m\u001b[32mb\u001b[0m\u001b[32m)\u001b[0m\u001b[32m Use of Residence for Purposes of Congressional \u001b[0m\n",
              "\u001b[32mRedistricting.--\\nSection 22 of the Act entitled ``An Act to provide for the fifteenth \\nand subsequent decennial \u001b[0m\n",
              "\u001b[32mcensuses and to provide for an apportionment \\nof Representatives in Congress'', approved June 18, 1929 \u001b[0m\u001b[32m(\u001b[0m\u001b[32m2 U.S.C. \u001b[0m\n",
              "\u001b[32m2a\u001b[0m\u001b[32m)\u001b[0m\u001b[32m, \\nis amended by adding at the end the following new subsection:\\n    ``\u001b[0m\u001b[32m(\u001b[0m\u001b[32md\u001b[0m\u001b[32m)\u001b[0m\u001b[32m If the tabulation of the number of \u001b[0m\n",
              "\u001b[32mpersons in a State under \\nsubsection \u001b[0m\u001b[32m(\u001b[0m\u001b[32ma\u001b[0m\u001b[32m)\u001b[0m\u001b[32m includes an individual incarcerated in a State, Federal, \\ncounty, or \u001b[0m\n",
              "\u001b[32mmunicipal correctional facility, or in a youth correctional \\nfacility or detention center, who is treated as a \u001b[0m\n",
              "\u001b[32mresident of the State \\nbecause the tabulation attributes the individual to the individual's \\nlast usual place of \u001b[0m\n",
              "\u001b[32mresidence before incarceration, as provided under \\nsection 141\u001b[0m\u001b[32m(\u001b[0m\u001b[32mg\u001b[0m\u001b[32m)\u001b[0m\u001b[32m of title 13, United States Code, the State shall\u001b[0m\n",
              "\u001b[32mtreat \\nthe individual's last usual place of residence in the State before \\nincarceration as the individual's \u001b[0m\n",
              "\u001b[32mplace of residence for purposes of \\ncongressional redistricting.''.\\n                                 <all\u001b[0m\u001b[32m>\u001b[0m\u001b[32m\\n\\n\"\u001b[0m,\n",
              "    \u001b[33mmetadata\u001b[0m=\u001b[1m{\u001b[0m\n",
              "        \u001b[32m'key'\u001b[0m: \u001b[32m'118HR2905'\u001b[0m,\n",
              "        \u001b[32m'congress_num'\u001b[0m: \u001b[32m'118'\u001b[0m,\n",
              "        \u001b[32m'legis_class'\u001b[0m: \u001b[32m'HR'\u001b[0m,\n",
              "        \u001b[32m'legis_num'\u001b[0m: \u001b[32m'2905'\u001b[0m,\n",
              "        \u001b[32m'name'\u001b[0m: \u001b[32m'End Prison Gerrymandering Act'\u001b[0m,\n",
              "        \u001b[32m'summary'\u001b[0m: \u001b[32m\" End Prison Gerrymandering Act This bill requires the Bureau of the Census, beginning with the \u001b[0m\n",
              "\u001b[32m2030 decennial census, to attribute an individual incarcerated in a correctional facility or detention center to \u001b[0m\n",
              "\u001b[32mthe individual's last place of residence before incarceration. Further, a state must treat such an individual's \u001b[0m\n",
              "\u001b[32mlast place of residence in the state before incarceration as the individual's place of residence for purposes of \u001b[0m\n",
              "\u001b[32mcongressional redistricting.\"\u001b[0m,\n",
              "        \u001b[32m'source'\u001b[0m: \u001b[32m'https://www.congress.gov/bill/118th-congress/house-bill/2905'\u001b[0m,\n",
              "        \u001b[32m'sponsor'\u001b[0m: \u001b[32m'R000305'\u001b[0m,\n",
              "        \u001b[32m'theme0'\u001b[0m: \u001b[32m'Government Operations and Politics'\u001b[0m\n",
              "    \u001b[1m}\u001b[0m\n",
              "\u001b[1m)\u001b[0m\n"
            ]
          },
          "metadata": {},
          "output_type": "display_data"
        }
      ],
      "source": [
        "rich.print(doc)"
      ]
    },
    {
      "cell_type": "code",
      "execution_count": 23,
      "metadata": {
        "id": "fceFBIiDRcZk"
      },
      "outputs": [
        {
          "data": {
            "text/html": [
              "<pre style=\"white-space:pre;overflow-x:auto;line-height:normal;font-family:Menlo,'DejaVu Sans Mono',consolas,'Courier New',monospace\"><span style=\"font-weight: bold\">[</span>Congressional Bills 118th Congress<span style=\"font-weight: bold\">]</span>\n",
              "<span style=\"font-weight: bold\">[</span>From the U.S. Government Publishing Office<span style=\"font-weight: bold\">]</span>\n",
              "<span style=\"font-weight: bold\">[</span>H.R. <span style=\"color: #008080; text-decoration-color: #008080; font-weight: bold\">2905</span> Introduced in House <span style=\"font-weight: bold\">(</span>IH<span style=\"font-weight: bold\">)]</span>\n",
              "\n",
              "<span style=\"font-weight: bold\">&lt;</span><span style=\"color: #ff00ff; text-decoration-color: #ff00ff; font-weight: bold\">DOC</span><span style=\"color: #000000; text-decoration-color: #000000\">&gt;</span>\n",
              "\n",
              "\n",
              "\n",
              "\n",
              "\n",
              "\n",
              "<span style=\"color: #000000; text-decoration-color: #000000\">118th CONGRESS</span>\n",
              "<span style=\"color: #000000; text-decoration-color: #000000\">  1st Session</span>\n",
              "<span style=\"color: #000000; text-decoration-color: #000000\">                                H. R. </span><span style=\"color: #008080; text-decoration-color: #008080; font-weight: bold\">2905</span>\n",
              "\n",
              "<span style=\"color: #000000; text-decoration-color: #000000\"> To amend title </span><span style=\"color: #008080; text-decoration-color: #008080; font-weight: bold\">13</span><span style=\"color: #000000; text-decoration-color: #000000\">, United States Code, to provide that individuals in </span>\n",
              "<span style=\"color: #000000; text-decoration-color: #000000\">prison shall, for the purposes of a decennial census, be attributed to </span>\n",
              "<span style=\"color: #000000; text-decoration-color: #000000\"> the last usual place of residence before incarceration, and for other </span>\n",
              "<span style=\"color: #000000; text-decoration-color: #000000\">                               purposes.</span>\n",
              "\n",
              "\n",
              "<span style=\"color: #000000; text-decoration-color: #000000\">_______________________________________________________________________</span>\n",
              "\n",
              "\n",
              "<span style=\"color: #000000; text-decoration-color: #000000\">                    IN THE HOUSE OF REPRESENTATIVES</span>\n",
              "\n",
              "<span style=\"color: #000000; text-decoration-color: #000000\">                             April </span><span style=\"color: #008080; text-decoration-color: #008080; font-weight: bold\">26</span><span style=\"color: #000000; text-decoration-color: #000000\">, </span><span style=\"color: #008080; text-decoration-color: #008080; font-weight: bold\">2023</span>\n",
              "\n",
              "<span style=\"color: #000000; text-decoration-color: #000000\">    Ms. Ross </span><span style=\"color: #000000; text-decoration-color: #000000; font-weight: bold\">(</span><span style=\"color: #000000; text-decoration-color: #000000\">for herself, Mr. Pocan, Mr. Cleaver, and Mrs. Sykes</span><span style=\"color: #000000; text-decoration-color: #000000; font-weight: bold\">)</span><span style=\"color: #000000; text-decoration-color: #000000\"> </span>\n",
              "<span style=\"color: #000000; text-decoration-color: #000000\"> introduced the following bill; which was referred to the Committee on </span>\n",
              "<span style=\"color: #000000; text-decoration-color: #000000\"> Oversight and Accountability, and in addition to the Committee on the </span>\n",
              "<span style=\"color: #000000; text-decoration-color: #000000\"> Judiciary, for a period to be subsequently determined by the Speaker, </span>\n",
              "<span style=\"color: #000000; text-decoration-color: #000000\"> in each case for consideration of such provisions as fall within the </span>\n",
              "<span style=\"color: #000000; text-decoration-color: #000000\">                jurisdiction of the committee concerned</span>\n",
              "\n",
              "<span style=\"color: #000000; text-decoration-color: #000000\">_______________________________________________________________________</span>\n",
              "\n",
              "<span style=\"color: #000000; text-decoration-color: #000000\">                                 A BILL</span>\n",
              "\n",
              "\n",
              "<span style=\"color: #000000; text-decoration-color: #000000\"> </span>\n",
              "<span style=\"color: #000000; text-decoration-color: #000000\"> To amend title </span><span style=\"color: #008080; text-decoration-color: #008080; font-weight: bold\">13</span><span style=\"color: #000000; text-decoration-color: #000000\">, United States Code, to provide that individuals in </span>\n",
              "<span style=\"color: #000000; text-decoration-color: #000000\">prison shall, for the purposes of a decennial census, be attributed to </span>\n",
              "<span style=\"color: #000000; text-decoration-color: #000000\"> the last usual place of residence before incarceration, and for other </span>\n",
              "<span style=\"color: #000000; text-decoration-color: #000000\">                               purposes.</span>\n",
              "\n",
              "<span style=\"color: #000000; text-decoration-color: #000000\">    Be it enacted by the Senate and House of Representatives of the </span>\n",
              "<span style=\"color: #000000; text-decoration-color: #000000\">United States of America in Congress assembled,</span>\n",
              "\n",
              "<span style=\"color: #000000; text-decoration-color: #000000\">SECTION </span><span style=\"color: #008080; text-decoration-color: #008080; font-weight: bold\">1</span><span style=\"color: #000000; text-decoration-color: #000000\">. SHORT TITLE.</span>\n",
              "\n",
              "<span style=\"color: #000000; text-decoration-color: #000000\">    This Act may be cited as the ``End Prison Gerrymandering Act''.</span>\n",
              "\n",
              "<span style=\"color: #000000; text-decoration-color: #000000\">SEC. </span><span style=\"color: #008080; text-decoration-color: #008080; font-weight: bold\">2</span><span style=\"color: #000000; text-decoration-color: #000000\">. RESIDENCE OF INCARCERATED INDIVIDUALS.</span>\n",
              "\n",
              "<span style=\"color: #000000; text-decoration-color: #000000\">    </span><span style=\"color: #000000; text-decoration-color: #000000; font-weight: bold\">(</span><span style=\"color: #000000; text-decoration-color: #000000\">a</span><span style=\"color: #000000; text-decoration-color: #000000; font-weight: bold\">)</span><span style=\"color: #000000; text-decoration-color: #000000\"> Residence.--Section </span><span style=\"color: #008080; text-decoration-color: #008080; font-weight: bold\">141</span><span style=\"color: #000000; text-decoration-color: #000000\"> of title </span><span style=\"color: #008080; text-decoration-color: #008080; font-weight: bold\">13</span><span style=\"color: #000000; text-decoration-color: #000000\">, United States Code, is </span>\n",
              "<span style=\"color: #000000; text-decoration-color: #000000\">amended--</span>\n",
              "<span style=\"color: #000000; text-decoration-color: #000000\">            </span><span style=\"color: #000000; text-decoration-color: #000000; font-weight: bold\">(</span><span style=\"color: #008080; text-decoration-color: #008080; font-weight: bold\">1</span><span style=\"color: #000000; text-decoration-color: #000000; font-weight: bold\">)</span><span style=\"color: #000000; text-decoration-color: #000000\"> by redesignating subsection </span><span style=\"color: #000000; text-decoration-color: #000000; font-weight: bold\">(</span><span style=\"color: #000000; text-decoration-color: #000000\">g</span><span style=\"color: #000000; text-decoration-color: #000000; font-weight: bold\">)</span><span style=\"color: #000000; text-decoration-color: #000000\"> as subsection </span><span style=\"color: #000000; text-decoration-color: #000000; font-weight: bold\">(</span><span style=\"color: #000000; text-decoration-color: #000000\">h</span><span style=\"color: #000000; text-decoration-color: #000000; font-weight: bold\">)</span><span style=\"color: #000000; text-decoration-color: #000000\">; and</span>\n",
              "<span style=\"color: #000000; text-decoration-color: #000000\">            </span><span style=\"color: #000000; text-decoration-color: #000000; font-weight: bold\">(</span><span style=\"color: #008080; text-decoration-color: #008080; font-weight: bold\">2</span><span style=\"color: #000000; text-decoration-color: #000000; font-weight: bold\">)</span><span style=\"color: #000000; text-decoration-color: #000000\"> by inserting after subsection </span><span style=\"color: #000000; text-decoration-color: #000000; font-weight: bold\">(</span><span style=\"color: #000000; text-decoration-color: #000000\">f</span><span style=\"color: #000000; text-decoration-color: #000000; font-weight: bold\">)</span><span style=\"color: #000000; text-decoration-color: #000000\"> the following:</span>\n",
              "<span style=\"color: #000000; text-decoration-color: #000000\">    ``</span><span style=\"color: #000000; text-decoration-color: #000000; font-weight: bold\">(</span><span style=\"color: #000000; text-decoration-color: #000000\">g</span><span style=\"color: #000000; text-decoration-color: #000000; font-weight: bold\">)</span><span style=\"color: #000000; text-decoration-color: #000000\"> Effective beginning with the </span><span style=\"color: #008080; text-decoration-color: #008080; font-weight: bold\">2030</span><span style=\"color: #000000; text-decoration-color: #000000\"> decennial census of </span>\n",
              "<span style=\"color: #000000; text-decoration-color: #000000\">population and every census thereafter, in taking any census of </span>\n",
              "<span style=\"color: #000000; text-decoration-color: #000000\">population under subsection </span><span style=\"color: #000000; text-decoration-color: #000000; font-weight: bold\">(</span><span style=\"color: #000000; text-decoration-color: #000000\">a</span><span style=\"color: #000000; text-decoration-color: #000000; font-weight: bold\">)</span><span style=\"color: #000000; text-decoration-color: #000000\"> the Secretary shall, with respect to an </span>\n",
              "<span style=\"color: #000000; text-decoration-color: #000000\">individual incarcerated in a State, Federal, county, or municipal </span>\n",
              "<span style=\"color: #000000; text-decoration-color: #000000\">correctional facility, or in a youth correctional facility or detention </span>\n",
              "<span style=\"color: #000000; text-decoration-color: #000000\">center, as of the decennial census date, attribute such individual to </span>\n",
              "<span style=\"color: #000000; text-decoration-color: #000000\">such individual's last usual place of residence before </span>\n",
              "<span style=\"color: #000000; text-decoration-color: #000000\">incarceration.</span><span style=\"color: #008000; text-decoration-color: #008000\">''</span><span style=\"color: #000000; text-decoration-color: #000000\">.</span>\n",
              "<span style=\"color: #000000; text-decoration-color: #000000\">    </span><span style=\"color: #000000; text-decoration-color: #000000; font-weight: bold\">(</span><span style=\"color: #000000; text-decoration-color: #000000\">b</span><span style=\"color: #000000; text-decoration-color: #000000; font-weight: bold\">)</span><span style=\"color: #000000; text-decoration-color: #000000\"> Use of Residence for Purposes of Congressional Redistricting.--</span>\n",
              "<span style=\"color: #000000; text-decoration-color: #000000\">Section </span><span style=\"color: #008080; text-decoration-color: #008080; font-weight: bold\">22</span><span style=\"color: #000000; text-decoration-color: #000000\"> of the Act entitled ``An Act to provide for the fifteenth </span>\n",
              "<span style=\"color: #000000; text-decoration-color: #000000\">and subsequent decennial censuses and to provide for an apportionment </span>\n",
              "<span style=\"color: #000000; text-decoration-color: #000000\">of Representatives in Congress'', approved June </span><span style=\"color: #008080; text-decoration-color: #008080; font-weight: bold\">18</span><span style=\"color: #000000; text-decoration-color: #000000\">, </span><span style=\"color: #008080; text-decoration-color: #008080; font-weight: bold\">1929</span><span style=\"color: #000000; text-decoration-color: #000000\"> </span><span style=\"color: #000000; text-decoration-color: #000000; font-weight: bold\">(</span><span style=\"color: #008080; text-decoration-color: #008080; font-weight: bold\">2</span><span style=\"color: #000000; text-decoration-color: #000000\"> U.S.C. 2a</span><span style=\"color: #000000; text-decoration-color: #000000; font-weight: bold\">)</span><span style=\"color: #000000; text-decoration-color: #000000\">, </span>\n",
              "<span style=\"color: #000000; text-decoration-color: #000000\">is amended by adding at the end the following new subsection:</span>\n",
              "<span style=\"color: #000000; text-decoration-color: #000000\">    ``</span><span style=\"color: #000000; text-decoration-color: #000000; font-weight: bold\">(</span><span style=\"color: #000000; text-decoration-color: #000000\">d</span><span style=\"color: #000000; text-decoration-color: #000000; font-weight: bold\">)</span><span style=\"color: #000000; text-decoration-color: #000000\"> If the tabulation of the number of persons in a State under </span>\n",
              "<span style=\"color: #000000; text-decoration-color: #000000\">subsection </span><span style=\"color: #000000; text-decoration-color: #000000; font-weight: bold\">(</span><span style=\"color: #000000; text-decoration-color: #000000\">a</span><span style=\"color: #000000; text-decoration-color: #000000; font-weight: bold\">)</span><span style=\"color: #000000; text-decoration-color: #000000\"> includes an individual incarcerated in a State, Federal, </span>\n",
              "<span style=\"color: #000000; text-decoration-color: #000000\">county, or municipal correctional facility, or in a youth correctional </span>\n",
              "<span style=\"color: #000000; text-decoration-color: #000000\">facility or detention center, who is treated as a resident of the State </span>\n",
              "<span style=\"color: #000000; text-decoration-color: #000000\">because the tabulation attributes the individual to the individual's </span>\n",
              "<span style=\"color: #000000; text-decoration-color: #000000\">last usual place of residence before incarceration, as provided under </span>\n",
              "<span style=\"color: #000000; text-decoration-color: #000000\">section </span><span style=\"color: #800080; text-decoration-color: #800080; font-weight: bold\">141</span><span style=\"color: #000000; text-decoration-color: #000000; font-weight: bold\">(</span><span style=\"color: #000000; text-decoration-color: #000000\">g</span><span style=\"color: #000000; text-decoration-color: #000000; font-weight: bold\">)</span><span style=\"color: #000000; text-decoration-color: #000000\"> of title </span><span style=\"color: #008080; text-decoration-color: #008080; font-weight: bold\">13</span><span style=\"color: #000000; text-decoration-color: #000000\">, United States Code, the State shall treat </span>\n",
              "<span style=\"color: #000000; text-decoration-color: #000000\">the individual's last usual place of residence in the State before </span>\n",
              "<span style=\"color: #000000; text-decoration-color: #000000\">incarceration as the individual's place of residence for purposes of </span>\n",
              "<span style=\"color: #000000; text-decoration-color: #000000\">congressional redistricting.</span><span style=\"color: #008000; text-decoration-color: #008000\">''</span><span style=\"color: #000000; text-decoration-color: #000000\">.</span>\n",
              "<span style=\"color: #000000; text-decoration-color: #000000\">                                 &lt;all</span><span style=\"font-weight: bold\">&gt;</span>\n",
              "\n",
              "\n",
              "</pre>\n"
            ],
            "text/plain": [
              "\u001b[1m[\u001b[0mCongressional Bills 118th Congress\u001b[1m]\u001b[0m\n",
              "\u001b[1m[\u001b[0mFrom the U.S. Government Publishing Office\u001b[1m]\u001b[0m\n",
              "\u001b[1m[\u001b[0mH.R. \u001b[1;36m2905\u001b[0m Introduced in House \u001b[1m(\u001b[0mIH\u001b[1m)\u001b[0m\u001b[1m]\u001b[0m\n",
              "\n",
              "\u001b[1m<\u001b[0m\u001b[1;95mDOC\u001b[0m\u001b[39m>\u001b[0m\n",
              "\n",
              "\n",
              "\n",
              "\n",
              "\n",
              "\n",
              "\u001b[39m118th CONGRESS\u001b[0m\n",
              "\u001b[39m  1st Session\u001b[0m\n",
              "\u001b[39m                                H. R. \u001b[0m\u001b[1;36m2905\u001b[0m\n",
              "\n",
              "\u001b[39m To amend title \u001b[0m\u001b[1;36m13\u001b[0m\u001b[39m, United States Code, to provide that individuals in \u001b[0m\n",
              "\u001b[39mprison shall, for the purposes of a decennial census, be attributed to \u001b[0m\n",
              "\u001b[39m the last usual place of residence before incarceration, and for other \u001b[0m\n",
              "\u001b[39m                               purposes.\u001b[0m\n",
              "\n",
              "\n",
              "\u001b[39m_______________________________________________________________________\u001b[0m\n",
              "\n",
              "\n",
              "\u001b[39m                    IN THE HOUSE OF REPRESENTATIVES\u001b[0m\n",
              "\n",
              "\u001b[39m                             April \u001b[0m\u001b[1;36m26\u001b[0m\u001b[39m, \u001b[0m\u001b[1;36m2023\u001b[0m\n",
              "\n",
              "\u001b[39m    Ms. Ross \u001b[0m\u001b[1;39m(\u001b[0m\u001b[39mfor herself, Mr. Pocan, Mr. Cleaver, and Mrs. Sykes\u001b[0m\u001b[1;39m)\u001b[0m\u001b[39m \u001b[0m\n",
              "\u001b[39m introduced the following bill; which was referred to the Committee on \u001b[0m\n",
              "\u001b[39m Oversight and Accountability, and in addition to the Committee on the \u001b[0m\n",
              "\u001b[39m Judiciary, for a period to be subsequently determined by the Speaker, \u001b[0m\n",
              "\u001b[39m in each case for consideration of such provisions as fall within the \u001b[0m\n",
              "\u001b[39m                jurisdiction of the committee concerned\u001b[0m\n",
              "\n",
              "\u001b[39m_______________________________________________________________________\u001b[0m\n",
              "\n",
              "\u001b[39m                                 A BILL\u001b[0m\n",
              "\n",
              "\n",
              "\u001b[39m \u001b[0m\n",
              "\u001b[39m To amend title \u001b[0m\u001b[1;36m13\u001b[0m\u001b[39m, United States Code, to provide that individuals in \u001b[0m\n",
              "\u001b[39mprison shall, for the purposes of a decennial census, be attributed to \u001b[0m\n",
              "\u001b[39m the last usual place of residence before incarceration, and for other \u001b[0m\n",
              "\u001b[39m                               purposes.\u001b[0m\n",
              "\n",
              "\u001b[39m    Be it enacted by the Senate and House of Representatives of the \u001b[0m\n",
              "\u001b[39mUnited States of America in Congress assembled,\u001b[0m\n",
              "\n",
              "\u001b[39mSECTION \u001b[0m\u001b[1;36m1\u001b[0m\u001b[39m. SHORT TITLE.\u001b[0m\n",
              "\n",
              "\u001b[39m    This Act may be cited as the ``End Prison Gerrymandering Act''.\u001b[0m\n",
              "\n",
              "\u001b[39mSEC. \u001b[0m\u001b[1;36m2\u001b[0m\u001b[39m. RESIDENCE OF INCARCERATED INDIVIDUALS.\u001b[0m\n",
              "\n",
              "\u001b[39m    \u001b[0m\u001b[1;39m(\u001b[0m\u001b[39ma\u001b[0m\u001b[1;39m)\u001b[0m\u001b[39m Residence.--Section \u001b[0m\u001b[1;36m141\u001b[0m\u001b[39m of title \u001b[0m\u001b[1;36m13\u001b[0m\u001b[39m, United States Code, is \u001b[0m\n",
              "\u001b[39mamended--\u001b[0m\n",
              "\u001b[39m            \u001b[0m\u001b[1;39m(\u001b[0m\u001b[1;36m1\u001b[0m\u001b[1;39m)\u001b[0m\u001b[39m by redesignating subsection \u001b[0m\u001b[1;39m(\u001b[0m\u001b[39mg\u001b[0m\u001b[1;39m)\u001b[0m\u001b[39m as subsection \u001b[0m\u001b[1;39m(\u001b[0m\u001b[39mh\u001b[0m\u001b[1;39m)\u001b[0m\u001b[39m; and\u001b[0m\n",
              "\u001b[39m            \u001b[0m\u001b[1;39m(\u001b[0m\u001b[1;36m2\u001b[0m\u001b[1;39m)\u001b[0m\u001b[39m by inserting after subsection \u001b[0m\u001b[1;39m(\u001b[0m\u001b[39mf\u001b[0m\u001b[1;39m)\u001b[0m\u001b[39m the following:\u001b[0m\n",
              "\u001b[39m    ``\u001b[0m\u001b[1;39m(\u001b[0m\u001b[39mg\u001b[0m\u001b[1;39m)\u001b[0m\u001b[39m Effective beginning with the \u001b[0m\u001b[1;36m2030\u001b[0m\u001b[39m decennial census of \u001b[0m\n",
              "\u001b[39mpopulation and every census thereafter, in taking any census of \u001b[0m\n",
              "\u001b[39mpopulation under subsection \u001b[0m\u001b[1;39m(\u001b[0m\u001b[39ma\u001b[0m\u001b[1;39m)\u001b[0m\u001b[39m the Secretary shall, with respect to an \u001b[0m\n",
              "\u001b[39mindividual incarcerated in a State, Federal, county, or municipal \u001b[0m\n",
              "\u001b[39mcorrectional facility, or in a youth correctional facility or detention \u001b[0m\n",
              "\u001b[39mcenter, as of the decennial census date, attribute such individual to \u001b[0m\n",
              "\u001b[39msuch individual's last usual place of residence before \u001b[0m\n",
              "\u001b[39mincarceration.\u001b[0m\u001b[32m''\u001b[0m\u001b[39m.\u001b[0m\n",
              "\u001b[39m    \u001b[0m\u001b[1;39m(\u001b[0m\u001b[39mb\u001b[0m\u001b[1;39m)\u001b[0m\u001b[39m Use of Residence for Purposes of Congressional Redistricting.--\u001b[0m\n",
              "\u001b[39mSection \u001b[0m\u001b[1;36m22\u001b[0m\u001b[39m of the Act entitled ``An Act to provide for the fifteenth \u001b[0m\n",
              "\u001b[39mand subsequent decennial censuses and to provide for an apportionment \u001b[0m\n",
              "\u001b[39mof Representatives in Congress'', approved June \u001b[0m\u001b[1;36m18\u001b[0m\u001b[39m, \u001b[0m\u001b[1;36m1929\u001b[0m\u001b[39m \u001b[0m\u001b[1;39m(\u001b[0m\u001b[1;36m2\u001b[0m\u001b[39m U.S.C. 2a\u001b[0m\u001b[1;39m)\u001b[0m\u001b[39m, \u001b[0m\n",
              "\u001b[39mis amended by adding at the end the following new subsection:\u001b[0m\n",
              "\u001b[39m    ``\u001b[0m\u001b[1;39m(\u001b[0m\u001b[39md\u001b[0m\u001b[1;39m)\u001b[0m\u001b[39m If the tabulation of the number of persons in a State under \u001b[0m\n",
              "\u001b[39msubsection \u001b[0m\u001b[1;39m(\u001b[0m\u001b[39ma\u001b[0m\u001b[1;39m)\u001b[0m\u001b[39m includes an individual incarcerated in a State, Federal, \u001b[0m\n",
              "\u001b[39mcounty, or municipal correctional facility, or in a youth correctional \u001b[0m\n",
              "\u001b[39mfacility or detention center, who is treated as a resident of the State \u001b[0m\n",
              "\u001b[39mbecause the tabulation attributes the individual to the individual's \u001b[0m\n",
              "\u001b[39mlast usual place of residence before incarceration, as provided under \u001b[0m\n",
              "\u001b[39msection \u001b[0m\u001b[1;35m141\u001b[0m\u001b[1;39m(\u001b[0m\u001b[39mg\u001b[0m\u001b[1;39m)\u001b[0m\u001b[39m of title \u001b[0m\u001b[1;36m13\u001b[0m\u001b[39m, United States Code, the State shall treat \u001b[0m\n",
              "\u001b[39mthe individual's last usual place of residence in the State before \u001b[0m\n",
              "\u001b[39mincarceration as the individual's place of residence for purposes of \u001b[0m\n",
              "\u001b[39mcongressional redistricting.\u001b[0m\u001b[32m''\u001b[0m\u001b[39m.\u001b[0m\n",
              "\u001b[39m                                 <all\u001b[0m\u001b[1m>\u001b[0m\n",
              "\n",
              "\n"
            ]
          },
          "metadata": {},
          "output_type": "display_data"
        }
      ],
      "source": [
        "rich.print(doc.page_content)"
      ]
    },
    {
      "cell_type": "code",
      "execution_count": 24,
      "metadata": {
        "id": "siRiWjCyj63F"
      },
      "outputs": [
        {
          "name": "stdout",
          "output_type": "stream",
          "text": [
            "51\n"
          ]
        }
      ],
      "source": [
        "print(len(docs))"
      ]
    },
    {
      "cell_type": "code",
      "execution_count": 25,
      "metadata": {
        "id": "cz9jEQxQKRO_"
      },
      "outputs": [
        {
          "data": {
            "text/plain": [
              "{'key': '118HR2905',\n",
              " 'congress_num': '118',\n",
              " 'legis_class': 'HR',\n",
              " 'legis_num': '2905',\n",
              " 'name': 'End Prison Gerrymandering Act',\n",
              " 'summary': \" End Prison Gerrymandering Act This bill requires the Bureau of the Census, beginning with the 2030 decennial census, to attribute an individual incarcerated in a correctional facility or detention center to the individual's last place of residence before incarceration. Further, a state must treat such an individual's last place of residence in the state before incarceration as the individual's place of residence for purposes of congressional redistricting.\",\n",
              " 'source': 'https://www.congress.gov/bill/118th-congress/house-bill/2905',\n",
              " 'sponsor': 'R000305',\n",
              " 'theme0': 'Government Operations and Politics'}"
            ]
          },
          "execution_count": 25,
          "metadata": {},
          "output_type": "execute_result"
        }
      ],
      "source": [
        "doc.metadata"
      ]
    },
    {
      "attachments": {},
      "cell_type": "markdown",
      "metadata": {
        "id": "pVPwxKHLA3fC"
      },
      "source": [
        "# Document QA Quickstart\n",
        "\n",
        "https://python.langchain.com/en/latest/modules/indexes/getting_started.html\n",
        "\n",
        "TODO: What is DocumentQA? "
      ]
    },
    {
      "attachments": {},
      "cell_type": "markdown",
      "metadata": {
        "id": "sLwzn1qKTGMG"
      },
      "source": [
        "# Introducing indexes\n",
        "\n",
        "TODO: What are indexes?"
      ]
    },
    {
      "cell_type": "code",
      "execution_count": 26,
      "metadata": {
        "id": "PBZermt7U07_"
      },
      "outputs": [],
      "source": [
        "from langchain.indexes import VectorstoreIndexCreator"
      ]
    },
    {
      "cell_type": "code",
      "execution_count": 27,
      "metadata": {
        "id": "OZyffFybguTs"
      },
      "outputs": [],
      "source": [
        "index = VectorstoreIndexCreator().from_documents(docs)"
      ]
    },
    {
      "cell_type": "code",
      "execution_count": 28,
      "metadata": {
        "id": "ttsIeAUNg4zH"
      },
      "outputs": [
        {
          "data": {
            "text/plain": [
              "VectorStoreIndexWrapper(vectorstore=<langchain.vectorstores.chroma.Chroma object at 0x28eba6950>)"
            ]
          },
          "execution_count": 28,
          "metadata": {},
          "output_type": "execute_result"
        }
      ],
      "source": [
        "index"
      ]
    },
    {
      "cell_type": "code",
      "execution_count": 29,
      "metadata": {
        "id": "8XukLCIikWVp"
      },
      "outputs": [],
      "source": [
        "query = \"What are the primary themes around energy policy?\""
      ]
    },
    {
      "attachments": {},
      "cell_type": "markdown",
      "metadata": {
        "id": "GmXVY7PRUiLX"
      },
      "source": [
        "Try some other questions for yourself!"
      ]
    },
    {
      "cell_type": "code",
      "execution_count": 30,
      "metadata": {
        "id": "2mVw_W-mn2zF"
      },
      "outputs": [
        {
          "data": {
            "text/plain": [
              "' The primary themes around energy policy are reducing carbon emissions, embracing and accepting nuclear power as a clean baseload energy source, boosting the renewable energy economy, and avoiding overly restrictive regulations on the exploration, production, or marketing of energy resources.'"
            ]
          },
          "execution_count": 30,
          "metadata": {},
          "output_type": "execute_result"
        }
      ],
      "source": [
        "out = index.query(query)\n",
        "out"
      ]
    },
    {
      "cell_type": "code",
      "execution_count": 31,
      "metadata": {
        "id": "8UYqM62Kn3GS"
      },
      "outputs": [],
      "source": [
        "out = index.query_with_sources(query)"
      ]
    },
    {
      "cell_type": "code",
      "execution_count": 33,
      "metadata": {
        "id": "DYMC9K2r9p2h"
      },
      "outputs": [
        {
          "data": {
            "text/html": [
              "<pre style=\"white-space:pre;overflow-x:auto;line-height:normal;font-family:Menlo,'DejaVu Sans Mono',consolas,'Courier New',monospace\"><span style=\"font-weight: bold\">{</span>\n",
              "    <span style=\"color: #008000; text-decoration-color: #008000\">'question'</span>: <span style=\"color: #008000; text-decoration-color: #008000\">'What are the primary themes around energy policy?'</span>,\n",
              "    <span style=\"color: #008000; text-decoration-color: #008000\">'answer'</span>: <span style=\"color: #008000; text-decoration-color: #008000\">' The primary themes around energy policy include reducing carbon emissions, embracing and accepting </span>\n",
              "<span style=\"color: #008000; text-decoration-color: #008000\">nuclear power as a clean baseload energy source, and transitioning to renewable energy technologies.\\n'</span>,\n",
              "    <span style=\"color: #008000; text-decoration-color: #008000\">'sources'</span>: \n",
              "<span style=\"color: #008000; text-decoration-color: #008000\">'https://www.congress.gov/bill/118th-congress/house-concurrent-resolution/37\\nhttps://www.congress.gov/bill/118th-c</span>\n",
              "<span style=\"color: #008000; text-decoration-color: #008000\">ongress/house-concurrent-resolution/17\\nhttps://www.congress.gov/bill/118th-congress/house-concurrent-resolution/26</span>\n",
              "<span style=\"color: #008000; text-decoration-color: #008000\">'</span>\n",
              "<span style=\"font-weight: bold\">}</span>\n",
              "</pre>\n"
            ],
            "text/plain": [
              "\u001b[1m{\u001b[0m\n",
              "    \u001b[32m'question'\u001b[0m: \u001b[32m'What are the primary themes around energy policy?'\u001b[0m,\n",
              "    \u001b[32m'answer'\u001b[0m: \u001b[32m' The primary themes around energy policy include reducing carbon emissions, embracing and accepting \u001b[0m\n",
              "\u001b[32mnuclear power as a clean baseload energy source, and transitioning to renewable energy technologies.\\n'\u001b[0m,\n",
              "    \u001b[32m'sources'\u001b[0m: \n",
              "\u001b[32m'https://www.congress.gov/bill/118th-congress/house-concurrent-resolution/37\\nhttps://www.congress.gov/bill/118th-c\u001b[0m\n",
              "\u001b[32mongress/house-concurrent-resolution/17\\nhttps://www.congress.gov/bill/118th-congress/house-concurrent-resolution/26\u001b[0m\n",
              "\u001b[32m'\u001b[0m\n",
              "\u001b[1m}\u001b[0m\n"
            ]
          },
          "metadata": {},
          "output_type": "display_data"
        }
      ],
      "source": [
        "rich.print(out)"
      ]
    },
    {
      "cell_type": "code",
      "execution_count": 34,
      "metadata": {
        "id": "uoCow45WWHgV"
      },
      "outputs": [
        {
          "name": "stdout",
          "output_type": "stream",
          "text": [
            "https://www.congress.gov/bill/118th-congress/house-concurrent-resolution/37\n",
            "https://www.congress.gov/bill/118th-congress/house-concurrent-resolution/17\n",
            "https://www.congress.gov/bill/118th-congress/house-concurrent-resolution/26\n"
          ]
        }
      ],
      "source": [
        "print(out['sources'])"
      ]
    },
    {
      "cell_type": "code",
      "execution_count": 35,
      "metadata": {
        "id": "Bk8e-wLVn686"
      },
      "outputs": [
        {
          "data": {
            "text/plain": [
              "{'question': 'Describe in 100 words the proposed solutions to climate change?',\n",
              " 'answer': ' Solutions to climate change proposed by the United States Congress include a just phase-out of the use of oil, gas, and coal, rapid and immediate acceleration and proliferation of far-reaching, multilevel, and cross-sectoral climate mitigation, and equitable policies to address the climate crisis. These solutions are intended to limit warming through emissions reduction and carbon sequestration, and to address the consequences of climate change such as a significant rise in sea levels, extraordinary loss of biodiversity, and intensifying droughts, floods, wildfires, and other extreme weather events.\\n',\n",
              " 'sources': 'https://www.congress.gov/bill/118th-congress/house-concurrent-resolution/37'}"
            ]
          },
          "execution_count": 35,
          "metadata": {},
          "output_type": "execute_result"
        }
      ],
      "source": [
        "query = \"Describe in 100 words the proposed solutions to climate change?\"\n",
        "out = index.query_with_sources(query)\n",
        "out"
      ]
    },
    {
      "attachments": {},
      "cell_type": "markdown",
      "metadata": {
        "id": "4ry8zdrlCEqi"
      },
      "source": [
        "# Step by step explanation of the DocumentQA"
      ]
    },
    {
      "attachments": {},
      "cell_type": "markdown",
      "metadata": {
        "id": "KCdDA0eOXJ_1"
      },
      "source": [
        "## Langchain Text Splitters\n",
        "\n",
        "https://python.langchain.com/en/latest/modules/indexes/text_splitters.html\n",
        "\n",
        "https://simonwillison.net/2023/Jun/8/gpt-tokenizers/"
      ]
    },
    {
      "cell_type": "code",
      "execution_count": 42,
      "metadata": {
        "id": "_w6e8Bcia6gp"
      },
      "outputs": [],
      "source": [
        "from langchain.text_splitter import RecursiveCharacterTextSplitter\n",
        "from langchain.text_splitter import TokenTextSplitter"
      ]
    },
    {
      "cell_type": "code",
      "execution_count": 49,
      "metadata": {
        "id": "oCi59g8rFAMi"
      },
      "outputs": [],
      "source": [
        "text_splitter = RecursiveCharacterTextSplitter(chunk_size=512, chunk_overlap=128)\n",
        "split_docs = text_splitter.split_documents(docs)\n",
        "split_docs_token = TokenTextSplitter(chunk_size=512, chunk_overlap=128).split_documents(docs)\n",
        "# split_docs_token = TokenTextSplitter().split_documents(split_docs)"
      ]
    },
    {
      "cell_type": "code",
      "execution_count": 50,
      "metadata": {
        "id": "da7F2FUuFR8q"
      },
      "outputs": [
        {
          "name": "stdout",
          "output_type": "stream",
          "text": [
            "The length before splitting:  51\n",
            "The length after splitting:  761\n",
            "Token based splitter:  248\n"
          ]
        }
      ],
      "source": [
        "print(\"The length before splitting: \", len(docs))\n",
        "print(\"The length after splitting: \", len(split_docs))\n",
        "print(\"Token based splitter: \", len(split_docs_token))"
      ]
    },
    {
      "cell_type": "code",
      "execution_count": 55,
      "metadata": {},
      "outputs": [
        {
          "name": "stdout",
          "output_type": "stream",
          "text": [
            "a single doc chunk from recursive char based splitter:  363\n",
            "a single doc chunk from token based splitter:  1383\n"
          ]
        }
      ],
      "source": [
        "print(\"a single doc chunk content length from recursive char based splitter: \", len(split_docs[0].page_content))\n",
        "print(\"a single doc chunk content length from token based splitter: \", len(split_docs_token[0].page_content))"
      ]
    },
    {
      "attachments": {},
      "cell_type": "markdown",
      "metadata": {
        "id": "Kg2pkJghXekK"
      },
      "source": [
        "TODO drill in on chunk size and chunk overlap"
      ]
    },
    {
      "attachments": {},
      "cell_type": "markdown",
      "metadata": {
        "id": "7BVOa0TebHtY"
      },
      "source": [
        "## Embed and Index Doc Chunks"
      ]
    },
    {
      "attachments": {},
      "cell_type": "markdown",
      "metadata": {
        "id": "RQ6Sjc74Yh-a"
      },
      "source": [
        "# Intro To Embdeddings\n",
        "\n",
        "[Link to Notebook](\"https://github.com/FMurray/hyperdemocracy/blob/main/sidequests/embeddings.ipynb\")\n"
      ]
    },
    {
      "attachments": {},
      "cell_type": "markdown",
      "metadata": {
        "id": "8HDvH1JAcu-U"
      },
      "source": [
        "## Index Embeddings in a Vector Database"
      ]
    },
    {
      "cell_type": "code",
      "execution_count": 61,
      "metadata": {
        "id": "UdBDoTvLbLfZ"
      },
      "outputs": [],
      "source": [
        "from langchain.vectorstores import Chroma"
      ]
    },
    {
      "cell_type": "code",
      "execution_count": 62,
      "metadata": {
        "id": "18-prZMJFisk"
      },
      "outputs": [],
      "source": [
        "db = Chroma.from_documents(split_docs, embeddings)"
      ]
    },
    {
      "cell_type": "code",
      "execution_count": 63,
      "metadata": {
        "id": "Y8wCr8FuFnUf"
      },
      "outputs": [
        {
          "data": {
            "text/plain": [
              "<langchain.vectorstores.chroma.Chroma at 0x287c78310>"
            ]
          },
          "execution_count": 63,
          "metadata": {},
          "output_type": "execute_result"
        }
      ],
      "source": [
        "db"
      ]
    },
    {
      "cell_type": "code",
      "execution_count": 84,
      "metadata": {
        "id": "dl4Zh4V5FqEM"
      },
      "outputs": [
        {
          "name": "stdout",
          "output_type": "stream",
          "text": [
            "(Document(page_content='petroleum products under the Energy Policy and Conservation Act \\n        (42 U.S.C. 6201 et seq.).\\n                                 <all>', metadata={'key': '118HCONRES17', 'congress_num': '118', 'legis_class': 'HCONRES', 'legis_num': '17', 'name': 'Expressing the sense of Congress that the Federal Government should not impose any restrictions on the export of crude oil or other petroleum products.', 'summary': '', 'source': 'https://www.congress.gov/bill/118th-congress/house-concurrent-resolution/17', 'sponsor': 'G000558', 'theme0': 'Energy'}), 0.43378937244415283)\n",
            "(Document(page_content='of the United States as a global energy superpower: Now, therefore, be \\n        it\\n    Resolved by the House of Representatives (the Senate concurring), \\nThat it is the sense of Congress that the Federal Government should not \\nimpose--\\n            (1) overly restrictive regulations on the exploration, \\n        production, or marketing of energy resources; or\\n            (2) any restrictions on the export of crude oil or other \\n        petroleum products under the Energy Policy and Conservation Act', metadata={'key': '118HCONRES17', 'congress_num': '118', 'legis_class': 'HCONRES', 'legis_num': '17', 'name': 'Expressing the sense of Congress that the Federal Government should not impose any restrictions on the export of crude oil or other petroleum products.', 'summary': '', 'source': 'https://www.congress.gov/bill/118th-congress/house-concurrent-resolution/17', 'sponsor': 'G000558', 'theme0': 'Energy'}), 0.4487142264842987)\n",
            "(Document(page_content='Whereas the United States has enjoyed a renaissance in energy production, with \\n        the expansion of domestic crude oil and other petroleum product \\n        production contributing to enhanced energy security and significant \\n        economic benefits to the national economy;\\nWhereas, in 2015, Congress recognized the need to adapt to changing crude oil \\n        market conditions and repealed all restrictions on the export of crude \\n        oil on a bipartisan basis;', metadata={'key': '118HCONRES17', 'congress_num': '118', 'legis_class': 'HCONRES', 'legis_num': '17', 'name': 'Expressing the sense of Congress that the Federal Government should not impose any restrictions on the export of crude oil or other petroleum products.', 'summary': '', 'source': 'https://www.congress.gov/bill/118th-congress/house-concurrent-resolution/17', 'sponsor': 'G000558', 'theme0': 'Energy'}), 0.4579313397407532)\n",
            "(Document(page_content='producer in the world;\\nWhereas, in 2019, the United States became a net exporter of petroleum products \\n        for the first time since 1952, and the reliance of the United States on \\n        foreign imports of petroleum products has declined to historic lows; and\\nWhereas free trade, open markets, and competition have contributed to the rise \\n        of the United States as a global energy superpower: Now, therefore, be \\n        it', metadata={'key': '118HCONRES17', 'congress_num': '118', 'legis_class': 'HCONRES', 'legis_num': '17', 'name': 'Expressing the sense of Congress that the Federal Government should not impose any restrictions on the export of crude oil or other petroleum products.', 'summary': '', 'source': 'https://www.congress.gov/bill/118th-congress/house-concurrent-resolution/17', 'sponsor': 'G000558', 'theme0': 'Energy'}), 0.4581516981124878)\n",
            "(Document(page_content='market conditions and repealed all restrictions on the export of crude \\n        oil on a bipartisan basis;\\nWhereas lifting the restrictions on crude oil exports encouraged additional \\n        domestic energy production, created American jobs and economic \\n        development, and allowed the United States to emerge as the leading oil \\n        producer in the world;\\nWhereas, in 2019, the United States became a net exporter of petroleum products', metadata={'key': '118HCONRES17', 'congress_num': '118', 'legis_class': 'HCONRES', 'legis_num': '17', 'name': 'Expressing the sense of Congress that the Federal Government should not impose any restrictions on the export of crude oil or other petroleum products.', 'summary': '', 'source': 'https://www.congress.gov/bill/118th-congress/house-concurrent-resolution/17', 'sponsor': 'G000558', 'theme0': 'Energy'}), 0.4969428479671478)\n",
            "(Document(page_content='_______________________________________________________________________\\n\\n                         CONCURRENT RESOLUTION\\n\\n\\n \\nExpressing the sense of Congress that the Federal Government should not \\n impose any restrictions on the export of crude oil or other petroleum \\n                               products.', metadata={'key': '118HCONRES17', 'congress_num': '118', 'legis_class': 'HCONRES', 'legis_num': '17', 'name': 'Expressing the sense of Congress that the Federal Government should not impose any restrictions on the export of crude oil or other petroleum products.', 'summary': '', 'source': 'https://www.congress.gov/bill/118th-congress/house-concurrent-resolution/17', 'sponsor': 'G000558', 'theme0': 'Energy'}), 0.5020947456359863)\n",
            "(Document(page_content='_______________________________________________________________________\\n\\n\\n                    IN THE HOUSE OF REPRESENTATIVES\\n\\n                           February 17, 2023\\n\\n Mr. Guthrie submitted the following concurrent resolution; which was \\n            referred to the Committee on Energy and Commerce\\n\\n_______________________________________________________________________\\n\\n                         CONCURRENT RESOLUTION', metadata={'key': '118HCONRES17', 'congress_num': '118', 'legis_class': 'HCONRES', 'legis_num': '17', 'name': 'Expressing the sense of Congress that the Federal Government should not impose any restrictions on the export of crude oil or other petroleum products.', 'summary': '', 'source': 'https://www.congress.gov/bill/118th-congress/house-concurrent-resolution/17', 'sponsor': 'G000558', 'theme0': 'Energy'}), 0.5100572109222412)\n",
            "(Document(page_content='[Congressional Bills 118th Congress]\\n[From the U.S. Government Publishing Office]\\n[H. Con. Res. 17 Introduced in House (IH)]\\n\\n<DOC>\\n\\n\\n\\n\\n\\n\\n118th CONGRESS\\n  1st Session\\nH. CON. RES. 17\\n\\nExpressing the sense of Congress that the Federal Government should not \\n impose any restrictions on the export of crude oil or other petroleum \\n                               products.\\n\\n\\n_______________________________________________________________________\\n\\n\\n                    IN THE HOUSE OF REPRESENTATIVES', metadata={'key': '118HCONRES17', 'congress_num': '118', 'legis_class': 'HCONRES', 'legis_num': '17', 'name': 'Expressing the sense of Congress that the Federal Government should not impose any restrictions on the export of crude oil or other petroleum products.', 'summary': '', 'source': 'https://www.congress.gov/bill/118th-congress/house-concurrent-resolution/17', 'sponsor': 'G000558', 'theme0': 'Energy'}), 0.5518558621406555)\n"
          ]
        }
      ],
      "source": [
        "# explnain similarity types, cosine, inner-product, squared L2, \n",
        "# looks like chroma uses hnswlib which supports 3 distances (default cosine) [TODO confirm default]\n",
        "# https://github.com/hwchase17/langchain/blob/master/langchain/vectorstores/chroma.py\n",
        "# https://docs.trychroma.com/usage-guide#changing-the-distance-function\n",
        "# https://github.com/nmslib/hnswlib/tree/master#supported-distances\n",
        "\n",
        "# in addition langchain offers maximal marginal relevance on top of cosine\n",
        "# https://github.com/hwchase17/langchain/blob/master/langchain/vectorstores/utils.py#L10\n",
        "\n",
        "ret_docs = db.similarity_search_with_score(\n",
        "    \"nuclear power\", \n",
        "    k=10, \n",
        "    filter={\"source\": \"https://www.congress.gov/bill/118th-congress/house-concurrent-resolution/17\"},\n",
        ")\n",
        "\n",
        "for doc in ret_docs:\n",
        "    print(doc)"
      ]
    },
    {
      "cell_type": "code",
      "execution_count": 85,
      "metadata": {
        "id": "tm0GVNxUFxok"
      },
      "outputs": [
        {
          "data": {
            "text/plain": [
              "8"
            ]
          },
          "execution_count": 85,
          "metadata": {},
          "output_type": "execute_result"
        }
      ],
      "source": [
        "# show that this is all the docs from filter\n",
        "len([d for d in split_docs if d.metadata['source']=='https://www.congress.gov/bill/118th-congress/house-concurrent-resolution/17'])"
      ]
    },
    {
      "attachments": {},
      "cell_type": "markdown",
      "metadata": {
        "id": "Bdr41mxrb-rn"
      },
      "source": [
        "# What are retrievers?\n",
        "\n",
        "TODO: TL;DR "
      ]
    },
    {
      "cell_type": "code",
      "execution_count": 86,
      "metadata": {},
      "outputs": [],
      "source": [
        "import langchain\n",
        "langchain.verbose = False"
      ]
    },
    {
      "cell_type": "code",
      "execution_count": 87,
      "metadata": {
        "id": "1bllOTmFfWdS"
      },
      "outputs": [],
      "source": [
        "from langchain.chains import RetrievalQA\n",
        "from langchain.chains import RetrievalQAWithSourcesChain\n",
        "from langchain.llms import OpenAI"
      ]
    },
    {
      "cell_type": "code",
      "execution_count": 88,
      "metadata": {
        "id": "vBt_jRxmF94T"
      },
      "outputs": [],
      "source": [
        "retriever = db.as_retriever(search_kwargs={'k':10})"
      ]
    },
    {
      "cell_type": "code",
      "execution_count": 89,
      "metadata": {
        "id": "9ODHd9ltGQlq"
      },
      "outputs": [
        {
          "data": {
            "text/plain": [
              "VectorStoreRetriever(vectorstore=<langchain.vectorstores.chroma.Chroma object at 0x287c78310>, search_type='similarity', search_kwargs={'k': 10})"
            ]
          },
          "execution_count": 89,
          "metadata": {},
          "output_type": "execute_result"
        }
      ],
      "source": [
        "retriever"
      ]
    },
    {
      "attachments": {},
      "cell_type": "markdown",
      "metadata": {
        "id": "tRzjp9aVc9rd"
      },
      "source": [
        "Compare the chains in the original DocumentQA quickstart with the chains here"
      ]
    },
    {
      "cell_type": "code",
      "execution_count": 102,
      "metadata": {
        "id": "kPEKaYi3GmE1"
      },
      "outputs": [],
      "source": [
        "qa = RetrievalQA.from_chain_type(\n",
        "    llm=OpenAI(), \n",
        "    chain_type=\"stuff\", \n",
        "    retriever=retriever, \n",
        "    return_source_documents=True,\n",
        ")"
      ]
    },
    {
      "attachments": {},
      "cell_type": "markdown",
      "metadata": {
        "id": "fwzvjXPqbcrC"
      },
      "source": [
        "# Questions\n",
        "\n",
        "* what are the components of the RetrievalQA chain?\n",
        "* what is the QA prompt?\n",
        "* how would you modify the QA prompt?\n",
        "* what is the difference between the following qa chain types?,\n",
        "    * stuff\n",
        "    * map_reduce\n",
        "    * map_rerank\n",
        "    * refine\n",
        "\n",
        "# Resources\n",
        "\n",
        "* https://github.com/hwchase17/langchain/tree/master/langchain/chains/retrieval_qa\n",
        "* https://github.com/hwchase17/langchain/tree/master/langchain/chains/question_answering"
      ]
    },
    {
      "cell_type": "code",
      "execution_count": null,
      "metadata": {},
      "outputs": [],
      "source": [
        "# WARNING! Do not commit the outputs of this cell if it contains your API key\n",
        "\n",
        "rich.print(qa)"
      ]
    },
    {
      "attachments": {},
      "cell_type": "markdown",
      "metadata": {
        "id": "8MdA3SOznZkm"
      },
      "source": [
        "## How many ways can we print a prompt? "
      ]
    },
    {
      "cell_type": "code",
      "execution_count": 103,
      "metadata": {
        "id": "zhmxZhEIbbpR"
      },
      "outputs": [
        {
          "data": {
            "text/plain": [
              "PromptTemplate(input_variables=['context', 'question'], output_parser=None, partial_variables={}, template=\"Use the following pieces of context to answer the question at the end. If you don't know the answer, just say that you don't know, don't try to make up an answer.\\n\\n{context}\\n\\nQuestion: {question}\\nHelpful Answer:\", template_format='f-string', validate_template=True)"
            ]
          },
          "execution_count": 103,
          "metadata": {},
          "output_type": "execute_result"
        }
      ],
      "source": [
        "prompt_template = qa.combine_documents_chain.llm_chain.prompt\n",
        "prompt_template"
      ]
    },
    {
      "cell_type": "code",
      "execution_count": 104,
      "metadata": {
        "id": "MqSdtKYqjSwv"
      },
      "outputs": [
        {
          "name": "stdout",
          "output_type": "stream",
          "text": [
            "Use the following pieces of context to answer the question at the end. If you don't know the answer, just say that you don't know, don't try to make up an answer.\n",
            "\n",
            "{context}\n",
            "\n",
            "Question: {question}\n",
            "Helpful Answer:\n"
          ]
        }
      ],
      "source": [
        "print(prompt_template.template)"
      ]
    },
    {
      "cell_type": "code",
      "execution_count": 105,
      "metadata": {
        "id": "vb-itdmsi_6n"
      },
      "outputs": [],
      "source": [
        "import textwrap"
      ]
    },
    {
      "cell_type": "code",
      "execution_count": 107,
      "metadata": {
        "id": "AeBaZGNzigx6"
      },
      "outputs": [
        {
          "data": {
            "text/html": [
              "<pre style=\"white-space:pre;overflow-x:auto;line-height:normal;font-family:Menlo,'DejaVu Sans Mono',consolas,'Courier New',monospace\">Use the following pieces of context to answer the question at the end. If you don't know the answer, just say that \n",
              "you don't know, don't try to make up an answer.\n",
              "\n",
              "<span style=\"font-weight: bold\">[</span>CONTEXT<span style=\"font-weight: bold\">]</span>\n",
              "\n",
              "Question: <span style=\"font-weight: bold\">[</span>QUESTION<span style=\"font-weight: bold\">]</span>\n",
              "Helpful Answer:\n",
              "</pre>\n"
            ],
            "text/plain": [
              "Use the following pieces of context to answer the question at the end. If you don't know the answer, just say that \n",
              "you don't know, don't try to make up an answer.\n",
              "\n",
              "\u001b[1m[\u001b[0mCONTEXT\u001b[1m]\u001b[0m\n",
              "\n",
              "Question: \u001b[1m[\u001b[0mQUESTION\u001b[1m]\u001b[0m\n",
              "Helpful Answer:\n"
            ]
          },
          "metadata": {},
          "output_type": "display_data"
        }
      ],
      "source": [
        "rich.print(prompt_template.format(context='[CONTEXT]', question='[QUESTION]'))"
      ]
    },
    {
      "cell_type": "code",
      "execution_count": 108,
      "metadata": {
        "id": "JdGfg21jG3VA"
      },
      "outputs": [],
      "source": [
        "answer = qa(\"What is the solution to climate change?\")"
      ]
    },
    {
      "cell_type": "code",
      "execution_count": 109,
      "metadata": {
        "id": "rkaJ3v9CHPc7"
      },
      "outputs": [
        {
          "data": {
            "text/plain": [
              "dict_keys(['query', 'result', 'source_documents'])"
            ]
          },
          "execution_count": 109,
          "metadata": {},
          "output_type": "execute_result"
        }
      ],
      "source": [
        "answer.keys()"
      ]
    },
    {
      "cell_type": "code",
      "execution_count": 113,
      "metadata": {
        "id": "cR-f8EBgjwOi"
      },
      "outputs": [
        {
          "data": {
            "text/html": [
              "<pre style=\"white-space:pre;overflow-x:auto;line-height:normal;font-family:Menlo,'DejaVu Sans Mono',consolas,'Courier New',monospace\"> The solution to climate change requires a just phase-out of the use of oil, gas, and coal in order to keep the \n",
              "carbon that is the primary constituent of fossil fuels in the ground and out of the atmosphere, and rapid and \n",
              "immediate acceleration and proliferation of far-reaching, multilevel, and cross-sectoral climate mitigation and \n",
              "transitions in energy, land, urban and rural infrastructure, and other societal areas.\n",
              "</pre>\n"
            ],
            "text/plain": [
              " The solution to climate change requires a just phase-out of the use of oil, gas, and coal in order to keep the \n",
              "carbon that is the primary constituent of fossil fuels in the ground and out of the atmosphere, and rapid and \n",
              "immediate acceleration and proliferation of far-reaching, multilevel, and cross-sectoral climate mitigation and \n",
              "transitions in energy, land, urban and rural infrastructure, and other societal areas.\n"
            ]
          },
          "metadata": {},
          "output_type": "display_data"
        }
      ],
      "source": [
        "print(answer['result'])"
      ]
    },
    {
      "cell_type": "code",
      "execution_count": 114,
      "metadata": {
        "id": "1GDnvwb2jzxy"
      },
      "outputs": [],
      "source": [
        "qaws = RetrievalQAWithSourcesChain.from_chain_type(\n",
        "    llm=OpenAI(), \n",
        "    chain_type=\"stuff\", \n",
        "    retriever=retriever, \n",
        "    return_source_documents=True,\n",
        ")"
      ]
    },
    {
      "cell_type": "code",
      "execution_count": null,
      "metadata": {},
      "outputs": [],
      "source": [
        "# WARNING! Do not commit the outputs of this cell if it contains your API key\n",
        "print(qaws)"
      ]
    },
    {
      "cell_type": "code",
      "execution_count": 116,
      "metadata": {
        "id": "eIBbG6f6BFC5"
      },
      "outputs": [],
      "source": [
        "pt = qaws.combine_documents_chain.llm_chain.prompt"
      ]
    },
    {
      "cell_type": "code",
      "execution_count": 117,
      "metadata": {
        "id": "B90CgFIDBDmM"
      },
      "outputs": [
        {
          "data": {
            "text/html": [
              "<pre style=\"white-space:pre;overflow-x:auto;line-height:normal;font-family:Menlo,'DejaVu Sans Mono',consolas,'Courier New',monospace\">Given the following extracted parts of a long document and a question, create a final answer with references \n",
              "<span style=\"font-weight: bold\">(</span><span style=\"color: #008000; text-decoration-color: #008000\">\"SOURCES\"</span><span style=\"font-weight: bold\">)</span>. \n",
              "If you don't know the answer, just say that you don't know. Don't try to make up an answer.\n",
              "ALWAYS return a <span style=\"color: #008000; text-decoration-color: #008000\">\"SOURCES\"</span> part in your answer.\n",
              "\n",
              "QUESTION: Which state/country's law governs the interpretation of the contract?\n",
              "=========\n",
              "Content: This Agreement is governed by English law and the parties submit to the exclusive jurisdiction of the \n",
              "English courts in  relation to any dispute <span style=\"font-weight: bold\">(</span>contractual or non-contractual<span style=\"font-weight: bold\">)</span> concerning this Agreement save that \n",
              "either party may apply to any court for an  injunction or other relief to protect its Intellectual Property Rights.\n",
              "Source: <span style=\"color: #008080; text-decoration-color: #008080; font-weight: bold\">28</span>-pl\n",
              "Content: No Waiver. Failure or delay in exercising any right or remedy under this Agreement shall not constitute a \n",
              "waiver of such <span style=\"font-weight: bold\">(</span>or any other<span style=\"font-weight: bold\">)</span>  right or remedy.\n",
              "\n",
              "<span style=\"color: #008080; text-decoration-color: #008080; font-weight: bold\">11.7</span> Severability. The invalidity, illegality or unenforceability of any term <span style=\"font-weight: bold\">(</span>or part of a term<span style=\"font-weight: bold\">)</span> of this Agreement\n",
              "shall not affect the continuation  in force of the remainder of the term <span style=\"font-weight: bold\">(</span>if any<span style=\"font-weight: bold\">)</span> and this Agreement.\n",
              "\n",
              "<span style=\"color: #008080; text-decoration-color: #008080; font-weight: bold\">11.8</span> No Agency. Except as expressly stated otherwise, nothing in this Agreement shall create an agency, partnership\n",
              "or joint venture of any  kind between the parties.\n",
              "\n",
              "<span style=\"color: #008080; text-decoration-color: #008080; font-weight: bold\">11.9</span> No Third-Party Beneficiaries.\n",
              "Source: <span style=\"color: #008080; text-decoration-color: #008080; font-weight: bold\">30</span>-pl\n",
              "Content: <span style=\"font-weight: bold\">(</span>b<span style=\"font-weight: bold\">)</span> if Google believes, in good faith, that the Distributor has violated or caused Google to violate any \n",
              "Anti-Bribery Laws <span style=\"font-weight: bold\">(</span>as  defined in Clause <span style=\"color: #008080; text-decoration-color: #008080; font-weight: bold\">8.5</span><span style=\"font-weight: bold\">)</span> or that such a violation is reasonably likely to occur,\n",
              "Source: <span style=\"color: #008080; text-decoration-color: #008080; font-weight: bold\">4</span>-pl\n",
              "=========\n",
              "FINAL ANSWER: This Agreement is governed by English law.\n",
              "SOURCES: <span style=\"color: #008080; text-decoration-color: #008080; font-weight: bold\">28</span>-pl\n",
              "\n",
              "QUESTION: What did the president say about Michael Jackson?\n",
              "=========\n",
              "Content: Madam Speaker, Madam Vice President, our First Lady and Second Gentleman. Members of Congress and the \n",
              "Cabinet. Justices of the Supreme Court. My fellow Americans.  \n",
              "\n",
              "Last year COVID-<span style=\"color: #008080; text-decoration-color: #008080; font-weight: bold\">19</span> kept us apart. This year we are finally together again. \n",
              "\n",
              "Tonight, we meet as Democrats Republicans and Independents. But most importantly as Americans. \n",
              "\n",
              "With a duty to one another to the American people to the Constitution. \n",
              "\n",
              "And with an unwavering resolve that freedom will always triumph over tyranny. \n",
              "\n",
              "Six days ago, Russia’s Vladimir Putin sought to shake the foundations of the free world thinking he could make it \n",
              "bend to his menacing ways. But he badly miscalculated. \n",
              "\n",
              "He thought he could roll into Ukraine and the world would roll over. Instead he met a wall of strength he never \n",
              "imagined. \n",
              "\n",
              "He met the Ukrainian people. \n",
              "\n",
              "From President Zelenskyy to every Ukrainian, their fearlessness, their courage, their determination, inspires the \n",
              "world. \n",
              "\n",
              "Groups of citizens blocking tanks with their bodies. Everyone from students to retirees teachers turned soldiers \n",
              "defending their homeland.\n",
              "Source: <span style=\"color: #008080; text-decoration-color: #008080; font-weight: bold\">0</span>-pl\n",
              "Content: And we won’t stop. \n",
              "\n",
              "We have lost so much to COVID-<span style=\"color: #008080; text-decoration-color: #008080; font-weight: bold\">19</span>. Time with one another. And worst of all, so much loss of life. \n",
              "\n",
              "Let’s use this moment to reset. Let’s stop looking at COVID-<span style=\"color: #008080; text-decoration-color: #008080; font-weight: bold\">19</span> as a partisan dividing line and see it for what it \n",
              "is: A God-awful disease.  \n",
              "\n",
              "Let’s stop seeing each other as enemies, and start seeing each other for who we really are: Fellow Americans.  \n",
              "\n",
              "We can’t change how divided we’ve been. But we can change how we move forward—on COVID-<span style=\"color: #008080; text-decoration-color: #008080; font-weight: bold\">19</span> and other issues we must \n",
              "face together. \n",
              "\n",
              "I recently visited the New York City Police Department days after the funerals of Officer Wilbert Mora and his \n",
              "partner, Officer Jason Rivera. \n",
              "\n",
              "They were responding to a <span style=\"color: #008080; text-decoration-color: #008080; font-weight: bold\">9</span>-<span style=\"color: #008080; text-decoration-color: #008080; font-weight: bold\">1</span>-<span style=\"color: #008080; text-decoration-color: #008080; font-weight: bold\">1</span> call when a man shot and killed them with a stolen gun. \n",
              "\n",
              "Officer Mora was <span style=\"color: #008080; text-decoration-color: #008080; font-weight: bold\">27</span> years old. \n",
              "\n",
              "Officer Rivera was <span style=\"color: #008080; text-decoration-color: #008080; font-weight: bold\">22</span>. \n",
              "\n",
              "Both Dominican Americans who’d grown up on the same streets they later chose to patrol as police officers. \n",
              "\n",
              "I spoke with their families and told them that we are forever in debt for their sacrifice, and we will carry on \n",
              "their mission to restore the trust and safety every community deserves.\n",
              "Source: <span style=\"color: #008080; text-decoration-color: #008080; font-weight: bold\">24</span>-pl\n",
              "Content: And a proud Ukrainian people, who have known <span style=\"color: #008080; text-decoration-color: #008080; font-weight: bold\">30</span> years  of independence, have repeatedly shown that they \n",
              "will not tolerate anyone who tries to take their country backwards.  \n",
              "\n",
              "To all Americans, I will be honest with you, as I’ve always promised. A Russian dictator, invading a foreign \n",
              "country, has costs around the world. \n",
              "\n",
              "And I’m taking robust action to make sure the pain of our sanctions  is targeted at Russia’s economy. And I will \n",
              "use every tool at our disposal to protect American businesses and consumers. \n",
              "\n",
              "Tonight, I can announce that the United States has worked with <span style=\"color: #008080; text-decoration-color: #008080; font-weight: bold\">30</span> other countries to release <span style=\"color: #008080; text-decoration-color: #008080; font-weight: bold\">60</span> Million barrels of \n",
              "oil from reserves around the world.  \n",
              "\n",
              "America will lead that effort, releasing <span style=\"color: #008080; text-decoration-color: #008080; font-weight: bold\">30</span> Million barrels from our own Strategic Petroleum Reserve. And we stand \n",
              "ready to do more if necessary, unified with our allies.  \n",
              "\n",
              "These steps will help blunt gas prices here at home. And I know the news about what’s happening can seem alarming. \n",
              "\n",
              "But I want you to know that we are going to be okay.\n",
              "Source: <span style=\"color: #008080; text-decoration-color: #008080; font-weight: bold\">5</span>-pl\n",
              "Content: More support for patients and families. \n",
              "\n",
              "To get there, I call on Congress to fund ARPA-H, the Advanced Research Projects Agency for Health. \n",
              "\n",
              "It’s based on DARPA—the Defense Department project that led to the Internet, GPS, and so much more.  \n",
              "\n",
              "ARPA-H will have a singular purpose—to drive breakthroughs in cancer, Alzheimer’s, diabetes, and more. \n",
              "\n",
              "A unity agenda for the nation. \n",
              "\n",
              "We can do this. \n",
              "\n",
              "My fellow Americans—tonight , we have gathered in a sacred space—the citadel of our democracy. \n",
              "\n",
              "In this Capitol, generation after generation, Americans have debated great questions amid great strife, and have \n",
              "done great things. \n",
              "\n",
              "We have fought for freedom, expanded liberty, defeated totalitarianism and terror. \n",
              "\n",
              "And built the strongest, freest, and most prosperous nation the world has ever known. \n",
              "\n",
              "Now is the hour. \n",
              "\n",
              "Our moment of responsibility. \n",
              "\n",
              "Our test of resolve and conscience, of history itself. \n",
              "\n",
              "It is in this moment that our character is formed. Our purpose is found. Our future is forged. \n",
              "\n",
              "Well I know this nation.\n",
              "Source: <span style=\"color: #008080; text-decoration-color: #008080; font-weight: bold\">34</span>-pl\n",
              "=========\n",
              "FINAL ANSWER: The president did not mention Michael Jackson.\n",
              "SOURCES:\n",
              "\n",
              "QUESTION: <span style=\"font-weight: bold\">[</span>QUESTION<span style=\"font-weight: bold\">]</span>\n",
              "=========\n",
              "<span style=\"font-weight: bold\">[</span>SUMMARIES<span style=\"font-weight: bold\">]</span>\n",
              "=========\n",
              "FINAL ANSWER:\n",
              "</pre>\n"
            ],
            "text/plain": [
              "Given the following extracted parts of a long document and a question, create a final answer with references \n",
              "\u001b[1m(\u001b[0m\u001b[32m\"SOURCES\"\u001b[0m\u001b[1m)\u001b[0m. \n",
              "If you don't know the answer, just say that you don't know. Don't try to make up an answer.\n",
              "ALWAYS return a \u001b[32m\"SOURCES\"\u001b[0m part in your answer.\n",
              "\n",
              "QUESTION: Which state/country's law governs the interpretation of the contract?\n",
              "=========\n",
              "Content: This Agreement is governed by English law and the parties submit to the exclusive jurisdiction of the \n",
              "English courts in  relation to any dispute \u001b[1m(\u001b[0mcontractual or non-contractual\u001b[1m)\u001b[0m concerning this Agreement save that \n",
              "either party may apply to any court for an  injunction or other relief to protect its Intellectual Property Rights.\n",
              "Source: \u001b[1;36m28\u001b[0m-pl\n",
              "Content: No Waiver. Failure or delay in exercising any right or remedy under this Agreement shall not constitute a \n",
              "waiver of such \u001b[1m(\u001b[0mor any other\u001b[1m)\u001b[0m  right or remedy.\n",
              "\n",
              "\u001b[1;36m11.7\u001b[0m Severability. The invalidity, illegality or unenforceability of any term \u001b[1m(\u001b[0mor part of a term\u001b[1m)\u001b[0m of this Agreement\n",
              "shall not affect the continuation  in force of the remainder of the term \u001b[1m(\u001b[0mif any\u001b[1m)\u001b[0m and this Agreement.\n",
              "\n",
              "\u001b[1;36m11.8\u001b[0m No Agency. Except as expressly stated otherwise, nothing in this Agreement shall create an agency, partnership\n",
              "or joint venture of any  kind between the parties.\n",
              "\n",
              "\u001b[1;36m11.9\u001b[0m No Third-Party Beneficiaries.\n",
              "Source: \u001b[1;36m30\u001b[0m-pl\n",
              "Content: \u001b[1m(\u001b[0mb\u001b[1m)\u001b[0m if Google believes, in good faith, that the Distributor has violated or caused Google to violate any \n",
              "Anti-Bribery Laws \u001b[1m(\u001b[0mas  defined in Clause \u001b[1;36m8.5\u001b[0m\u001b[1m)\u001b[0m or that such a violation is reasonably likely to occur,\n",
              "Source: \u001b[1;36m4\u001b[0m-pl\n",
              "=========\n",
              "FINAL ANSWER: This Agreement is governed by English law.\n",
              "SOURCES: \u001b[1;36m28\u001b[0m-pl\n",
              "\n",
              "QUESTION: What did the president say about Michael Jackson?\n",
              "=========\n",
              "Content: Madam Speaker, Madam Vice President, our First Lady and Second Gentleman. Members of Congress and the \n",
              "Cabinet. Justices of the Supreme Court. My fellow Americans.  \n",
              "\n",
              "Last year COVID-\u001b[1;36m19\u001b[0m kept us apart. This year we are finally together again. \n",
              "\n",
              "Tonight, we meet as Democrats Republicans and Independents. But most importantly as Americans. \n",
              "\n",
              "With a duty to one another to the American people to the Constitution. \n",
              "\n",
              "And with an unwavering resolve that freedom will always triumph over tyranny. \n",
              "\n",
              "Six days ago, Russia’s Vladimir Putin sought to shake the foundations of the free world thinking he could make it \n",
              "bend to his menacing ways. But he badly miscalculated. \n",
              "\n",
              "He thought he could roll into Ukraine and the world would roll over. Instead he met a wall of strength he never \n",
              "imagined. \n",
              "\n",
              "He met the Ukrainian people. \n",
              "\n",
              "From President Zelenskyy to every Ukrainian, their fearlessness, their courage, their determination, inspires the \n",
              "world. \n",
              "\n",
              "Groups of citizens blocking tanks with their bodies. Everyone from students to retirees teachers turned soldiers \n",
              "defending their homeland.\n",
              "Source: \u001b[1;36m0\u001b[0m-pl\n",
              "Content: And we won’t stop. \n",
              "\n",
              "We have lost so much to COVID-\u001b[1;36m19\u001b[0m. Time with one another. And worst of all, so much loss of life. \n",
              "\n",
              "Let’s use this moment to reset. Let’s stop looking at COVID-\u001b[1;36m19\u001b[0m as a partisan dividing line and see it for what it \n",
              "is: A God-awful disease.  \n",
              "\n",
              "Let’s stop seeing each other as enemies, and start seeing each other for who we really are: Fellow Americans.  \n",
              "\n",
              "We can’t change how divided we’ve been. But we can change how we move forward—on COVID-\u001b[1;36m19\u001b[0m and other issues we must \n",
              "face together. \n",
              "\n",
              "I recently visited the New York City Police Department days after the funerals of Officer Wilbert Mora and his \n",
              "partner, Officer Jason Rivera. \n",
              "\n",
              "They were responding to a \u001b[1;36m9\u001b[0m-\u001b[1;36m1\u001b[0m-\u001b[1;36m1\u001b[0m call when a man shot and killed them with a stolen gun. \n",
              "\n",
              "Officer Mora was \u001b[1;36m27\u001b[0m years old. \n",
              "\n",
              "Officer Rivera was \u001b[1;36m22\u001b[0m. \n",
              "\n",
              "Both Dominican Americans who’d grown up on the same streets they later chose to patrol as police officers. \n",
              "\n",
              "I spoke with their families and told them that we are forever in debt for their sacrifice, and we will carry on \n",
              "their mission to restore the trust and safety every community deserves.\n",
              "Source: \u001b[1;36m24\u001b[0m-pl\n",
              "Content: And a proud Ukrainian people, who have known \u001b[1;36m30\u001b[0m years  of independence, have repeatedly shown that they \n",
              "will not tolerate anyone who tries to take their country backwards.  \n",
              "\n",
              "To all Americans, I will be honest with you, as I’ve always promised. A Russian dictator, invading a foreign \n",
              "country, has costs around the world. \n",
              "\n",
              "And I’m taking robust action to make sure the pain of our sanctions  is targeted at Russia’s economy. And I will \n",
              "use every tool at our disposal to protect American businesses and consumers. \n",
              "\n",
              "Tonight, I can announce that the United States has worked with \u001b[1;36m30\u001b[0m other countries to release \u001b[1;36m60\u001b[0m Million barrels of \n",
              "oil from reserves around the world.  \n",
              "\n",
              "America will lead that effort, releasing \u001b[1;36m30\u001b[0m Million barrels from our own Strategic Petroleum Reserve. And we stand \n",
              "ready to do more if necessary, unified with our allies.  \n",
              "\n",
              "These steps will help blunt gas prices here at home. And I know the news about what’s happening can seem alarming. \n",
              "\n",
              "But I want you to know that we are going to be okay.\n",
              "Source: \u001b[1;36m5\u001b[0m-pl\n",
              "Content: More support for patients and families. \n",
              "\n",
              "To get there, I call on Congress to fund ARPA-H, the Advanced Research Projects Agency for Health. \n",
              "\n",
              "It’s based on DARPA—the Defense Department project that led to the Internet, GPS, and so much more.  \n",
              "\n",
              "ARPA-H will have a singular purpose—to drive breakthroughs in cancer, Alzheimer’s, diabetes, and more. \n",
              "\n",
              "A unity agenda for the nation. \n",
              "\n",
              "We can do this. \n",
              "\n",
              "My fellow Americans—tonight , we have gathered in a sacred space—the citadel of our democracy. \n",
              "\n",
              "In this Capitol, generation after generation, Americans have debated great questions amid great strife, and have \n",
              "done great things. \n",
              "\n",
              "We have fought for freedom, expanded liberty, defeated totalitarianism and terror. \n",
              "\n",
              "And built the strongest, freest, and most prosperous nation the world has ever known. \n",
              "\n",
              "Now is the hour. \n",
              "\n",
              "Our moment of responsibility. \n",
              "\n",
              "Our test of resolve and conscience, of history itself. \n",
              "\n",
              "It is in this moment that our character is formed. Our purpose is found. Our future is forged. \n",
              "\n",
              "Well I know this nation.\n",
              "Source: \u001b[1;36m34\u001b[0m-pl\n",
              "=========\n",
              "FINAL ANSWER: The president did not mention Michael Jackson.\n",
              "SOURCES:\n",
              "\n",
              "QUESTION: \u001b[1m[\u001b[0mQUESTION\u001b[1m]\u001b[0m\n",
              "=========\n",
              "\u001b[1m[\u001b[0mSUMMARIES\u001b[1m]\u001b[0m\n",
              "=========\n",
              "FINAL ANSWER:\n"
            ]
          },
          "metadata": {},
          "output_type": "display_data"
        }
      ],
      "source": [
        "print(pt.format(summaries='[SUMMARIES]', question='[QUESTION]'))"
      ]
    },
    {
      "cell_type": "code",
      "execution_count": 118,
      "metadata": {
        "id": "wwOMdmEmj5qE"
      },
      "outputs": [],
      "source": [
        "answer = qaws(\"What is the solution to climate change?\")"
      ]
    },
    {
      "cell_type": "code",
      "execution_count": 119,
      "metadata": {
        "id": "tGtEw6NVj_nj"
      },
      "outputs": [
        {
          "data": {
            "text/plain": [
              "dict_keys(['question', 'answer', 'sources', 'source_documents'])"
            ]
          },
          "execution_count": 119,
          "metadata": {},
          "output_type": "execute_result"
        }
      ],
      "source": [
        "answer.keys()"
      ]
    },
    {
      "cell_type": "code",
      "execution_count": 122,
      "metadata": {
        "id": "flHelL8nkLEy"
      },
      "outputs": [
        {
          "data": {
            "text/html": [
              "<pre style=\"white-space:pre;overflow-x:auto;line-height:normal;font-family:Menlo,'DejaVu Sans Mono',consolas,'Courier New',monospace\"> The solution to climate change requires a just phase-out of the use of oil, gas, and coal to keep the carbon out \n",
              "of the atmosphere, rapid and immediate acceleration and proliferation of <span style=\"color: #008000; text-decoration-color: #008000\">\"far-reaching, multilevel, and </span>\n",
              "<span style=\"color: #008000; text-decoration-color: #008000\">cross-sectoral climate mitigation\"</span> and \"transitions in energy, land, urban and rural, and other extreme weather \n",
              "events, and for the United States to maintain existing resources and international commitments for bilateral and \n",
              "multilateral assistance to support those on the front lines of the climate crisis who have least contributed to the\n",
              "crisis. \n",
              "\n",
              "</pre>\n"
            ],
            "text/plain": [
              " The solution to climate change requires a just phase-out of the use of oil, gas, and coal to keep the carbon out \n",
              "of the atmosphere, rapid and immediate acceleration and proliferation of \u001b[32m\"far-reaching, multilevel, and \u001b[0m\n",
              "\u001b[32mcross-sectoral climate mitigation\"\u001b[0m and \"transitions in energy, land, urban and rural, and other extreme weather \n",
              "events, and for the United States to maintain existing resources and international commitments for bilateral and \n",
              "multilateral assistance to support those on the front lines of the climate crisis who have least contributed to the\n",
              "crisis. \n",
              "\n"
            ]
          },
          "metadata": {},
          "output_type": "display_data"
        },
        {
          "data": {
            "text/html": [
              "<pre style=\"white-space:pre;overflow-x:auto;line-height:normal;font-family:Menlo,'DejaVu Sans Mono',consolas,'Courier New',monospace\"><span style=\"color: #0000ff; text-decoration-color: #0000ff; text-decoration: underline\">https://www.congress.gov/bill/118th-congress/house-concurrent-resolution/37</span>\n",
              "</pre>\n"
            ],
            "text/plain": [
              "\u001b[4;94mhttps://www.congress.gov/bill/118th-congress/house-concurrent-resolution/37\u001b[0m\n"
            ]
          },
          "metadata": {},
          "output_type": "display_data"
        }
      ],
      "source": [
        "print(answer['answer'])\n",
        "print(answer['sources'])"
      ]
    },
    {
      "attachments": {},
      "cell_type": "markdown",
      "metadata": {},
      "source": [
        "# Prompt Construction Sidequest"
      ]
    },
    {
      "attachments": {},
      "cell_type": "markdown",
      "metadata": {
        "id": "rPvFbf88HtOa"
      },
      "source": [
        "# TODO\n",
        "\n",
        "Try alternatives to stuff\n",
        "\n",
        "Figure out how to pass all the options to the high level constructor. \n",
        "\n",
        "https://github.com/hwchase17/langchain/blob/master/langchain/indexes/vectorstore.py"
      ]
    },
    {
      "cell_type": "code",
      "execution_count": null,
      "metadata": {
        "id": "L7pVNm_wH0Aq"
      },
      "outputs": [],
      "source": [
        "index_creator = VectorstoreIndexCreator(\n",
        "    vectorstore_cls=Chroma, \n",
        "    embedding=OpenAIEmbeddings(),\n",
        "    text_splitter=RecursiveCharacterTextSplitter(chunk_size=512, chunk_overlap=128)\n",
        ")"
      ]
    },
    {
      "attachments": {},
      "cell_type": "markdown",
      "metadata": {
        "id": "4UtKAlz-f4u7"
      },
      "source": [
        "\n",
        "Sticking this here to decide if we want to use this in the course content\n",
        "\n",
        "https://xml.house.gov/\n",
        "\n",
        "TODO: Sidequest on implementing a langchain document loader using this XML schema ^^^\n",
        "\n",
        "https://www.everycrsreport.com/"
      ]
    },
    {
      "attachments": {},
      "cell_type": "markdown",
      "metadata": {
        "id": "J2yKjNzlGLSz"
      },
      "source": [
        "# Lets make it a conversation\n",
        "\n",
        "https://python.langchain.com/en/latest/modules/chains/index_examples/chat_vector_db.html"
      ]
    },
    {
      "cell_type": "code",
      "execution_count": 123,
      "metadata": {
        "id": "mFKsRfVUOtvZ"
      },
      "outputs": [],
      "source": [
        "from langchain.chains import ConversationalRetrievalChain"
      ]
    },
    {
      "cell_type": "code",
      "execution_count": 124,
      "metadata": {
        "id": "rkvuSKPqHVOb"
      },
      "outputs": [
        {
          "data": {
            "text/plain": [
              "<langchain.vectorstores.chroma.Chroma at 0x287c78310>"
            ]
          },
          "execution_count": 124,
          "metadata": {},
          "output_type": "execute_result"
        }
      ],
      "source": [
        "# TODO cover serializing the db to disk\n",
        "db"
      ]
    },
    {
      "cell_type": "code",
      "execution_count": 135,
      "metadata": {
        "id": "gq9o8v49HZjh"
      },
      "outputs": [],
      "source": [
        "from langchain.memory import ConversationBufferMemory\n",
        "memory = ConversationBufferMemory(memory_key=\"chat_history\", return_messages=True)"
      ]
    },
    {
      "cell_type": "code",
      "execution_count": 136,
      "metadata": {
        "id": "dqbSxH8THddW"
      },
      "outputs": [],
      "source": [
        "qachat = ConversationalRetrievalChain.from_llm(\n",
        "    OpenAI(temperature=0), \n",
        "    db.as_retriever(), \n",
        "    memory=memory\n",
        ")"
      ]
    },
    {
      "cell_type": "code",
      "execution_count": 137,
      "metadata": {
        "id": "ZbgFkWm_Ho9Q"
      },
      "outputs": [],
      "source": [
        "query = \"What is the solution to climate change?\"\n",
        "answer = qachat(query)"
      ]
    },
    {
      "cell_type": "code",
      "execution_count": 138,
      "metadata": {
        "id": "8baHeDdgIX2f"
      },
      "outputs": [
        {
          "data": {
            "text/html": [
              "<pre style=\"white-space:pre;overflow-x:auto;line-height:normal;font-family:Menlo,'DejaVu Sans Mono',consolas,'Courier New',monospace\"><span style=\"font-weight: bold\">{</span>\n",
              "    <span style=\"color: #008000; text-decoration-color: #008000\">'question'</span>: <span style=\"color: #008000; text-decoration-color: #008000\">'What is the solution to climate change?'</span>,\n",
              "    <span style=\"color: #008000; text-decoration-color: #008000\">'chat_history'</span>: <span style=\"font-weight: bold\">[</span>\n",
              "        <span style=\"color: #800080; text-decoration-color: #800080; font-weight: bold\">HumanMessage</span><span style=\"font-weight: bold\">(</span><span style=\"color: #808000; text-decoration-color: #808000\">content</span>=<span style=\"color: #008000; text-decoration-color: #008000\">'What is the solution to climate change?'</span>, <span style=\"color: #808000; text-decoration-color: #808000\">additional_kwargs</span>=<span style=\"font-weight: bold\">{}</span>, <span style=\"color: #808000; text-decoration-color: #808000\">example</span>=<span style=\"color: #ff0000; text-decoration-color: #ff0000; font-style: italic\">False</span><span style=\"font-weight: bold\">)</span>,\n",
              "        <span style=\"color: #800080; text-decoration-color: #800080; font-weight: bold\">AIMessage</span><span style=\"font-weight: bold\">(</span>\n",
              "            <span style=\"color: #808000; text-decoration-color: #808000\">content</span>=<span style=\"color: #008000; text-decoration-color: #008000\">' The solution to climate change is to limit warming through emissions reduction and carbon </span>\n",
              "<span style=\"color: #008000; text-decoration-color: #008000\">sequestration, as well as rapid and immediate acceleration and proliferation of far-reaching, multilevel, and </span>\n",
              "<span style=\"color: #008000; text-decoration-color: #008000\">cross-sectoral climate mitigation and transitions in energy, land, urban and rural areas. Additionally, carbon </span>\n",
              "<span style=\"color: #008000; text-decoration-color: #008000\">levels must be reduced to not more than 350 parts per million, and likely lower, in order to preserve a planet </span>\n",
              "<span style=\"color: #008000; text-decoration-color: #008000\">similar to that on which civilization developed and to which life on Earth is adapted.'</span>,\n",
              "            <span style=\"color: #808000; text-decoration-color: #808000\">additional_kwargs</span>=<span style=\"font-weight: bold\">{}</span>,\n",
              "            <span style=\"color: #808000; text-decoration-color: #808000\">example</span>=<span style=\"color: #ff0000; text-decoration-color: #ff0000; font-style: italic\">False</span>\n",
              "        <span style=\"font-weight: bold\">)</span>\n",
              "    <span style=\"font-weight: bold\">]</span>,\n",
              "    <span style=\"color: #008000; text-decoration-color: #008000\">'answer'</span>: <span style=\"color: #008000; text-decoration-color: #008000\">' The solution to climate change is to limit warming through emissions reduction and carbon </span>\n",
              "<span style=\"color: #008000; text-decoration-color: #008000\">sequestration, as well as rapid and immediate acceleration and proliferation of far-reaching, multilevel, and </span>\n",
              "<span style=\"color: #008000; text-decoration-color: #008000\">cross-sectoral climate mitigation and transitions in energy, land, urban and rural areas. Additionally, carbon </span>\n",
              "<span style=\"color: #008000; text-decoration-color: #008000\">levels must be reduced to not more than 350 parts per million, and likely lower, in order to preserve a planet </span>\n",
              "<span style=\"color: #008000; text-decoration-color: #008000\">similar to that on which civilization developed and to which life on Earth is adapted.'</span>\n",
              "<span style=\"font-weight: bold\">}</span>\n",
              "</pre>\n"
            ],
            "text/plain": [
              "\u001b[1m{\u001b[0m\n",
              "    \u001b[32m'question'\u001b[0m: \u001b[32m'What is the solution to climate change?'\u001b[0m,\n",
              "    \u001b[32m'chat_history'\u001b[0m: \u001b[1m[\u001b[0m\n",
              "        \u001b[1;35mHumanMessage\u001b[0m\u001b[1m(\u001b[0m\u001b[33mcontent\u001b[0m=\u001b[32m'What is the solution to climate change?'\u001b[0m, \u001b[33madditional_kwargs\u001b[0m=\u001b[1m{\u001b[0m\u001b[1m}\u001b[0m, \u001b[33mexample\u001b[0m=\u001b[3;91mFalse\u001b[0m\u001b[1m)\u001b[0m,\n",
              "        \u001b[1;35mAIMessage\u001b[0m\u001b[1m(\u001b[0m\n",
              "            \u001b[33mcontent\u001b[0m=\u001b[32m' The solution to climate change is to limit warming through emissions reduction and carbon \u001b[0m\n",
              "\u001b[32msequestration, as well as rapid and immediate acceleration and proliferation of far-reaching, multilevel, and \u001b[0m\n",
              "\u001b[32mcross-sectoral climate mitigation and transitions in energy, land, urban and rural areas. Additionally, carbon \u001b[0m\n",
              "\u001b[32mlevels must be reduced to not more than 350 parts per million, and likely lower, in order to preserve a planet \u001b[0m\n",
              "\u001b[32msimilar to that on which civilization developed and to which life on Earth is adapted.'\u001b[0m,\n",
              "            \u001b[33madditional_kwargs\u001b[0m=\u001b[1m{\u001b[0m\u001b[1m}\u001b[0m,\n",
              "            \u001b[33mexample\u001b[0m=\u001b[3;91mFalse\u001b[0m\n",
              "        \u001b[1m)\u001b[0m\n",
              "    \u001b[1m]\u001b[0m,\n",
              "    \u001b[32m'answer'\u001b[0m: \u001b[32m' The solution to climate change is to limit warming through emissions reduction and carbon \u001b[0m\n",
              "\u001b[32msequestration, as well as rapid and immediate acceleration and proliferation of far-reaching, multilevel, and \u001b[0m\n",
              "\u001b[32mcross-sectoral climate mitigation and transitions in energy, land, urban and rural areas. Additionally, carbon \u001b[0m\n",
              "\u001b[32mlevels must be reduced to not more than 350 parts per million, and likely lower, in order to preserve a planet \u001b[0m\n",
              "\u001b[32msimilar to that on which civilization developed and to which life on Earth is adapted.'\u001b[0m\n",
              "\u001b[1m}\u001b[0m\n"
            ]
          },
          "metadata": {},
          "output_type": "display_data"
        }
      ],
      "source": [
        "print(answer)"
      ]
    },
    {
      "cell_type": "code",
      "execution_count": 139,
      "metadata": {
        "id": "LaaP287rIdDC"
      },
      "outputs": [],
      "source": [
        "follow_up = \"How certain is the 350 number?\"\n",
        "result = qachat({\"question\": follow_up})"
      ]
    },
    {
      "cell_type": "code",
      "execution_count": 140,
      "metadata": {
        "id": "C7UitxViI-mm"
      },
      "outputs": [
        {
          "data": {
            "text/html": [
              "<pre style=\"white-space:pre;overflow-x:auto;line-height:normal;font-family:Menlo,'DejaVu Sans Mono',consolas,'Courier New',monospace\"><span style=\"font-weight: bold\">{</span>\n",
              "    <span style=\"color: #008000; text-decoration-color: #008000\">'question'</span>: <span style=\"color: #008000; text-decoration-color: #008000\">'How certain is the 350 number?'</span>,\n",
              "    <span style=\"color: #008000; text-decoration-color: #008000\">'chat_history'</span>: <span style=\"font-weight: bold\">[</span>\n",
              "        <span style=\"color: #800080; text-decoration-color: #800080; font-weight: bold\">HumanMessage</span><span style=\"font-weight: bold\">(</span><span style=\"color: #808000; text-decoration-color: #808000\">content</span>=<span style=\"color: #008000; text-decoration-color: #008000\">'What is the solution to climate change?'</span>, <span style=\"color: #808000; text-decoration-color: #808000\">additional_kwargs</span>=<span style=\"font-weight: bold\">{}</span>, <span style=\"color: #808000; text-decoration-color: #808000\">example</span>=<span style=\"color: #ff0000; text-decoration-color: #ff0000; font-style: italic\">False</span><span style=\"font-weight: bold\">)</span>,\n",
              "        <span style=\"color: #800080; text-decoration-color: #800080; font-weight: bold\">AIMessage</span><span style=\"font-weight: bold\">(</span>\n",
              "            <span style=\"color: #808000; text-decoration-color: #808000\">content</span>=<span style=\"color: #008000; text-decoration-color: #008000\">' The solution to climate change is to limit warming through emissions reduction and carbon </span>\n",
              "<span style=\"color: #008000; text-decoration-color: #008000\">sequestration, as well as rapid and immediate acceleration and proliferation of far-reaching, multilevel, and </span>\n",
              "<span style=\"color: #008000; text-decoration-color: #008000\">cross-sectoral climate mitigation and transitions in energy, land, urban and rural areas. Additionally, carbon </span>\n",
              "<span style=\"color: #008000; text-decoration-color: #008000\">levels must be reduced to not more than 350 parts per million, and likely lower, in order to preserve a planet </span>\n",
              "<span style=\"color: #008000; text-decoration-color: #008000\">similar to that on which civilization developed and to which life on Earth is adapted.'</span>,\n",
              "            <span style=\"color: #808000; text-decoration-color: #808000\">additional_kwargs</span>=<span style=\"font-weight: bold\">{}</span>,\n",
              "            <span style=\"color: #808000; text-decoration-color: #808000\">example</span>=<span style=\"color: #ff0000; text-decoration-color: #ff0000; font-style: italic\">False</span>\n",
              "        <span style=\"font-weight: bold\">)</span>,\n",
              "        <span style=\"color: #800080; text-decoration-color: #800080; font-weight: bold\">HumanMessage</span><span style=\"font-weight: bold\">(</span><span style=\"color: #808000; text-decoration-color: #808000\">content</span>=<span style=\"color: #008000; text-decoration-color: #008000\">'How certain is the 350 number?'</span>, <span style=\"color: #808000; text-decoration-color: #808000\">additional_kwargs</span>=<span style=\"font-weight: bold\">{}</span>, <span style=\"color: #808000; text-decoration-color: #808000\">example</span>=<span style=\"color: #ff0000; text-decoration-color: #ff0000; font-style: italic\">False</span><span style=\"font-weight: bold\">)</span>,\n",
              "        <span style=\"color: #800080; text-decoration-color: #800080; font-weight: bold\">AIMessage</span><span style=\"font-weight: bold\">(</span>\n",
              "            <span style=\"color: #808000; text-decoration-color: #808000\">content</span>=<span style=\"color: #008000; text-decoration-color: #008000\">' According to former National Aeronautics and Space Administration climatologist Dr. James </span>\n",
              "<span style=\"color: #008000; text-decoration-color: #008000\">Hansen, carbon levels must be reduced to not more than 350 parts per million, and likely lower, if humanity wishes </span>\n",
              "<span style=\"color: #008000; text-decoration-color: #008000\">to preserve a planet similar to that on which civilization developed and to which life on Earth is adapted.'</span>,\n",
              "            <span style=\"color: #808000; text-decoration-color: #808000\">additional_kwargs</span>=<span style=\"font-weight: bold\">{}</span>,\n",
              "            <span style=\"color: #808000; text-decoration-color: #808000\">example</span>=<span style=\"color: #ff0000; text-decoration-color: #ff0000; font-style: italic\">False</span>\n",
              "        <span style=\"font-weight: bold\">)</span>\n",
              "    <span style=\"font-weight: bold\">]</span>,\n",
              "    <span style=\"color: #008000; text-decoration-color: #008000\">'answer'</span>: <span style=\"color: #008000; text-decoration-color: #008000\">' According to former National Aeronautics and Space Administration climatologist Dr. James Hansen, </span>\n",
              "<span style=\"color: #008000; text-decoration-color: #008000\">carbon levels must be reduced to not more than 350 parts per million, and likely lower, if humanity wishes to </span>\n",
              "<span style=\"color: #008000; text-decoration-color: #008000\">preserve a planet similar to that on which civilization developed and to which life on Earth is adapted.'</span>\n",
              "<span style=\"font-weight: bold\">}</span>\n",
              "</pre>\n"
            ],
            "text/plain": [
              "\u001b[1m{\u001b[0m\n",
              "    \u001b[32m'question'\u001b[0m: \u001b[32m'How certain is the 350 number?'\u001b[0m,\n",
              "    \u001b[32m'chat_history'\u001b[0m: \u001b[1m[\u001b[0m\n",
              "        \u001b[1;35mHumanMessage\u001b[0m\u001b[1m(\u001b[0m\u001b[33mcontent\u001b[0m=\u001b[32m'What is the solution to climate change?'\u001b[0m, \u001b[33madditional_kwargs\u001b[0m=\u001b[1m{\u001b[0m\u001b[1m}\u001b[0m, \u001b[33mexample\u001b[0m=\u001b[3;91mFalse\u001b[0m\u001b[1m)\u001b[0m,\n",
              "        \u001b[1;35mAIMessage\u001b[0m\u001b[1m(\u001b[0m\n",
              "            \u001b[33mcontent\u001b[0m=\u001b[32m' The solution to climate change is to limit warming through emissions reduction and carbon \u001b[0m\n",
              "\u001b[32msequestration, as well as rapid and immediate acceleration and proliferation of far-reaching, multilevel, and \u001b[0m\n",
              "\u001b[32mcross-sectoral climate mitigation and transitions in energy, land, urban and rural areas. Additionally, carbon \u001b[0m\n",
              "\u001b[32mlevels must be reduced to not more than 350 parts per million, and likely lower, in order to preserve a planet \u001b[0m\n",
              "\u001b[32msimilar to that on which civilization developed and to which life on Earth is adapted.'\u001b[0m,\n",
              "            \u001b[33madditional_kwargs\u001b[0m=\u001b[1m{\u001b[0m\u001b[1m}\u001b[0m,\n",
              "            \u001b[33mexample\u001b[0m=\u001b[3;91mFalse\u001b[0m\n",
              "        \u001b[1m)\u001b[0m,\n",
              "        \u001b[1;35mHumanMessage\u001b[0m\u001b[1m(\u001b[0m\u001b[33mcontent\u001b[0m=\u001b[32m'How certain is the 350 number?'\u001b[0m, \u001b[33madditional_kwargs\u001b[0m=\u001b[1m{\u001b[0m\u001b[1m}\u001b[0m, \u001b[33mexample\u001b[0m=\u001b[3;91mFalse\u001b[0m\u001b[1m)\u001b[0m,\n",
              "        \u001b[1;35mAIMessage\u001b[0m\u001b[1m(\u001b[0m\n",
              "            \u001b[33mcontent\u001b[0m=\u001b[32m' According to former National Aeronautics and Space Administration climatologist Dr. James \u001b[0m\n",
              "\u001b[32mHansen, carbon levels must be reduced to not more than 350 parts per million, and likely lower, if humanity wishes \u001b[0m\n",
              "\u001b[32mto preserve a planet similar to that on which civilization developed and to which life on Earth is adapted.'\u001b[0m,\n",
              "            \u001b[33madditional_kwargs\u001b[0m=\u001b[1m{\u001b[0m\u001b[1m}\u001b[0m,\n",
              "            \u001b[33mexample\u001b[0m=\u001b[3;91mFalse\u001b[0m\n",
              "        \u001b[1m)\u001b[0m\n",
              "    \u001b[1m]\u001b[0m,\n",
              "    \u001b[32m'answer'\u001b[0m: \u001b[32m' According to former National Aeronautics and Space Administration climatologist Dr. James Hansen, \u001b[0m\n",
              "\u001b[32mcarbon levels must be reduced to not more than 350 parts per million, and likely lower, if humanity wishes to \u001b[0m\n",
              "\u001b[32mpreserve a planet similar to that on which civilization developed and to which life on Earth is adapted.'\u001b[0m\n",
              "\u001b[1m}\u001b[0m\n"
            ]
          },
          "metadata": {},
          "output_type": "display_data"
        }
      ],
      "source": [
        "print(result)"
      ]
    },
    {
      "cell_type": "code",
      "execution_count": null,
      "metadata": {
        "id": "qxLyw-PlJIMQ"
      },
      "outputs": [],
      "source": []
    }
  ],
  "metadata": {
    "colab": {
      "include_colab_link": true,
      "provenance": []
    },
    "kernelspec": {
      "display_name": "Python 3",
      "name": "python3"
    },
    "language_info": {
      "codemirror_mode": {
        "name": "ipython",
        "version": 3
      },
      "file_extension": ".py",
      "mimetype": "text/x-python",
      "name": "python",
      "nbconvert_exporter": "python",
      "pygments_lexer": "ipython3",
      "version": "3.10.6"
    }
  },
  "nbformat": 4,
  "nbformat_minor": 0
}
