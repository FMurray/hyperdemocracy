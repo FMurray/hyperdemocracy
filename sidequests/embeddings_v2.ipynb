{
 "cells": [
  {
   "cell_type": "markdown",
   "metadata": {},
   "source": [
    "# Overview of Embeddings"
   ]
  },
  {
   "cell_type": "code",
   "execution_count": null,
   "metadata": {},
   "outputs": [],
   "source": [
    "import json\n",
    "import os\n",
    "import tiktoken"
   ]
  },
  {
   "cell_type": "code",
   "execution_count": null,
   "metadata": {},
   "outputs": [],
   "source": [
    "with open(\"../secrets.json\", \"r\") as fp:\n",
    "    secrets = json.load(fp)\n",
    "os.environ['OPENAI_API_KEY'] = secrets[\"OPENAI_API_KEY\"]"
   ]
  },
  {
   "cell_type": "markdown",
   "metadata": {},
   "source": [
    "# OpenAI Embeddings\n",
    "\n",
    "* https://platform.openai.com/docs/guides/embeddings/what-are-embeddings\n",
    "* https://github.com/openai/openai-cookbook/blob/main/examples/Get_embeddings.ipynb\n",
    "* https://github.com/openai/openai-python/blob/main/openai/embeddings_utils.py\n",
    "\n",
    "Parameters\n",
    "\n",
    "* context length: 8192\n",
    "* embedding dimension: 1536"
   ]
  },
  {
   "cell_type": "markdown",
   "metadata": {},
   "source": [
    "# Python OpenAI Utilities\n",
    "\n",
    "Lets look at the function signature provided by the openai Python package function `get_embeddings`.\n",
    "Note that the function removes new lines from the input text before embedding it. \n",
    "This is a reminder that its always useful to examine implementations in code in addition to reading docs."
   ]
  },
  {
   "cell_type": "code",
   "execution_count": null,
   "metadata": {},
   "outputs": [],
   "source": [
    "enc = tiktoken.encoding_for_model(\"text-embedding-ada-002\")\n",
    "print(enc)\n",
    "token_ids = enc.encode(\"self-evident\")\n",
    "token_strs = [enc.decode_single_token_bytes(token) for token in token_ids]\n",
    "print(\"token_ids: \", token_ids)\n",
    "print(\"token_strs: \", token_strs)"
   ]
  },
  {
   "cell_type": "code",
   "execution_count": null,
   "metadata": {},
   "outputs": [],
   "source": [
    "from openai.embeddings_utils import get_embedding"
   ]
  },
  {
   "cell_type": "code",
   "execution_count": null,
   "metadata": {},
   "outputs": [],
   "source": [
    "get_embedding??"
   ]
  },
  {
   "cell_type": "code",
   "execution_count": null,
   "metadata": {},
   "outputs": [],
   "source": [
    "text = \"\"\"We hold these truths to be self-evident, that all men are created equal,\n",
    "that they are endowed by their Creator with certain unalienable Rights,\n",
    "that among these are Life, Liberty and the pursuit of Happiness.\"\"\""
   ]
  },
  {
   "cell_type": "code",
   "execution_count": null,
   "metadata": {},
   "outputs": [],
   "source": [
    "print(text)"
   ]
  },
  {
   "cell_type": "code",
   "execution_count": null,
   "metadata": {},
   "outputs": [],
   "source": [
    "print(text.replace(\"\\n\", \" \"))"
   ]
  },
  {
   "cell_type": "code",
   "execution_count": null,
   "metadata": {},
   "outputs": [],
   "source": [
    "model_name = 'text-embedding-ada-002'  # its good practice to specify a model instead of relying on defaults"
   ]
  },
  {
   "cell_type": "code",
   "execution_count": null,
   "metadata": {},
   "outputs": [],
   "source": [
    "import openai\n",
    "import numpy as np"
   ]
  },
  {
   "cell_type": "code",
   "execution_count": null,
   "metadata": {},
   "outputs": [],
   "source": [
    "def check_close(vec1, vec2, rtol=1e-3, atol=1e-3):\n",
    "    \"\"\"Check that vectors are close to equal.\"\"\"\n",
    "    return np.allclose(np.array(vec1), np.array(vec2), rtol=rtol, atol=atol)"
   ]
  },
  {
   "cell_type": "code",
   "execution_count": null,
   "metadata": {},
   "outputs": [],
   "source": [
    "# show that OpenAI embeddings are 1536 dimensional\n",
    "oai_embd_w_new_lines = openai.Embedding.create(input=text, model=model_name)['data'][0]['embedding']\n",
    "len(oai_embd_w_new_lines), oai_embd_w_new_lines[0:10]"
   ]
  },
  {
   "cell_type": "code",
   "execution_count": null,
   "metadata": {},
   "outputs": [],
   "source": [
    "# do same embedding after removing new lines\n",
    "oai_embd_wo_new_lines = openai.Embedding.create(input=text.replace(\"\\n\", \" \"), model=model_name)['data'][0]['embedding']\n",
    "len(oai_embd_wo_new_lines), oai_embd_wo_new_lines[0:10]"
   ]
  },
  {
   "cell_type": "code",
   "execution_count": null,
   "metadata": {},
   "outputs": [],
   "source": [
    "# use openAI utility function to embed\n",
    "oai_embd_util = get_embedding(text, engine=model_name)\n",
    "oai_embd_util[0:10]"
   ]
  },
  {
   "cell_type": "code",
   "execution_count": null,
   "metadata": {},
   "outputs": [],
   "source": [
    "# show that the embedding util function removes new lines\n",
    "check_close(oai_embd_util, oai_embd_wo_new_lines)"
   ]
  },
  {
   "cell_type": "markdown",
   "metadata": {},
   "source": [
    "# Langchain Wrapper Around OpenAI Embeddings"
   ]
  },
  {
   "cell_type": "code",
   "execution_count": null,
   "metadata": {},
   "outputs": [],
   "source": [
    "from langchain.embeddings import OpenAIEmbeddings\n",
    "from langchain.embeddings.base import Embeddings"
   ]
  },
  {
   "cell_type": "markdown",
   "metadata": {},
   "source": [
    "The abstract base class for `Embeddings` defines two abstract methods related to the primary use case in LangChain, namely retrieval. In the case of the OpenAI wrapper, they call the same end-point, but its good to keep in mind the potential for differentiation."
   ]
  },
  {
   "cell_type": "code",
   "execution_count": null,
   "metadata": {},
   "outputs": [],
   "source": [
    "Embeddings??"
   ]
  },
  {
   "cell_type": "code",
   "execution_count": null,
   "metadata": {},
   "outputs": [],
   "source": [
    "embeddings = OpenAIEmbeddings(model=model_name)"
   ]
  },
  {
   "cell_type": "code",
   "execution_count": null,
   "metadata": {},
   "outputs": [],
   "source": [
    "embeddings.embed_documents??"
   ]
  },
  {
   "cell_type": "code",
   "execution_count": null,
   "metadata": {},
   "outputs": [],
   "source": [
    "embeddings.embed_query??"
   ]
  },
  {
   "cell_type": "markdown",
   "metadata": {},
   "source": [
    "## Activity \n",
    "\n",
    "* discover what `_get_len_safe_embeddings` does"
   ]
  },
  {
   "cell_type": "code",
   "execution_count": null,
   "metadata": {},
   "outputs": [],
   "source": [
    "# use LangChain `embed_query` \n",
    "lc_embd_query = embeddings.embed_query(text.replace(\"\\n\", \" \"))"
   ]
  },
  {
   "cell_type": "code",
   "execution_count": null,
   "metadata": {},
   "outputs": [],
   "source": [
    "# use LangChain `embed_docuemnts`\n",
    "lc_embd_docs = embeddings.embed_documents([text.replace(\"\\n\", \" \")])[0]"
   ]
  },
  {
   "cell_type": "code",
   "execution_count": null,
   "metadata": {},
   "outputs": [],
   "source": [
    "# demonstrate the two LangChain methods return the same thing\n",
    "check_close(lc_embd_query, lc_embd_docs)"
   ]
  },
  {
   "cell_type": "code",
   "execution_count": null,
   "metadata": {},
   "outputs": [],
   "source": [
    "# demonstrate the LangChain and direct OpenAI methods return the same thing\n",
    "check_close(lc_embd_query, oai_embd_wo_new_lines)"
   ]
  },
  {
   "cell_type": "markdown",
   "metadata": {},
   "source": [
    "# Vector Distances"
   ]
  },
  {
   "attachments": {},
   "cell_type": "markdown",
   "metadata": {},
   "source": [
    "## L1 (Manhattan) Norm\n",
    "\n",
    "$$\\Large  \n",
    "\\lVert \\vec{u} \\rVert_1 = \n",
    "\\sum_{i=1}^{n} |u_i|\n",
    "$$ \n",
    "\n",
    "## L2 (Euclidean) Norm\n",
    "\n",
    "$$\\Large  \n",
    "\\lVert \\vec{u} \\rVert_2 = \n",
    "\\left[ \\sum_{i=1}^{n} u_i^2 \\right]^{1/2} \n",
    "$$ \n",
    "\n",
    "## Lp Norm\n",
    "\n",
    "$$\\Large  \n",
    "\\lVert \\vec{u} \\rVert_p = \n",
    "\\left[ \\sum_{i=1}^{n} |u_i|^p \\right]^{1/p} \n",
    "$$ \n",
    "\n",
    "## L2 Distance\n",
    "\n",
    "$$\\Large  \n",
    "d_{2} = \\lVert \\vec{x} - \\vec{y} \\rVert_2 = \n",
    "\\left[ \\sum_{i=1}^{n} \\left( x_i - y_i\\right)^2 \\right]^{1/2} \n",
    "$$ \n",
    "\n",
    "## Cosine Distance\n",
    "\n",
    "$$\\Large  \n",
    "1 - \\cos {\\theta} = 1 - \\frac{\\vec{x} \\cdot \\vec{y}}{\\lVert \\vec{x} \\rVert_2 \\lVert \\vec{y} \\rVert_2}\n",
    "$$ \n"
   ]
  },
  {
   "cell_type": "code",
   "execution_count": null,
   "metadata": {},
   "outputs": [],
   "source": [
    "from scipy import spatial"
   ]
  },
  {
   "cell_type": "code",
   "execution_count": null,
   "metadata": {},
   "outputs": [],
   "source": [
    "words = [\n",
    "    \"cat\", \n",
    "    \"dog\",\n",
    "    \"chair\",\n",
    "]\n",
    "wembd = np.array([embeddings.embed_query(w) for w in words])\n",
    "cat, dog, chair = wembd"
   ]
  },
  {
   "cell_type": "code",
   "execution_count": null,
   "metadata": {},
   "outputs": [],
   "source": [
    "wembd"
   ]
  },
  {
   "cell_type": "code",
   "execution_count": null,
   "metadata": {},
   "outputs": [],
   "source": [
    "wembd.shape"
   ]
  },
  {
   "cell_type": "code",
   "execution_count": null,
   "metadata": {},
   "outputs": [],
   "source": [
    "# implement L2 by hand \n",
    "np.sqrt(np.sum((cat-dog)**2))"
   ]
  },
  {
   "cell_type": "code",
   "execution_count": null,
   "metadata": {},
   "outputs": [],
   "source": [
    "print(\"cat to dog\", spatial.distance.euclidean(cat, dog))\n",
    "print(\"cat to chair\", spatial.distance.euclidean(cat, chair))"
   ]
  },
  {
   "cell_type": "code",
   "execution_count": null,
   "metadata": {},
   "outputs": [],
   "source": [
    "print(\"cat to dog\", spatial.distance.cosine(cat, dog))\n",
    "print(\"cat to chair\", spatial.distance.cosine(cat, chair))"
   ]
  },
  {
   "cell_type": "code",
   "execution_count": null,
   "metadata": {},
   "outputs": [],
   "source": []
  },
  {
   "cell_type": "code",
   "execution_count": null,
   "metadata": {},
   "outputs": [],
   "source": []
  },
  {
   "cell_type": "code",
   "execution_count": null,
   "metadata": {},
   "outputs": [],
   "source": []
  },
  {
   "cell_type": "code",
   "execution_count": null,
   "metadata": {},
   "outputs": [],
   "source": []
  }
 ],
 "metadata": {
  "kernelspec": {
   "display_name": "Python 3 (ipykernel)",
   "language": "python",
   "name": "python3"
  },
  "language_info": {
   "codemirror_mode": {
    "name": "ipython",
    "version": 3
   },
   "file_extension": ".py",
   "mimetype": "text/x-python",
   "name": "python",
   "nbconvert_exporter": "python",
   "pygments_lexer": "ipython3",
   "version": "3.10.11"
  }
 },
 "nbformat": 4,
 "nbformat_minor": 4
}
