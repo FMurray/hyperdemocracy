{
 "cells": [
  {
   "cell_type": "markdown",
   "id": "7e977897-3e33-4589-9774-1ba24fc4c509",
   "metadata": {},
   "source": [
    "# Text Splitting Side Quest"
   ]
  },
  {
   "cell_type": "markdown",
   "id": "5e516cf6-8b3d-4e6e-869f-088ded1c1785",
   "metadata": {},
   "source": [
    "> When you want to deal with long pieces of text, it is necessary to split up that text into chunks. As simple as this sounds, there is a lot of potential complexity here. Ideally, you want to keep the semantically related pieces of text together. What \"semantically related\" means could depend on the type of text. This notebook showcases several ways to do that.\n",
    "\n",
    "> At a high level, text splitters work as following:\n",
    "\n",
    ">    1. Split the text up into small, semantically meaningful chunks (often sentences).\n",
    ">    2. Start combining these small chunks into a larger chunk until you reach a certain size (as measured by some function).\n",
    ">    3. Once you reach that size, make that chunk its own piece of text and then start creating a new chunk of text with some overlap (to keep context between chunks).\n",
    "\n",
    "> That means there are two different axes along which you can customize your text splitter:\n",
    "\n",
    ">    1. How the text is split\n",
    ">    2. How the chunk size is measured\n",
    "\n",
    "-- https://python.langchain.com/docs/modules/data_connection/document_transformers/#text-splitters\n",
    "\n",
    "Here are some useful options for splitting legislative text, \n",
    "\n",
    "* [character text splitter](https://python.langchain.com/docs/modules/data_connection/document_transformers/text_splitters/character_text_splitter)\n",
    "  * How the text is split: by single character\n",
    "  * How the chunk size is measured: by number of characters\n",
    "* [recursive text splitter](https://python.langchain.com/docs/modules/data_connection/document_transformers/text_splitters/recursive_text_splitter)\n",
    "  * How the text is split: by list of characters\n",
    "  * How the chunk size is measured: by number of characters\n",
    "* [split by token](https://python.langchain.com/docs/modules/data_connection/document_transformers/text_splitters/split_by_token)\n",
    "  * How the text is split: by character passed in\n",
    "  * How the chunk size is measured: by tiktoken tokenizer\n",
    "\n",
    "If you are not familiar with the concept of a token, this article may help, \n",
    "* https://simonwillison.net/2023/Jun/8/gpt-tokenizers/\n",
    "\n",
    "Mini Side Quest\n",
    "* see if there is anything interesting that can be done with this https://twitter.com/RLanceMartin/status/1670489431168659456?s=20"
   ]
  },
  {
   "cell_type": "code",
   "execution_count": 1,
   "id": "6e9be137-02c9-4a96-b603-9ac6091d883d",
   "metadata": {},
   "outputs": [],
   "source": [
    "from langchain.text_splitter import CharacterTextSplitter\n",
    "from langchain.text_splitter import RecursiveCharacterTextSplitter\n",
    "from langchain.text_splitter import TokenTextSplitter\n",
    "from langchain.text_splitter import SentenceTransformersTokenTextSplitter"
   ]
  },
  {
   "cell_type": "code",
   "execution_count": 2,
   "id": "5aa0c9c2-9dd9-4ee7-9964-d6fac70851a6",
   "metadata": {},
   "outputs": [],
   "source": [
    "text = \"\"\"We hold these truths to be self-evident, that all men are created equal,\n",
    "\n",
    "that they are endowed by their Creator with certain unalienable Rights,\n",
    "\n",
    "that among these are Life, Liberty and the pursuit of Happiness.\"\"\""
   ]
  },
  {
   "cell_type": "markdown",
   "id": "8ffe5b32-aa09-4fc1-9ac2-6e4bfa806ab8",
   "metadata": {},
   "source": [
    "## CharacterTextSplitter"
   ]
  },
  {
   "cell_type": "code",
   "execution_count": 3,
   "id": "91ebc0e3-7cc7-446f-97d4-d52caaef974d",
   "metadata": {},
   "outputs": [
    {
     "name": "stderr",
     "output_type": "stream",
     "text": [
      "Created a chunk of size 72, which is longer than the specified 20\n",
      "Created a chunk of size 71, which is longer than the specified 20\n"
     ]
    },
    {
     "data": {
      "text/plain": [
       "['We hold these truths to be self-evident, that all men are created equal,',\n",
       " 'that they are endowed by their Creator with certain unalienable Rights,',\n",
       " 'that among these are Life, Liberty and the pursuit of Happiness.']"
      ]
     },
     "execution_count": 3,
     "metadata": {},
     "output_type": "execute_result"
    }
   ],
   "source": [
    "# this is the default separator\n",
    "CharacterTextSplitter(separator=\"\\n\\n\", chunk_size=20, chunk_overlap=0).split_text(text)"
   ]
  },
  {
   "cell_type": "code",
   "execution_count": 4,
   "id": "0f015e06-b9a9-475c-91a4-bc178ae4e461",
   "metadata": {},
   "outputs": [
    {
     "data": {
      "text/plain": [
       "['We hold these truths',\n",
       " 'to be self-evident,',\n",
       " 'that all men are',\n",
       " 'created equal,\\n\\nthat',\n",
       " 'they are endowed by',\n",
       " 'their Creator with',\n",
       " 'certain unalienable',\n",
       " 'Rights,\\n\\nthat among',\n",
       " 'these are Life,',\n",
       " 'Liberty and the',\n",
       " 'pursuit of',\n",
       " 'Happiness.']"
      ]
     },
     "execution_count": 4,
     "metadata": {},
     "output_type": "execute_result"
    }
   ],
   "source": [
    "# this is what happens if we chandetailge the default separator\n",
    "CharacterTextSplitter(separator=\" \", chunk_size=20, chunk_overlap=0).split_text(text)"
   ]
  },
  {
   "cell_type": "code",
   "execution_count": 5,
   "id": "1b9c6829-b14f-4c56-8e24-24223850059f",
   "metadata": {},
   "outputs": [
    {
     "data": {
      "text/plain": [
       "['We hold these truths',\n",
       " 'truths to be',\n",
       " 'to be self-evident,',\n",
       " 'that all men are',\n",
       " 'men are created',\n",
       " 'created equal,\\n\\nthat',\n",
       " 'they are endowed by',\n",
       " 'endowed by their',\n",
       " 'by their Creator',\n",
       " 'Creator with certain',\n",
       " 'certain unalienable',\n",
       " 'Rights,\\n\\nthat among',\n",
       " 'among these are',\n",
       " 'these are Life,',\n",
       " 'are Life, Liberty',\n",
       " 'Liberty and the',\n",
       " 'and the pursuit of',\n",
       " 'of Happiness.']"
      ]
     },
     "execution_count": 5,
     "metadata": {},
     "output_type": "execute_result"
    }
   ],
   "source": [
    "# this is what overlap does\n",
    "CharacterTextSplitter(separator=\" \", chunk_size=20, chunk_overlap=10).split_text(text)"
   ]
  },
  {
   "cell_type": "markdown",
   "id": "eced03ac-37da-4afb-a112-f3317d101975",
   "metadata": {},
   "source": [
    "## RecursiveCharacterTextSplitter"
   ]
  },
  {
   "cell_type": "code",
   "execution_count": 6,
   "id": "69b024a5-12fa-4620-b98b-86f4b9eaffbd",
   "metadata": {},
   "outputs": [
    {
     "data": {
      "text/plain": [
       "['We hold these truths to be self-evident,',\n",
       " 'that all men are created equal,',\n",
       " 'that they are endowed by their Creator',\n",
       " 'with certain unalienable Rights,',\n",
       " 'that among these are Life, Liberty and',\n",
       " 'the pursuit of Happiness.']"
      ]
     },
     "execution_count": 6,
     "metadata": {},
     "output_type": "execute_result"
    }
   ],
   "source": [
    "# these are the default separators\n",
    "RecursiveCharacterTextSplitter(separators=[\"\\n\\n\", \"\\n\", \" \", \"\"], chunk_size=40, chunk_overlap=0).split_text(text)"
   ]
  },
  {
   "cell_type": "code",
   "execution_count": 7,
   "id": "17a6f749-eda9-4cea-8d03-6bf8e729d367",
   "metadata": {},
   "outputs": [
    {
     "data": {
      "text/plain": [
       "['We hold these truths to be self-evident',\n",
       " ', that all men are created equal,',\n",
       " 'that they are endowed by their Creator',\n",
       " 'with certain unalienable Rights',\n",
       " ',',\n",
       " 'that among these are Life',\n",
       " ', Liberty and the pursuit of Happiness.']"
      ]
     },
     "execution_count": 7,
     "metadata": {},
     "output_type": "execute_result"
    }
   ],
   "source": [
    "# this is what happens if we add \",\" to the separators\n",
    "RecursiveCharacterTextSplitter(separators=[\"\\n\\n\", \"\\n\", \",\", \" \", \"\"], chunk_size=40, chunk_overlap=0).split_text(text)"
   ]
  },
  {
   "cell_type": "markdown",
   "id": "ec429c93-e237-4f54-a54a-1c196744e142",
   "metadata": {},
   "source": [
    "## TokenTextSplitter\n",
    "\n",
    "Here we show two versions of token text splitters. One from HuggingFace and one from OpenAI."
   ]
  },
  {
   "cell_type": "code",
   "execution_count": 9,
   "id": "fced11c3-4518-4727-9e94-1c2fedb9421d",
   "metadata": {},
   "outputs": [],
   "source": [
    "# the length unit for chunk_size is now tokens not characters\n",
    "ts = SentenceTransformersTokenTextSplitter(\n",
    "    model_name=\"sentence-transformers/all-mpnet-base-v2\",\n",
    "    chunk_size=10, \n",
    "    tokens_per_chunk=10,\n",
    "    chunk_overlap=0,\n",
    ")"
   ]
  },
  {
   "cell_type": "code",
   "execution_count": 10,
   "id": "ec096930-0d9b-400c-b64c-b584b29141b4",
   "metadata": {},
   "outputs": [
    {
     "data": {
      "text/plain": [
       "['we hold these truths to be self - evident,',\n",
       " 'that all men are created equal, that they are',\n",
       " 'endowed by their creator with certain unalienable rights',\n",
       " ', that among these are life, liberty and the',\n",
       " 'pursuit of happiness.']"
      ]
     },
     "execution_count": 10,
     "metadata": {},
     "output_type": "execute_result"
    }
   ],
   "source": [
    "ts.split_text(text)"
   ]
  },
  {
   "cell_type": "code",
   "execution_count": 11,
   "id": "bf47d63b-bcb5-4406-81fd-85274b79afbe",
   "metadata": {},
   "outputs": [],
   "source": [
    "# the length unit for chunk_size is now tokens not characters\n",
    "ts = TokenTextSplitter(\n",
    "    model_name=\"text-embedding-ada-002\", \n",
    "    chunk_size=10, \n",
    "    chunk_overlap=0,\n",
    ")"
   ]
  },
  {
   "cell_type": "code",
   "execution_count": 12,
   "id": "144012f7-7c12-4dc4-888e-ac940b7e916e",
   "metadata": {},
   "outputs": [
    {
     "data": {
      "text/plain": [
       "['We hold these truths to be self-evident',\n",
       " ', that all men are created equal,\\n\\nthat they',\n",
       " ' are endowed by their Creator with certain unalienable',\n",
       " ' Rights,\\n\\nthat among these are Life, Liberty and',\n",
       " ' the pursuit of Happiness.']"
      ]
     },
     "execution_count": 12,
     "metadata": {},
     "output_type": "execute_result"
    }
   ],
   "source": [
    "ts.split_text(text)"
   ]
  },
  {
   "cell_type": "code",
   "execution_count": 13,
   "id": "8ced348f-7730-44fb-b0ee-e60a65b12534",
   "metadata": {},
   "outputs": [],
   "source": [
    "# same for chunk_overlap\n",
    "ts = SentenceTransformersTokenTextSplitter(\n",
    "    model_name=\"sentence-transformers/all-mpnet-base-v2\",\n",
    "    chunk_size=10, \n",
    "    tokens_per_chunk=10,\n",
    "    chunk_overlap=4,\n",
    ")"
   ]
  },
  {
   "cell_type": "code",
   "execution_count": 14,
   "id": "5cbdf82e-9f08-489b-88c5-7eb0b56916a7",
   "metadata": {},
   "outputs": [
    {
     "data": {
      "text/plain": [
       "['we hold these truths to be self - evident,',\n",
       " 'self - evident, that all men are created equal',\n",
       " 'men are created equal, that they are endowed by',\n",
       " 'they are endowed by their creator with certain unalie',\n",
       " 'with certain unalienable rights, that among these',\n",
       " ', that among these are life, liberty and the',\n",
       " ', liberty and the pursuit of happiness.',\n",
       " 'happiness.']"
      ]
     },
     "execution_count": 14,
     "metadata": {},
     "output_type": "execute_result"
    }
   ],
   "source": [
    "ts.split_text(text)"
   ]
  },
  {
   "cell_type": "code",
   "execution_count": 15,
   "id": "4092b91c-a9cf-4c0a-b719-87d9c95cebcc",
   "metadata": {},
   "outputs": [],
   "source": [
    "# same for chunk_overlap\n",
    "ts = TokenTextSplitter(\n",
    "    model_name=\"text-embedding-ada-002\", \n",
    "    chunk_size=10, \n",
    "    chunk_overlap=4,\n",
    ")"
   ]
  },
  {
   "cell_type": "code",
   "execution_count": 16,
   "id": "ecee14c4-2abd-468b-baf0-5bd7f886b469",
   "metadata": {},
   "outputs": [
    {
     "data": {
      "text/plain": [
       "['We hold these truths to be self-evident',\n",
       " ' self-evident, that all men are created',\n",
       " ' all men are created equal,\\n\\nthat they are endowed',\n",
       " 'that they are endowed by their Creator with certain un',\n",
       " ' Creator with certain unalienable Rights,\\n\\nthat among',\n",
       " ' Rights,\\n\\nthat among these are Life, Liberty and',\n",
       " ' Life, Liberty and the pursuit of Happiness.',\n",
       " ' of Happiness.']"
      ]
     },
     "execution_count": 16,
     "metadata": {},
     "output_type": "execute_result"
    }
   ],
   "source": [
    "ts.split_text(text)"
   ]
  },
  {
   "cell_type": "code",
   "execution_count": null,
   "id": "ce8fac7c-1f7f-4991-97b1-000f3ea0acbf",
   "metadata": {},
   "outputs": [],
   "source": []
  }
 ],
 "metadata": {
  "kernelspec": {
   "display_name": "Python 3 (ipykernel)",
   "language": "python",
   "name": "python3"
  },
  "language_info": {
   "codemirror_mode": {
    "name": "ipython",
    "version": 3
   },
   "file_extension": ".py",
   "mimetype": "text/x-python",
   "name": "python",
   "nbconvert_exporter": "python",
   "pygments_lexer": "ipython3",
   "version": "3.10.11"
  }
 },
 "nbformat": 4,
 "nbformat_minor": 5
}
