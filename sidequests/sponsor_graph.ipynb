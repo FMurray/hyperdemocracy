{
 "cells": [
  {
   "attachments": {},
   "cell_type": "markdown",
   "metadata": {},
   "source": [
    "# Side Quest - Create Sponsor / Cosponsor Graph\n",
    "\n",
    "We will create one possible graph in which nodes are records or law makers. \n",
    "Feel free to make your own variations of this graph with different choices.\n",
    "\n",
    "TODO: make this a different notebook with visualizations."
   ]
  },
  {
   "cell_type": "code",
   "execution_count": 9,
   "metadata": {},
   "outputs": [],
   "source": [
    "# adds the parent directory to the path \n",
    "\n",
    "import os\n",
    "import sys\n",
    "\n",
    "sys.path.append(os.path.abspath(os.path.join('..')))"
   ]
  },
  {
   "cell_type": "code",
   "execution_count": 10,
   "metadata": {},
   "outputs": [
    {
     "name": "stderr",
     "output_type": "stream",
     "text": [
      "Found cached dataset parquet (/Users/forrestmurray/.cache/huggingface/datasets/hacdc___parquet/hacdc--hyperdemocracy-0481830ea620e91d/0.0.0/2a3b91fbd88a2c90d1dbbb32b460cf621d31bd5b05b934492fdef7d8d6f236ec)\n"
     ]
    }
   ],
   "source": [
    "from hyperdemocracy import load_assembly_records\n",
    "assembly_dataset = load_assembly_records()"
   ]
  },
  {
   "cell_type": "code",
   "execution_count": 11,
   "metadata": {},
   "outputs": [],
   "source": [
    "import networkx as nx"
   ]
  },
  {
   "cell_type": "code",
   "execution_count": 12,
   "metadata": {},
   "outputs": [],
   "source": [
    "G = nx.Graph()\n",
    "for _, record in assembly_dataset.iterrows():\n",
    "    node = (record['key'], {\"kind\": \"record\", \"name\": record[\"name\"]})\n",
    "    G.add_nodes_from([node])\n",
    "    for sponsor in record['sponsors']:\n",
    "        node = (sponsor[0], {\"name_tag\": sponsor[1], \"kind\": \"person\"})\n",
    "        G.add_nodes_from([node])\n",
    "        edge = (record['key'], sponsor[0], {\"kind\": sponsor[2]})\n",
    "        G.add_edges_from([edge])"
   ]
  },
  {
   "cell_type": "code",
   "execution_count": 13,
   "metadata": {},
   "outputs": [
    {
     "name": "stdout",
     "output_type": "stream",
     "text": [
      "('118HCONRES1', {'kind': 'record', 'name': 'Regarding consent to assemble outside the seat of government.'})\n",
      "('C001053', {'name_tag': 'Rep. Cole, Tom [R-OK-4]', 'kind': 'person'})\n",
      "('118HCONRES10', {'kind': 'record', 'name': \"Expressing the sense of Congress that the United States should resume normal diplomatic relations with Taiwan, negotiate a bilateral free trade agreement with Taiwan, and support Taiwan's membership in international organizations.\"})\n",
      "('T000165', {'name_tag': 'Rep. Tiffany, Thomas P. [R-WI-7]', 'kind': 'person'})\n",
      "('P000605', {'name_tag': 'Rep. Perry, Scott [R-PA-10]', 'kind': 'person'})\n"
     ]
    }
   ],
   "source": [
    "for node in list(G.nodes.data())[0:5]:\n",
    "    print(node)"
   ]
  },
  {
   "cell_type": "code",
   "execution_count": 14,
   "metadata": {},
   "outputs": [
    {
     "name": "stdout",
     "output_type": "stream",
     "text": [
      "{'kind': 'sponsor'} {'kind': 'record', 'name': 'Regarding consent to assemble outside the seat of government.'} {'name_tag': 'Rep. Cole, Tom [R-OK-4]', 'kind': 'person'}\n",
      "{'kind': 'cosponsor'} {'name_tag': 'Rep. Cole, Tom [R-OK-4]', 'kind': 'person'} {'kind': 'record', 'name': 'Supporting the Local Radio Freedom Act.'}\n",
      "{'kind': 'cosponsor'} {'name_tag': 'Rep. Cole, Tom [R-OK-4]', 'kind': 'person'} {'kind': 'record', 'name': 'Providing for congressional disapproval under chapter 8 of title 5, United States Code, of the rule submitted by the Department of the Army, Corps of Engineers, Department of Defense and the Environmental Protection Agency relating to \"Revised Definition of \\'Waters of the United States\\'\".'}\n",
      "{'kind': 'cosponsor'} {'name_tag': 'Rep. Cole, Tom [R-OK-4]', 'kind': 'person'} {'kind': 'record', 'name': 'Providing for congressional disapproval under chapter 8 of title 5, United States Code, of the rule submitted by the Bureau of Alcohol, Tobacco, Firearms, and Explosives relating to \"Factoring Criteria for Firearms with Attached \\'Stabilizing Braces\\'\".'}\n",
      "{'kind': 'cosponsor'} {'name_tag': 'Rep. Cole, Tom [R-OK-4]', 'kind': 'person'} {'kind': 'record', 'name': 'Providing for congressional disapproval under chapter 8 of title 5, United States Code, of the rule submitted by the Department of Education relating to \"Waivers and Modifications of Federal Student Loans\".'}\n"
     ]
    }
   ],
   "source": [
    "for edge in list(G.edges)[0:5]:\n",
    "    print(G.edges[edge], G.nodes[edge[0]], G.nodes[edge[1]])"
   ]
  },
  {
   "cell_type": "code",
   "execution_count": 15,
   "metadata": {},
   "outputs": [
    {
     "name": "stdout",
     "output_type": "stream",
     "text": [
      "Number of nodes: 6974\n",
      "Number of edges: 68574\n"
     ]
    }
   ],
   "source": [
    "print(\"Number of nodes:\", G.number_of_nodes())\n",
    "print(\"Number of edges:\", G.number_of_edges())"
   ]
  },
  {
   "attachments": {},
   "cell_type": "markdown",
   "metadata": {},
   "source": [
    "## What's Next? "
   ]
  }
 ],
 "metadata": {
  "kernelspec": {
   "display_name": "venv",
   "language": "python",
   "name": "python3"
  },
  "language_info": {
   "codemirror_mode": {
    "name": "ipython",
    "version": 3
   },
   "file_extension": ".py",
   "mimetype": "text/x-python",
   "name": "python",
   "nbconvert_exporter": "python",
   "pygments_lexer": "ipython3",
   "version": "3.10.6"
  },
  "orig_nbformat": 4
 },
 "nbformat": 4,
 "nbformat_minor": 2
}
